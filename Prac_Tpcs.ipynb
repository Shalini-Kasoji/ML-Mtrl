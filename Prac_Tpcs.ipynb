{
 "cells": [
  {
   "cell_type": "code",
   "execution_count": 14,
   "metadata": {},
   "outputs": [
    {
     "name": "stdout",
     "output_type": "stream",
     "text": [
      "Hello,my name is: SiyaRam\n"
     ]
    }
   ],
   "source": [
    "class Person:\n",
    "    \n",
    "    def __init__(self, name):\n",
    "        self.name=name\n",
    "    \n",
    "    def sel_hi(self):\n",
    "        print(\"Hello,my name is:\",self.name)\n",
    "\n",
    "p = Person('SiyaRam')\n",
    "p.sel_hi()"
   ]
  },
  {
   "cell_type": "code",
   "execution_count": null,
   "metadata": {},
   "outputs": [],
   "source": []
  },
  {
   "cell_type": "code",
   "execution_count": null,
   "metadata": {},
   "outputs": [],
   "source": []
  },
  {
   "cell_type": "code",
   "execution_count": 4,
   "metadata": {},
   "outputs": [
    {
     "name": "stdout",
     "output_type": "stream",
     "text": [
      "Hello, my name is Shwetanshu\n"
     ]
    }
   ],
   "source": [
    "class Person: \n",
    "  \n",
    "    # init method or constructor  \n",
    "    def __init__(self, name): \n",
    "        self.name = name \n",
    "  \n",
    "    # Sample Method  \n",
    "    def say_hi(self): \n",
    "        print('Hello, my name is', self.name) \n",
    "  \n",
    "p = Person('Shwetanshu') \n",
    "p.say_hi() "
   ]
  },
  {
   "cell_type": "code",
   "execution_count": 15,
   "metadata": {},
   "outputs": [
    {
     "name": "stdout",
     "output_type": "stream",
     "text": [
      "cse\n",
      "cse\n",
      "101\n",
      "cse\n"
     ]
    }
   ],
   "source": [
    "# Python program to show that the variables with a value  \n",
    "# assigned in class declaration, are class variables and \n",
    "# variables inside methods and constructors are instance \n",
    "# variables. \n",
    "   \n",
    "# Class for Computer Science Student \n",
    "class CSStudent: \n",
    "  \n",
    "    # Class Variable \n",
    "    stream = 'cse'             \n",
    "  \n",
    "    # The init method or constructor \n",
    "    def __init__(self, roll): \n",
    "    \n",
    "        # Instance Variable     \n",
    "        self.roll = roll        \n",
    "\n",
    "# Objects of CSStudent class \n",
    "a = CSStudent(101) \n",
    "b = CSStudent(102) \n",
    "   \n",
    "print(a.stream)  # prints \"cse\" \n",
    "print(b.stream)  # prints \"cse\" \n",
    "print(a.roll)    # prints 101 \n",
    "   \n",
    "# Class variables can be accessed using class \n",
    "# name also \n",
    "print(CSStudent.stream)"
   ]
  },
  {
   "cell_type": "code",
   "execution_count": null,
   "metadata": {},
   "outputs": [],
   "source": [
    "# Python program to show that we can create  \n",
    "# instance variables inside methods \n",
    "   \n",
    "# Class for Computer Science Student \n",
    "class CSStudent: \n",
    "      \n",
    "    # Class Variable \n",
    "    stream = 'cse'      \n",
    "      \n",
    "    # The init method or constructor \n",
    "    def __init__(self, roll): \n",
    "          \n",
    "        # Instance Variable \n",
    "        self.roll = roll             \n",
    "  \n",
    "    # Adds an instance variable  \n",
    "    def setAddress(self, address): \n",
    "        self.address = address \n",
    "      \n",
    "    # Retrieves instance variable     \n",
    "    def getAddress(self):     \n",
    "        return self.address    \n",
    "\n",
    "# Driver Code \n",
    "a = CSStudent(101) \n",
    "a.setAddress(\"Noida, UP\") \n",
    "print(a.getAddress()) "
   ]
  },
  {
   "cell_type": "code",
   "execution_count": 21,
   "metadata": {},
   "outputs": [
    {
     "name": "stdout",
     "output_type": "stream",
     "text": [
      "The oldest dog is 8 years old\n"
     ]
    }
   ],
   "source": [
    "class Dog:\n",
    "    species='mammal'\n",
    "    def __init__(self,name,age):\n",
    "        self.name=name\n",
    "        self.age=age\n",
    "\n",
    "juk=Dog(\"Juke\",8)\n",
    "mar=Dog(\"Mark\",8)\n",
    "wil=Dog(\"William\",5)\n",
    "\n",
    "def get_bigg_numb(*args):\n",
    "    return max(args)\n",
    "\n",
    "print(\"The oldest dog is {} years old\".format(get_bigg_numb(juk.age,mar.age,wil.age)))"
   ]
  },
  {
   "cell_type": "code",
   "execution_count": 25,
   "metadata": {},
   "outputs": [
    {
     "name": "stdout",
     "output_type": "stream",
     "text": [
      "Mikey is 15 years old\n",
      "Mikey says Uff uff\n"
     ]
    }
   ],
   "source": [
    "class Dog:\n",
    "    \n",
    "    species='mammal'\n",
    "    \n",
    "    def __init__(self,name,age):\n",
    "        self.name=name\n",
    "        self.age=age\n",
    "    \n",
    "    def des(self):\n",
    "        return \"{} is {} years old\".format(self.name,self.age)\n",
    "    def snd(self,sound):\n",
    "        return \"{} says {}\".format(self.name,sound)\n",
    "\n",
    "mikey=Dog('Mikey',15)\n",
    "\n",
    "print(mikey.des())\n",
    "print(mikey.snd('Uff uff'))"
   ]
  },
  {
   "cell_type": "code",
   "execution_count": null,
   "metadata": {},
   "outputs": [],
   "source": [
    "class Dog:\n",
    "\n",
    "    # Class Attribute\n",
    "    species = 'mammal'\n",
    "\n",
    "    # Initializer / Instance Attributes\n",
    "    def __init__(self, name, age):\n",
    "        self.name = name\n",
    "        self.age = age\n",
    "\n",
    "    # instance method\n",
    "    def description(self):\n",
    "        return \"{} is {} years old\".format(self.name, self.age)\n",
    "\n",
    "    # instance method\n",
    "    def speak(self, sound):\n",
    "        return \"{} says {}\".format(self.name, sound)\n",
    "\n",
    "# Instantiate the Dog object\n",
    "mikey = Dog(\"Mikey\", 6)\n",
    "\n",
    "# call our instance methods\n",
    "print(mikey.description())\n",
    "print(mikey.speak(\"Gruff Gruff\"))"
   ]
  },
  {
   "cell_type": "code",
   "execution_count": 3,
   "metadata": {},
   "outputs": [
    {
     "name": "stdout",
     "output_type": "stream",
     "text": [
      "Selling Price: 900\n",
      "Selling Price: 900\n",
      "Selling Price: 1000\n"
     ]
    }
   ],
   "source": [
    "class Computer:\n",
    "\n",
    "    def __init__(self):\n",
    "        self.__maxprice = 900\n",
    "\n",
    "    def sell(self):\n",
    "        print(\"Selling Price: {}\".format(self.__maxprice))\n",
    "\n",
    "    def setMaxPrice(self, price):\n",
    "        self.__maxprice = price\n",
    "\n",
    "c = Computer()\n",
    "c.sell()\n",
    "\n",
    "\n",
    "# change the price\n",
    "c.__maxprice = 1000\n",
    "c.sell()\n",
    "\n",
    "\n",
    "# using setter function\n",
    "c.setMaxPrice(1000)\n",
    "c.sell()\n"
   ]
  },
  {
   "cell_type": "code",
   "execution_count": 8,
   "metadata": {},
   "outputs": [
    {
     "name": "stdout",
     "output_type": "stream",
     "text": [
      "Selling price:900\n",
      "Selling price:900\n",
      "Selling price:1000\n"
     ]
    }
   ],
   "source": [
    "#encapsulation\n",
    "class Computer:\n",
    "    \n",
    "    def __init__(self):\n",
    "        self.__maxprice=900\n",
    "        \n",
    "    def sell(self):\n",
    "        print(\"Selling price:{}\".format(self.__maxprice))\n",
    "        \n",
    "    def setMaxprice(self,price):\n",
    "        self.__maxprice=price\n",
    "        \n",
    "c=Computer()\n",
    "c.sell()\n",
    "\n",
    "c.__maxprice=1000\n",
    "c.sell()\n",
    "\n",
    "c.setMaxprice(1000)\n",
    "c.sell()"
   ]
  },
  {
   "cell_type": "code",
   "execution_count": 1,
   "metadata": {},
   "outputs": [
    {
     "data": {
      "text/plain": [
       "26"
      ]
     },
     "execution_count": 1,
     "metadata": {},
     "output_type": "execute_result"
    }
   ],
   "source": [
    "import math\n",
    "\n",
    "math.ceil(25.36)"
   ]
  },
  {
   "cell_type": "code",
   "execution_count": 2,
   "metadata": {},
   "outputs": [
    {
     "data": {
      "text/plain": [
       "['False',\n",
       " 'None',\n",
       " 'True',\n",
       " 'and',\n",
       " 'as',\n",
       " 'assert',\n",
       " 'async',\n",
       " 'await',\n",
       " 'break',\n",
       " 'class',\n",
       " 'continue',\n",
       " 'def',\n",
       " 'del',\n",
       " 'elif',\n",
       " 'else',\n",
       " 'except',\n",
       " 'finally',\n",
       " 'for',\n",
       " 'from',\n",
       " 'global',\n",
       " 'if',\n",
       " 'import',\n",
       " 'in',\n",
       " 'is',\n",
       " 'lambda',\n",
       " 'nonlocal',\n",
       " 'not',\n",
       " 'or',\n",
       " 'pass',\n",
       " 'raise',\n",
       " 'return',\n",
       " 'try',\n",
       " 'while',\n",
       " 'with',\n",
       " 'yield']"
      ]
     },
     "execution_count": 2,
     "metadata": {},
     "output_type": "execute_result"
    }
   ],
   "source": [
    "import keyword\n",
    "\n",
    "keyword.kwlist"
   ]
  },
  {
   "cell_type": "code",
   "execution_count": 1,
   "metadata": {},
   "outputs": [
    {
     "data": {
      "text/plain": [
       "\"'ram'\""
      ]
     },
     "execution_count": 1,
     "metadata": {},
     "output_type": "execute_result"
    }
   ],
   "source": [
    "r='ram'\n",
    "ascii(r)"
   ]
  },
  {
   "cell_type": "code",
   "execution_count": 3,
   "metadata": {},
   "outputs": [
    {
     "name": "stdout",
     "output_type": "stream",
     "text": [
      "Hello ('Frodo', 'Sauron')\n"
     ]
    }
   ],
   "source": [
    "def greetPerson(*name):\n",
    "    print('Hello', name)\n",
    "\n",
    "greetPerson('Frodo', 'Sauron')"
   ]
  },
  {
   "cell_type": "code",
   "execution_count": 4,
   "metadata": {},
   "outputs": [
    {
     "name": "stdout",
     "output_type": "stream",
     "text": [
      "25\n"
     ]
    }
   ],
   "source": [
    "result = lambda x: x * x\n",
    "print(result(5))"
   ]
  },
  {
   "cell_type": "code",
   "execution_count": 5,
   "metadata": {},
   "outputs": [
    {
     "name": "stdout",
     "output_type": "stream",
     "text": [
      "Value inside function: 10\n",
      "Value outside function: 20\n"
     ]
    }
   ],
   "source": [
    "def my_func():\n",
    "    x = 10\n",
    "    print(\"Value inside function:\",x)\n",
    "\n",
    "\n",
    "my_func()\n",
    "x = 20\n",
    "print(\"Value outside function:\",x)"
   ]
  },
  {
   "cell_type": "code",
   "execution_count": 7,
   "metadata": {},
   "outputs": [
    {
     "data": {
      "text/plain": [
       "16"
      ]
     },
     "execution_count": 7,
     "metadata": {},
     "output_type": "execute_result"
    }
   ],
   "source": [
    "res=lambda x:x*x\n",
    "res(4)"
   ]
  },
  {
   "cell_type": "code",
   "execution_count": 12,
   "metadata": {},
   "outputs": [
    {
     "data": {
      "text/plain": [
       "22"
      ]
     },
     "execution_count": 12,
     "metadata": {},
     "output_type": "execute_result"
    }
   ],
   "source": [
    "def my_fn(n):\n",
    "    res=lambda a:a * n\n",
    "    return res\n",
    "\n",
    "df=my_fn(2)\n",
    "df(11)"
   ]
  },
  {
   "cell_type": "code",
   "execution_count": 13,
   "metadata": {},
   "outputs": [
    {
     "name": "stdout",
     "output_type": "stream",
     "text": [
      "[4, 6, 8, 12]\n"
     ]
    }
   ],
   "source": [
    "# Program to filter out only the even items from a list\n",
    "\n",
    "my_list = [1, 5, 4, 6, 8, 11, 3, 12]\n",
    "\n",
    "new_list = list(filter(lambda x: (x%2 == 0) , my_list))\n",
    "\n",
    "# Output: [4, 6, 8, 12]\n",
    "print(new_list)"
   ]
  },
  {
   "cell_type": "code",
   "execution_count": 16,
   "metadata": {},
   "outputs": [
    {
     "name": "stdout",
     "output_type": "stream",
     "text": [
      "[False, False, True, True, True, False, False, True]\n"
     ]
    }
   ],
   "source": [
    "# Program to filter out only the even items from a list\n",
    "\n",
    "my_list = [1, 5, 4, 6, 8, 11, 3, 12]\n",
    "\n",
    "new_list = list(map(lambda x: (x%2 == 0) , my_list)\n",
    "\n",
    "# Output: [4, 6, 8, 12]\n",
    "print(new_list)"
   ]
  },
  {
   "cell_type": "code",
   "execution_count": 18,
   "metadata": {},
   "outputs": [
    {
     "name": "stdout",
     "output_type": "stream",
     "text": [
      "OrderedDict([('a', 0), ('b', 1), ('c', 2), ('d', 3)])\n"
     ]
    }
   ],
   "source": [
    "from collections import OrderedDict\n",
    "\n",
    "letters = [('a', 0), ('b', 1), ('c', 2), ('d', 3)]\n",
    "values = OrderedDict(letters)\n",
    "print(values)"
   ]
  },
  {
   "cell_type": "code",
   "execution_count": 21,
   "metadata": {},
   "outputs": [
    {
     "data": {
      "text/plain": [
       "<module 'builtins' (built-in)>"
      ]
     },
     "execution_count": 21,
     "metadata": {},
     "output_type": "execute_result"
    }
   ],
   "source": [
    "locals()['__builtins__']"
   ]
  },
  {
   "cell_type": "code",
   "execution_count": 22,
   "metadata": {},
   "outputs": [
    {
     "name": "stdout",
     "output_type": "stream",
     "text": [
      "try block\n",
      "Enter a number: 28\n",
      "Enter another number: 0\n",
      "except ZeroDivisionError block\n",
      "Division by 0 not accepted\n",
      "finally block\n",
      "Out of try, except, else and finally blocks.\n"
     ]
    }
   ],
   "source": [
    "try:\n",
    "    print(\"try block\")\n",
    "    x=int(input('Enter a number: '))\n",
    "    y=int(input('Enter another number: '))\n",
    "    z=x/y\n",
    "except ZeroDivisionError:\n",
    "    print(\"except ZeroDivisionError block\")\n",
    "    print(\"Division by 0 not accepted\")\n",
    "else:\n",
    "    print(\"else block\")\n",
    "    print(\"Division = \", z)\n",
    "finally:\n",
    "    print(\"finally block\")\n",
    "    x=0\n",
    "    y=0\n",
    "print (\"Out of try, except, else and finally blocks.\" )"
   ]
  },
  {
   "cell_type": "code",
   "execution_count": 25,
   "metadata": {},
   "outputs": [
    {
     "name": "stdout",
     "output_type": "stream",
     "text": [
      "Try block\n",
      "Enter any number:1\n",
      "Enter any number:2\n",
      "Else block\n",
      "Division of the two numbers: 0.5\n",
      "Exceuted try,else and finally block\n",
      "Finally block\n"
     ]
    }
   ],
   "source": [
    "try:\n",
    "    print('Try block')\n",
    "    x=int(input('Enter any number:'))\n",
    "    y=int(input('Enter any number:'))\n",
    "    z=x/y\n",
    "except ZeroDivisionError:\n",
    "    print('Except ZeroDivisionError block')\n",
    "    print(\"Division by '0' is not supported\")\n",
    "    print('Exceuted try,except and finally block')\n",
    "else:\n",
    "    print('Else block')\n",
    "    print('Division of the two numbers:',z)\n",
    "    print('Exceuted try,else and finally block')\n",
    "finally:\n",
    "    print('Finally block')\n",
    "    x=0\n",
    "    y=0"
   ]
  },
  {
   "cell_type": "code",
   "execution_count": 26,
   "metadata": {},
   "outputs": [
    {
     "name": "stdout",
     "output_type": "stream",
     "text": [
      "Enter a number: 12\n",
      "This value is too large, try again!\n",
      "\n",
      "Enter a number: 2\n",
      "This value is too small, try again!\n",
      "\n",
      "Enter a number: 4\n",
      "This value is too small, try again!\n",
      "\n",
      "Enter a number: 9\n",
      "This value is too small, try again!\n",
      "\n",
      "Enter a number: 10\n",
      "Congratulations! You guessed it correctly.\n"
     ]
    }
   ],
   "source": [
    "# define Python user-defined exceptions\n",
    "class Error(Exception):\n",
    "   \"\"\"Base class for other exceptions\"\"\"\n",
    "   pass\n",
    "\n",
    "class ValueTooSmallError(Error):\n",
    "   \"\"\"Raised when the input value is too small\"\"\"\n",
    "   pass\n",
    "\n",
    "class ValueTooLargeError(Error):\n",
    "   \"\"\"Raised when the input value is too large\"\"\"\n",
    "   pass\n",
    "\n",
    "# our main program\n",
    "# user guesses a number until he/she gets it right\n",
    "\n",
    "# you need to guess this number\n",
    "number = 10\n",
    "\n",
    "while True:\n",
    "   try:\n",
    "       i_num = int(input(\"Enter a number: \"))\n",
    "       if i_num < number:\n",
    "           raise ValueTooSmallError\n",
    "       elif i_num > number:\n",
    "           raise ValueTooLargeError\n",
    "       break\n",
    "   except ValueTooSmallError:\n",
    "       print(\"This value is too small, try again!\")\n",
    "       print()\n",
    "   except ValueTooLargeError:\n",
    "       print(\"This value is too large, try again!\")\n",
    "       print()s\n",
    "\n",
    "print(\"Congratulations! You guessed it correctly.\")"
   ]
  },
  {
   "cell_type": "code",
   "execution_count": 27,
   "metadata": {},
   "outputs": [
    {
     "name": "stdout",
     "output_type": "stream",
     "text": [
      "Fibonacci series [1, 1, 2, 3, 5, 8, 13, 21, 34, 55, 89]\n"
     ]
    }
   ],
   "source": [
    "\"\"\"Fibonacci series module\"\"\"\n",
    "def fibo(n):    \n",
    "    FiboList=[]\n",
    "    a,b=0,1\n",
    "    while b<n:\n",
    "        FiboList.append(b)\n",
    "        a, b = b, a+b\n",
    "    return FiboList\n",
    "if __name__== \"__main__\":\n",
    "    print (\"Fibonacci series\", fibo(100))"
   ]
  },
  {
   "cell_type": "code",
   "execution_count": 29,
   "metadata": {},
   "outputs": [
    {
     "name": "stdout",
     "output_type": "stream",
     "text": [
      "\n",
      "Please wait a moment while I gather a list of all available modules...\n",
      "\n"
     ]
    },
    {
     "name": "stderr",
     "output_type": "stream",
     "text": [
      "C:\\ProgramData\\Anaconda3\\lib\\site-packages\\IPython\\kernel\\__init__.py:13: ShimWarning: The `IPython.kernel` package has been deprecated since IPython 4.0.You should import from ipykernel or jupyter_client instead.\n",
      "  \"You should import from ipykernel or jupyter_client instead.\", ShimWarning)\n",
      "WARNING: AstropyDeprecationWarning: astropy.utils.compat.futures is now deprecated - use concurrent.futures instead [astropy.utils.compat.futures]\n",
      "C:\\ProgramData\\Anaconda3\\lib\\site-packages\\odo\\backends\\pandas.py:102: FutureWarning: pandas.tslib is deprecated and will be removed in a future version.\n",
      "You can access NaTType as type(pandas.NaT)\n",
      "  @convert.register((pd.Timestamp, pd.Timedelta), (pd.tslib.NaTType, type(None)))\n",
      "C:\\ProgramData\\Anaconda3\\lib\\site-packages\\nltk\\twitter\\__init__.py:22: UserWarning: The twython library has not been installed. Some functionality from the twitter package will not be available.\n",
      "  \"The twython library has not been installed. \"\n"
     ]
    },
    {
     "name": "stdout",
     "output_type": "stream",
     "text": [
      "DEBUG:pip._internal.vcs:Registered VCS backend: git\n",
      "DEBUG:pip._internal.vcs:Registered VCS backend: hg\n",
      "DEBUG:pip._internal.vcs:Registered VCS backend: svn\n",
      "DEBUG:pip._internal.vcs:Registered VCS backend: bzr\n"
     ]
    },
    {
     "name": "stderr",
     "output_type": "stream",
     "text": [
      "C:\\ProgramData\\Anaconda3\\lib\\site-packages\\skimage\\novice\\__init__.py:103: UserWarning: The `skimage.novice` module was deprecated in version 0.14. It will be removed in 0.16.\n",
      "  warnings.warn(\"The `skimage.novice` module was deprecated in version 0.14. \"\n",
      "C:\\ProgramData\\Anaconda3\\lib\\site-packages\\skimage\\viewer\\utils\\core.py:10: UserWarning: Recommended matplotlib backend is `Agg` for full skimage.viewer functionality.\n",
      "  warn(\"Recommended matplotlib backend is `Agg` for full \"\n",
      "C:\\ProgramData\\Anaconda3\\lib\\site-packages\\sphinx\\websupport\\__init__.py:25: RemovedInSphinx20Warning: sphinx.websupport module is now provided as sphinxcontrib-websupport. sphinx.websupport will be removed at Sphinx-2.0. Please use the package instead.\n",
      "  RemovedInSphinx20Warning)\n",
      "C:\\ProgramData\\Anaconda3\\lib\\site-packages\\qtawesome\\iconic_font.py:276: UserWarning: You need to have a running QApplication to use QtAwesome!\n",
      "  warnings.warn(\"You need to have a running \"\n",
      "C:\\ProgramData\\Anaconda3\\lib\\pkgutil.py:107: VisibleDeprecationWarning: zmq.eventloop.minitornado is deprecated in pyzmq 14.0 and will be removed.\n",
      "    Install tornado itself to use zmq with the tornado IOLoop.\n",
      "    \n",
      "  yield from walk_packages(path, info.name+'.', onerror)\n"
     ]
    },
    {
     "name": "stdout",
     "output_type": "stream",
     "text": [
      "Crypto              bs4                 mccabe              sortedcollections\n",
      "Cython              builtins            menuinst            sortedcontainers\n",
      "IPython             bz2                 mimetypes           sphinx\n",
      "OpenSSL             cProfile            mistune             sphinxcontrib\n",
      "PIL                 calendar            mkl                 spyder\n",
      "PyQt5               certifi             mkl_fft             spyder_breakpoints\n",
      "__future__          cffi                mkl_random          spyder_io_dcm\n",
      "_abc                cgi                 mmap                spyder_io_hdf5\n",
      "_ast                cgitb               mmapfile            spyder_kernels\n",
      "_asyncio            chardet             mmsystem            spyder_profiler\n",
      "_bisect             chunk               modulefinder        spyder_pylint\n",
      "_blake2             click               more_itertools      sqlalchemy\n",
      "_bootlocale         cloudpickle         mpmath              sqlite3\n",
      "_bz2                clyent              msgpack             sre_compile\n",
      "_cffi_backend       cmath               msilib              sre_constants\n",
      "_codecs             cmd                 msvcrt              sre_parse\n",
      "_codecs_cn          code                multipledispatch    ssl\n",
      "_codecs_hk          codecs              multiprocessing     sspi\n",
      "_codecs_iso2022     codeop              navigator_updater   sspicon\n",
      "_codecs_jp          collections         nbconvert           stat\n",
      "_codecs_kr          colorama            nbformat            statistics\n",
      "_codecs_tw          colorsys            netbios             statsmodels\n",
      "_collections        commctrl            netrc               storemagic\n",
      "_collections_abc    compileall          networkx            string\n",
      "_compat_pickle      comtypes            nltk                stringprep\n",
      "_compression        concurrent          nntplib             struct\n",
      "_contextvars        conda               nose                subprocess\n",
      "_csv                conda_build         notebook            sunau\n",
      "_ctypes             conda_env           nt                  symbol\n",
      "_ctypes_test        conda_verify        ntpath              sympy\n",
      "_datetime           configparser        ntsecuritycon       sympyprinting\n",
      "_decimal            contextlib          nturl2path          symtable\n",
      "_distutils_findvs   contextlib2         numba               sys\n",
      "_dummy_thread       contextvars         numbers             sysconfig\n",
      "_elementtree        copy                numexpr             tables\n",
      "_functools          copyreg             numpy               tabnanny\n",
      "_hashlib            crypt               numpydoc            tarfile\n",
      "_heapq              cryptography        odbc                tblib\n",
      "_imp                csv                 odo                 telnetlib\n",
      "_io                 ctypes              olefile             tempfile\n",
      "_json               curl                opcode              terminado\n",
      "_locale             curses              openpyxl            test\n",
      "_lsprof             cwp                 operator            test_path\n",
      "_lzma               cycler              optparse            test_pycosat\n",
      "_markupbase         cython              os                  testpath\n",
      "_md5                cythonmagic         packaging           tests\n",
      "_msi                cytoolz             pandas              textwrap\n",
      "_multibytecodec     dask                pandocfilters       this\n",
      "_multiprocessing    dataclasses         parser              threading\n",
      "_nsis               datashape           parso               time\n",
      "_opcode             datetime            partd               timeit\n",
      "_operator           dateutil            past                timer\n",
      "_osx_support        dbi                 path                tkinter\n",
      "_overlapped         dbm                 pathlib             tlz\n",
      "_pickle             dde                 pathlib2            token\n",
      "_py_abc             decimal             patsy               tokenize\n",
      "_pydecimal          decorator           pdb                 toolz\n",
      "_pyio               defusedxml          pep8                tornado\n",
      "_pytest             difflib             perfmon             tqdm\n",
      "_queue              dis                 pickle              trace\n",
      "_random             distributed         pickleshare         traceback\n",
      "_sha1               distutils           pickletools         tracemalloc\n",
      "_sha256             doctest             pip                 traitlets\n",
      "_sha3               docutils            pipes               tty\n",
      "_sha512             dummy_threading     pkg_resources       turtle\n",
      "_signal             easy_install        pkginfo             turtledemo\n",
      "_sitebuiltins       email               pkgutil             types\n",
      "_socket             encodings           platform            typing\n",
      "_sqlite3            ensurepip           plistlib            unicodecsv\n",
      "_sre                entrypoints         pluggy              unicodedata\n",
      "_ssl                enum                ply                 unittest\n",
      "_stat               errno               poplib              urllib\n",
      "_string             et_xmlfile          posixpath           urllib3\n",
      "_strptime           fastcache           pprint              uu\n",
      "_struct             faulthandler        profile             uuid\n",
      "_symtable           filecmp             prometheus_client   venv\n",
      "_system_path        fileinput           prompt_toolkit      warnings\n",
      "_testbuffer         filelock            pstats              wave\n",
      "_testcapi           flask               psutil              wcwidth\n",
      "_testconsole        flask_cors          pty                 weakref\n",
      "_testimportmultiple fnmatch             py                  webbrowser\n",
      "_testmultiphase     formatter           py_compile          webencodings\n",
      "_thread             fractions           pyclbr              werkzeug\n",
      "_threading_local    ftplib              pycodestyle         wheel\n",
      "_tkinter            functools           pycosat             widgetsnbextension\n",
      "_tracemalloc        future              pycparser           win2kras\n",
      "_warnings           gc                  pycurl              win32api\n",
      "_weakref            genericpath         pydoc               win32clipboard\n",
      "_weakrefset         getopt              pydoc_data          win32com\n",
      "_win32sysloader     getpass             pyexpat             win32con\n",
      "_winapi             gettext             pyflakes            win32console\n",
      "_winxptheme         gevent              pygments            win32cred\n",
      "_yaml               glob                pylab               win32crypt\n",
      "abc                 glob2               pylint              win32cryptcon\n",
      "adodbapi            greenlet            pyodbc              win32event\n",
      "afxres              gzip                pyparsing           win32evtlog\n",
      "aifc                h5py                pytest              win32evtlogutil\n",
      "alabaster           hashlib             pytest_arraydiff    win32file\n",
      "anaconda_navigator  heapdict            pytest_doctestplus  win32gui\n",
      "anaconda_project    heapq               pytest_openfiles    win32gui_struct\n",
      "antigravity         hmac                pytest_remotedata   win32help\n",
      "argparse            html                pythoncom           win32inet\n",
      "array               html5lib            pytz                win32inetcon\n",
      "asn1crypto          http                pywin               win32job\n",
      "ast                 idlelib             pywin32_testutil    win32lz\n",
      "astroid             idna                pywintypes          win32net\n",
      "astropy             imageio             pywt                win32netcon\n",
      "asynchat            imagesize           pyximport           win32pdh\n",
      "asyncio             imaplib             qtawesome           win32pdhquery\n",
      "asyncore            imghdr              qtconsole           win32pdhutil\n",
      "atexit              imp                 qtpy                win32pipe\n",
      "atomicwrites        importlib           queue               win32print\n",
      "attr                importlib_metadata  quopri              win32process\n",
      "audioop             inspect             random              win32profile\n",
      "autoreload          io                  rasutil             win32ras\n",
      "babel               ipaddress           re                  win32rcparser\n",
      "backcall            ipykernel           regcheck            win32security\n"
     ]
    },
    {
     "name": "stdout",
     "output_type": "stream",
     "text": [
      "backports           ipykernel_launcher  regutil             win32service\n",
      "base64              ipython_genutils    reprlib             win32serviceutil\n",
      "bdb                 ipywidgets          requests            win32timezone\n",
      "binascii            isapi               rlcompleter         win32trace\n",
      "binhex              isort               rmagic              win32traceutil\n",
      "binstar_client      isympy              rope                win32transaction\n",
      "bisect              itertools           ruamel_yaml         win32ts\n",
      "bitarray            itsdangerous        run                 win32ui\n",
      "bkcharts            jdcal               runpy               win32uiole\n",
      "blaze               jedi                sched               win32verstamp\n",
      "bleach              jinja2              scipy               win32wnet\n",
      "bokeh               json                scripts             win_inet_pton\n",
      "boto                jsonschema          seaborn             win_unicode_console\n",
      "bottleneck          jupyter             secrets             wincertstore\n",
      "brain_argparse      jupyter_client      select              winerror\n",
      "brain_attrs         jupyter_console     selectors           winioctlcon\n",
      "brain_builtin_inference jupyter_core        send2trash          winnt\n",
      "brain_collections   jupyterlab          servicemanager      winperf\n",
      "brain_curses        jupyterlab_server   setuptools          winpty\n",
      "brain_dateutil      keyring             shelve              winreg\n",
      "brain_fstrings      keyword             shlex               winsound\n",
      "brain_functools     kiwisolver          shutil              winxpgui\n",
      "brain_gi            lazy_object_proxy   signal              winxptheme\n",
      "brain_hashlib       lib2to3             simplegeneric       wrapt\n",
      "brain_io            libarchive          singledispatch      wsgiref\n",
      "brain_mechanize     libfuturize         singledispatch_helpers xdrlib\n",
      "brain_multiprocessing libpasteurize       sip                 xlrd\n",
      "brain_namedtuple_enum linecache           sipconfig           xlsxwriter\n",
      "brain_nose          llvmlite            sipdistutils        xlwings\n",
      "brain_numpy         locale              site                xlwt\n",
      "brain_pkg_resources locket              six                 xml\n",
      "brain_pytest        logging             skimage             xmlrpc\n",
      "brain_qt            lxml                sklearn             xxsubtype\n",
      "brain_random        lzma                smtpd               yaml\n",
      "brain_re            macpath             smtplib             zict\n",
      "brain_six           mailbox             sndhdr              zipapp\n",
      "brain_ssl           mailcap             snowballstemmer     zipfile\n",
      "brain_subprocess    markupsafe          socket              zipimport\n",
      "brain_threading     marshal             socketserver        zlib\n",
      "brain_typing        math                socks               zmq\n",
      "brain_uuid          matplotlib          sockshandler        \n",
      "\n",
      "Enter any module name to get more help.  Or, type \"modules spam\" to search\n",
      "for modules whose name or summary contain the string \"spam\".\n",
      "\n",
      "DEBUG:matplotlib.pyplot:Loaded backend module://ipykernel.pylab.backend_inline version unknown.\n"
     ]
    }
   ],
   "source": [
    "help('modules')"
   ]
  },
  {
   "cell_type": "code",
   "execution_count": 33,
   "metadata": {},
   "outputs": [
    {
     "data": {
      "text/plain": [
       "['__add__',\n",
       " '__class__',\n",
       " '__contains__',\n",
       " '__delattr__',\n",
       " '__dir__',\n",
       " '__doc__',\n",
       " '__eq__',\n",
       " '__format__',\n",
       " '__ge__',\n",
       " '__getattribute__',\n",
       " '__getitem__',\n",
       " '__getnewargs__',\n",
       " '__gt__',\n",
       " '__hash__',\n",
       " '__init__',\n",
       " '__init_subclass__',\n",
       " '__iter__',\n",
       " '__le__',\n",
       " '__len__',\n",
       " '__lt__',\n",
       " '__mod__',\n",
       " '__mul__',\n",
       " '__ne__',\n",
       " '__new__',\n",
       " '__reduce__',\n",
       " '__reduce_ex__',\n",
       " '__repr__',\n",
       " '__rmod__',\n",
       " '__rmul__',\n",
       " '__setattr__',\n",
       " '__sizeof__',\n",
       " '__str__',\n",
       " '__subclasshook__',\n",
       " 'capitalize',\n",
       " 'casefold',\n",
       " 'center',\n",
       " 'count',\n",
       " 'encode',\n",
       " 'endswith',\n",
       " 'expandtabs',\n",
       " 'find',\n",
       " 'format',\n",
       " 'format_map',\n",
       " 'index',\n",
       " 'isalnum',\n",
       " 'isalpha',\n",
       " 'isascii',\n",
       " 'isdecimal',\n",
       " 'isdigit',\n",
       " 'isidentifier',\n",
       " 'islower',\n",
       " 'isnumeric',\n",
       " 'isprintable',\n",
       " 'isspace',\n",
       " 'istitle',\n",
       " 'isupper',\n",
       " 'join',\n",
       " 'ljust',\n",
       " 'lower',\n",
       " 'lstrip',\n",
       " 'maketrans',\n",
       " 'partition',\n",
       " 'replace',\n",
       " 'rfind',\n",
       " 'rindex',\n",
       " 'rjust',\n",
       " 'rpartition',\n",
       " 'rsplit',\n",
       " 'rstrip',\n",
       " 'split',\n",
       " 'splitlines',\n",
       " 'startswith',\n",
       " 'strip',\n",
       " 'swapcase',\n",
       " 'title',\n",
       " 'translate',\n",
       " 'upper',\n",
       " 'zfill']"
      ]
     },
     "execution_count": 33,
     "metadata": {},
     "output_type": "execute_result"
    }
   ],
   "source": [
    "dir('math module')"
   ]
  }
 ],
 "metadata": {
  "kernelspec": {
   "display_name": "Python 3",
   "language": "python",
   "name": "python3"
  },
  "language_info": {
   "codemirror_mode": {
    "name": "ipython",
    "version": 3
   },
   "file_extension": ".py",
   "mimetype": "text/x-python",
   "name": "python",
   "nbconvert_exporter": "python",
   "pygments_lexer": "ipython3",
   "version": "3.7.1"
  }
 },
 "nbformat": 4,
 "nbformat_minor": 2
}
