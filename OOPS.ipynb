{
 "cells": [
  {
   "cell_type": "code",
   "execution_count": 2,
   "metadata": {},
   "outputs": [
    {
     "name": "stdout",
     "output_type": "stream",
     "text": [
      "__init constructor method is called.....\n"
     ]
    }
   ],
   "source": [
    "#creating a class\n",
    "\n",
    "class BookStore:\n",
    "    def __init__(self):\n",
    "        print(\"__init constructor method is called.....\")\n",
    "\n",
    "B1=BookStore()"
   ]
  },
  {
   "cell_type": "code",
   "execution_count": 5,
   "metadata": {},
   "outputs": [
    {
     "name": "stdout",
     "output_type": "stream",
     "text": [
      "Book title: I too had a love story\n",
      "Book author: Ravinder Singh\n",
      "Book title: You & I\n",
      "Book author: Ryan\n",
      "Book title: Secret Wish List\n",
      "Book author: Preeti\n",
      "Book title: Psycho Billionaire\n",
      "Book author: Kash\n",
      "BookStore.noofbooks 4\n"
     ]
    }
   ],
   "source": [
    "class BookStore:\n",
    "    noofbooks=0\n",
    "    def __init__(self,title,author):\n",
    "        self.title=title\n",
    "        self.author=author\n",
    "        BookStore.noofbooks+=1\n",
    "    def bookinfo(self):\n",
    "        print(\"Book title:\",self.title)\n",
    "        print(\"Book author:\",self.author)\n",
    "    \n",
    "B1=BookStore(\"I too had a love story\",\"Ravinder Singh\")\n",
    "B2=BookStore(\"You & I\",\"Ryan\")\n",
    "B3=BookStore(\"Secret Wish List\",\"Preeti\")\n",
    "B4=BookStore(\"Psycho Billionaire\",\"Kash\")\n",
    "\n",
    "B1.bookinfo()\n",
    "B2.bookinfo()\n",
    "B3.bookinfo()\n",
    "B4.bookinfo()\n",
    "\n",
    "print(\"BookStore.noofbooks\",BookStore.noofbooks)"
   ]
  },
  {
   "cell_type": "code",
   "execution_count": null,
   "metadata": {},
   "outputs": [],
   "source": []
  }
 ],
 "metadata": {
  "kernelspec": {
   "display_name": "Python 3",
   "language": "python",
   "name": "python3"
  },
  "language_info": {
   "codemirror_mode": {
    "name": "ipython",
    "version": 3
   },
   "file_extension": ".py",
   "mimetype": "text/x-python",
   "name": "python",
   "nbconvert_exporter": "python",
   "pygments_lexer": "ipython3",
   "version": "3.7.1"
  }
 },
 "nbformat": 4,
 "nbformat_minor": 2
}
