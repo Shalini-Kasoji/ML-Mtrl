{
 "cells": [
  {
   "cell_type": "code",
   "execution_count": 1,
   "metadata": {},
   "outputs": [
    {
     "name": "stdout",
     "output_type": "stream",
     "text": [
      "C:\\Users\\Vishnu Murthy Chakka\n",
      "C:\\Digital Nest\\Logistic Regression\n"
     ]
    }
   ],
   "source": [
    "import os\n",
    "print (os.getcwd())\n",
    "os.chdir(\"C://Digital Nest/Logistic Regression\")\n",
    "print (os.getcwd())"
   ]
  },
  {
   "cell_type": "code",
   "execution_count": 2,
   "metadata": {},
   "outputs": [
    {
     "data": {
      "text/html": [
       "<div>\n",
       "<style scoped>\n",
       "    .dataframe tbody tr th:only-of-type {\n",
       "        vertical-align: middle;\n",
       "    }\n",
       "\n",
       "    .dataframe tbody tr th {\n",
       "        vertical-align: top;\n",
       "    }\n",
       "\n",
       "    .dataframe thead th {\n",
       "        text-align: right;\n",
       "    }\n",
       "</style>\n",
       "<table border=\"1\" class=\"dataframe\">\n",
       "  <thead>\n",
       "    <tr style=\"text-align: right;\">\n",
       "      <th></th>\n",
       "      <th>AccountLength</th>\n",
       "      <th>VMailMessage</th>\n",
       "      <th>DayMins</th>\n",
       "      <th>EveMins</th>\n",
       "      <th>NightMins</th>\n",
       "      <th>IntlMins</th>\n",
       "      <th>CustServCalls</th>\n",
       "      <th>Churn</th>\n",
       "      <th>IntlPlan</th>\n",
       "      <th>VMailPlan</th>\n",
       "      <th>DayCalls</th>\n",
       "      <th>DayCharge</th>\n",
       "      <th>EveCalls</th>\n",
       "      <th>EveCharge</th>\n",
       "      <th>NightCalls</th>\n",
       "      <th>NightCharge</th>\n",
       "      <th>IntlCalls</th>\n",
       "      <th>IntlCharge</th>\n",
       "      <th>AreaCode</th>\n",
       "    </tr>\n",
       "  </thead>\n",
       "  <tbody>\n",
       "    <tr>\n",
       "      <th>count</th>\n",
       "      <td>3333.000000</td>\n",
       "      <td>3333.000000</td>\n",
       "      <td>3333.000000</td>\n",
       "      <td>3333.000000</td>\n",
       "      <td>3333.000000</td>\n",
       "      <td>3333.000000</td>\n",
       "      <td>3333.000000</td>\n",
       "      <td>3333.000000</td>\n",
       "      <td>3333.000000</td>\n",
       "      <td>3333.000000</td>\n",
       "      <td>3333.000000</td>\n",
       "      <td>3333.000000</td>\n",
       "      <td>3333.000000</td>\n",
       "      <td>3333.000000</td>\n",
       "      <td>3333.000000</td>\n",
       "      <td>3333.000000</td>\n",
       "      <td>3333.000000</td>\n",
       "      <td>3333.000000</td>\n",
       "      <td>3333.000000</td>\n",
       "    </tr>\n",
       "    <tr>\n",
       "      <th>mean</th>\n",
       "      <td>101.064806</td>\n",
       "      <td>8.099010</td>\n",
       "      <td>179.775098</td>\n",
       "      <td>200.980348</td>\n",
       "      <td>200.872037</td>\n",
       "      <td>10.237294</td>\n",
       "      <td>1.562856</td>\n",
       "      <td>0.144914</td>\n",
       "      <td>0.096910</td>\n",
       "      <td>0.276628</td>\n",
       "      <td>100.435644</td>\n",
       "      <td>30.562307</td>\n",
       "      <td>100.114311</td>\n",
       "      <td>17.083540</td>\n",
       "      <td>100.107711</td>\n",
       "      <td>9.039325</td>\n",
       "      <td>4.479448</td>\n",
       "      <td>2.764581</td>\n",
       "      <td>437.182418</td>\n",
       "    </tr>\n",
       "    <tr>\n",
       "      <th>std</th>\n",
       "      <td>39.822106</td>\n",
       "      <td>13.688365</td>\n",
       "      <td>54.467389</td>\n",
       "      <td>50.713844</td>\n",
       "      <td>50.573847</td>\n",
       "      <td>2.791840</td>\n",
       "      <td>1.315491</td>\n",
       "      <td>0.352067</td>\n",
       "      <td>0.295879</td>\n",
       "      <td>0.447398</td>\n",
       "      <td>20.069084</td>\n",
       "      <td>9.259435</td>\n",
       "      <td>19.922625</td>\n",
       "      <td>4.310668</td>\n",
       "      <td>19.568609</td>\n",
       "      <td>2.275873</td>\n",
       "      <td>2.461214</td>\n",
       "      <td>0.753773</td>\n",
       "      <td>42.371290</td>\n",
       "    </tr>\n",
       "    <tr>\n",
       "      <th>min</th>\n",
       "      <td>1.000000</td>\n",
       "      <td>0.000000</td>\n",
       "      <td>0.000000</td>\n",
       "      <td>0.000000</td>\n",
       "      <td>23.200000</td>\n",
       "      <td>0.000000</td>\n",
       "      <td>0.000000</td>\n",
       "      <td>0.000000</td>\n",
       "      <td>0.000000</td>\n",
       "      <td>0.000000</td>\n",
       "      <td>0.000000</td>\n",
       "      <td>0.000000</td>\n",
       "      <td>0.000000</td>\n",
       "      <td>0.000000</td>\n",
       "      <td>33.000000</td>\n",
       "      <td>1.040000</td>\n",
       "      <td>0.000000</td>\n",
       "      <td>0.000000</td>\n",
       "      <td>408.000000</td>\n",
       "    </tr>\n",
       "    <tr>\n",
       "      <th>25%</th>\n",
       "      <td>74.000000</td>\n",
       "      <td>0.000000</td>\n",
       "      <td>143.700000</td>\n",
       "      <td>166.600000</td>\n",
       "      <td>167.000000</td>\n",
       "      <td>8.500000</td>\n",
       "      <td>1.000000</td>\n",
       "      <td>0.000000</td>\n",
       "      <td>0.000000</td>\n",
       "      <td>0.000000</td>\n",
       "      <td>87.000000</td>\n",
       "      <td>24.430000</td>\n",
       "      <td>87.000000</td>\n",
       "      <td>14.160000</td>\n",
       "      <td>87.000000</td>\n",
       "      <td>7.520000</td>\n",
       "      <td>3.000000</td>\n",
       "      <td>2.300000</td>\n",
       "      <td>408.000000</td>\n",
       "    </tr>\n",
       "    <tr>\n",
       "      <th>50%</th>\n",
       "      <td>101.000000</td>\n",
       "      <td>0.000000</td>\n",
       "      <td>179.400000</td>\n",
       "      <td>201.400000</td>\n",
       "      <td>201.200000</td>\n",
       "      <td>10.300000</td>\n",
       "      <td>1.000000</td>\n",
       "      <td>0.000000</td>\n",
       "      <td>0.000000</td>\n",
       "      <td>0.000000</td>\n",
       "      <td>101.000000</td>\n",
       "      <td>30.500000</td>\n",
       "      <td>100.000000</td>\n",
       "      <td>17.120000</td>\n",
       "      <td>100.000000</td>\n",
       "      <td>9.050000</td>\n",
       "      <td>4.000000</td>\n",
       "      <td>2.780000</td>\n",
       "      <td>415.000000</td>\n",
       "    </tr>\n",
       "    <tr>\n",
       "      <th>75%</th>\n",
       "      <td>127.000000</td>\n",
       "      <td>20.000000</td>\n",
       "      <td>216.400000</td>\n",
       "      <td>235.300000</td>\n",
       "      <td>235.300000</td>\n",
       "      <td>12.100000</td>\n",
       "      <td>2.000000</td>\n",
       "      <td>0.000000</td>\n",
       "      <td>0.000000</td>\n",
       "      <td>1.000000</td>\n",
       "      <td>114.000000</td>\n",
       "      <td>36.790000</td>\n",
       "      <td>114.000000</td>\n",
       "      <td>20.000000</td>\n",
       "      <td>113.000000</td>\n",
       "      <td>10.590000</td>\n",
       "      <td>6.000000</td>\n",
       "      <td>3.270000</td>\n",
       "      <td>510.000000</td>\n",
       "    </tr>\n",
       "    <tr>\n",
       "      <th>max</th>\n",
       "      <td>243.000000</td>\n",
       "      <td>51.000000</td>\n",
       "      <td>350.800000</td>\n",
       "      <td>363.700000</td>\n",
       "      <td>395.000000</td>\n",
       "      <td>20.000000</td>\n",
       "      <td>9.000000</td>\n",
       "      <td>1.000000</td>\n",
       "      <td>1.000000</td>\n",
       "      <td>1.000000</td>\n",
       "      <td>165.000000</td>\n",
       "      <td>59.640000</td>\n",
       "      <td>170.000000</td>\n",
       "      <td>30.910000</td>\n",
       "      <td>175.000000</td>\n",
       "      <td>17.770000</td>\n",
       "      <td>20.000000</td>\n",
       "      <td>5.400000</td>\n",
       "      <td>510.000000</td>\n",
       "    </tr>\n",
       "  </tbody>\n",
       "</table>\n",
       "</div>"
      ],
      "text/plain": [
       "       AccountLength  VMailMessage      DayMins      EveMins    NightMins  \\\n",
       "count    3333.000000   3333.000000  3333.000000  3333.000000  3333.000000   \n",
       "mean      101.064806      8.099010   179.775098   200.980348   200.872037   \n",
       "std        39.822106     13.688365    54.467389    50.713844    50.573847   \n",
       "min         1.000000      0.000000     0.000000     0.000000    23.200000   \n",
       "25%        74.000000      0.000000   143.700000   166.600000   167.000000   \n",
       "50%       101.000000      0.000000   179.400000   201.400000   201.200000   \n",
       "75%       127.000000     20.000000   216.400000   235.300000   235.300000   \n",
       "max       243.000000     51.000000   350.800000   363.700000   395.000000   \n",
       "\n",
       "          IntlMins  CustServCalls        Churn     IntlPlan    VMailPlan  \\\n",
       "count  3333.000000    3333.000000  3333.000000  3333.000000  3333.000000   \n",
       "mean     10.237294       1.562856     0.144914     0.096910     0.276628   \n",
       "std       2.791840       1.315491     0.352067     0.295879     0.447398   \n",
       "min       0.000000       0.000000     0.000000     0.000000     0.000000   \n",
       "25%       8.500000       1.000000     0.000000     0.000000     0.000000   \n",
       "50%      10.300000       1.000000     0.000000     0.000000     0.000000   \n",
       "75%      12.100000       2.000000     0.000000     0.000000     1.000000   \n",
       "max      20.000000       9.000000     1.000000     1.000000     1.000000   \n",
       "\n",
       "          DayCalls    DayCharge     EveCalls    EveCharge   NightCalls  \\\n",
       "count  3333.000000  3333.000000  3333.000000  3333.000000  3333.000000   \n",
       "mean    100.435644    30.562307   100.114311    17.083540   100.107711   \n",
       "std      20.069084     9.259435    19.922625     4.310668    19.568609   \n",
       "min       0.000000     0.000000     0.000000     0.000000    33.000000   \n",
       "25%      87.000000    24.430000    87.000000    14.160000    87.000000   \n",
       "50%     101.000000    30.500000   100.000000    17.120000   100.000000   \n",
       "75%     114.000000    36.790000   114.000000    20.000000   113.000000   \n",
       "max     165.000000    59.640000   170.000000    30.910000   175.000000   \n",
       "\n",
       "       NightCharge    IntlCalls   IntlCharge     AreaCode  \n",
       "count  3333.000000  3333.000000  3333.000000  3333.000000  \n",
       "mean      9.039325     4.479448     2.764581   437.182418  \n",
       "std       2.275873     2.461214     0.753773    42.371290  \n",
       "min       1.040000     0.000000     0.000000   408.000000  \n",
       "25%       7.520000     3.000000     2.300000   408.000000  \n",
       "50%       9.050000     4.000000     2.780000   415.000000  \n",
       "75%      10.590000     6.000000     3.270000   510.000000  \n",
       "max      17.770000    20.000000     5.400000   510.000000  "
      ]
     },
     "execution_count": 2,
     "metadata": {},
     "output_type": "execute_result"
    }
   ],
   "source": [
    "import numpy as np\n",
    "import pandas as pd\n",
    "churn = pd.read_csv('Churn.csv')\n",
    "churn.describe()"
   ]
  },
  {
   "cell_type": "code",
   "execution_count": 6,
   "metadata": {},
   "outputs": [],
   "source": [
    "# Because my Jupyter was showing only last line output, so need to add\n",
    "from IPython.core.interactiveshell import InteractiveShell\n",
    "InteractiveShell.ast_node_interactivity = \"all\""
   ]
  },
  {
   "cell_type": "code",
   "execution_count": 7,
   "metadata": {},
   "outputs": [
    {
     "data": {
      "text/plain": [
       "(3333, 21)"
      ]
     },
     "execution_count": 7,
     "metadata": {},
     "output_type": "execute_result"
    },
    {
     "name": "stdout",
     "output_type": "stream",
     "text": [
      "['AccountLength' 'VMailMessage' 'DayMins' 'EveMins' 'NightMins' 'IntlMins'\n",
      " 'CustServCalls' 'Churn' 'IntlPlan' 'VMailPlan' 'DayCalls' 'DayCharge'\n",
      " 'EveCalls' 'EveCharge' 'NightCalls' 'NightCharge' 'IntlCalls'\n",
      " 'IntlCharge' 'State' 'AreaCode' 'Phone']\n"
     ]
    }
   ],
   "source": [
    "churn.shape\n",
    "print(churn.columns.values)"
   ]
  },
  {
   "cell_type": "code",
   "execution_count": 5,
   "metadata": {},
   "outputs": [
    {
     "data": {
      "text/html": [
       "<div>\n",
       "<style scoped>\n",
       "    .dataframe tbody tr th:only-of-type {\n",
       "        vertical-align: middle;\n",
       "    }\n",
       "\n",
       "    .dataframe tbody tr th {\n",
       "        vertical-align: top;\n",
       "    }\n",
       "\n",
       "    .dataframe thead th {\n",
       "        text-align: right;\n",
       "    }\n",
       "</style>\n",
       "<table border=\"1\" class=\"dataframe\">\n",
       "  <thead>\n",
       "    <tr style=\"text-align: right;\">\n",
       "      <th></th>\n",
       "      <th>AccountLength</th>\n",
       "      <th>VMailMessage</th>\n",
       "      <th>DayMins</th>\n",
       "      <th>EveMins</th>\n",
       "      <th>NightMins</th>\n",
       "      <th>IntlMins</th>\n",
       "      <th>CustServCalls</th>\n",
       "      <th>Churn</th>\n",
       "      <th>IntlPlan</th>\n",
       "      <th>VMailPlan</th>\n",
       "      <th>...</th>\n",
       "      <th>DayCharge</th>\n",
       "      <th>EveCalls</th>\n",
       "      <th>EveCharge</th>\n",
       "      <th>NightCalls</th>\n",
       "      <th>NightCharge</th>\n",
       "      <th>IntlCalls</th>\n",
       "      <th>IntlCharge</th>\n",
       "      <th>State</th>\n",
       "      <th>AreaCode</th>\n",
       "      <th>Phone</th>\n",
       "    </tr>\n",
       "  </thead>\n",
       "  <tbody>\n",
       "    <tr>\n",
       "      <th>0</th>\n",
       "      <td>128</td>\n",
       "      <td>25</td>\n",
       "      <td>265.1</td>\n",
       "      <td>197.4</td>\n",
       "      <td>244.7</td>\n",
       "      <td>10.0</td>\n",
       "      <td>1</td>\n",
       "      <td>0</td>\n",
       "      <td>0</td>\n",
       "      <td>1</td>\n",
       "      <td>...</td>\n",
       "      <td>45.07</td>\n",
       "      <td>99</td>\n",
       "      <td>16.78</td>\n",
       "      <td>91</td>\n",
       "      <td>11.01</td>\n",
       "      <td>3</td>\n",
       "      <td>2.70</td>\n",
       "      <td>KS</td>\n",
       "      <td>415</td>\n",
       "      <td>382-4657</td>\n",
       "    </tr>\n",
       "    <tr>\n",
       "      <th>1</th>\n",
       "      <td>107</td>\n",
       "      <td>26</td>\n",
       "      <td>161.6</td>\n",
       "      <td>195.5</td>\n",
       "      <td>254.4</td>\n",
       "      <td>13.7</td>\n",
       "      <td>1</td>\n",
       "      <td>0</td>\n",
       "      <td>0</td>\n",
       "      <td>1</td>\n",
       "      <td>...</td>\n",
       "      <td>27.47</td>\n",
       "      <td>103</td>\n",
       "      <td>16.62</td>\n",
       "      <td>103</td>\n",
       "      <td>11.45</td>\n",
       "      <td>3</td>\n",
       "      <td>3.70</td>\n",
       "      <td>OH</td>\n",
       "      <td>415</td>\n",
       "      <td>371-7191</td>\n",
       "    </tr>\n",
       "    <tr>\n",
       "      <th>2</th>\n",
       "      <td>137</td>\n",
       "      <td>0</td>\n",
       "      <td>243.4</td>\n",
       "      <td>121.2</td>\n",
       "      <td>162.6</td>\n",
       "      <td>12.2</td>\n",
       "      <td>0</td>\n",
       "      <td>0</td>\n",
       "      <td>0</td>\n",
       "      <td>0</td>\n",
       "      <td>...</td>\n",
       "      <td>41.38</td>\n",
       "      <td>110</td>\n",
       "      <td>10.30</td>\n",
       "      <td>104</td>\n",
       "      <td>7.32</td>\n",
       "      <td>5</td>\n",
       "      <td>3.29</td>\n",
       "      <td>NJ</td>\n",
       "      <td>415</td>\n",
       "      <td>358-1921</td>\n",
       "    </tr>\n",
       "    <tr>\n",
       "      <th>3</th>\n",
       "      <td>84</td>\n",
       "      <td>0</td>\n",
       "      <td>299.4</td>\n",
       "      <td>61.9</td>\n",
       "      <td>196.9</td>\n",
       "      <td>6.6</td>\n",
       "      <td>2</td>\n",
       "      <td>0</td>\n",
       "      <td>1</td>\n",
       "      <td>0</td>\n",
       "      <td>...</td>\n",
       "      <td>50.90</td>\n",
       "      <td>88</td>\n",
       "      <td>5.26</td>\n",
       "      <td>89</td>\n",
       "      <td>8.86</td>\n",
       "      <td>7</td>\n",
       "      <td>1.78</td>\n",
       "      <td>OH</td>\n",
       "      <td>408</td>\n",
       "      <td>375-9999</td>\n",
       "    </tr>\n",
       "    <tr>\n",
       "      <th>4</th>\n",
       "      <td>75</td>\n",
       "      <td>0</td>\n",
       "      <td>166.7</td>\n",
       "      <td>148.3</td>\n",
       "      <td>186.9</td>\n",
       "      <td>10.1</td>\n",
       "      <td>3</td>\n",
       "      <td>0</td>\n",
       "      <td>1</td>\n",
       "      <td>0</td>\n",
       "      <td>...</td>\n",
       "      <td>28.34</td>\n",
       "      <td>122</td>\n",
       "      <td>12.61</td>\n",
       "      <td>121</td>\n",
       "      <td>8.41</td>\n",
       "      <td>3</td>\n",
       "      <td>2.73</td>\n",
       "      <td>OK</td>\n",
       "      <td>415</td>\n",
       "      <td>330-6626</td>\n",
       "    </tr>\n",
       "  </tbody>\n",
       "</table>\n",
       "<p>5 rows × 21 columns</p>\n",
       "</div>"
      ],
      "text/plain": [
       "   AccountLength  VMailMessage  DayMins  EveMins  NightMins  IntlMins  \\\n",
       "0            128            25    265.1    197.4      244.7      10.0   \n",
       "1            107            26    161.6    195.5      254.4      13.7   \n",
       "2            137             0    243.4    121.2      162.6      12.2   \n",
       "3             84             0    299.4     61.9      196.9       6.6   \n",
       "4             75             0    166.7    148.3      186.9      10.1   \n",
       "\n",
       "   CustServCalls  Churn  IntlPlan  VMailPlan    ...     DayCharge  EveCalls  \\\n",
       "0              1      0         0          1    ...         45.07        99   \n",
       "1              1      0         0          1    ...         27.47       103   \n",
       "2              0      0         0          0    ...         41.38       110   \n",
       "3              2      0         1          0    ...         50.90        88   \n",
       "4              3      0         1          0    ...         28.34       122   \n",
       "\n",
       "   EveCharge  NightCalls  NightCharge  IntlCalls  IntlCharge  State AreaCode  \\\n",
       "0      16.78          91        11.01          3        2.70     KS      415   \n",
       "1      16.62         103        11.45          3        3.70     OH      415   \n",
       "2      10.30         104         7.32          5        3.29     NJ      415   \n",
       "3       5.26          89         8.86          7        1.78     OH      408   \n",
       "4      12.61         121         8.41          3        2.73     OK      415   \n",
       "\n",
       "      Phone  \n",
       "0  382-4657  \n",
       "1  371-7191  \n",
       "2  358-1921  \n",
       "3  375-9999  \n",
       "4  330-6626  \n",
       "\n",
       "[5 rows x 21 columns]"
      ]
     },
     "execution_count": 5,
     "metadata": {},
     "output_type": "execute_result"
    }
   ],
   "source": [
    "churn.head()"
   ]
  },
  {
   "cell_type": "code",
   "execution_count": 6,
   "metadata": {},
   "outputs": [
    {
     "data": {
      "text/plain": [
       "AccountLength    0\n",
       "VMailMessage     0\n",
       "DayMins          0\n",
       "EveMins          0\n",
       "NightMins        0\n",
       "IntlMins         0\n",
       "CustServCalls    0\n",
       "Churn            0\n",
       "IntlPlan         0\n",
       "VMailPlan        0\n",
       "DayCalls         0\n",
       "DayCharge        0\n",
       "EveCalls         0\n",
       "EveCharge        0\n",
       "NightCalls       0\n",
       "NightCharge      0\n",
       "IntlCalls        0\n",
       "IntlCharge       0\n",
       "State            0\n",
       "AreaCode         0\n",
       "Phone            0\n",
       "dtype: int64"
      ]
     },
     "execution_count": 6,
     "metadata": {},
     "output_type": "execute_result"
    }
   ],
   "source": [
    "# missing values\n",
    "churn.isnull().sum()"
   ]
  },
  {
   "cell_type": "code",
   "execution_count": 7,
   "metadata": {},
   "outputs": [
    {
     "data": {
      "text/plain": [
       "array([[ 1.        ,  0.99999995],\n",
       "       [ 0.99999995,  1.        ]])"
      ]
     },
     "execution_count": 7,
     "metadata": {},
     "output_type": "execute_result"
    }
   ],
   "source": [
    "# find out corrleation between day charge and day minutes\n",
    "np.corrcoef(churn.DayMins,churn.DayCharge)"
   ]
  },
  {
   "cell_type": "code",
   "execution_count": 8,
   "metadata": {},
   "outputs": [
    {
     "data": {
      "text/plain": [
       "array([[ 1.        ,  0.99999978],\n",
       "       [ 0.99999978,  1.        ]])"
      ]
     },
     "execution_count": 8,
     "metadata": {},
     "output_type": "execute_result"
    }
   ],
   "source": [
    "np.corrcoef(churn.EveMins,churn.EveCharge)"
   ]
  },
  {
   "cell_type": "code",
   "execution_count": 9,
   "metadata": {},
   "outputs": [
    {
     "data": {
      "text/plain": [
       "array([[ 1.        ,  0.99999921],\n",
       "       [ 0.99999921,  1.        ]])"
      ]
     },
     "execution_count": 9,
     "metadata": {},
     "output_type": "execute_result"
    }
   ],
   "source": [
    "np.corrcoef(churn.NightMins,churn.NightCharge)"
   ]
  },
  {
   "cell_type": "code",
   "execution_count": 11,
   "metadata": {},
   "outputs": [
    {
     "data": {
      "text/plain": [
       "array([[ 1.        ,  0.99999274],\n",
       "       [ 0.99999274,  1.        ]])"
      ]
     },
     "execution_count": 11,
     "metadata": {},
     "output_type": "execute_result"
    }
   ],
   "source": [
    "np.corrcoef(churn.IntlMins,churn.IntlCharge)"
   ]
  },
  {
   "cell_type": "code",
   "execution_count": 10,
   "metadata": {},
   "outputs": [
    {
     "data": {
      "text/plain": [
       "array([[ 1.        ,  0.00675296],\n",
       "       [ 0.00675296,  1.        ]])"
      ]
     },
     "execution_count": 10,
     "metadata": {},
     "output_type": "execute_result"
    }
   ],
   "source": [
    "np.corrcoef(churn.DayCalls,churn.DayCharge)"
   ]
  },
  {
   "cell_type": "code",
   "execution_count": 14,
   "metadata": {},
   "outputs": [
    {
     "data": {
      "text/plain": [
       "(3333, 21)"
      ]
     },
     "execution_count": 14,
     "metadata": {},
     "output_type": "execute_result"
    }
   ],
   "source": [
    "churn.shape"
   ]
  },
  {
   "cell_type": "code",
   "execution_count": 11,
   "metadata": {},
   "outputs": [
    {
     "data": {
      "text/plain": [
       "(array([0, 1], dtype=int64), array([2850,  483], dtype=int64))"
      ]
     },
     "execution_count": 11,
     "metadata": {},
     "output_type": "execute_result"
    }
   ],
   "source": [
    "np.unique(churn.Churn,return_counts=True)"
   ]
  },
  {
   "cell_type": "code",
   "execution_count": 12,
   "metadata": {},
   "outputs": [
    {
     "data": {
      "text/plain": [
       "0.8550855085508551"
      ]
     },
     "execution_count": 12,
     "metadata": {},
     "output_type": "execute_result"
    }
   ],
   "source": [
    "2850/3333"
   ]
  },
  {
   "cell_type": "code",
   "execution_count": 13,
   "metadata": {},
   "outputs": [
    {
     "name": "stdout",
     "output_type": "stream",
     "text": [
      "['AccountLength' 'VMailMessage' 'DayMins' 'EveMins' 'NightMins' 'IntlMins'\n",
      " 'CustServCalls' 'Churn' 'IntlPlan' 'VMailPlan' 'DayCalls' 'DayCharge'\n",
      " 'EveCalls' 'EveCharge' 'NightCalls' 'NightCharge' 'IntlCalls' 'IntlCharge'\n",
      " 'State' 'AreaCode']\n"
     ]
    }
   ],
   "source": [
    "# exclude the phone number\n",
    "churn2 = churn.iloc[::,0:20:]\n",
    "print(churn2.columns.values)"
   ]
  },
  {
   "cell_type": "code",
   "execution_count": 15,
   "metadata": {},
   "outputs": [
    {
     "name": "stdout",
     "output_type": "stream",
     "text": [
      "             Churn\n",
      "count  3333.000000\n",
      "mean      0.144914\n",
      "std       0.352067\n",
      "min       0.000000\n",
      "25%       0.000000\n",
      "50%       0.000000\n",
      "75%       0.000000\n",
      "max       1.000000\n",
      "       AccountLength  VMailMessage  CustServCalls     IntlPlan    VMailPlan  \\\n",
      "count    3333.000000   3333.000000    3333.000000  3333.000000  3333.000000   \n",
      "mean      101.064806      8.099010       1.562856     0.096910     0.276628   \n",
      "std        39.822106     13.688365       1.315491     0.295879     0.447398   \n",
      "min         1.000000      0.000000       0.000000     0.000000     0.000000   \n",
      "25%        74.000000      0.000000       1.000000     0.000000     0.000000   \n",
      "50%       101.000000      0.000000       1.000000     0.000000     0.000000   \n",
      "75%       127.000000     20.000000       2.000000     0.000000     1.000000   \n",
      "max       243.000000     51.000000       9.000000     1.000000     1.000000   \n",
      "\n",
      "          DayCalls    DayCharge     EveCalls    EveCharge   NightCalls  \\\n",
      "count  3333.000000  3333.000000  3333.000000  3333.000000  3333.000000   \n",
      "mean    100.435644    30.562307   100.114311    17.083540   100.107711   \n",
      "std      20.069084     9.259435    19.922625     4.310668    19.568609   \n",
      "min       0.000000     0.000000     0.000000     0.000000    33.000000   \n",
      "25%      87.000000    24.430000    87.000000    14.160000    87.000000   \n",
      "50%     101.000000    30.500000   100.000000    17.120000   100.000000   \n",
      "75%     114.000000    36.790000   114.000000    20.000000   113.000000   \n",
      "max     165.000000    59.640000   170.000000    30.910000   175.000000   \n",
      "\n",
      "       NightCharge    IntlCalls   IntlCharge     AreaCode  \n",
      "count  3333.000000  3333.000000  3333.000000  3333.000000  \n",
      "mean      9.039325     4.479448     2.764581   437.182418  \n",
      "std       2.275873     2.461214     0.753773    42.371290  \n",
      "min       1.040000     0.000000     0.000000   408.000000  \n",
      "25%       7.520000     3.000000     2.300000   408.000000  \n",
      "50%       9.050000     4.000000     2.780000   415.000000  \n",
      "75%      10.590000     6.000000     3.270000   510.000000  \n",
      "max      17.770000    20.000000     5.400000   510.000000  \n"
     ]
    }
   ],
   "source": [
    "# split the file into Independent and dependent variables\n",
    "churnY = churn.iloc[::,7:8:1]\n",
    "print(churnY.describe())\n",
    "# ignoring day min, eve mings, night mins, int mins\n",
    "columnsX = [0,1,6,8,9,10,11,12,13,14,15,16,17,18,19]\n",
    "churnX = churn.iloc[::,columnsX]\n",
    "print(churnX.describe())"
   ]
  },
  {
   "cell_type": "code",
   "execution_count": 18,
   "metadata": {},
   "outputs": [
    {
     "name": "stdout",
     "output_type": "stream",
     "text": [
      "(3333, 15)\n",
      "(3333, 1)\n"
     ]
    }
   ],
   "source": [
    "print(churnX.shape)\n",
    "print(churnY.shape)"
   ]
  },
  {
   "cell_type": "code",
   "execution_count": 19,
   "metadata": {},
   "outputs": [
    {
     "name": "stdout",
     "output_type": "stream",
     "text": [
      "<class 'pandas.core.frame.DataFrame'>\n",
      "<class 'pandas.core.frame.DataFrame'>\n",
      "<class 'pandas.core.frame.DataFrame'>\n",
      "<class 'pandas.core.frame.DataFrame'>\n"
     ]
    }
   ],
   "source": [
    "# splitting the data into Train and Test\n",
    "from sklearn.model_selection import train_test_split\n",
    "X_train, X_test, Y_train, Y_test = train_test_split(churnX, churnY, test_size = 0.30, random_state = 0)\n",
    "print(type(X_train))\n",
    "print(type(Y_train))\n",
    "print(type(X_test))\n",
    "print(type(Y_test))"
   ]
  },
  {
   "cell_type": "code",
   "execution_count": 21,
   "metadata": {},
   "outputs": [
    {
     "name": "stdout",
     "output_type": "stream",
     "text": [
      "(2333, 15)\n",
      "(2333, 1)\n",
      "(1000, 15)\n",
      "(1000, 1)\n"
     ]
    }
   ],
   "source": [
    "print(X_train.shape)\n",
    "print(Y_train.shape)\n",
    "print(X_test.shape)\n",
    "print(Y_test.shape)"
   ]
  },
  {
   "cell_type": "code",
   "execution_count": 22,
   "metadata": {},
   "outputs": [
    {
     "data": {
      "text/plain": [
       "(array([0, 1], dtype=int64), array([1988,  345], dtype=int64))"
      ]
     },
     "execution_count": 22,
     "metadata": {},
     "output_type": "execute_result"
    }
   ],
   "source": [
    "np.unique(Y_train,return_counts=True)"
   ]
  },
  {
   "cell_type": "code",
   "execution_count": 23,
   "metadata": {},
   "outputs": [
    {
     "data": {
      "text/plain": [
       "0.8521217316759537"
      ]
     },
     "execution_count": 23,
     "metadata": {},
     "output_type": "execute_result"
    }
   ],
   "source": [
    "1988/2333"
   ]
  },
  {
   "cell_type": "code",
   "execution_count": 24,
   "metadata": {},
   "outputs": [
    {
     "name": "stdout",
     "output_type": "stream",
     "text": [
      "count    2333.000000\n",
      "mean       25.949850\n",
      "std        14.840968\n",
      "min         0.000000\n",
      "25%        13.000000\n",
      "50%        26.000000\n",
      "75%        39.000000\n",
      "max        50.000000\n",
      "Name: State, dtype: float64\n"
     ]
    },
    {
     "name": "stderr",
     "output_type": "stream",
     "text": [
      "C:\\Users\\Vishnu Murthy Chakka\\Anaconda3\\lib\\site-packages\\pandas\\core\\generic.py:4405: SettingWithCopyWarning: \n",
      "A value is trying to be set on a copy of a slice from a DataFrame.\n",
      "Try using .loc[row_indexer,col_indexer] = value instead\n",
      "\n",
      "See the caveats in the documentation: http://pandas.pydata.org/pandas-docs/stable/indexing.html#indexing-view-versus-copy\n",
      "  self[name] = value\n"
     ]
    }
   ],
   "source": [
    "# lable encoding for strings\n",
    "from sklearn.preprocessing import LabelEncoder\n",
    "le = LabelEncoder()\n",
    "X_train.State = le.fit_transform(X_train.State)\n",
    "print(X_train.State.describe())"
   ]
  },
  {
   "cell_type": "code",
   "execution_count": 31,
   "metadata": {},
   "outputs": [
    {
     "data": {
      "text/plain": [
       "2918    19\n",
       "1884     0\n",
       "2823    22\n",
       "2319    24\n",
       "2980    16\n",
       "Name: State, dtype: int64"
      ]
     },
     "execution_count": 31,
     "metadata": {},
     "output_type": "execute_result"
    }
   ],
   "source": [
    "X_train.State.head()"
   ]
  },
  {
   "cell_type": "code",
   "execution_count": 32,
   "metadata": {},
   "outputs": [
    {
     "data": {
      "text/plain": [
       "(2333, 15)"
      ]
     },
     "execution_count": 32,
     "metadata": {},
     "output_type": "execute_result"
    }
   ],
   "source": [
    "X_train.shape"
   ]
  },
  {
   "cell_type": "code",
   "execution_count": 25,
   "metadata": {},
   "outputs": [
    {
     "data": {
      "text/plain": [
       "array([ 0,  1,  2,  3,  4,  5,  6,  7,  8,  9, 10, 11, 12, 13, 14, 15, 16,\n",
       "       17, 18, 19, 20, 21, 22, 23, 24, 25, 26, 27, 28, 29, 30, 31, 32, 33,\n",
       "       34, 35, 36, 37, 38, 39, 40, 41, 42, 43, 44, 45, 46, 47, 48, 49, 50], dtype=int64)"
      ]
     },
     "execution_count": 25,
     "metadata": {},
     "output_type": "execute_result"
    }
   ],
   "source": [
    "np.unique(X_train.State)"
   ]
  },
  {
   "cell_type": "code",
   "execution_count": 26,
   "metadata": {},
   "outputs": [
    {
     "name": "stdout",
     "output_type": "stream",
     "text": [
      "(2333, 67)\n"
     ]
    }
   ],
   "source": [
    "# apply one hot encoding on state and area\n",
    "from sklearn.preprocessing import OneHotEncoder\n",
    "categories = np.array([13,14])                 # column 18 represents state\n",
    "OHE = OneHotEncoder(n_values = 'auto', categorical_features = categories, \n",
    "                    sparse = False, handle_unknown = 'ignore')\n",
    "X_train = OHE.fit_transform(X_train)\n",
    "print(X_train.shape)"
   ]
  },
  {
   "cell_type": "code",
   "execution_count": 28,
   "metadata": {},
   "outputs": [
    {
     "name": "stdout",
     "output_type": "stream",
     "text": [
      "Fitting 3 folds for each of 5 candidates, totalling 15 fits\n",
      "[CV] C=0.5, penalty=l2 ...............................................\n",
      "[CV] ...... C=0.5, penalty=l2, score=0.7919994753754346, total=   0.1s\n",
      "[CV] C=0.5, penalty=l2 ...............................................\n",
      "[CV] ...... C=0.5, penalty=l2, score=0.7955669224211424, total=   0.0s\n",
      "[CV] C=0.5, penalty=l2 ...............................................\n",
      "[CV] ...... C=0.5, penalty=l2, score=0.7785498489425983, total=   0.0s"
     ]
    },
    {
     "name": "stderr",
     "output_type": "stream",
     "text": [
      "[Parallel(n_jobs=1)]: Done   1 out of   1 | elapsed:    0.1s remaining:    0.0s\n",
      "[Parallel(n_jobs=1)]: Done   2 out of   2 | elapsed:    0.1s remaining:    0.0s\n",
      "[Parallel(n_jobs=1)]: Done   3 out of   3 | elapsed:    0.1s remaining:    0.0s\n",
      "[Parallel(n_jobs=1)]: Done   4 out of   4 | elapsed:    0.2s remaining:    0.0s\n",
      "[Parallel(n_jobs=1)]: Done   5 out of   5 | elapsed:    0.2s remaining:    0.0s\n",
      "[Parallel(n_jobs=1)]: Done   6 out of   6 | elapsed:    0.2s remaining:    0.0s\n",
      "[Parallel(n_jobs=1)]: Done   7 out of   7 | elapsed:    0.2s remaining:    0.0s\n"
     ]
    },
    {
     "name": "stdout",
     "output_type": "stream",
     "text": [
      "\n",
      "[CV] C=0.8, penalty=l2 ...............................................\n",
      "[CV] ...... C=0.8, penalty=l2, score=0.7915666601088596, total=   0.0s\n",
      "[CV] C=0.8, penalty=l2 ...............................................\n",
      "[CV] ...... C=0.8, penalty=l2, score=0.7996852252606728, total=   0.0s\n",
      "[CV] C=0.8, penalty=l2 ...............................................\n",
      "[CV] ...... C=0.8, penalty=l2, score=0.7748456587416261, total=   0.0s\n",
      "[CV] C=1, penalty=l2 .................................................\n",
      "[CV] ........ C=1, penalty=l2, score=0.7902944455374123, total=   0.0s\n",
      "[CV] C=1, penalty=l2 .................................................\n",
      "[CV] ......... C=1, penalty=l2, score=0.796826021378451, total=   0.0s\n",
      "[CV] C=1, penalty=l2 .................................................\n",
      "[CV] ......... C=1, penalty=l2, score=0.773466438985945, total=   0.0s\n",
      "[CV] C=5, penalty=l2 .................................................\n",
      "[CV] ........ C=5, penalty=l2, score=0.7905829890484624, total=   0.0s"
     ]
    },
    {
     "name": "stderr",
     "output_type": "stream",
     "text": [
      "[Parallel(n_jobs=1)]: Done   8 out of   8 | elapsed:    0.3s remaining:    0.0s\n",
      "[Parallel(n_jobs=1)]: Done   9 out of   9 | elapsed:    0.3s remaining:    0.0s\n"
     ]
    },
    {
     "name": "stdout",
     "output_type": "stream",
     "text": [
      "\n",
      "[CV] C=5, penalty=l2 .................................................\n",
      "[CV] ......... C=5, penalty=l2, score=0.797258836645026, total=   0.0s\n",
      "[CV] C=5, penalty=l2 .................................................\n",
      "[CV] ........ C=5, penalty=l2, score=0.7768685143832916, total=   0.0s\n",
      "[CV] C=10, penalty=l2 ................................................\n",
      "[CV] ........ C=10, penalty=l2, score=0.789520624303233, total=   0.0s\n",
      "[CV] C=10, penalty=l2 ................................................\n",
      "[CV] ....... C=10, penalty=l2, score=0.7958161190897762, total=   0.0s\n",
      "[CV] C=10, penalty=l2 ................................................\n",
      "[CV] ....... C=10, penalty=l2, score=0.7762117430710626, total=   0.0s\n"
     ]
    },
    {
     "name": "stderr",
     "output_type": "stream",
     "text": [
      "[Parallel(n_jobs=1)]: Done  15 out of  15 | elapsed:    0.5s finished\n"
     ]
    },
    {
     "data": {
      "text/plain": [
       "GridSearchCV(cv=3, error_score='raise',\n",
       "       estimator=LogisticRegression(C=1.0, class_weight='balanced', dual=False,\n",
       "          fit_intercept=True, intercept_scaling=1, max_iter=100,\n",
       "          multi_class='ovr', n_jobs=1, penalty='l2', random_state=None,\n",
       "          solver='lbfgs', tol=0.0001, verbose=0, warm_start=False),\n",
       "       fit_params=None, iid=True, n_jobs=1,\n",
       "       param_grid={'penalty': ['l2'], 'C': [0.5, 0.8, 1, 5, 10]},\n",
       "       pre_dispatch='2*n_jobs', refit=True, return_train_score=True,\n",
       "       scoring='roc_auc', verbose=10)"
      ]
     },
     "execution_count": 28,
     "metadata": {},
     "output_type": "execute_result"
    }
   ],
   "source": [
    "# logistic model\n",
    "from sklearn.linear_model import LogisticRegression\n",
    "lgr = LogisticRegression(class_weight = 'balanced',solver='lbfgs')\n",
    "parms = {'penalty': [\"l2\"], \n",
    "         'C': [0.5,0.8,1,5,10]} \n",
    "# perform grid search with cross validation\n",
    "from sklearn.model_selection import GridSearchCV\n",
    "CV = GridSearchCV(estimator = lgr,param_grid = parms, scoring = 'roc_auc',\n",
    "                  cv=3,refit=True,return_train_score = True,verbose=10,n_jobs=1)\n",
    "CV.fit(X_train,Y_train.Churn)"
   ]
  },
  {
   "cell_type": "code",
   "execution_count": 29,
   "metadata": {},
   "outputs": [
    {
     "name": "stdout",
     "output_type": "stream",
     "text": [
      "   mean_fit_time  std_fit_time  mean_score_time  std_score_time param_C  \\\n",
      "0       0.067819      0.058569         0.000667    4.717710e-04     0.5   \n",
      "1       0.033245      0.006582         0.000998    8.143934e-04     0.8   \n",
      "2       0.033908      0.005643         0.000999    1.083865e-06       1   \n",
      "3       0.031249      0.003849         0.000998    3.371748e-07       5   \n",
      "4       0.024933      0.001412         0.001330    4.689539e-04      10   \n",
      "\n",
      "  param_penalty                       params  split0_test_score  \\\n",
      "0            l2  {'C': 0.5, 'penalty': 'l2'}           0.791999   \n",
      "1            l2  {'C': 0.8, 'penalty': 'l2'}           0.791567   \n",
      "2            l2    {'C': 1, 'penalty': 'l2'}           0.790294   \n",
      "3            l2    {'C': 5, 'penalty': 'l2'}           0.790583   \n",
      "4            l2   {'C': 10, 'penalty': 'l2'}           0.789521   \n",
      "\n",
      "   split1_test_score  split2_test_score  mean_test_score  std_test_score  \\\n",
      "0           0.795567           0.778550         0.788710        0.007326   \n",
      "1           0.799685           0.774846         0.788705        0.010340   \n",
      "2           0.796826           0.773466         0.786868        0.009839   \n",
      "3           0.797259           0.776869         0.788242        0.008487   \n",
      "4           0.795816           0.776212         0.787188        0.008171   \n",
      "\n",
      "   rank_test_score  split0_train_score  split1_train_score  \\\n",
      "0                1            0.826389            0.788883   \n",
      "1                2            0.823823            0.791068   \n",
      "2                5            0.823859            0.787127   \n",
      "3                3            0.822881            0.788558   \n",
      "4                4            0.822710            0.788811   \n",
      "\n",
      "   split2_train_score  mean_train_score  std_train_score  \n",
      "0            0.822293          0.812522         0.016799  \n",
      "1            0.825989          0.813626         0.015976  \n",
      "2            0.823811          0.811599         0.017304  \n",
      "3            0.825303          0.812247         0.016780  \n",
      "4            0.826871          0.812797         0.017046  \n",
      "Wall time: 823 ms\n"
     ]
    }
   ],
   "source": [
    "%%time\n",
    "CVResults = pd.DataFrame(CV.cv_results_)\n",
    "print(CVResults)\n",
    "CVResults.to_excel('CVResutls_Logistic.xlsx')"
   ]
  },
  {
   "cell_type": "code",
   "execution_count": 31,
   "metadata": {},
   "outputs": [
    {
     "name": "stdout",
     "output_type": "stream",
     "text": [
      "LogisticRegression(C=0.5, class_weight='balanced', dual=False,\n",
      "          fit_intercept=True, intercept_scaling=1, max_iter=100,\n",
      "          multi_class='ovr', n_jobs=1, penalty='l2', random_state=None,\n",
      "          solver='lbfgs', tol=0.0001, verbose=0, warm_start=False)\n"
     ]
    }
   ],
   "source": [
    "print(CV.best_estimator_)"
   ]
  },
  {
   "cell_type": "code",
   "execution_count": 32,
   "metadata": {},
   "outputs": [
    {
     "name": "stdout",
     "output_type": "stream",
     "text": [
      "[[ -1.58738981e-01  -1.61146498e-01  -3.44095527e-02  -1.28760397e-01\n",
      "    7.80677073e-02  -6.87410168e-02  -1.67112850e-03  -5.97433088e-02\n",
      "   -9.77654223e-03  -4.79792788e-02  -8.42636528e-02  -1.50882698e-01\n",
      "   -1.09884087e-01   1.49013289e-03  -2.36927182e-02  -9.81962521e-02\n",
      "    6.48542880e-02   2.18862638e-02  -2.63654642e-02   8.01282013e-02\n",
      "    1.20773652e-01   1.09270142e-01   6.68036927e-02   4.29014249e-02\n",
      "   -9.38600098e-02   2.24466411e-01   1.81147260e-01  -6.13060559e-02\n",
      "   -8.94631811e-03  -8.68819873e-02  -4.36769632e-02   2.24408665e-01\n",
      "   -8.71841313e-02   6.00253684e-02   6.31731780e-02   2.02549612e-02\n",
      "    5.12091474e-02  -5.60868861e-02   4.95323898e-02  -7.11508622e-02\n",
      "    2.03008438e-01   3.87955059e-02  -3.39838534e-02   1.29513889e-01\n",
      "   -7.49999668e-02  -9.25453269e-02  -1.41413016e-01   1.04713327e-01\n",
      "   -1.38856764e-01  -1.00659441e-01  -1.68773650e-02  -7.26167524e-03\n",
      "   -1.95451218e-01  -1.33543586e-01  -1.80330646e-03  -1.49406293e-02\n",
      "    5.13343473e-01   2.15299447e+00  -2.14534355e-01  -1.14319137e-02\n",
      "    5.95566817e-02  -1.00373233e-02   1.39152582e-02  -1.17828471e-02\n",
      "    2.26449390e-03  -6.47796736e-02   3.46398431e-01]]\n"
     ]
    }
   ],
   "source": [
    "print(CV.best_estimator_.coef_)"
   ]
  },
  {
   "cell_type": "code",
   "execution_count": 33,
   "metadata": {},
   "outputs": [
    {
     "name": "stdout",
     "output_type": "stream",
     "text": [
      "0.788709768587\n",
      "{'C': 0.5, 'penalty': 'l2'}\n"
     ]
    }
   ],
   "source": [
    "print(CV.best_score_)\n",
    "print(CV.best_params_)"
   ]
  },
  {
   "cell_type": "code",
   "execution_count": 34,
   "metadata": {},
   "outputs": [
    {
     "name": "stdout",
     "output_type": "stream",
     "text": [
      "count    1000.000000\n",
      "mean       26.315000\n",
      "std        14.791638\n",
      "min         0.000000\n",
      "25%        14.000000\n",
      "50%        27.000000\n",
      "75%        39.000000\n",
      "max        50.000000\n",
      "Name: State, dtype: float64\n"
     ]
    },
    {
     "name": "stderr",
     "output_type": "stream",
     "text": [
      "C:\\Users\\Vishnu Murthy Chakka\\Anaconda3\\lib\\site-packages\\pandas\\core\\generic.py:4405: SettingWithCopyWarning: \n",
      "A value is trying to be set on a copy of a slice from a DataFrame.\n",
      "Try using .loc[row_indexer,col_indexer] = value instead\n",
      "\n",
      "See the caveats in the documentation: http://pandas.pydata.org/pandas-docs/stable/indexing.html#indexing-view-versus-copy\n",
      "  self[name] = value\n"
     ]
    }
   ],
   "source": [
    "# lable encoding for strings on test\n",
    "X_test.State = le.transform(X_test.State)\n",
    "print(X_test.State.describe())"
   ]
  },
  {
   "cell_type": "code",
   "execution_count": 35,
   "metadata": {},
   "outputs": [
    {
     "data": {
      "text/plain": [
       "(1000, 67)"
      ]
     },
     "execution_count": 35,
     "metadata": {},
     "output_type": "execute_result"
    }
   ],
   "source": [
    "# apply one hot encoding on state and area\n",
    "X_test = OHE.transform(X_test)\n",
    "X_test.shape"
   ]
  },
  {
   "cell_type": "code",
   "execution_count": 36,
   "metadata": {},
   "outputs": [
    {
     "data": {
      "text/plain": [
       "numpy.ndarray"
      ]
     },
     "execution_count": 36,
     "metadata": {},
     "output_type": "execute_result"
    }
   ],
   "source": [
    "type(X_test)"
   ]
  },
  {
   "cell_type": "code",
   "execution_count": 37,
   "metadata": {},
   "outputs": [
    {
     "name": "stdout",
     "output_type": "stream",
     "text": [
      "[1 0 1 0 1 1 1 0 1 1]\n"
     ]
    }
   ],
   "source": [
    "# Preidct on Test data and check the confusion matrix\n",
    "predictTest = CV.predict(X_test)\n",
    "print(predictTest[0:10])\n",
    "Pclass = pd.DataFrame(predictTest)\n",
    "Pclass.to_excel('Logistic_Classification.xlsx')"
   ]
  },
  {
   "cell_type": "code",
   "execution_count": 38,
   "metadata": {},
   "outputs": [
    {
     "name": "stdout",
     "output_type": "stream",
     "text": [
      "[[ 0.15544076  0.84455924]\n",
      " [ 0.8751197   0.1248803 ]\n",
      " [ 0.31089938  0.68910062]\n",
      " [ 0.71123538  0.28876462]\n",
      " [ 0.04298608  0.95701392]\n",
      " [ 0.03755735  0.96244265]\n",
      " [ 0.35059312  0.64940688]\n",
      " [ 0.65494405  0.34505595]\n",
      " [ 0.38174211  0.61825789]\n",
      " [ 0.14141561  0.85858439]]\n"
     ]
    }
   ],
   "source": [
    "PredictProb = CV.predict_proba(X_test)\n",
    "print(PredictProb[0:10])\n",
    "PProb = pd.DataFrame(PredictProb)\n",
    "PProb.to_excel('Logistic_Probabilities.xlsx')"
   ]
  },
  {
   "cell_type": "code",
   "execution_count": 18,
   "metadata": {},
   "outputs": [
    {
     "data": {
      "text/plain": [
       "array([0, 1], dtype=int64)"
      ]
     },
     "execution_count": 18,
     "metadata": {},
     "output_type": "execute_result"
    }
   ],
   "source": [
    "PProb.columns.values"
   ]
  },
  {
   "cell_type": "code",
   "execution_count": 20,
   "metadata": {},
   "outputs": [
    {
     "data": {
      "text/plain": [
       "0      0.844559\n",
       "1      0.124880\n",
       "2      0.689101\n",
       "3      0.288765\n",
       "4      0.957014\n",
       "5      0.962443\n",
       "6      0.649407\n",
       "7      0.345056\n",
       "8      0.618258\n",
       "9      0.858584\n",
       "10     0.196905\n",
       "11     0.343851\n",
       "12     0.379459\n",
       "13     0.077825\n",
       "14     0.628437\n",
       "15     0.620591\n",
       "16     0.420522\n",
       "17     0.186007\n",
       "18     0.492797\n",
       "19     0.347813\n",
       "20     0.336211\n",
       "21     0.208321\n",
       "22     0.178236\n",
       "23     0.164236\n",
       "24     0.388850\n",
       "25     0.308126\n",
       "26     0.441934\n",
       "27     0.407033\n",
       "28     0.697609\n",
       "29     0.607632\n",
       "         ...   \n",
       "970    0.061223\n",
       "971    0.929736\n",
       "972    0.194373\n",
       "973    0.024713\n",
       "974    0.081150\n",
       "975    0.742245\n",
       "976    0.931264\n",
       "977    0.529154\n",
       "978    0.949124\n",
       "979    0.152009\n",
       "980    0.624121\n",
       "981    0.291613\n",
       "982    0.093006\n",
       "983    0.077323\n",
       "984    0.418502\n",
       "985    0.835711\n",
       "986    0.323892\n",
       "987    0.376024\n",
       "988    0.403571\n",
       "989    0.241954\n",
       "990    0.030937\n",
       "991    0.099162\n",
       "992    0.145146\n",
       "993    0.487195\n",
       "994    0.453318\n",
       "995    0.162696\n",
       "996    0.220324\n",
       "997    0.325683\n",
       "998    0.296978\n",
       "999    0.407381\n",
       "Name: 1, Length: 1000, dtype: float64"
      ]
     },
     "execution_count": 20,
     "metadata": {},
     "output_type": "execute_result"
    }
   ],
   "source": [
    "PProb[1]"
   ]
  },
  {
   "cell_type": "code",
   "execution_count": 39,
   "metadata": {},
   "outputs": [
    {
     "name": "stdout",
     "output_type": "stream",
     "text": [
      "[[622 240]\n",
      " [ 44  94]]\n",
      "             precision    recall  f1-score   support\n",
      "\n",
      "          0       0.93      0.72      0.81       862\n",
      "          1       0.28      0.68      0.40       138\n",
      "\n",
      "avg / total       0.84      0.72      0.76      1000\n",
      "\n"
     ]
    }
   ],
   "source": [
    "# generate confusion matrix\n",
    "# import confusion matrix and classification report\n",
    "from sklearn.metrics import confusion_matrix, classification_report\n",
    "print (confusion_matrix(Y_test,predictTest))\n",
    "print (classification_report(Y_test,predictTest))"
   ]
  },
  {
   "cell_type": "code",
   "execution_count": 40,
   "metadata": {},
   "outputs": [
    {
     "name": "stdout",
     "output_type": "stream",
     "text": [
      "0.779691650694\n"
     ]
    }
   ],
   "source": [
    "# generate ROC curve\n",
    "from sklearn.metrics import roc_auc_score, roc_curve\n",
    "#AUC = roc_auc_score(Y_test, predictTest)\n",
    "AUC = roc_auc_score(Y_test, PProb[1])\n",
    "print(AUC)\n",
    "# define variables for True Positive Rate and Falst Positive Rate & threshold value\n",
    "TPR = dict()\n",
    "FPR = dict()\n",
    "THR = dict()\n",
    "#FPR, TPR, THR = roc_curve(Y_test, predictTest)\n",
    "FPR, TPR, THR = roc_curve(Y_test, PProb[1])"
   ]
  },
  {
   "cell_type": "code",
   "execution_count": 41,
   "metadata": {},
   "outputs": [
    {
     "data": {
      "image/png": "[encoded data removed]",
      "text/plain": [
       "<matplotlib.figure.Figure at 0x14e94457f28>"
      ]
     },
     "metadata": {},
     "output_type": "display_data"
    }
   ],
   "source": [
    "import matplotlib.pyplot as plt\n",
    "plt.figure()\n",
    "# plot the FPR as X-axis and TPR as Y-axis\n",
    "plt.plot(FPR, TPR)\n",
    "# plot the minimum line \n",
    "plt.plot([0,1], [0,1], color='navy', linestyle = '--')\n",
    "# set X and Y limits\n",
    "plt.xlim([0.0, 1.05])\n",
    "plt.ylim([0.0, 1.05])\n",
    "# mention lables for X and Y\n",
    "plt.xlabel('False Positive Rate')\n",
    "plt.ylabel('True Positive Rate')\n",
    "plt.title('ROC')\n",
    "plt.show()"
   ]
  },
  {
   "cell_type": "code",
   "execution_count": null,
   "metadata": {
    "collapsed": true
   },
   "outputs": [],
   "source": []
  }
 ],
 "metadata": {
  "kernelspec": {
   "display_name": "Python 3",
   "language": "python",
   "name": "python3"
  },
  "language_info": {
   "codemirror_mode": {
    "name": "ipython",
    "version": 3
   },
   "file_extension": ".py",
   "mimetype": "text/x-python",
   "name": "python",
   "nbconvert_exporter": "python",
   "pygments_lexer": "ipython3",
   "version": "3.7.1"
  }
 },
 "nbformat": 4,
 "nbformat_minor": 2
}
