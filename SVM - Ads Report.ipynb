{
 "cells": [
  {
   "cell_type": "code",
   "execution_count": 4,
   "metadata": {},
   "outputs": [],
   "source": [
    "import numpy as np\n",
    "import matplotlib.pyplot as plt\n",
    "import pandas as pd\n",
    "#import os\n",
    "#os.chdir(\"C:/Users/admin/Python_Prac/Ads_Report.csv\")"
   ]
  },
  {
   "cell_type": "code",
   "execution_count": 3,
   "metadata": {},
   "outputs": [
    {
     "data": {
      "text/plain": [
       "'C:\\\\Users\\\\admin\\\\Python_Prac'"
      ]
     },
     "execution_count": 3,
     "metadata": {},
     "output_type": "execute_result"
    }
   ],
   "source": [
    "pwd"
   ]
  },
  {
   "cell_type": "code",
   "execution_count": 15,
   "metadata": {},
   "outputs": [
    {
     "name": "stdout",
     "output_type": "stream",
     "text": [
      "    User ID  Gender  Age  EstimatedEarning  Purchased\n",
      "0  15624510    Male   19             19000          0\n",
      "1  15810944    Male   35             20000          0\n",
      "2  15668575  Female   26             43000          0\n",
      "3  15603246  Female   27             57000          0\n",
      "4  15804002    Male   19             76000          0\n"
     ]
    }
   ],
   "source": [
    "# Importing the dataset\n",
    "dataset = pd.read_csv('Ads_Report.csv')\n",
    "print(dataset.head())\n",
    "X =dataset.iloc[:, [2, 3]]\n",
    "y =dataset.iloc[:, 4]"
   ]
  },
  {
   "cell_type": "code",
   "execution_count": 16,
   "metadata": {},
   "outputs": [
    {
     "name": "stdout",
     "output_type": "stream",
     "text": [
      "   Age  EstimatedEarning\n",
      "0   19             19000\n",
      "1   35             20000\n",
      "2   26             43000\n",
      "3   27             57000\n",
      "4   19             76000\n"
     ]
    }
   ],
   "source": [
    "type(X)\n",
    "print(X.head())"
   ]
  },
  {
   "cell_type": "code",
   "execution_count": 17,
   "metadata": {},
   "outputs": [
    {
     "data": {
      "text/plain": [
       "(400, 5)"
      ]
     },
     "execution_count": 17,
     "metadata": {},
     "output_type": "execute_result"
    }
   ],
   "source": [
    "dataset.shape"
   ]
  },
  {
   "cell_type": "code",
   "execution_count": 18,
   "metadata": {},
   "outputs": [],
   "source": [
    "# Splitting the dataset into the Training set and Test set\n",
    "from sklearn.model_selection import train_test_split\n",
    "X_train, X_test, y_train, y_test = train_test_split(X, y, test_size = 0.25, random_state = 0)"
   ]
  },
  {
   "cell_type": "code",
   "execution_count": 19,
   "metadata": {},
   "outputs": [
    {
     "name": "stdout",
     "output_type": "stream",
     "text": [
      "(300, 2)\n",
      "(300,)\n"
     ]
    }
   ],
   "source": [
    "print(X_train.shape)\n",
    "print(y_train.shape)"
   ]
  },
  {
   "cell_type": "code",
   "execution_count": 20,
   "metadata": {},
   "outputs": [
    {
     "name": "stderr",
     "output_type": "stream",
     "text": [
      "C:\\ProgramData\\Anaconda3\\lib\\site-packages\\sklearn\\preprocessing\\data.py:625: DataConversionWarning: Data with input dtype int64 were all converted to float64 by StandardScaler.\n",
      "  return self.partial_fit(X, y)\n",
      "C:\\ProgramData\\Anaconda3\\lib\\site-packages\\sklearn\\base.py:462: DataConversionWarning: Data with input dtype int64 were all converted to float64 by StandardScaler.\n",
      "  return self.fit(X, **fit_params).transform(X)\n",
      "C:\\ProgramData\\Anaconda3\\lib\\site-packages\\ipykernel_launcher.py:5: DataConversionWarning: Data with input dtype int64 were all converted to float64 by StandardScaler.\n",
      "  \"\"\"\n"
     ]
    }
   ],
   "source": [
    "# Feature Scaling\n",
    "from sklearn.preprocessing import StandardScaler\n",
    "sc = StandardScaler()\n",
    "X_train = sc.fit_transform(X_train)\n",
    "X_test = sc.transform(X_test)"
   ]
  },
  {
   "cell_type": "code",
   "execution_count": 21,
   "metadata": {},
   "outputs": [
    {
     "name": "stdout",
     "output_type": "stream",
     "text": [
      "[[2.05117884 1.11453493]]\n",
      "[-0.42085143]\n"
     ]
    },
    {
     "name": "stderr",
     "output_type": "stream",
     "text": [
      "C:\\ProgramData\\Anaconda3\\lib\\site-packages\\sklearn\\linear_model\\logistic.py:433: FutureWarning: Default solver will be changed to 'lbfgs' in 0.22. Specify a solver to silence this warning.\n",
      "  FutureWarning)\n"
     ]
    }
   ],
   "source": [
    "# apply logistic regression\n",
    "from sklearn.linear_model import LogisticRegression\n",
    "LR = LogisticRegression(penalty='l2',C=0.5,class_weight='balanced')\n",
    "LR.fit(X_train, y_train)\n",
    "print(LR.coef_)\n",
    "print(LR.intercept_)"
   ]
  },
  {
   "cell_type": "code",
   "execution_count": 22,
   "metadata": {},
   "outputs": [
    {
     "name": "stderr",
     "output_type": "stream",
     "text": [
      "'c' argument looks like a single numeric RGB or RGBA sequence, which should be avoided as value-mapping will have precedence in case its length matches with 'x' & 'y'.  Please use a 2-D array with a single row if you really want to specify the same RGB or RGBA value for all points.\n",
      "'c' argument looks like a single numeric RGB or RGBA sequence, which should be avoided as value-mapping will have precedence in case its length matches with 'x' & 'y'.  Please use a 2-D array with a single row if you really want to specify the same RGB or RGBA value for all points.\n"
     ]
    },
    {
     "data": {
      "image/png": "[encoded data removed]",
      "text/plain": [
       "<Figure size 432x288 with 1 Axes>"
      ]
     },
     "metadata": {
      "needs_background": "light"
     },
     "output_type": "display_data"
    }
   ],
   "source": [
    "# Visualising the Training set results\n",
    "from matplotlib.colors import ListedColormap\n",
    "X1, X2 = np.meshgrid(np.arange(start = X_train[:, 0].min() - 1, stop = X_train[:, 0].max() + 1, step = 0.01),\n",
    "                     np.arange(start = X_train[:, 1].min() - 1, stop = X_train[:, 1].max() + 1, step = 0.01))\n",
    "\n",
    "plt.contourf(X1, X2, LR.predict(np.array([X1.ravel(), X2.ravel()]).T).reshape(X1.shape),\n",
    "             alpha = 0.25, cmap = ListedColormap(('red', 'green')))\n",
    "plt.xlim(X1.min(), X1.max())\n",
    "plt.ylim(X2.min(), X2.max())\n",
    "for i,j in enumerate(np.unique(y_train)):\n",
    "    plt.scatter(X_train[y_train == j, 0], X_train[y_train == j, 1],\n",
    "                c = ListedColormap(('red', 'green'))(i), label = j)\n",
    "plt.title('Logistic Regression (Training set)')\n",
    "plt.xlabel('Age')\n",
    "plt.ylabel('Estimated Earning')\n",
    "plt.legend()\n",
    "plt.show()"
   ]
  },
  {
   "cell_type": "code",
   "execution_count": 56,
   "metadata": {},
   "outputs": [
    {
     "data": {
      "text/plain": [
       "SVC(C=5, cache_size=200, class_weight=None, coef0=0.0,\n",
       "  decision_function_shape='ovr', degree=5, gamma='auto_deprecated',\n",
       "  kernel='rbf', max_iter=-1, probability=False, random_state=0,\n",
       "  shrinking=True, tol=0.001, verbose=False)"
      ]
     },
     "execution_count": 56,
     "metadata": {},
     "output_type": "execute_result"
    }
   ],
   "source": [
    "# Fitting Kernel SVM to the Training set\n",
    "from sklearn.svm import SVC\n",
    "SVM = SVC(kernel = 'rbf', degree = 5, random_state = 0,C=5)\n",
    "SVM.fit(X_train, y_train)"
   ]
  },
  {
   "cell_type": "code",
   "execution_count": 25,
   "metadata": {},
   "outputs": [
    {
     "data": {
      "text/plain": [
       "SVC(C=100, cache_size=200, class_weight=None, coef0=0.0,\n",
       "  decision_function_shape='ovr', degree=5, gamma='auto_deprecated',\n",
       "  kernel='linear', max_iter=-1, probability=False, random_state=0,\n",
       "  shrinking=True, tol=0.001, verbose=False)"
      ]
     },
     "execution_count": 25,
     "metadata": {},
     "output_type": "execute_result"
    }
   ],
   "source": [
    "# Fitting Kernel SVM to the Training set\n",
    "from sklearn.svm import SVC\n",
    "SVM = SVC(kernel = 'linear', degree = 5, random_state = 0,C=100)\n",
    "SVM.fit(X_train, y_train)"
   ]
  },
  {
   "cell_type": "code",
   "execution_count": 46,
   "metadata": {},
   "outputs": [
    {
     "data": {
      "text/plain": [
       "SVC(C=100, cache_size=200, class_weight=None, coef0=0.0,\n",
       "  decision_function_shape='ovr', degree=2, gamma='auto_deprecated',\n",
       "  kernel='poly', max_iter=-1, probability=False, random_state=0,\n",
       "  shrinking=True, tol=0.001, verbose=False)"
      ]
     },
     "execution_count": 46,
     "metadata": {},
     "output_type": "execute_result"
    }
   ],
   "source": [
    "# Fitting Kernel SVM to the Training set\n",
    "from sklearn.svm import SVC\n",
    "SVM = SVC(kernel = 'poly', degree = 2, random_state = 0,C=100)\n",
    "SVM.fit(X_train, y_train)"
   ]
  },
  {
   "cell_type": "code",
   "execution_count": 57,
   "metadata": {},
   "outputs": [
    {
     "data": {
      "text/plain": [
       "array([[ 0.58164944, -0.88670699],\n",
       "       [ 1.07681071, -0.13288524],\n",
       "       [-0.70576986,  0.56295021],\n",
       "       [ 0.77971394,  0.35999821],\n",
       "       [-0.01254409,  1.22979253],\n",
       "       [ 0.38358493, -0.48080297],\n",
       "       [ 0.77971394,  0.76590222],\n",
       "       [ 0.38358493,  0.30201192],\n",
       "       [-0.50770535,  1.25878567],\n",
       "       [ 0.28455268,  0.30201192],\n",
       "       [ 0.18552042,  0.24402563],\n",
       "       [ 0.77971394, -0.30684411],\n",
       "       [ 2.06713324, -0.79972756],\n",
       "       [ 0.77971394,  0.12805305],\n",
       "       [ 0.97777845,  2.07059371],\n",
       "       [-0.30964085,  0.53395707],\n",
       "       [ 1.17584296, -0.74174127],\n",
       "       [-0.01254409,  0.30201192],\n",
       "       [ 0.38358493,  0.1570462 ],\n",
       "       [ 0.8787462 , -0.65476184],\n",
       "       [-0.11157634,  0.30201192],\n",
       "       [ 1.27487521,  1.8676417 ],\n",
       "       [ 0.68068169,  0.27301877],\n",
       "       [ 0.18552042,  0.1570462 ],\n",
       "       [ 0.48261718,  1.83864855],\n",
       "       [ 0.77971394, -1.37959044],\n",
       "       [-1.89415691, -1.46656987],\n",
       "       [ 1.07681071,  0.12805305],\n",
       "       [ 1.37390747,  1.28777882],\n",
       "       [-0.80480212,  0.56295021],\n",
       "       [-0.80480212,  1.3457651 ],\n",
       "       [-0.30964085,  1.11381995],\n",
       "       [ 0.28455268, -0.71274813],\n",
       "       [ 0.28455268,  0.27301877],\n",
       "       [ 0.28455268, -1.14764529],\n",
       "       [ 0.08648817,  0.27301877],\n",
       "       [-1.20093113,  1.40375139],\n",
       "       [ 0.38358493,  0.09905991],\n",
       "       [ 0.8787462 , -0.59677555],\n",
       "       [ 0.8787462 , -0.53878926],\n",
       "       [ 0.97777845, -0.8287207 ],\n",
       "       [ 0.97777845,  1.8676417 ],\n",
       "       [ 2.1661655 , -0.79972756],\n",
       "       [ 0.38358493,  2.30253886],\n",
       "       [ 0.08648817,  0.76590222],\n",
       "       [ 0.68068169, -1.26361786],\n",
       "       [ 0.18552042,  0.04107362],\n",
       "       [ 0.77971394,  0.27301877],\n",
       "       [-0.11157634,  0.24402563],\n",
       "       [ 0.28455268,  0.50496393],\n",
       "       [-1.00286662,  1.54871711],\n",
       "       [-0.70576986,  1.40375139],\n",
       "       [-0.11157634,  0.01208048],\n",
       "       [ 0.97777845,  1.98361427],\n",
       "       [ 1.37390747,  1.98361427],\n",
       "       [-0.80480212,  1.08482681],\n",
       "       [ 0.38358493,  0.59194336],\n",
       "       [-0.30964085,  0.6209365 ],\n",
       "       [ 2.06713324,  2.12857999],\n",
       "       [ 0.68068169, -0.71274813],\n",
       "       [-0.30964085,  0.79489537],\n",
       "       [ 0.77971394,  0.53395707],\n",
       "       [-0.60673761,  0.8818748 ],\n",
       "       [ 0.77971394, -1.089659  ],\n",
       "       [-0.4086731 ,  1.22979253],\n",
       "       [ 0.08648817,  0.1570462 ],\n",
       "       [ 0.97777845,  0.12805305],\n",
       "       [ 0.68068169, -1.37959044],\n",
       "       [ 1.07681071,  0.56295021],\n",
       "       [ 2.1661655 , -1.03167271],\n",
       "       [ 0.08648817,  1.05583366],\n",
       "       [-1.10189888,  1.95462113],\n",
       "       [ 0.8787462 , -0.5677824 ],\n",
       "       [-0.11157634,  0.67892279],\n",
       "       [ 2.1661655 , -0.68375498],\n",
       "       [ 1.17584296,  0.53395707],\n",
       "       [ 1.07681071,  0.53395707]])"
      ]
     },
     "execution_count": 57,
     "metadata": {},
     "output_type": "execute_result"
    }
   ],
   "source": [
    "SVM.support_vectors_"
   ]
  },
  {
   "cell_type": "code",
   "execution_count": 58,
   "metadata": {},
   "outputs": [],
   "source": [
    "# predict on test\n",
    "y_pred = SVM.predict(X_test)"
   ]
  },
  {
   "cell_type": "code",
   "execution_count": 59,
   "metadata": {},
   "outputs": [
    {
     "name": "stdout",
     "output_type": "stream",
     "text": [
      "[[64  4]\n",
      " [ 3 29]]\n"
     ]
    }
   ],
   "source": [
    "# Making the Confusion Matrix\n",
    "from sklearn.metrics import confusion_matrix\n",
    "cm = confusion_matrix(y_test, y_pred)\n",
    "print(cm)"
   ]
  },
  {
   "cell_type": "code",
   "execution_count": 60,
   "metadata": {},
   "outputs": [
    {
     "name": "stderr",
     "output_type": "stream",
     "text": [
      "'c' argument looks like a single numeric RGB or RGBA sequence, which should be avoided as value-mapping will have precedence in case its length matches with 'x' & 'y'.  Please use a 2-D array with a single row if you really want to specify the same RGB or RGBA value for all points.\n",
      "'c' argument looks like a single numeric RGB or RGBA sequence, which should be avoided as value-mapping will have precedence in case its length matches with 'x' & 'y'.  Please use a 2-D array with a single row if you really want to specify the same RGB or RGBA value for all points.\n"
     ]
    },
    {
     "data": {
      "image/png": "[encoded data removed]",
      "text/plain": [
       "<Figure size 432x288 with 1 Axes>"
      ]
     },
     "metadata": {
      "needs_background": "light"
     },
     "output_type": "display_data"
    }
   ],
   "source": [
    "# Visualising the Training set results\n",
    "from matplotlib.colors import ListedColormap\n",
    "X1, X2 = np.meshgrid(np.arange(start = X_train[:, 0].min() - 1, stop = X_train[:, 0].max() + 1, step = 0.01),\n",
    "                     np.arange(start = X_train[:, 1].min() - 1, stop = X_train[:, 1].max() + 1, step = 0.01))\n",
    "\n",
    "plt.contourf(X1, X2, SVM.predict(np.array([X1.ravel(), X2.ravel()]).T).reshape(X1.shape),\n",
    "             alpha = 0.25, cmap = ListedColormap(('red', 'green')))\n",
    "plt.xlim(X1.min(), X1.max())\n",
    "plt.ylim(X2.min(), X2.max())\n",
    "for i, j in enumerate(np.unique(y_train)):\n",
    "    plt.scatter(X_train[y_train == j, 0], X_train[y_train == j, 1],\n",
    "                c = ListedColormap(('red', 'green'))(i), label = j)\n",
    "plt.title('Kernel SVM (Training set)')\n",
    "plt.xlabel('Age')\n",
    "plt.ylabel('Estimated Earning')\n",
    "plt.legend()\n",
    "plt.show()"
   ]
  },
  {
   "cell_type": "code",
   "execution_count": 26,
   "metadata": {},
   "outputs": [
    {
     "name": "stdout",
     "output_type": "stream",
     "text": [
      "-2.99318915946\n",
      "3.16616549592\n"
     ]
    }
   ],
   "source": [
    "print(X_set[:, 0].min() - 1)\n",
    "print(X_set[:, 0].max() + 1)"
   ]
  },
  {
   "cell_type": "code",
   "execution_count": 30,
   "metadata": {},
   "outputs": [
    {
     "data": {
      "text/plain": [
       "615.0"
      ]
     },
     "execution_count": 30,
     "metadata": {},
     "output_type": "execute_result"
    }
   ],
   "source": [
    "(2.99+3.16)/0.01"
   ]
  },
  {
   "cell_type": "code",
   "execution_count": 12,
   "metadata": {},
   "outputs": [
    {
     "name": "stdout",
     "output_type": "stream",
     "text": [
      "-2.5825424477554764\n",
      "3.3315320031817324\n"
     ]
    }
   ],
   "source": [
    "print(X_set[:, 1].min() - 1)\n",
    "print(X_set[:, 1].max() + 1)"
   ]
  },
  {
   "cell_type": "code",
   "execution_count": 33,
   "metadata": {},
   "outputs": [
    {
     "data": {
      "text/plain": [
       "591.0"
      ]
     },
     "execution_count": 33,
     "metadata": {},
     "output_type": "execute_result"
    }
   ],
   "source": [
    "(2.58+3.33)/0.01"
   ]
  },
  {
   "cell_type": "code",
   "execution_count": 31,
   "metadata": {},
   "outputs": [
    {
     "data": {
      "text/plain": [
       "array([ -2.58254245e+00,  -2.57254245e+00,  -2.56254245e+00,\n",
       "        -2.55254245e+00,  -2.54254245e+00,  -2.53254245e+00,\n",
       "        -2.52254245e+00,  -2.51254245e+00,  -2.50254245e+00,\n",
       "        -2.49254245e+00,  -2.48254245e+00,  -2.47254245e+00,\n",
       "        -2.46254245e+00,  -2.45254245e+00,  -2.44254245e+00,\n",
       "        -2.43254245e+00,  -2.42254245e+00,  -2.41254245e+00,\n",
       "        -2.40254245e+00,  -2.39254245e+00,  -2.38254245e+00,\n",
       "        -2.37254245e+00,  -2.36254245e+00,  -2.35254245e+00,\n",
       "        -2.34254245e+00,  -2.33254245e+00,  -2.32254245e+00,\n",
       "        -2.31254245e+00,  -2.30254245e+00,  -2.29254245e+00,\n",
       "        -2.28254245e+00,  -2.27254245e+00,  -2.26254245e+00,\n",
       "        -2.25254245e+00,  -2.24254245e+00,  -2.23254245e+00,\n",
       "        -2.22254245e+00,  -2.21254245e+00,  -2.20254245e+00,\n",
       "        -2.19254245e+00,  -2.18254245e+00,  -2.17254245e+00,\n",
       "        -2.16254245e+00,  -2.15254245e+00,  -2.14254245e+00,\n",
       "        -2.13254245e+00,  -2.12254245e+00,  -2.11254245e+00,\n",
       "        -2.10254245e+00,  -2.09254245e+00,  -2.08254245e+00,\n",
       "        -2.07254245e+00,  -2.06254245e+00,  -2.05254245e+00,\n",
       "        -2.04254245e+00,  -2.03254245e+00,  -2.02254245e+00,\n",
       "        -2.01254245e+00,  -2.00254245e+00,  -1.99254245e+00,\n",
       "        -1.98254245e+00,  -1.97254245e+00,  -1.96254245e+00,\n",
       "        -1.95254245e+00,  -1.94254245e+00,  -1.93254245e+00,\n",
       "        -1.92254245e+00,  -1.91254245e+00,  -1.90254245e+00,\n",
       "        -1.89254245e+00,  -1.88254245e+00,  -1.87254245e+00,\n",
       "        -1.86254245e+00,  -1.85254245e+00,  -1.84254245e+00,\n",
       "        -1.83254245e+00,  -1.82254245e+00,  -1.81254245e+00,\n",
       "        -1.80254245e+00,  -1.79254245e+00,  -1.78254245e+00,\n",
       "        -1.77254245e+00,  -1.76254245e+00,  -1.75254245e+00,\n",
       "        -1.74254245e+00,  -1.73254245e+00,  -1.72254245e+00,\n",
       "        -1.71254245e+00,  -1.70254245e+00,  -1.69254245e+00,\n",
       "        -1.68254245e+00,  -1.67254245e+00,  -1.66254245e+00,\n",
       "        -1.65254245e+00,  -1.64254245e+00,  -1.63254245e+00,\n",
       "        -1.62254245e+00,  -1.61254245e+00,  -1.60254245e+00,\n",
       "        -1.59254245e+00,  -1.58254245e+00,  -1.57254245e+00,\n",
       "        -1.56254245e+00,  -1.55254245e+00,  -1.54254245e+00,\n",
       "        -1.53254245e+00,  -1.52254245e+00,  -1.51254245e+00,\n",
       "        -1.50254245e+00,  -1.49254245e+00,  -1.48254245e+00,\n",
       "        -1.47254245e+00,  -1.46254245e+00,  -1.45254245e+00,\n",
       "        -1.44254245e+00,  -1.43254245e+00,  -1.42254245e+00,\n",
       "        -1.41254245e+00,  -1.40254245e+00,  -1.39254245e+00,\n",
       "        -1.38254245e+00,  -1.37254245e+00,  -1.36254245e+00,\n",
       "        -1.35254245e+00,  -1.34254245e+00,  -1.33254245e+00,\n",
       "        -1.32254245e+00,  -1.31254245e+00,  -1.30254245e+00,\n",
       "        -1.29254245e+00,  -1.28254245e+00,  -1.27254245e+00,\n",
       "        -1.26254245e+00,  -1.25254245e+00,  -1.24254245e+00,\n",
       "        -1.23254245e+00,  -1.22254245e+00,  -1.21254245e+00,\n",
       "        -1.20254245e+00,  -1.19254245e+00,  -1.18254245e+00,\n",
       "        -1.17254245e+00,  -1.16254245e+00,  -1.15254245e+00,\n",
       "        -1.14254245e+00,  -1.13254245e+00,  -1.12254245e+00,\n",
       "        -1.11254245e+00,  -1.10254245e+00,  -1.09254245e+00,\n",
       "        -1.08254245e+00,  -1.07254245e+00,  -1.06254245e+00,\n",
       "        -1.05254245e+00,  -1.04254245e+00,  -1.03254245e+00,\n",
       "        -1.02254245e+00,  -1.01254245e+00,  -1.00254245e+00,\n",
       "        -9.92542448e-01,  -9.82542448e-01,  -9.72542448e-01,\n",
       "        -9.62542448e-01,  -9.52542448e-01,  -9.42542448e-01,\n",
       "        -9.32542448e-01,  -9.22542448e-01,  -9.12542448e-01,\n",
       "        -9.02542448e-01,  -8.92542448e-01,  -8.82542448e-01,\n",
       "        -8.72542448e-01,  -8.62542448e-01,  -8.52542448e-01,\n",
       "        -8.42542448e-01,  -8.32542448e-01,  -8.22542448e-01,\n",
       "        -8.12542448e-01,  -8.02542448e-01,  -7.92542448e-01,\n",
       "        -7.82542448e-01,  -7.72542448e-01,  -7.62542448e-01,\n",
       "        -7.52542448e-01,  -7.42542448e-01,  -7.32542448e-01,\n",
       "        -7.22542448e-01,  -7.12542448e-01,  -7.02542448e-01,\n",
       "        -6.92542448e-01,  -6.82542448e-01,  -6.72542448e-01,\n",
       "        -6.62542448e-01,  -6.52542448e-01,  -6.42542448e-01,\n",
       "        -6.32542448e-01,  -6.22542448e-01,  -6.12542448e-01,\n",
       "        -6.02542448e-01,  -5.92542448e-01,  -5.82542448e-01,\n",
       "        -5.72542448e-01,  -5.62542448e-01,  -5.52542448e-01,\n",
       "        -5.42542448e-01,  -5.32542448e-01,  -5.22542448e-01,\n",
       "        -5.12542448e-01,  -5.02542448e-01,  -4.92542448e-01,\n",
       "        -4.82542448e-01,  -4.72542448e-01,  -4.62542448e-01,\n",
       "        -4.52542448e-01,  -4.42542448e-01,  -4.32542448e-01,\n",
       "        -4.22542448e-01,  -4.12542448e-01,  -4.02542448e-01,\n",
       "        -3.92542448e-01,  -3.82542448e-01,  -3.72542448e-01,\n",
       "        -3.62542448e-01,  -3.52542448e-01,  -3.42542448e-01,\n",
       "        -3.32542448e-01,  -3.22542448e-01,  -3.12542448e-01,\n",
       "        -3.02542448e-01,  -2.92542448e-01,  -2.82542448e-01,\n",
       "        -2.72542448e-01,  -2.62542448e-01,  -2.52542448e-01,\n",
       "        -2.42542448e-01,  -2.32542448e-01,  -2.22542448e-01,\n",
       "        -2.12542448e-01,  -2.02542448e-01,  -1.92542448e-01,\n",
       "        -1.82542448e-01,  -1.72542448e-01,  -1.62542448e-01,\n",
       "        -1.52542448e-01,  -1.42542448e-01,  -1.32542448e-01,\n",
       "        -1.22542448e-01,  -1.12542448e-01,  -1.02542448e-01,\n",
       "        -9.25424478e-02,  -8.25424478e-02,  -7.25424478e-02,\n",
       "        -6.25424478e-02,  -5.25424478e-02,  -4.25424478e-02,\n",
       "        -3.25424478e-02,  -2.25424478e-02,  -1.25424478e-02,\n",
       "        -2.54244776e-03,   7.45755224e-03,   1.74575522e-02,\n",
       "         2.74575522e-02,   3.74575522e-02,   4.74575522e-02,\n",
       "         5.74575522e-02,   6.74575522e-02,   7.74575522e-02,\n",
       "         8.74575522e-02,   9.74575522e-02,   1.07457552e-01,\n",
       "         1.17457552e-01,   1.27457552e-01,   1.37457552e-01,\n",
       "         1.47457552e-01,   1.57457552e-01,   1.67457552e-01,\n",
       "         1.77457552e-01,   1.87457552e-01,   1.97457552e-01,\n",
       "         2.07457552e-01,   2.17457552e-01,   2.27457552e-01,\n",
       "         2.37457552e-01,   2.47457552e-01,   2.57457552e-01,\n",
       "         2.67457552e-01,   2.77457552e-01,   2.87457552e-01,\n",
       "         2.97457552e-01,   3.07457552e-01,   3.17457552e-01,\n",
       "         3.27457552e-01,   3.37457552e-01,   3.47457552e-01,\n",
       "         3.57457552e-01,   3.67457552e-01,   3.77457552e-01,\n",
       "         3.87457552e-01,   3.97457552e-01,   4.07457552e-01,\n",
       "         4.17457552e-01,   4.27457552e-01,   4.37457552e-01,\n",
       "         4.47457552e-01,   4.57457552e-01,   4.67457552e-01,\n",
       "         4.77457552e-01,   4.87457552e-01,   4.97457552e-01,\n",
       "         5.07457552e-01,   5.17457552e-01,   5.27457552e-01,\n",
       "         5.37457552e-01,   5.47457552e-01,   5.57457552e-01,\n",
       "         5.67457552e-01,   5.77457552e-01,   5.87457552e-01,\n",
       "         5.97457552e-01,   6.07457552e-01,   6.17457552e-01,\n",
       "         6.27457552e-01,   6.37457552e-01,   6.47457552e-01,\n",
       "         6.57457552e-01,   6.67457552e-01,   6.77457552e-01,\n",
       "         6.87457552e-01,   6.97457552e-01,   7.07457552e-01,\n",
       "         7.17457552e-01,   7.27457552e-01,   7.37457552e-01,\n",
       "         7.47457552e-01,   7.57457552e-01,   7.67457552e-01,\n",
       "         7.77457552e-01,   7.87457552e-01,   7.97457552e-01,\n",
       "         8.07457552e-01,   8.17457552e-01,   8.27457552e-01,\n",
       "         8.37457552e-01,   8.47457552e-01,   8.57457552e-01,\n",
       "         8.67457552e-01,   8.77457552e-01,   8.87457552e-01,\n",
       "         8.97457552e-01,   9.07457552e-01,   9.17457552e-01,\n",
       "         9.27457552e-01,   9.37457552e-01,   9.47457552e-01,\n",
       "         9.57457552e-01,   9.67457552e-01,   9.77457552e-01,\n",
       "         9.87457552e-01,   9.97457552e-01,   1.00745755e+00,\n",
       "         1.01745755e+00,   1.02745755e+00,   1.03745755e+00,\n",
       "         1.04745755e+00,   1.05745755e+00,   1.06745755e+00,\n",
       "         1.07745755e+00,   1.08745755e+00,   1.09745755e+00,\n",
       "         1.10745755e+00,   1.11745755e+00,   1.12745755e+00,\n",
       "         1.13745755e+00,   1.14745755e+00,   1.15745755e+00,\n",
       "         1.16745755e+00,   1.17745755e+00,   1.18745755e+00,\n",
       "         1.19745755e+00,   1.20745755e+00,   1.21745755e+00,\n",
       "         1.22745755e+00,   1.23745755e+00,   1.24745755e+00,\n",
       "         1.25745755e+00,   1.26745755e+00,   1.27745755e+00,\n",
       "         1.28745755e+00,   1.29745755e+00,   1.30745755e+00,\n",
       "         1.31745755e+00,   1.32745755e+00,   1.33745755e+00,\n",
       "         1.34745755e+00,   1.35745755e+00,   1.36745755e+00,\n",
       "         1.37745755e+00,   1.38745755e+00,   1.39745755e+00,\n",
       "         1.40745755e+00,   1.41745755e+00,   1.42745755e+00,\n",
       "         1.43745755e+00,   1.44745755e+00,   1.45745755e+00,\n",
       "         1.46745755e+00,   1.47745755e+00,   1.48745755e+00,\n",
       "         1.49745755e+00,   1.50745755e+00,   1.51745755e+00,\n",
       "         1.52745755e+00,   1.53745755e+00,   1.54745755e+00,\n",
       "         1.55745755e+00,   1.56745755e+00,   1.57745755e+00,\n",
       "         1.58745755e+00,   1.59745755e+00,   1.60745755e+00,\n",
       "         1.61745755e+00,   1.62745755e+00,   1.63745755e+00,\n",
       "         1.64745755e+00,   1.65745755e+00,   1.66745755e+00,\n",
       "         1.67745755e+00,   1.68745755e+00,   1.69745755e+00,\n",
       "         1.70745755e+00,   1.71745755e+00,   1.72745755e+00,\n",
       "         1.73745755e+00,   1.74745755e+00,   1.75745755e+00,\n",
       "         1.76745755e+00,   1.77745755e+00,   1.78745755e+00,\n",
       "         1.79745755e+00,   1.80745755e+00,   1.81745755e+00,\n",
       "         1.82745755e+00,   1.83745755e+00,   1.84745755e+00,\n",
       "         1.85745755e+00,   1.86745755e+00,   1.87745755e+00,\n",
       "         1.88745755e+00,   1.89745755e+00,   1.90745755e+00,\n",
       "         1.91745755e+00,   1.92745755e+00,   1.93745755e+00,\n",
       "         1.94745755e+00,   1.95745755e+00,   1.96745755e+00,\n",
       "         1.97745755e+00,   1.98745755e+00,   1.99745755e+00,\n",
       "         2.00745755e+00,   2.01745755e+00,   2.02745755e+00,\n",
       "         2.03745755e+00,   2.04745755e+00,   2.05745755e+00,\n",
       "         2.06745755e+00,   2.07745755e+00,   2.08745755e+00,\n",
       "         2.09745755e+00,   2.10745755e+00,   2.11745755e+00,\n",
       "         2.12745755e+00,   2.13745755e+00,   2.14745755e+00,\n",
       "         2.15745755e+00,   2.16745755e+00,   2.17745755e+00,\n",
       "         2.18745755e+00,   2.19745755e+00,   2.20745755e+00,\n",
       "         2.21745755e+00,   2.22745755e+00,   2.23745755e+00,\n",
       "         2.24745755e+00,   2.25745755e+00,   2.26745755e+00,\n",
       "         2.27745755e+00,   2.28745755e+00,   2.29745755e+00,\n",
       "         2.30745755e+00,   2.31745755e+00,   2.32745755e+00,\n",
       "         2.33745755e+00,   2.34745755e+00,   2.35745755e+00,\n",
       "         2.36745755e+00,   2.37745755e+00,   2.38745755e+00,\n",
       "         2.39745755e+00,   2.40745755e+00,   2.41745755e+00,\n",
       "         2.42745755e+00,   2.43745755e+00,   2.44745755e+00,\n",
       "         2.45745755e+00,   2.46745755e+00,   2.47745755e+00,\n",
       "         2.48745755e+00,   2.49745755e+00,   2.50745755e+00,\n",
       "         2.51745755e+00,   2.52745755e+00,   2.53745755e+00,\n",
       "         2.54745755e+00,   2.55745755e+00,   2.56745755e+00,\n",
       "         2.57745755e+00,   2.58745755e+00,   2.59745755e+00,\n",
       "         2.60745755e+00,   2.61745755e+00,   2.62745755e+00,\n",
       "         2.63745755e+00,   2.64745755e+00,   2.65745755e+00,\n",
       "         2.66745755e+00,   2.67745755e+00,   2.68745755e+00,\n",
       "         2.69745755e+00,   2.70745755e+00,   2.71745755e+00,\n",
       "         2.72745755e+00,   2.73745755e+00,   2.74745755e+00,\n",
       "         2.75745755e+00,   2.76745755e+00,   2.77745755e+00,\n",
       "         2.78745755e+00,   2.79745755e+00,   2.80745755e+00,\n",
       "         2.81745755e+00,   2.82745755e+00,   2.83745755e+00,\n",
       "         2.84745755e+00,   2.85745755e+00,   2.86745755e+00,\n",
       "         2.87745755e+00,   2.88745755e+00,   2.89745755e+00,\n",
       "         2.90745755e+00,   2.91745755e+00,   2.92745755e+00,\n",
       "         2.93745755e+00,   2.94745755e+00,   2.95745755e+00,\n",
       "         2.96745755e+00,   2.97745755e+00,   2.98745755e+00,\n",
       "         2.99745755e+00,   3.00745755e+00,   3.01745755e+00,\n",
       "         3.02745755e+00,   3.03745755e+00,   3.04745755e+00,\n",
       "         3.05745755e+00,   3.06745755e+00,   3.07745755e+00,\n",
       "         3.08745755e+00,   3.09745755e+00,   3.10745755e+00,\n",
       "         3.11745755e+00,   3.12745755e+00,   3.13745755e+00,\n",
       "         3.14745755e+00,   3.15745755e+00,   3.16745755e+00,\n",
       "         3.17745755e+00,   3.18745755e+00,   3.19745755e+00,\n",
       "         3.20745755e+00,   3.21745755e+00,   3.22745755e+00,\n",
       "         3.23745755e+00,   3.24745755e+00,   3.25745755e+00,\n",
       "         3.26745755e+00,   3.27745755e+00,   3.28745755e+00,\n",
       "         3.29745755e+00,   3.30745755e+00,   3.31745755e+00,\n",
       "         3.32745755e+00])"
      ]
     },
     "execution_count": 31,
     "metadata": {},
     "output_type": "execute_result"
    }
   ],
   "source": [
    "np.arange(start = X_set[:, 1].min() - 1, stop = X_set[:, 1].max() + 1, step = 0.01)"
   ]
  },
  {
   "cell_type": "code",
   "execution_count": 16,
   "metadata": {},
   "outputs": [
    {
     "name": "stdout",
     "output_type": "stream",
     "text": [
      "[[-5 -4 -3 -2 -1  0  1  2  3  4]\n",
      " [-5 -4 -3 -2 -1  0  1  2  3  4]\n",
      " [-5 -4 -3 -2 -1  0  1  2  3  4]\n",
      " [-5 -4 -3 -2 -1  0  1  2  3  4]\n",
      " [-5 -4 -3 -2 -1  0  1  2  3  4]\n",
      " [-5 -4 -3 -2 -1  0  1  2  3  4]\n",
      " [-5 -4 -3 -2 -1  0  1  2  3  4]\n",
      " [-5 -4 -3 -2 -1  0  1  2  3  4]]\n",
      "[[-4 -4 -4 -4 -4 -4 -4 -4 -4 -4]\n",
      " [-3 -3 -3 -3 -3 -3 -3 -3 -3 -3]\n",
      " [-2 -2 -2 -2 -2 -2 -2 -2 -2 -2]\n",
      " [-1 -1 -1 -1 -1 -1 -1 -1 -1 -1]\n",
      " [ 0  0  0  0  0  0  0  0  0  0]\n",
      " [ 1  1  1  1  1  1  1  1  1  1]\n",
      " [ 2  2  2  2  2  2  2  2  2  2]\n",
      " [ 3  3  3  3  3  3  3  3  3  3]]\n"
     ]
    }
   ],
   "source": [
    "d1, d2 = np.meshgrid(np.arange(-5, 5, step = 1),\n",
    "                     np.arange(-4, 4, step = 1))\n",
    "print(d1)\n",
    "print(d2)"
   ]
  },
  {
   "cell_type": "code",
   "execution_count": 63,
   "metadata": {},
   "outputs": [
    {
     "data": {
      "text/plain": [
       "array([[-5, -4],\n",
       "       [-4, -4],\n",
       "       [-3, -4],\n",
       "       [-2, -4],\n",
       "       [-1, -4],\n",
       "       [ 0, -4],\n",
       "       [ 1, -4],\n",
       "       [ 2, -4],\n",
       "       [ 3, -4],\n",
       "       [ 4, -4],\n",
       "       [-5, -3],\n",
       "       [-4, -3],\n",
       "       [-3, -3],\n",
       "       [-2, -3],\n",
       "       [-1, -3],\n",
       "       [ 0, -3],\n",
       "       [ 1, -3],\n",
       "       [ 2, -3],\n",
       "       [ 3, -3],\n",
       "       [ 4, -3],\n",
       "       [-5, -2],\n",
       "       [-4, -2],\n",
       "       [-3, -2],\n",
       "       [-2, -2],\n",
       "       [-1, -2],\n",
       "       [ 0, -2],\n",
       "       [ 1, -2],\n",
       "       [ 2, -2],\n",
       "       [ 3, -2],\n",
       "       [ 4, -2],\n",
       "       [-5, -1],\n",
       "       [-4, -1],\n",
       "       [-3, -1],\n",
       "       [-2, -1],\n",
       "       [-1, -1],\n",
       "       [ 0, -1],\n",
       "       [ 1, -1],\n",
       "       [ 2, -1],\n",
       "       [ 3, -1],\n",
       "       [ 4, -1],\n",
       "       [-5,  0],\n",
       "       [-4,  0],\n",
       "       [-3,  0],\n",
       "       [-2,  0],\n",
       "       [-1,  0],\n",
       "       [ 0,  0],\n",
       "       [ 1,  0],\n",
       "       [ 2,  0],\n",
       "       [ 3,  0],\n",
       "       [ 4,  0],\n",
       "       [-5,  1],\n",
       "       [-4,  1],\n",
       "       [-3,  1],\n",
       "       [-2,  1],\n",
       "       [-1,  1],\n",
       "       [ 0,  1],\n",
       "       [ 1,  1],\n",
       "       [ 2,  1],\n",
       "       [ 3,  1],\n",
       "       [ 4,  1],\n",
       "       [-5,  2],\n",
       "       [-4,  2],\n",
       "       [-3,  2],\n",
       "       [-2,  2],\n",
       "       [-1,  2],\n",
       "       [ 0,  2],\n",
       "       [ 1,  2],\n",
       "       [ 2,  2],\n",
       "       [ 3,  2],\n",
       "       [ 4,  2],\n",
       "       [-5,  3],\n",
       "       [-4,  3],\n",
       "       [-3,  3],\n",
       "       [-2,  3],\n",
       "       [-1,  3],\n",
       "       [ 0,  3],\n",
       "       [ 1,  3],\n",
       "       [ 2,  3],\n",
       "       [ 3,  3],\n",
       "       [ 4,  3]])"
      ]
     },
     "execution_count": 63,
     "metadata": {},
     "output_type": "execute_result"
    }
   ],
   "source": [
    "np.array([d1.ravel(), d2.ravel()]).T"
   ]
  },
  {
   "cell_type": "code",
   "execution_count": 64,
   "metadata": {},
   "outputs": [
    {
     "data": {
      "text/plain": [
       "array([[0, 0, 0, 0, 0, 0, 0, 0, 1, 1],\n",
       "       [0, 0, 0, 0, 0, 0, 0, 1, 1, 1],\n",
       "       [0, 0, 0, 0, 0, 0, 0, 1, 1, 1],\n",
       "       [0, 0, 0, 0, 0, 0, 1, 1, 1, 1],\n",
       "       [0, 0, 0, 0, 0, 0, 0, 1, 1, 1],\n",
       "       [0, 0, 0, 0, 0, 0, 0, 1, 1, 1],\n",
       "       [0, 0, 0, 0, 0, 1, 1, 1, 1, 1],\n",
       "       [0, 0, 0, 0, 1, 1, 1, 1, 1, 1]], dtype=int64)"
      ]
     },
     "execution_count": 64,
     "metadata": {},
     "output_type": "execute_result"
    }
   ],
   "source": [
    "classifier.predict(np.array([d1.ravel(), d2.ravel()]).T).reshape(d1.shape)"
   ]
  },
  {
   "cell_type": "code",
   "execution_count": 65,
   "metadata": {},
   "outputs": [
    {
     "data": {
      "image/png": "[encoded data removed]",
      "text/plain": [
       "<matplotlib.figure.Figure at 0x11132d10550>"
      ]
     },
     "metadata": {},
     "output_type": "display_data"
    }
   ],
   "source": [
    "plt.contourf(d1, d2, classifier.predict(np.array([d1.ravel(), d2.ravel()]).T).reshape(d1.shape),\n",
    "             alpha = 0.25, cmap = ListedColormap(('red', 'green')))\n",
    "plt.xlim(d1.min(), d1.max())\n",
    "plt.ylim(d2.min(), d2.max())\n",
    "plt.show()"
   ]
  },
  {
   "cell_type": "code",
   "execution_count": 18,
   "metadata": {},
   "outputs": [
    {
     "name": "stdout",
     "output_type": "stream",
     "text": [
      "0 0\n",
      "1 1\n"
     ]
    }
   ],
   "source": [
    "for i, j in enumerate(np.unique(y_set)):\n",
    "    print(i,j)"
   ]
  },
  {
   "cell_type": "code",
   "execution_count": 31,
   "metadata": {},
   "outputs": [
    {
     "name": "stdout",
     "output_type": "stream",
     "text": [
      "(0, 0)\n",
      "(1, 1)\n"
     ]
    }
   ],
   "source": [
    "for i in enumerate(np.unique(y_set)):\n",
    "    print(i)"
   ]
  },
  {
   "cell_type": "code",
   "execution_count": 30,
   "metadata": {},
   "outputs": [
    {
     "name": "stdout",
     "output_type": "stream",
     "text": [
      "(1.0, 0.0, 0.0, 1.0)\n",
      "(0.0, 0.5019607843137255, 0.0, 1.0)\n"
     ]
    }
   ],
   "source": [
    "c = ListedColormap(('red', 'green'))\n",
    "print(c(0))\n",
    "print(c(1))"
   ]
  },
  {
   "cell_type": "code",
   "execution_count": 62,
   "metadata": {},
   "outputs": [
    {
     "name": "stdout",
     "output_type": "stream",
     "text": [
      "Fitting 3 folds for each of 12 candidates, totalling 36 fits\n",
      "[CV] C=0.5, kernel=linear ............................................\n",
      "[CV] .... C=0.5, kernel=linear, score=0.873015873015873, total=   0.0s\n",
      "[CV] C=0.5, kernel=linear ............................................\n",
      "[CV] ... C=0.5, kernel=linear, score=0.8794508794508795, total=   0.0s\n",
      "[CV] C=0.5, kernel=linear ............................................\n",
      "[CV] ... C=0.5, kernel=linear, score=0.9635349635349636, total=   0.0s\n",
      "[CV] C=0.5, kernel=poly ..............................................\n",
      "[CV] ....... C=0.5, kernel=poly, score=0.89017589017589, total=   0.0s\n",
      "[CV] C=0.5, kernel=poly ..............................................\n",
      "[CV] ..... C=0.5, kernel=poly, score=0.9090519090519091, total=   0.0s\n",
      "[CV] C=0.5, kernel=poly ..............................................\n",
      "[CV] ..... C=0.5, kernel=poly, score=0.9643929643929644, total=   0.0s\n",
      "[CV] C=0.5, kernel=rbf ...............................................\n",
      "[CV] ....... C=0.5, kernel=rbf, score=0.924924924924925, total=   0.0s\n",
      "[CV] C=0.5, kernel=rbf ...............................................\n",
      "[CV] ...... C=0.5, kernel=rbf, score=0.9335049335049335, total=   0.0s\n",
      "[CV] C=0.5, kernel=rbf ...............................................\n",
      "[CV] ....... C=0.5, kernel=rbf, score=0.984984984984985, total=   0.0s\n",
      "[CV] C=0.5, kernel=sigmoid ...........................................\n",
      "[CV] .. C=0.5, kernel=sigmoid, score=0.8352638352638353, total=   0.0s\n",
      "[CV] C=0.5, kernel=sigmoid ...........................................\n",
      "[CV] .. C=0.5, kernel=sigmoid, score=0.8155298155298155, total=   0.0s\n",
      "[CV] C=0.5, kernel=sigmoid ...........................................\n",
      "[CV] .. C=0.5, kernel=sigmoid, score=0.8953238953238953, total=   0.0s"
     ]
    },
    {
     "name": "stderr",
     "output_type": "stream",
     "text": [
      "[Parallel(n_jobs=1)]: Using backend SequentialBackend with 1 concurrent workers.\n",
      "[Parallel(n_jobs=1)]: Done   1 out of   1 | elapsed:    0.0s remaining:    0.0s\n",
      "[Parallel(n_jobs=1)]: Done   2 out of   2 | elapsed:    0.0s remaining:    0.0s\n",
      "[Parallel(n_jobs=1)]: Done   3 out of   3 | elapsed:    0.0s remaining:    0.0s\n",
      "C:\\ProgramData\\Anaconda3\\lib\\site-packages\\sklearn\\svm\\base.py:196: FutureWarning: The default value of gamma will change from 'auto' to 'scale' in version 0.22 to account better for unscaled features. Set gamma explicitly to 'auto' or 'scale' to avoid this warning.\n",
      "  \"avoid this warning.\", FutureWarning)\n",
      "[Parallel(n_jobs=1)]: Done   4 out of   4 | elapsed:    0.0s remaining:    0.0s\n",
      "C:\\ProgramData\\Anaconda3\\lib\\site-packages\\sklearn\\svm\\base.py:196: FutureWarning: The default value of gamma will change from 'auto' to 'scale' in version 0.22 to account better for unscaled features. Set gamma explicitly to 'auto' or 'scale' to avoid this warning.\n",
      "  \"avoid this warning.\", FutureWarning)\n",
      "[Parallel(n_jobs=1)]: Done   5 out of   5 | elapsed:    0.0s remaining:    0.0s\n",
      "C:\\ProgramData\\Anaconda3\\lib\\site-packages\\sklearn\\svm\\base.py:196: FutureWarning: The default value of gamma will change from 'auto' to 'scale' in version 0.22 to account better for unscaled features. Set gamma explicitly to 'auto' or 'scale' to avoid this warning.\n",
      "  \"avoid this warning.\", FutureWarning)\n",
      "[Parallel(n_jobs=1)]: Done   6 out of   6 | elapsed:    0.0s remaining:    0.0s\n",
      "C:\\ProgramData\\Anaconda3\\lib\\site-packages\\sklearn\\svm\\base.py:196: FutureWarning: The default value of gamma will change from 'auto' to 'scale' in version 0.22 to account better for unscaled features. Set gamma explicitly to 'auto' or 'scale' to avoid this warning.\n",
      "  \"avoid this warning.\", FutureWarning)\n",
      "[Parallel(n_jobs=1)]: Done   7 out of   7 | elapsed:    0.0s remaining:    0.0s\n",
      "C:\\ProgramData\\Anaconda3\\lib\\site-packages\\sklearn\\svm\\base.py:196: FutureWarning: The default value of gamma will change from 'auto' to 'scale' in version 0.22 to account better for unscaled features. Set gamma explicitly to 'auto' or 'scale' to avoid this warning.\n",
      "  \"avoid this warning.\", FutureWarning)\n",
      "[Parallel(n_jobs=1)]: Done   8 out of   8 | elapsed:    0.0s remaining:    0.0s\n",
      "C:\\ProgramData\\Anaconda3\\lib\\site-packages\\sklearn\\svm\\base.py:196: FutureWarning: The default value of gamma will change from 'auto' to 'scale' in version 0.22 to account better for unscaled features. Set gamma explicitly to 'auto' or 'scale' to avoid this warning.\n",
      "  \"avoid this warning.\", FutureWarning)\n",
      "[Parallel(n_jobs=1)]: Done   9 out of   9 | elapsed:    0.0s remaining:    0.0s\n",
      "C:\\ProgramData\\Anaconda3\\lib\\site-packages\\sklearn\\svm\\base.py:196: FutureWarning: The default value of gamma will change from 'auto' to 'scale' in version 0.22 to account better for unscaled features. Set gamma explicitly to 'auto' or 'scale' to avoid this warning.\n",
      "  \"avoid this warning.\", FutureWarning)\n",
      "C:\\ProgramData\\Anaconda3\\lib\\site-packages\\sklearn\\svm\\base.py:196: FutureWarning: The default value of gamma will change from 'auto' to 'scale' in version 0.22 to account better for unscaled features. Set gamma explicitly to 'auto' or 'scale' to avoid this warning.\n",
      "  \"avoid this warning.\", FutureWarning)\n",
      "C:\\ProgramData\\Anaconda3\\lib\\site-packages\\sklearn\\svm\\base.py:196: FutureWarning: The default value of gamma will change from 'auto' to 'scale' in version 0.22 to account better for unscaled features. Set gamma explicitly to 'auto' or 'scale' to avoid this warning.\n",
      "  \"avoid this warning.\", FutureWarning)\n"
     ]
    },
    {
     "name": "stdout",
     "output_type": "stream",
     "text": [
      "\n",
      "[CV] C=1, kernel=linear ..............................................\n",
      "[CV] ..... C=1, kernel=linear, score=0.8743028743028743, total=   0.0s\n",
      "[CV] C=1, kernel=linear ..............................................\n",
      "[CV] ..... C=1, kernel=linear, score=0.8773058773058773, total=   0.0s\n",
      "[CV] C=1, kernel=linear ..............................................\n",
      "[CV] ..... C=1, kernel=linear, score=0.9635349635349635, total=   0.0s\n",
      "[CV] C=1, kernel=poly ................................................\n",
      "[CV] ....... C=1, kernel=poly, score=0.8897468897468898, total=   0.0s\n",
      "[CV] C=1, kernel=poly ................................................\n",
      "[CV] ....... C=1, kernel=poly, score=0.8966108966108967, total=   0.0s\n",
      "[CV] C=1, kernel=poly ................................................\n",
      "[CV] ....... C=1, kernel=poly, score=0.9661089661089661, total=   0.0s\n",
      "[CV] C=1, kernel=rbf .................................................\n",
      "[CV] ........ C=1, kernel=rbf, score=0.9146289146289147, total=   0.0s\n",
      "[CV] C=1, kernel=rbf .................................................\n",
      "[CV] ........ C=1, kernel=rbf, score=0.9356499356499357, total=   0.0s\n",
      "[CV] C=1, kernel=rbf .................................................\n",
      "[CV] ......... C=1, kernel=rbf, score=0.978978978978979, total=   0.0s\n",
      "[CV] C=1, kernel=sigmoid .............................................\n",
      "[CV] .... C=1, kernel=sigmoid, score=0.8185328185328185, total=   0.0s\n",
      "[CV] C=1, kernel=sigmoid .............................................\n",
      "[CV] .... C=1, kernel=sigmoid, score=0.7837837837837838, total=   0.0s\n",
      "[CV] C=1, kernel=sigmoid .............................................\n"
     ]
    },
    {
     "name": "stderr",
     "output_type": "stream",
     "text": [
      "C:\\ProgramData\\Anaconda3\\lib\\site-packages\\sklearn\\svm\\base.py:196: FutureWarning: The default value of gamma will change from 'auto' to 'scale' in version 0.22 to account better for unscaled features. Set gamma explicitly to 'auto' or 'scale' to avoid this warning.\n",
      "  \"avoid this warning.\", FutureWarning)\n",
      "C:\\ProgramData\\Anaconda3\\lib\\site-packages\\sklearn\\svm\\base.py:196: FutureWarning: The default value of gamma will change from 'auto' to 'scale' in version 0.22 to account better for unscaled features. Set gamma explicitly to 'auto' or 'scale' to avoid this warning.\n",
      "  \"avoid this warning.\", FutureWarning)\n",
      "C:\\ProgramData\\Anaconda3\\lib\\site-packages\\sklearn\\svm\\base.py:196: FutureWarning: The default value of gamma will change from 'auto' to 'scale' in version 0.22 to account better for unscaled features. Set gamma explicitly to 'auto' or 'scale' to avoid this warning.\n",
      "  \"avoid this warning.\", FutureWarning)\n",
      "C:\\ProgramData\\Anaconda3\\lib\\site-packages\\sklearn\\svm\\base.py:196: FutureWarning: The default value of gamma will change from 'auto' to 'scale' in version 0.22 to account better for unscaled features. Set gamma explicitly to 'auto' or 'scale' to avoid this warning.\n",
      "  \"avoid this warning.\", FutureWarning)\n",
      "C:\\ProgramData\\Anaconda3\\lib\\site-packages\\sklearn\\svm\\base.py:196: FutureWarning: The default value of gamma will change from 'auto' to 'scale' in version 0.22 to account better for unscaled features. Set gamma explicitly to 'auto' or 'scale' to avoid this warning.\n",
      "  \"avoid this warning.\", FutureWarning)\n",
      "C:\\ProgramData\\Anaconda3\\lib\\site-packages\\sklearn\\svm\\base.py:196: FutureWarning: The default value of gamma will change from 'auto' to 'scale' in version 0.22 to account better for unscaled features. Set gamma explicitly to 'auto' or 'scale' to avoid this warning.\n",
      "  \"avoid this warning.\", FutureWarning)\n",
      "C:\\ProgramData\\Anaconda3\\lib\\site-packages\\sklearn\\svm\\base.py:196: FutureWarning: The default value of gamma will change from 'auto' to 'scale' in version 0.22 to account better for unscaled features. Set gamma explicitly to 'auto' or 'scale' to avoid this warning.\n",
      "  \"avoid this warning.\", FutureWarning)\n",
      "C:\\ProgramData\\Anaconda3\\lib\\site-packages\\sklearn\\svm\\base.py:196: FutureWarning: The default value of gamma will change from 'auto' to 'scale' in version 0.22 to account better for unscaled features. Set gamma explicitly to 'auto' or 'scale' to avoid this warning.\n",
      "  \"avoid this warning.\", FutureWarning)\n",
      "C:\\ProgramData\\Anaconda3\\lib\\site-packages\\sklearn\\svm\\base.py:196: FutureWarning: The default value of gamma will change from 'auto' to 'scale' in version 0.22 to account better for unscaled features. Set gamma explicitly to 'auto' or 'scale' to avoid this warning.\n",
      "  \"avoid this warning.\", FutureWarning)\n"
     ]
    },
    {
     "name": "stdout",
     "output_type": "stream",
     "text": [
      "[CV] .... C=1, kernel=sigmoid, score=0.8305448305448306, total=   0.0s\n",
      "[CV] C=2, kernel=linear ..............................................\n",
      "[CV] ..... C=2, kernel=linear, score=0.8743028743028743, total=   0.0s\n",
      "[CV] C=2, kernel=linear ..............................................\n",
      "[CV] ..... C=2, kernel=linear, score=0.8811668811668812, total=   0.0s\n",
      "[CV] C=2, kernel=linear ..............................................\n",
      "[CV] ..... C=2, kernel=linear, score=0.9635349635349635, total=   0.0s\n",
      "[CV] C=2, kernel=poly ................................................\n",
      "[CV] ....... C=2, kernel=poly, score=0.8927498927498927, total=   0.0s\n",
      "[CV] C=2, kernel=poly ................................................\n",
      "[CV] ....... C=2, kernel=poly, score=0.8983268983268984, total=   0.0s\n",
      "[CV] C=2, kernel=poly ................................................\n",
      "[CV] ........ C=2, kernel=poly, score=0.972972972972973, total=   0.0s\n",
      "[CV] C=2, kernel=rbf .................................................\n",
      "[CV] ........ C=2, kernel=rbf, score=0.9163449163449164, total=   0.0s\n",
      "[CV] C=2, kernel=rbf .................................................\n",
      "[CV] ........ C=2, kernel=rbf, score=0.9382239382239382, total=   0.0s\n",
      "[CV] C=2, kernel=rbf .................................................\n",
      "[CV] ......... C=2, kernel=rbf, score=0.966108966108966, total=   0.0s\n",
      "[CV] C=2, kernel=sigmoid .............................................\n",
      "[CV] .... C=2, kernel=sigmoid, score=0.7949377949377949, total=   0.0s\n",
      "[CV] C=2, kernel=sigmoid .............................................\n",
      "[CV] .... C=2, kernel=sigmoid, score=0.7739167739167738, total=   0.0s\n",
      "[CV] C=2, kernel=sigmoid .............................................\n",
      "[CV] .... C=2, kernel=sigmoid, score=0.7837837837837838, total=   0.0s\n",
      "Wall time: 599 ms\n"
     ]
    },
    {
     "name": "stderr",
     "output_type": "stream",
     "text": [
      "C:\\ProgramData\\Anaconda3\\lib\\site-packages\\sklearn\\svm\\base.py:196: FutureWarning: The default value of gamma will change from 'auto' to 'scale' in version 0.22 to account better for unscaled features. Set gamma explicitly to 'auto' or 'scale' to avoid this warning.\n",
      "  \"avoid this warning.\", FutureWarning)\n",
      "C:\\ProgramData\\Anaconda3\\lib\\site-packages\\sklearn\\svm\\base.py:196: FutureWarning: The default value of gamma will change from 'auto' to 'scale' in version 0.22 to account better for unscaled features. Set gamma explicitly to 'auto' or 'scale' to avoid this warning.\n",
      "  \"avoid this warning.\", FutureWarning)\n",
      "C:\\ProgramData\\Anaconda3\\lib\\site-packages\\sklearn\\svm\\base.py:196: FutureWarning: The default value of gamma will change from 'auto' to 'scale' in version 0.22 to account better for unscaled features. Set gamma explicitly to 'auto' or 'scale' to avoid this warning.\n",
      "  \"avoid this warning.\", FutureWarning)\n",
      "C:\\ProgramData\\Anaconda3\\lib\\site-packages\\sklearn\\svm\\base.py:196: FutureWarning: The default value of gamma will change from 'auto' to 'scale' in version 0.22 to account better for unscaled features. Set gamma explicitly to 'auto' or 'scale' to avoid this warning.\n",
      "  \"avoid this warning.\", FutureWarning)\n",
      "C:\\ProgramData\\Anaconda3\\lib\\site-packages\\sklearn\\svm\\base.py:196: FutureWarning: The default value of gamma will change from 'auto' to 'scale' in version 0.22 to account better for unscaled features. Set gamma explicitly to 'auto' or 'scale' to avoid this warning.\n",
      "  \"avoid this warning.\", FutureWarning)\n",
      "C:\\ProgramData\\Anaconda3\\lib\\site-packages\\sklearn\\svm\\base.py:196: FutureWarning: The default value of gamma will change from 'auto' to 'scale' in version 0.22 to account better for unscaled features. Set gamma explicitly to 'auto' or 'scale' to avoid this warning.\n",
      "  \"avoid this warning.\", FutureWarning)\n",
      "C:\\ProgramData\\Anaconda3\\lib\\site-packages\\sklearn\\svm\\base.py:196: FutureWarning: The default value of gamma will change from 'auto' to 'scale' in version 0.22 to account better for unscaled features. Set gamma explicitly to 'auto' or 'scale' to avoid this warning.\n",
      "  \"avoid this warning.\", FutureWarning)\n",
      "C:\\ProgramData\\Anaconda3\\lib\\site-packages\\sklearn\\svm\\base.py:196: FutureWarning: The default value of gamma will change from 'auto' to 'scale' in version 0.22 to account better for unscaled features. Set gamma explicitly to 'auto' or 'scale' to avoid this warning.\n",
      "  \"avoid this warning.\", FutureWarning)\n",
      "C:\\ProgramData\\Anaconda3\\lib\\site-packages\\sklearn\\svm\\base.py:196: FutureWarning: The default value of gamma will change from 'auto' to 'scale' in version 0.22 to account better for unscaled features. Set gamma explicitly to 'auto' or 'scale' to avoid this warning.\n",
      "  \"avoid this warning.\", FutureWarning)\n",
      "[Parallel(n_jobs=1)]: Done  36 out of  36 | elapsed:    0.5s finished\n"
     ]
    }
   ],
   "source": [
    "%%time\n",
    "# build grid search parameters\n",
    "parms = {'C': [0.5,1,2], \n",
    "         'kernel': [\"linear\",\"poly\",\"rbf\",\"sigmoid\"]}\n",
    "#build svm object\n",
    "# perform grid search\n",
    "from sklearn.svm import SVC\n",
    "SVM = SVC(class_weight='balanced')\n",
    "from sklearn.model_selection import GridSearchCV\n",
    "CV = GridSearchCV(estimator = SVM,param_grid = parms, scoring = 'roc_auc',cv=3,refit=True,\n",
    "                           return_train_score = True,verbose=10,n_jobs=1)\n",
    "CV.fit(X_train,y_train)"
   ]
  },
  {
   "cell_type": "code",
   "execution_count": 63,
   "metadata": {},
   "outputs": [
    {
     "name": "stdout",
     "output_type": "stream",
     "text": [
      "Wall time: 7.12 s\n"
     ]
    }
   ],
   "source": [
    "%%time\n",
    "CVResults = pd.DataFrame(CV.cv_results_)\n",
    "#print(CVResults)\n",
    "CVResults.to_excel('CVResutls_SVM.xlsx')"
   ]
  },
  {
   "cell_type": "code",
   "execution_count": 66,
   "metadata": {},
   "outputs": [
    {
     "name": "stdout",
     "output_type": "stream",
     "text": [
      "[0 0 0 0 0 0 0 1 0 1]\n"
     ]
    }
   ],
   "source": [
    "# Preidct on Test data and check the confusion matrix\n",
    "predictTest = CV.predict(X_test)\n",
    "print(predictTest[0:10])"
   ]
  },
  {
   "cell_type": "code",
   "execution_count": 68,
   "metadata": {},
   "outputs": [
    {
     "name": "stdout",
     "output_type": "stream",
     "text": [
      "[[64  4]\n",
      " [ 3 29]]\n",
      "              precision    recall  f1-score   support\n",
      "\n",
      "           0       0.96      0.94      0.95        68\n",
      "           1       0.88      0.91      0.89        32\n",
      "\n",
      "   micro avg       0.93      0.93      0.93       100\n",
      "   macro avg       0.92      0.92      0.92       100\n",
      "weighted avg       0.93      0.93      0.93       100\n",
      "\n"
     ]
    }
   ],
   "source": [
    "# generate confusion matrix\n",
    "# import confusion matrix and classification report\n",
    "from sklearn.metrics import confusion_matrix, classification_report\n",
    "print (confusion_matrix(y_test,predictTest))\n",
    "print (classification_report(y_test,predictTest))"
   ]
  },
  {
   "cell_type": "code",
   "execution_count": 71,
   "metadata": {},
   "outputs": [
    {
     "name": "stdout",
     "output_type": "stream",
     "text": [
      "0.9237132352941176\n",
      "0.9237132352941176\n"
     ]
    }
   ],
   "source": [
    "# generate ROC curve\n",
    "from sklearn.metrics import roc_auc_score, roc_curve\n",
    "# AUC for class 1\n",
    "AUC = roc_auc_score(y_test, predictTest)\n",
    "print(AUC)\n",
    "# AUC for class 0\n",
    "AUC0 = roc_auc_score(y_test, predictTest)\n",
    "print(AUC0)\n",
    "# define variables for True Positive Rate and Falst Positive Rate & threshold value\n",
    "TPR = dict()\n",
    "FPR = dict()\n",
    "THR = dict()\n",
    "FPR, TPR, THR = roc_curve(y_test, predictTest)"
   ]
  },
  {
   "cell_type": "code",
   "execution_count": 72,
   "metadata": {},
   "outputs": [
    {
     "data": {
      "image/png": "[encoded data removed]",
      "text/plain": [
       "<Figure size 432x288 with 1 Axes>"
      ]
     },
     "metadata": {
      "needs_background": "light"
     },
     "output_type": "display_data"
    }
   ],
   "source": [
    "import matplotlib.pyplot as plt\n",
    "plt.figure()\n",
    "# plot the FPR as X-axis and TPR as Y-axis\n",
    "plt.plot(FPR, TPR)\n",
    "# plot the minimum line \n",
    "plt.plot([0,1], [0,1], color='navy', linestyle = '--')\n",
    "# set X and Y limits\n",
    "plt.xlim([0.0, 1.05])\n",
    "plt.ylim([0.0, 1.05])\n",
    "# mention lables for X and Y\n",
    "plt.xlabel('False Positive Rate')\n",
    "plt.ylabel('True Positive Rate')\n",
    "plt.title('ROC')\n",
    "plt.show()"
   ]
  },
  {
   "cell_type": "code",
   "execution_count": null,
   "metadata": {},
   "outputs": [],
   "source": []
  }
 ],
 "metadata": {
  "kernelspec": {
   "display_name": "Python 3",
   "language": "python",
   "name": "python3"
  },
  "language_info": {
   "codemirror_mode": {
    "name": "ipython",
    "version": 3
   },
   "file_extension": ".py",
   "mimetype": "text/x-python",
   "name": "python",
   "nbconvert_exporter": "python",
   "pygments_lexer": "ipython3",
   "version": "3.7.1"
  }
 },
 "nbformat": 4,
 "nbformat_minor": 2
}
