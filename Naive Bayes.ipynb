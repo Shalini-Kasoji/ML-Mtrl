{
 "cells": [
  {
   "cell_type": "code",
   "execution_count": 1,
   "metadata": {},
   "outputs": [
    {
     "name": "stdout",
     "output_type": "stream",
     "text": [
      "C:\\Users\\Vishnu Murthy Chakka\n",
      "C:\\Digital Nest\\Naive Bayes\n"
     ]
    }
   ],
   "source": [
    "# Linear Regression\n",
    "import os\n",
    "print (os.getcwd())\n",
    "os.chdir(\"C://Digital Nest/Naive Bayes\")\n",
    "print (os.getcwd())"
   ]
  },
  {
   "cell_type": "code",
   "execution_count": 2,
   "metadata": {},
   "outputs": [
    {
     "data": {
      "text/html": [
       "<div>\n",
       "<style scoped>\n",
       "    .dataframe tbody tr th:only-of-type {\n",
       "        vertical-align: middle;\n",
       "    }\n",
       "\n",
       "    .dataframe tbody tr th {\n",
       "        vertical-align: top;\n",
       "    }\n",
       "\n",
       "    .dataframe thead th {\n",
       "        text-align: right;\n",
       "    }\n",
       "</style>\n",
       "<table border=\"1\" class=\"dataframe\">\n",
       "  <thead>\n",
       "    <tr style=\"text-align: right;\">\n",
       "      <th></th>\n",
       "      <th>Typeofmushroom</th>\n",
       "      <th>capshape</th>\n",
       "      <th>capsurface</th>\n",
       "      <th>capcolor</th>\n",
       "      <th>bruises</th>\n",
       "      <th>odor</th>\n",
       "      <th>gillattachment</th>\n",
       "      <th>gillspacing</th>\n",
       "      <th>gillsize</th>\n",
       "      <th>gillcolor</th>\n",
       "      <th>...</th>\n",
       "      <th>stalksurfacebelowring</th>\n",
       "      <th>stalkcolorabovering</th>\n",
       "      <th>stalkcolorbelowring</th>\n",
       "      <th>veiltype</th>\n",
       "      <th>veilcolor</th>\n",
       "      <th>ringnumber</th>\n",
       "      <th>ringtype</th>\n",
       "      <th>sporeprintcolor</th>\n",
       "      <th>population</th>\n",
       "      <th>habitat</th>\n",
       "    </tr>\n",
       "  </thead>\n",
       "  <tbody>\n",
       "    <tr>\n",
       "      <th>count</th>\n",
       "      <td>8416</td>\n",
       "      <td>8416</td>\n",
       "      <td>8416</td>\n",
       "      <td>8416</td>\n",
       "      <td>8416</td>\n",
       "      <td>8416</td>\n",
       "      <td>8416</td>\n",
       "      <td>8416</td>\n",
       "      <td>8416</td>\n",
       "      <td>8416</td>\n",
       "      <td>...</td>\n",
       "      <td>8416</td>\n",
       "      <td>8416</td>\n",
       "      <td>8416</td>\n",
       "      <td>8416</td>\n",
       "      <td>8416</td>\n",
       "      <td>8416</td>\n",
       "      <td>8416</td>\n",
       "      <td>8416</td>\n",
       "      <td>8416</td>\n",
       "      <td>8416</td>\n",
       "    </tr>\n",
       "    <tr>\n",
       "      <th>unique</th>\n",
       "      <td>2</td>\n",
       "      <td>6</td>\n",
       "      <td>4</td>\n",
       "      <td>10</td>\n",
       "      <td>2</td>\n",
       "      <td>9</td>\n",
       "      <td>2</td>\n",
       "      <td>2</td>\n",
       "      <td>2</td>\n",
       "      <td>12</td>\n",
       "      <td>...</td>\n",
       "      <td>4</td>\n",
       "      <td>9</td>\n",
       "      <td>9</td>\n",
       "      <td>1</td>\n",
       "      <td>4</td>\n",
       "      <td>3</td>\n",
       "      <td>5</td>\n",
       "      <td>9</td>\n",
       "      <td>6</td>\n",
       "      <td>7</td>\n",
       "    </tr>\n",
       "    <tr>\n",
       "      <th>top</th>\n",
       "      <td>EDIBLE</td>\n",
       "      <td>CONVEX</td>\n",
       "      <td>SCALY</td>\n",
       "      <td>BROWN</td>\n",
       "      <td>NO</td>\n",
       "      <td>NONE</td>\n",
       "      <td>FREE</td>\n",
       "      <td>CLOSE</td>\n",
       "      <td>BROAD</td>\n",
       "      <td>BUFF</td>\n",
       "      <td>...</td>\n",
       "      <td>SMOOTH</td>\n",
       "      <td>WHITE</td>\n",
       "      <td>WHITE</td>\n",
       "      <td>PARTIAL</td>\n",
       "      <td>WHITE</td>\n",
       "      <td>ONE</td>\n",
       "      <td>PENDANT</td>\n",
       "      <td>WHITE</td>\n",
       "      <td>SEVERAL</td>\n",
       "      <td>WOODS</td>\n",
       "    </tr>\n",
       "    <tr>\n",
       "      <th>freq</th>\n",
       "      <td>4488</td>\n",
       "      <td>3796</td>\n",
       "      <td>3268</td>\n",
       "      <td>2320</td>\n",
       "      <td>5040</td>\n",
       "      <td>3808</td>\n",
       "      <td>8200</td>\n",
       "      <td>6824</td>\n",
       "      <td>5880</td>\n",
       "      <td>1728</td>\n",
       "      <td>...</td>\n",
       "      <td>5076</td>\n",
       "      <td>4744</td>\n",
       "      <td>4640</td>\n",
       "      <td>8416</td>\n",
       "      <td>8216</td>\n",
       "      <td>7768</td>\n",
       "      <td>3968</td>\n",
       "      <td>2424</td>\n",
       "      <td>4064</td>\n",
       "      <td>3160</td>\n",
       "    </tr>\n",
       "  </tbody>\n",
       "</table>\n",
       "<p>4 rows × 23 columns</p>\n",
       "</div>"
      ],
      "text/plain": [
       "       Typeofmushroom capshape capsurface capcolor bruises  odor  \\\n",
       "count            8416     8416       8416     8416    8416  8416   \n",
       "unique              2        6          4       10       2     9   \n",
       "top            EDIBLE   CONVEX      SCALY    BROWN      NO  NONE   \n",
       "freq             4488     3796       3268     2320    5040  3808   \n",
       "\n",
       "       gillattachment gillspacing gillsize gillcolor   ...    \\\n",
       "count            8416        8416     8416      8416   ...     \n",
       "unique              2           2        2        12   ...     \n",
       "top              FREE       CLOSE    BROAD      BUFF   ...     \n",
       "freq             8200        6824     5880      1728   ...     \n",
       "\n",
       "       stalksurfacebelowring stalkcolorabovering stalkcolorbelowring veiltype  \\\n",
       "count                   8416                8416                8416     8416   \n",
       "unique                     4                   9                   9        1   \n",
       "top                   SMOOTH               WHITE               WHITE  PARTIAL   \n",
       "freq                    5076                4744                4640     8416   \n",
       "\n",
       "       veilcolor ringnumber ringtype sporeprintcolor population habitat  \n",
       "count       8416       8416     8416            8416       8416    8416  \n",
       "unique         4          3        5               9          6       7  \n",
       "top        WHITE        ONE  PENDANT           WHITE    SEVERAL   WOODS  \n",
       "freq        8216       7768     3968            2424       4064    3160  \n",
       "\n",
       "[4 rows x 23 columns]"
      ]
     },
     "execution_count": 2,
     "metadata": {},
     "output_type": "execute_result"
    }
   ],
   "source": [
    "import numpy as np\n",
    "import pandas as pd\n",
    "mushroom = pd.read_csv('mushroom.csv')\n",
    "mushroom.describe()"
   ]
  },
  {
   "cell_type": "code",
   "execution_count": 3,
   "metadata": {},
   "outputs": [
    {
     "name": "stdout",
     "output_type": "stream",
     "text": [
      "['Typeofmushroom' 'capshape' 'capsurface' 'capcolor' 'bruises' 'odor'\n",
      " 'gillattachment' 'gillspacing' 'gillsize' 'gillcolor' 'stalkshape'\n",
      " 'stalkroot' 'stalksurfaceabovering' 'stalksurfacebelowring'\n",
      " 'stalkcolorabovering' 'stalkcolorbelowring' 'veiltype' 'veilcolor'\n",
      " 'ringnumber' 'ringtype' 'sporeprintcolor' 'population' 'habitat']\n"
     ]
    }
   ],
   "source": [
    "print(mushroom.columns.values)"
   ]
  },
  {
   "cell_type": "code",
   "execution_count": 4,
   "metadata": {},
   "outputs": [
    {
     "data": {
      "text/plain": [
       "Typeofmushroom           0\n",
       "capshape                 0\n",
       "capsurface               0\n",
       "capcolor                 0\n",
       "bruises                  0\n",
       "odor                     0\n",
       "gillattachment           0\n",
       "gillspacing              0\n",
       "gillsize                 0\n",
       "gillcolor                0\n",
       "stalkshape               0\n",
       "stalkroot                0\n",
       "stalksurfaceabovering    0\n",
       "stalksurfacebelowring    0\n",
       "stalkcolorabovering      0\n",
       "stalkcolorbelowring      0\n",
       "veiltype                 0\n",
       "veilcolor                0\n",
       "ringnumber               0\n",
       "ringtype                 0\n",
       "sporeprintcolor          0\n",
       "population               0\n",
       "habitat                  0\n",
       "dtype: int64"
      ]
     },
     "execution_count": 4,
     "metadata": {},
     "output_type": "execute_result"
    }
   ],
   "source": [
    "# find missing values\n",
    "mushroom.isnull().sum()"
   ]
  },
  {
   "cell_type": "code",
   "execution_count": 5,
   "metadata": {},
   "outputs": [
    {
     "name": "stdout",
     "output_type": "stream",
     "text": [
      "Typeofmushroom\n",
      "['EDIBLE' 'POISONOUS']\n",
      "capshape\n",
      "['BELL' 'CONICAL' 'CONVEX' 'FLAT' 'KNOBBED' 'SUNKEN']\n",
      "capsurface\n",
      "['FIBROUS' 'GROOVES' 'SCALY' 'SMOOTH']\n",
      "capcolor\n",
      "['BROWN' 'BUFF' 'CINNAMON' 'GRAY' 'GREEN' 'PINK' 'PURPLE' 'RED' 'WHITE'\n",
      " 'YELLOW']\n",
      "bruises\n",
      "['BRUISES' 'NO']\n",
      "odor\n",
      "['ALMOND' 'ANISE' 'CREOSOTE' 'FISHY' 'FOUL' 'MUSTY' 'NONE' 'PUNGENT'\n",
      " 'SPICY']\n",
      "gillattachment\n",
      "['ATTACHED' 'FREE']\n",
      "gillspacing\n",
      "['CLOSE' 'CROWDED']\n",
      "gillsize\n",
      "['BROAD' 'NARROW']\n",
      "gillcolor\n",
      "['BLACK' 'BROWN' 'BUFF' 'CHOCOLATE' 'GRAY' 'GREEN' 'ORANGE' 'PINK' 'PURPLE'\n",
      " 'RED' 'WHITE' 'YELLOW']\n",
      "stalkshape\n",
      "['ENLARGING' 'TAPERING']\n",
      "stalkroot\n",
      "['?' 'BULBOUS' 'CLUB' 'EQUAL' 'ROOTED']\n",
      "stalksurfaceabovering\n",
      "['FIBROUS' 'SCALY' 'SILKY' 'SMOOTH']\n",
      "stalksurfacebelowring\n",
      "['FIBROUS' 'SCALY' 'SILKY' 'SMOOTH']\n",
      "stalkcolorabovering\n",
      "['BROWN' 'BUFF' 'CINNAMON' 'GRAY' 'ORANGE' 'PINK' 'RED' 'WHITE' 'YELLOW']\n",
      "stalkcolorbelowring\n",
      "['BROWN' 'BUFF' 'CINNAMON' 'GRAY' 'ORANGE' 'PINK' 'RED' 'WHITE' 'YELLOW']\n",
      "veiltype\n",
      "['PARTIAL']\n",
      "veilcolor\n",
      "['BROWN' 'ORANGE' 'WHITE' 'YELLOW']\n",
      "ringnumber\n",
      "['NONE' 'ONE' 'TWO']\n",
      "ringtype\n",
      "['EVANESCENT' 'FLARING' 'LARGE' 'NONE' 'PENDANT']\n",
      "sporeprintcolor\n",
      "['BLACK' 'BROWN' 'BUFF' 'CHOCOLATE' 'GREEN' 'ORANGE' 'PURPLE' 'WHITE'\n",
      " 'YELLOW']\n",
      "population\n",
      "['ABUNDANT' 'CLUSTERED' 'NUMEROUS' 'SCATTERED' 'SEVERAL' 'SOLITARY']\n"
     ]
    }
   ],
   "source": [
    "# check if there are any invalid values\n",
    "for i in range(0,22,1):\n",
    "    print(mushroom.columns.values[i])\n",
    "    print(np.unique(mushroom.iloc[::,i:i+1:1]))"
   ]
  },
  {
   "cell_type": "code",
   "execution_count": 6,
   "metadata": {},
   "outputs": [
    {
     "name": "stdout",
     "output_type": "stream",
     "text": [
      "(array(['?', 'BULBOUS', 'CLUB', 'EQUAL', 'ROOTED'], dtype=object), array([2480, 3800,  568, 1376,  192], dtype=int64))\n",
      "0    BULBOUS\n",
      "dtype: object\n"
     ]
    }
   ],
   "source": [
    "# stalkroot has '?'. it has to be replaced with most frequent category\n",
    "print(np.unique(mushroom.stalkroot,return_counts=True))\n",
    "print(mushroom.stalkroot.mode())"
   ]
  },
  {
   "cell_type": "code",
   "execution_count": 7,
   "metadata": {
    "collapsed": true
   },
   "outputs": [],
   "source": [
    "# replace '?' in stalkroom with 'BULBOUS'\n",
    "mushroom.loc[mushroom.stalkroot == \"?\",\"stalkroot\"] = 'BULBOUS'"
   ]
  },
  {
   "cell_type": "code",
   "execution_count": 9,
   "metadata": {},
   "outputs": [
    {
     "name": "stdout",
     "output_type": "stream",
     "text": [
      "(array(['BULBOUS', 'CLUB', 'EQUAL', 'ROOTED'], dtype=object), array([6280,  568, 1376,  192], dtype=int64))\n",
      "0    BULBOUS\n",
      "dtype: object\n"
     ]
    }
   ],
   "source": [
    "# stalkroot has '?'. it has to be replaced with most frequent category\n",
    "print(np.unique(mushroom.stalkroot,return_counts=True))\n",
    "print(mushroom.stalkroot.mode())"
   ]
  },
  {
   "cell_type": "code",
   "execution_count": 8,
   "metadata": {},
   "outputs": [
    {
     "name": "stdout",
     "output_type": "stream",
     "text": [
      "Typeofmushroom\n",
      "['EDIBLE' 'POISONOUS']\n",
      "capshape\n",
      "['BELL' 'CONICAL' 'CONVEX' 'FLAT' 'KNOBBED' 'SUNKEN']\n",
      "capsurface\n",
      "['FIBROUS' 'GROOVES' 'SCALY' 'SMOOTH']\n",
      "capcolor\n",
      "['BROWN' 'BUFF' 'CINNAMON' 'GRAY' 'GREEN' 'PINK' 'PURPLE' 'RED' 'WHITE'\n",
      " 'YELLOW']\n",
      "bruises\n",
      "['BRUISES' 'NO']\n",
      "odor\n",
      "['ALMOND' 'ANISE' 'CREOSOTE' 'FISHY' 'FOUL' 'MUSTY' 'NONE' 'PUNGENT'\n",
      " 'SPICY']\n",
      "gillattachment\n",
      "['ATTACHED' 'FREE']\n",
      "gillspacing\n",
      "['CLOSE' 'CROWDED']\n",
      "gillsize\n",
      "['BROAD' 'NARROW']\n",
      "gillcolor\n",
      "['BLACK' 'BROWN' 'BUFF' 'CHOCOLATE' 'GRAY' 'GREEN' 'ORANGE' 'PINK' 'PURPLE'\n",
      " 'RED' 'WHITE' 'YELLOW']\n",
      "stalkshape\n",
      "['ENLARGING' 'TAPERING']\n",
      "stalkroot\n",
      "['BULBOUS' 'CLUB' 'EQUAL' 'ROOTED']\n",
      "stalksurfaceabovering\n",
      "['FIBROUS' 'SCALY' 'SILKY' 'SMOOTH']\n",
      "stalksurfacebelowring\n",
      "['FIBROUS' 'SCALY' 'SILKY' 'SMOOTH']\n",
      "stalkcolorabovering\n",
      "['BROWN' 'BUFF' 'CINNAMON' 'GRAY' 'ORANGE' 'PINK' 'RED' 'WHITE' 'YELLOW']\n",
      "stalkcolorbelowring\n",
      "['BROWN' 'BUFF' 'CINNAMON' 'GRAY' 'ORANGE' 'PINK' 'RED' 'WHITE' 'YELLOW']\n",
      "veiltype\n",
      "['PARTIAL']\n",
      "veilcolor\n",
      "['BROWN' 'ORANGE' 'WHITE' 'YELLOW']\n",
      "ringnumber\n",
      "['NONE' 'ONE' 'TWO']\n",
      "ringtype\n",
      "['EVANESCENT' 'FLARING' 'LARGE' 'NONE' 'PENDANT']\n",
      "sporeprintcolor\n",
      "['BLACK' 'BROWN' 'BUFF' 'CHOCOLATE' 'GREEN' 'ORANGE' 'PURPLE' 'WHITE'\n",
      " 'YELLOW']\n",
      "population\n",
      "['ABUNDANT' 'CLUSTERED' 'NUMEROUS' 'SCATTERED' 'SEVERAL' 'SOLITARY']\n"
     ]
    }
   ],
   "source": [
    "# check if there are any invalid values\n",
    "for i in range(0,22,1):\n",
    "    print(mushroom.columns.values[i])\n",
    "    print(np.unique(mushroom.iloc[::,i:i+1:1]))"
   ]
  },
  {
   "cell_type": "code",
   "execution_count": 8,
   "metadata": {
    "collapsed": true
   },
   "outputs": [],
   "source": [
    "# perform the encoding i.e. convert all categorical values into numbers\n",
    "from sklearn.preprocessing import LabelEncoder\n",
    "le = LabelEncoder()\n",
    "mushroom.Typeofmushroom = le.fit_transform(mushroom.Typeofmushroom)\n",
    "mushroom.capshape       = le.fit_transform(mushroom.capshape)\n",
    "mushroom.capsurface     = le.fit_transform(mushroom.capsurface)\n",
    "mushroom.capcolor       = le.fit_transform(mushroom.capcolor)\n",
    "mushroom.bruises        = le.fit_transform(mushroom.bruises)\n",
    "mushroom.odor           = le.fit_transform(mushroom.odor)\n",
    "mushroom.gillattachment = le.fit_transform(mushroom.gillattachment)\n",
    "mushroom.gillspacing    = le.fit_transform(mushroom.gillspacing)\n",
    "mushroom.gillsize       = le.fit_transform(mushroom.gillsize)\n",
    "mushroom.gillcolor      = le.fit_transform(mushroom.gillcolor)\n",
    "mushroom.stalkshape     = le.fit_transform(mushroom.stalkshape)\n",
    "mushroom.stalkroot      = le.fit_transform(mushroom.stalkroot)\n",
    "mushroom.stalksurfaceabovering = le.fit_transform(mushroom.stalksurfaceabovering)\n",
    "mushroom.stalksurfacebelowring = le.fit_transform(mushroom.stalksurfacebelowring)\n",
    "mushroom.stalkcolorabovering   = le.fit_transform(mushroom.stalkcolorabovering)\n",
    "mushroom.stalkcolorbelowring   = le.fit_transform(mushroom.stalkcolorbelowring)\n",
    "mushroom.veiltype       = le.fit_transform(mushroom.veiltype)\n",
    "mushroom.veilcolor      = le.fit_transform(mushroom.veilcolor)\n",
    "mushroom.ringnumber     = le.fit_transform(mushroom.ringnumber)\n",
    "mushroom.ringtype       = le.fit_transform(mushroom.ringtype)\n",
    "mushroom.sporeprintcolor = le.fit_transform(mushroom.sporeprintcolor)\n",
    "mushroom.population      = le.fit_transform(mushroom.population)\n",
    "mushroom.habitat         = le.fit_transform(mushroom.habitat)"
   ]
  },
  {
   "cell_type": "code",
   "execution_count": 12,
   "metadata": {},
   "outputs": [
    {
     "data": {
      "text/html": [
       "<div>\n",
       "<style scoped>\n",
       "    .dataframe tbody tr th:only-of-type {\n",
       "        vertical-align: middle;\n",
       "    }\n",
       "\n",
       "    .dataframe tbody tr th {\n",
       "        vertical-align: top;\n",
       "    }\n",
       "\n",
       "    .dataframe thead th {\n",
       "        text-align: right;\n",
       "    }\n",
       "</style>\n",
       "<table border=\"1\" class=\"dataframe\">\n",
       "  <thead>\n",
       "    <tr style=\"text-align: right;\">\n",
       "      <th></th>\n",
       "      <th>Typeofmushroom</th>\n",
       "      <th>capshape</th>\n",
       "      <th>capsurface</th>\n",
       "      <th>capcolor</th>\n",
       "      <th>bruises</th>\n",
       "      <th>odor</th>\n",
       "      <th>gillattachment</th>\n",
       "      <th>gillspacing</th>\n",
       "      <th>gillsize</th>\n",
       "      <th>gillcolor</th>\n",
       "      <th>...</th>\n",
       "      <th>stalksurfacebelowring</th>\n",
       "      <th>stalkcolorabovering</th>\n",
       "      <th>stalkcolorbelowring</th>\n",
       "      <th>veiltype</th>\n",
       "      <th>veilcolor</th>\n",
       "      <th>ringnumber</th>\n",
       "      <th>ringtype</th>\n",
       "      <th>sporeprintcolor</th>\n",
       "      <th>population</th>\n",
       "      <th>habitat</th>\n",
       "    </tr>\n",
       "  </thead>\n",
       "  <tbody>\n",
       "    <tr>\n",
       "      <th>0</th>\n",
       "      <td>0</td>\n",
       "      <td>2</td>\n",
       "      <td>3</td>\n",
       "      <td>8</td>\n",
       "      <td>0</td>\n",
       "      <td>0</td>\n",
       "      <td>1</td>\n",
       "      <td>1</td>\n",
       "      <td>1</td>\n",
       "      <td>10</td>\n",
       "      <td>...</td>\n",
       "      <td>3</td>\n",
       "      <td>7</td>\n",
       "      <td>7</td>\n",
       "      <td>0</td>\n",
       "      <td>2</td>\n",
       "      <td>1</td>\n",
       "      <td>4</td>\n",
       "      <td>6</td>\n",
       "      <td>4</td>\n",
       "      <td>6</td>\n",
       "    </tr>\n",
       "    <tr>\n",
       "      <th>1</th>\n",
       "      <td>0</td>\n",
       "      <td>2</td>\n",
       "      <td>3</td>\n",
       "      <td>8</td>\n",
       "      <td>0</td>\n",
       "      <td>0</td>\n",
       "      <td>1</td>\n",
       "      <td>1</td>\n",
       "      <td>1</td>\n",
       "      <td>10</td>\n",
       "      <td>...</td>\n",
       "      <td>3</td>\n",
       "      <td>7</td>\n",
       "      <td>7</td>\n",
       "      <td>0</td>\n",
       "      <td>2</td>\n",
       "      <td>1</td>\n",
       "      <td>4</td>\n",
       "      <td>1</td>\n",
       "      <td>4</td>\n",
       "      <td>6</td>\n",
       "    </tr>\n",
       "    <tr>\n",
       "      <th>2</th>\n",
       "      <td>0</td>\n",
       "      <td>2</td>\n",
       "      <td>3</td>\n",
       "      <td>8</td>\n",
       "      <td>0</td>\n",
       "      <td>0</td>\n",
       "      <td>1</td>\n",
       "      <td>1</td>\n",
       "      <td>1</td>\n",
       "      <td>7</td>\n",
       "      <td>...</td>\n",
       "      <td>3</td>\n",
       "      <td>7</td>\n",
       "      <td>7</td>\n",
       "      <td>0</td>\n",
       "      <td>2</td>\n",
       "      <td>1</td>\n",
       "      <td>4</td>\n",
       "      <td>6</td>\n",
       "      <td>4</td>\n",
       "      <td>6</td>\n",
       "    </tr>\n",
       "    <tr>\n",
       "      <th>3</th>\n",
       "      <td>0</td>\n",
       "      <td>2</td>\n",
       "      <td>3</td>\n",
       "      <td>8</td>\n",
       "      <td>0</td>\n",
       "      <td>0</td>\n",
       "      <td>1</td>\n",
       "      <td>1</td>\n",
       "      <td>1</td>\n",
       "      <td>7</td>\n",
       "      <td>...</td>\n",
       "      <td>3</td>\n",
       "      <td>7</td>\n",
       "      <td>7</td>\n",
       "      <td>0</td>\n",
       "      <td>2</td>\n",
       "      <td>1</td>\n",
       "      <td>4</td>\n",
       "      <td>1</td>\n",
       "      <td>4</td>\n",
       "      <td>6</td>\n",
       "    </tr>\n",
       "    <tr>\n",
       "      <th>4</th>\n",
       "      <td>0</td>\n",
       "      <td>2</td>\n",
       "      <td>3</td>\n",
       "      <td>8</td>\n",
       "      <td>0</td>\n",
       "      <td>0</td>\n",
       "      <td>1</td>\n",
       "      <td>1</td>\n",
       "      <td>1</td>\n",
       "      <td>1</td>\n",
       "      <td>...</td>\n",
       "      <td>3</td>\n",
       "      <td>7</td>\n",
       "      <td>7</td>\n",
       "      <td>0</td>\n",
       "      <td>2</td>\n",
       "      <td>1</td>\n",
       "      <td>4</td>\n",
       "      <td>6</td>\n",
       "      <td>4</td>\n",
       "      <td>6</td>\n",
       "    </tr>\n",
       "  </tbody>\n",
       "</table>\n",
       "<p>5 rows × 23 columns</p>\n",
       "</div>"
      ],
      "text/plain": [
       "   Typeofmushroom  capshape  capsurface  capcolor  bruises  odor  \\\n",
       "0               0         2           3         8        0     0   \n",
       "1               0         2           3         8        0     0   \n",
       "2               0         2           3         8        0     0   \n",
       "3               0         2           3         8        0     0   \n",
       "4               0         2           3         8        0     0   \n",
       "\n",
       "   gillattachment  gillspacing  gillsize  gillcolor   ...     \\\n",
       "0               1            1         1         10   ...      \n",
       "1               1            1         1         10   ...      \n",
       "2               1            1         1          7   ...      \n",
       "3               1            1         1          7   ...      \n",
       "4               1            1         1          1   ...      \n",
       "\n",
       "   stalksurfacebelowring  stalkcolorabovering  stalkcolorbelowring  veiltype  \\\n",
       "0                      3                    7                    7         0   \n",
       "1                      3                    7                    7         0   \n",
       "2                      3                    7                    7         0   \n",
       "3                      3                    7                    7         0   \n",
       "4                      3                    7                    7         0   \n",
       "\n",
       "   veilcolor  ringnumber  ringtype  sporeprintcolor  population  habitat  \n",
       "0          2           1         4                6           4        6  \n",
       "1          2           1         4                1           4        6  \n",
       "2          2           1         4                6           4        6  \n",
       "3          2           1         4                1           4        6  \n",
       "4          2           1         4                6           4        6  \n",
       "\n",
       "[5 rows x 23 columns]"
      ]
     },
     "execution_count": 12,
     "metadata": {},
     "output_type": "execute_result"
    }
   ],
   "source": [
    "mushroom.head()"
   ]
  },
  {
   "cell_type": "code",
   "execution_count": 9,
   "metadata": {},
   "outputs": [
    {
     "name": "stdout",
     "output_type": "stream",
     "text": [
      "       Typeofmushroom\n",
      "count     8416.000000\n",
      "mean         0.466730\n",
      "std          0.498922\n",
      "min          0.000000\n",
      "25%          0.000000\n",
      "50%          0.000000\n",
      "75%          1.000000\n",
      "max          1.000000\n",
      "          capshape   capsurface     capcolor      bruises         odor  \\\n",
      "count  8416.000000  8416.000000  8416.000000  8416.000000  8416.000000   \n",
      "mean      2.494297     1.733840     4.264734     0.598859     4.828897   \n",
      "std       0.892014     1.190765     3.403228     0.490159     1.961047   \n",
      "min       0.000000     0.000000     0.000000     0.000000     0.000000   \n",
      "25%       2.000000     0.000000     0.000000     0.000000     4.000000   \n",
      "50%       2.000000     2.000000     3.000000     1.000000     6.000000   \n",
      "75%       3.000000     3.000000     8.000000     1.000000     6.000000   \n",
      "max       5.000000     3.000000     9.000000     1.000000     8.000000   \n",
      "\n",
      "       gillattachment  gillspacing     gillsize    gillcolor   stalkshape  \\\n",
      "count     8416.000000  8416.000000  8416.000000  8416.000000  8416.000000   \n",
      "mean         0.974335     0.189163     0.301331     4.692490     0.577947   \n",
      "std          0.158144     0.391662     0.458863     3.353737     0.493916   \n",
      "min          0.000000     0.000000     0.000000     0.000000     0.000000   \n",
      "25%          1.000000     0.000000     0.000000     2.000000     0.000000   \n",
      "50%          1.000000     0.000000     0.000000     4.000000     1.000000   \n",
      "75%          1.000000     0.000000     1.000000     7.000000     1.000000   \n",
      "max          1.000000     1.000000     1.000000    11.000000     1.000000   \n",
      "\n",
      "          ...       stalksurfacebelowring  stalkcolorabovering  \\\n",
      "count     ...                 8416.000000          8416.000000   \n",
      "mean      ...                    2.392110             5.493346   \n",
      "std       ...                    0.914532             2.128817   \n",
      "min       ...                    0.000000             0.000000   \n",
      "25%       ...                    2.000000             5.000000   \n",
      "50%       ...                    3.000000             7.000000   \n",
      "75%       ...                    3.000000             7.000000   \n",
      "max       ...                    3.000000             8.000000   \n",
      "\n",
      "       stalkcolorbelowring  veiltype    veilcolor   ringnumber     ringtype  \\\n",
      "count          8416.000000    8416.0  8416.000000  8416.000000  8416.000000   \n",
      "mean              5.422053       0.0     1.966730     1.065589     2.216730   \n",
      "std               2.196872       0.0     0.238505     0.269635     1.817479   \n",
      "min               0.000000       0.0     0.000000     0.000000     0.000000   \n",
      "25%               5.000000       0.0     2.000000     1.000000     0.000000   \n",
      "50%               7.000000       0.0     2.000000     1.000000     2.000000   \n",
      "75%               7.000000       0.0     2.000000     1.000000     4.000000   \n",
      "max               8.000000       0.0     3.000000     2.000000     4.000000   \n",
      "\n",
      "       sporeprintcolor   population      habitat  \n",
      "count      8416.000000  8416.000000  8416.000000  \n",
      "mean          3.000951     3.576046     3.120722  \n",
      "std           2.824054     1.314272     2.552022  \n",
      "min           0.000000     0.000000     0.000000  \n",
      "25%           1.000000     3.000000     0.000000  \n",
      "50%           3.000000     4.000000     3.000000  \n",
      "75%           7.000000     4.000000     6.000000  \n",
      "max           8.000000     5.000000     6.000000  \n",
      "\n",
      "[8 rows x 22 columns]\n"
     ]
    }
   ],
   "source": [
    "# split the file into Independent and dependent variables\n",
    "mushroomY = mushroom.iloc[::,0:1:1]\n",
    "print(mushroomY.describe())\n",
    "mushroomX = mushroom.iloc[::,1::]\n",
    "print(mushroomX.describe())"
   ]
  },
  {
   "cell_type": "code",
   "execution_count": 10,
   "metadata": {},
   "outputs": [
    {
     "name": "stdout",
     "output_type": "stream",
     "text": [
      "<class 'pandas.core.frame.DataFrame'>\n",
      "<class 'pandas.core.frame.DataFrame'>\n"
     ]
    }
   ],
   "source": [
    "# splitting the data into Train and Test\n",
    "from sklearn.model_selection import train_test_split\n",
    "X_train, X_test, Y_train, Y_test = train_test_split(mushroomX, mushroomY, test_size = 0.30, random_state = 0)\n",
    "print(type(X_train))\n",
    "print(type(Y_train))"
   ]
  },
  {
   "cell_type": "code",
   "execution_count": 11,
   "metadata": {
    "collapsed": true
   },
   "outputs": [],
   "source": [
    "from sklearn.naive_bayes import GaussianNB\n",
    "NB = GaussianNB()\n",
    "NB_model = NB.fit(X_train,Y_train.Typeofmushroom)"
   ]
  },
  {
   "cell_type": "code",
   "execution_count": 12,
   "metadata": {},
   "outputs": [
    {
     "name": "stdout",
     "output_type": "stream",
     "text": [
      "[ 0.53522322  0.46477678]\n",
      "[ 3153.  2738.]\n",
      "[[ 2.33016175  1.5220425   4.01934665  0.38788455  5.01776086  0.95623216\n",
      "   0.32952743  0.06723755  5.49254678  0.64002537  0.75198224  2.58579131\n",
      "   2.4665398   6.03932762  5.90516968  0.          1.93498256  1.11163971\n",
      "   2.81731684  1.56295592  3.19346654  3.06311449]\n",
      " [ 2.67640614  1.98575603  4.50328707  0.83637692  4.62308254  0.99452155\n",
      "   0.0266618   0.56464573  3.85463842  0.51387874  0.14901388  2.30898466\n",
      "   2.29583638  4.84368152  4.86632579  0.          2.00255661  1.00511322\n",
      "   1.53579255  4.58838568  4.01570489  3.17202337]]\n"
     ]
    }
   ],
   "source": [
    "# taget class probabilities\n",
    "print(NB_model.class_prior_)\n",
    "print(NB_model.class_count_)\n",
    "print(NB_model.theta_)"
   ]
  },
  {
   "cell_type": "code",
   "execution_count": 13,
   "metadata": {
    "collapsed": true
   },
   "outputs": [],
   "source": [
    "# apply the model on test\n",
    "predict1 = NB_model.predict(X_test)"
   ]
  },
  {
   "cell_type": "code",
   "execution_count": 20,
   "metadata": {},
   "outputs": [
    {
     "name": "stdout",
     "output_type": "stream",
     "text": [
      "[1 0 1 ..., 0 1 1]\n"
     ]
    }
   ],
   "source": [
    "print(predict1)"
   ]
  },
  {
   "cell_type": "code",
   "execution_count": 14,
   "metadata": {},
   "outputs": [
    {
     "name": "stdout",
     "output_type": "stream",
     "text": [
      "[[1056  279]\n",
      " [ 153 1037]]\n",
      "             precision    recall  f1-score   support\n",
      "\n",
      "          0       0.87      0.79      0.83      1335\n",
      "          1       0.79      0.87      0.83      1190\n",
      "\n",
      "avg / total       0.83      0.83      0.83      2525\n",
      "\n"
     ]
    }
   ],
   "source": [
    "# generate confusion matrix\n",
    "# import confusion matrix and classification report\n",
    "from sklearn.metrics import confusion_matrix, classification_report\n",
    "print (confusion_matrix(Y_test,predict1))\n",
    "print (classification_report(Y_test,predict1))"
   ]
  },
  {
   "cell_type": "code",
   "execution_count": 15,
   "metadata": {},
   "outputs": [
    {
     "name": "stdout",
     "output_type": "stream",
     "text": [
      "0.831219903692\n"
     ]
    }
   ],
   "source": [
    "# generate ROC curve\n",
    "from sklearn.metrics import roc_auc_score, roc_curve\n",
    "AUC = roc_auc_score(Y_test, predict1)\n",
    "print(AUC)\n",
    "# define variables for True Positive Rate and Falst Positive Rate & threshold value\n",
    "TPR = dict()\n",
    "FPR = dict()\n",
    "THR = dict()\n",
    "FPR, TPR, THR = roc_curve(Y_test, predict1)"
   ]
  },
  {
   "cell_type": "code",
   "execution_count": 16,
   "metadata": {},
   "outputs": [
    {
     "data": {
      "image/png": "[encoded data removed]",
      "text/plain": [
       "<matplotlib.figure.Figure at 0x24f277d79e8>"
      ]
     },
     "metadata": {},
     "output_type": "display_data"
    }
   ],
   "source": [
    "# plot the ROC curve\n",
    "import matplotlib.pyplot as plt\n",
    "plt.figure()\n",
    "# plot the FPR as X-axis and TPR as Y-axis\n",
    "plt.plot(FPR, TPR)\n",
    "# plot the minimum line \n",
    "plt.plot([0,1], [0,1], color='navy', linestyle = '--')\n",
    "# set X and Y limits\n",
    "plt.xlim([0.0, 1.05])\n",
    "plt.ylim([0.0, 1.05])\n",
    "# mention lables for X and Y\n",
    "plt.xlabel('False Positive Rate')\n",
    "plt.ylabel('True Positive Rate')\n",
    "plt.title('ROC')\n",
    "plt.show()"
   ]
  },
  {
   "cell_type": "code",
   "execution_count": 17,
   "metadata": {
    "collapsed": true
   },
   "outputs": [],
   "source": [
    "from sklearn.naive_bayes import MultinomialNB\n",
    "MNB = MultinomialNB()\n",
    "MNB_model = MNB.fit(X_train,Y_train.Typeofmushroom)"
   ]
  },
  {
   "cell_type": "code",
   "execution_count": 18,
   "metadata": {},
   "outputs": [
    {
     "name": "stdout",
     "output_type": "stream",
     "text": [
      "[[1144  191]\n",
      " [ 230  960]]\n",
      "             precision    recall  f1-score   support\n",
      "\n",
      "          0       0.83      0.86      0.84      1335\n",
      "          1       0.83      0.81      0.82      1190\n",
      "\n",
      "avg / total       0.83      0.83      0.83      2525\n",
      "\n"
     ]
    }
   ],
   "source": [
    "# apply the model on test\n",
    "predict2 = MNB_model.predict(X_test)\n",
    "print (confusion_matrix(Y_test,predict2))\n",
    "print (classification_report(Y_test,predict2))"
   ]
  },
  {
   "cell_type": "code",
   "execution_count": 19,
   "metadata": {
    "collapsed": true
   },
   "outputs": [],
   "source": [
    "from sklearn.naive_bayes import BernoulliNB\n",
    "BNB = BernoulliNB()\n",
    "BNB_model = BNB.fit(X_train,Y_train.Typeofmushroom)"
   ]
  },
  {
   "cell_type": "code",
   "execution_count": 20,
   "metadata": {},
   "outputs": [
    {
     "name": "stdout",
     "output_type": "stream",
     "text": [
      "[[1204  131]\n",
      " [ 181 1009]]\n",
      "             precision    recall  f1-score   support\n",
      "\n",
      "          0       0.87      0.90      0.89      1335\n",
      "          1       0.89      0.85      0.87      1190\n",
      "\n",
      "avg / total       0.88      0.88      0.88      2525\n",
      "\n"
     ]
    }
   ],
   "source": [
    "# apply the model on test\n",
    "predict3 = BNB_model.predict(X_test)\n",
    "print (confusion_matrix(Y_test,predict3))\n",
    "print (classification_report(Y_test,predict3))"
   ]
  },
  {
   "cell_type": "code",
   "execution_count": null,
   "metadata": {
    "collapsed": true
   },
   "outputs": [],
   "source": []
  },
  {
   "cell_type": "code",
   "execution_count": null,
   "metadata": {
    "collapsed": true
   },
   "outputs": [],
   "source": []
  }
 ],
 "metadata": {
  "kernelspec": {
   "display_name": "Python 3",
   "language": "python",
   "name": "python3"
  },
  "language_info": {
   "codemirror_mode": {
    "name": "ipython",
    "version": 3
   },
   "file_extension": ".py",
   "mimetype": "text/x-python",
   "name": "python",
   "nbconvert_exporter": "python",
   "pygments_lexer": "ipython3",
   "version": "3.7.1"
  }
 },
 "nbformat": 4,
 "nbformat_minor": 2
}
