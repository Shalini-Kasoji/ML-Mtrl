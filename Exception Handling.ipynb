{
 "cells": [
  {
   "cell_type": "code",
   "execution_count": 2,
   "metadata": {},
   "outputs": [
    {
     "name": "stdout",
     "output_type": "stream",
     "text": [
      "Try Block\n",
      "Enter any number:10\n",
      "Enter any number:0\n",
      "Except Block\n",
      "Zero division error\n",
      "Enter number greater than 1\n",
      "Finally Block\n",
      "Out of Try,Except,Else & Finally blocks\n"
     ]
    }
   ],
   "source": [
    "#exception handling\n",
    "\n",
    "try:\n",
    "    print(\"Try Block\")\n",
    "    x=int(input(\"Enter any number:\"))\n",
    "    y=int(input(\"Enter any number:\"))\n",
    "    z=x/y\n",
    "    p=x+y\n",
    "except ZeroDivisionError:\n",
    "    print(\"Except Block\")\n",
    "    print(\"Zero division error\")\n",
    "    print(\"Enter number greater than 1\")\n",
    "except ValueError:\n",
    "    print(\"Value error\") \n",
    "    print(\"operate on same type\")\n",
    "else:\n",
    "    print(\"Else Block\")\n",
    "    print(\"Division\",z)\n",
    "    print(\"Operated Value\",p)\n",
    "finally:\n",
    "    print(\"Finally Block\")\n",
    "    print(\"Out of Try,Except,Else & Finally blocks\")"
   ]
  },
  {
   "cell_type": "code",
   "execution_count": 5,
   "metadata": {},
   "outputs": [
    {
     "name": "stdout",
     "output_type": "stream",
     "text": [
      "Try Block\n",
      "Enter any number:9\n",
      "Enter any number:hello\n",
      "Value error\n",
      "Enter a value of same data type\n",
      "Finally Block\n",
      "Out of Try,Except,Else & Finally blocks\n"
     ]
    }
   ],
   "source": [
    "#exception handling\n",
    "\n",
    "try:\n",
    "    print(\"Try Block\")\n",
    "    x=int(input(\"Enter any number:\"))\n",
    "    y=int(input(\"Enter any number:\"))\n",
    "    z=x/y\n",
    "    p=x+y\n",
    "except ZeroDivisionError:\n",
    "    print(\"Except Block\")\n",
    "    print(\"Zero division error\")\n",
    "    print(\"Enter number greater than 1\")\n",
    "except ValueError:\n",
    "    print(\"Value error\") \n",
    "    print(\"Enter a value of same data type\")\n",
    "else:\n",
    "    print(\"Else Block\")\n",
    "    print(\"Division\",z)\n",
    "    print(\"Operated Value\",p)\n",
    "finally:\n",
    "    print(\"Finally Block\")\n",
    "    print(\"Out of Try,Except,Else & Finally blocks\")"
   ]
  },
  {
   "cell_type": "code",
   "execution_count": 7,
   "metadata": {},
   "outputs": [
    {
     "name": "stdout",
     "output_type": "stream",
     "text": [
      "enter number upto 50:5\n",
      "5 is within the range\n",
      "Raise Exception executed\n"
     ]
    }
   ],
   "source": [
    "#Raise Exception\n",
    "\n",
    "try:\n",
    "    x=int(input(\"enter number upto 50:\"))\n",
    "    if x>50:\n",
    "        raise ValueError(x)\n",
    "except ValueError:\n",
    "    print(x,\"is out of range\")\n",
    "else:\n",
    "    print(x,\"is within the range\")\n",
    "finally:\n",
    "    print(\"Raise Exception executed\")"
   ]
  },
  {
   "cell_type": "code",
   "execution_count": 9,
   "metadata": {},
   "outputs": [
    {
     "name": "stdout",
     "output_type": "stream",
     "text": [
      "enter number upto 50:60\n",
      "60 is out of range\n",
      "Accepts upto 50\n"
     ]
    }
   ],
   "source": [
    "#Raise Exception\n",
    "\n",
    "try:\n",
    "    x=int(input(\"enter number upto 50:\"))\n",
    "    if x>50:\n",
    "        raise ValueError(x)\n",
    "except ValueError:\n",
    "    print(x,\"is out of range\")\n",
    "else:\n",
    "    print(x,\"is within the range\")\n",
    "finally:\n",
    "    print(\"Accepts upto 50\")"
   ]
  },
  {
   "cell_type": "code",
   "execution_count": null,
   "metadata": {},
   "outputs": [],
   "source": []
  }
 ],
 "metadata": {
  "kernelspec": {
   "display_name": "Python 3",
   "language": "python",
   "name": "python3"
  },
  "language_info": {
   "codemirror_mode": {
    "name": "ipython",
    "version": 3
   },
   "file_extension": ".py",
   "mimetype": "text/x-python",
   "name": "python",
   "nbconvert_exporter": "python",
   "pygments_lexer": "ipython3",
   "version": "3.7.1"
  }
 },
 "nbformat": 4,
 "nbformat_minor": 2
}
