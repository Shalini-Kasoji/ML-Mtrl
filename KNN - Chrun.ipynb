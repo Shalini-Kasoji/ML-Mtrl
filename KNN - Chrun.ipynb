{
 "cells": [
  {
   "cell_type": "code",
   "execution_count": 1,
   "metadata": {},
   "outputs": [
    {
     "name": "stdout",
     "output_type": "stream",
     "text": [
      "C:\\Users\\Vishnu Murthy Chakka\n",
      "C:\\Digital Nest\\KNN\n"
     ]
    }
   ],
   "source": [
    "import os\n",
    "print (os.getcwd())\n",
    "os.chdir(\"C://Digital Nest/KNN\")\n",
    "print (os.getcwd())"
   ]
  },
  {
   "cell_type": "code",
   "execution_count": 2,
   "metadata": {},
   "outputs": [
    {
     "data": {
      "text/html": [
       "<div>\n",
       "<style scoped>\n",
       "    .dataframe tbody tr th:only-of-type {\n",
       "        vertical-align: middle;\n",
       "    }\n",
       "\n",
       "    .dataframe tbody tr th {\n",
       "        vertical-align: top;\n",
       "    }\n",
       "\n",
       "    .dataframe thead th {\n",
       "        text-align: right;\n",
       "    }\n",
       "</style>\n",
       "<table border=\"1\" class=\"dataframe\">\n",
       "  <thead>\n",
       "    <tr style=\"text-align: right;\">\n",
       "      <th></th>\n",
       "      <th>AccountLength</th>\n",
       "      <th>VMailMessage</th>\n",
       "      <th>DayMins</th>\n",
       "      <th>EveMins</th>\n",
       "      <th>NightMins</th>\n",
       "      <th>IntlMins</th>\n",
       "      <th>CustServCalls</th>\n",
       "      <th>Churn</th>\n",
       "      <th>IntlPlan</th>\n",
       "      <th>VMailPlan</th>\n",
       "      <th>DayCalls</th>\n",
       "      <th>DayCharge</th>\n",
       "      <th>EveCalls</th>\n",
       "      <th>EveCharge</th>\n",
       "      <th>NightCalls</th>\n",
       "      <th>NightCharge</th>\n",
       "      <th>IntlCalls</th>\n",
       "      <th>IntlCharge</th>\n",
       "      <th>AreaCode</th>\n",
       "    </tr>\n",
       "  </thead>\n",
       "  <tbody>\n",
       "    <tr>\n",
       "      <th>count</th>\n",
       "      <td>3333.000000</td>\n",
       "      <td>3333.000000</td>\n",
       "      <td>3333.000000</td>\n",
       "      <td>3333.000000</td>\n",
       "      <td>3333.000000</td>\n",
       "      <td>3333.000000</td>\n",
       "      <td>3333.000000</td>\n",
       "      <td>3333.000000</td>\n",
       "      <td>3333.000000</td>\n",
       "      <td>3333.000000</td>\n",
       "      <td>3333.000000</td>\n",
       "      <td>3333.000000</td>\n",
       "      <td>3333.000000</td>\n",
       "      <td>3333.000000</td>\n",
       "      <td>3333.000000</td>\n",
       "      <td>3333.000000</td>\n",
       "      <td>3333.000000</td>\n",
       "      <td>3333.000000</td>\n",
       "      <td>3333.000000</td>\n",
       "    </tr>\n",
       "    <tr>\n",
       "      <th>mean</th>\n",
       "      <td>101.064806</td>\n",
       "      <td>8.099010</td>\n",
       "      <td>179.775098</td>\n",
       "      <td>200.980348</td>\n",
       "      <td>200.872037</td>\n",
       "      <td>10.237294</td>\n",
       "      <td>1.562856</td>\n",
       "      <td>0.144914</td>\n",
       "      <td>0.096910</td>\n",
       "      <td>0.276628</td>\n",
       "      <td>100.435644</td>\n",
       "      <td>30.562307</td>\n",
       "      <td>100.114311</td>\n",
       "      <td>17.083540</td>\n",
       "      <td>100.107711</td>\n",
       "      <td>9.039325</td>\n",
       "      <td>4.479448</td>\n",
       "      <td>2.764581</td>\n",
       "      <td>437.182418</td>\n",
       "    </tr>\n",
       "    <tr>\n",
       "      <th>std</th>\n",
       "      <td>39.822106</td>\n",
       "      <td>13.688365</td>\n",
       "      <td>54.467389</td>\n",
       "      <td>50.713844</td>\n",
       "      <td>50.573847</td>\n",
       "      <td>2.791840</td>\n",
       "      <td>1.315491</td>\n",
       "      <td>0.352067</td>\n",
       "      <td>0.295879</td>\n",
       "      <td>0.447398</td>\n",
       "      <td>20.069084</td>\n",
       "      <td>9.259435</td>\n",
       "      <td>19.922625</td>\n",
       "      <td>4.310668</td>\n",
       "      <td>19.568609</td>\n",
       "      <td>2.275873</td>\n",
       "      <td>2.461214</td>\n",
       "      <td>0.753773</td>\n",
       "      <td>42.371290</td>\n",
       "    </tr>\n",
       "    <tr>\n",
       "      <th>min</th>\n",
       "      <td>1.000000</td>\n",
       "      <td>0.000000</td>\n",
       "      <td>0.000000</td>\n",
       "      <td>0.000000</td>\n",
       "      <td>23.200000</td>\n",
       "      <td>0.000000</td>\n",
       "      <td>0.000000</td>\n",
       "      <td>0.000000</td>\n",
       "      <td>0.000000</td>\n",
       "      <td>0.000000</td>\n",
       "      <td>0.000000</td>\n",
       "      <td>0.000000</td>\n",
       "      <td>0.000000</td>\n",
       "      <td>0.000000</td>\n",
       "      <td>33.000000</td>\n",
       "      <td>1.040000</td>\n",
       "      <td>0.000000</td>\n",
       "      <td>0.000000</td>\n",
       "      <td>408.000000</td>\n",
       "    </tr>\n",
       "    <tr>\n",
       "      <th>25%</th>\n",
       "      <td>74.000000</td>\n",
       "      <td>0.000000</td>\n",
       "      <td>143.700000</td>\n",
       "      <td>166.600000</td>\n",
       "      <td>167.000000</td>\n",
       "      <td>8.500000</td>\n",
       "      <td>1.000000</td>\n",
       "      <td>0.000000</td>\n",
       "      <td>0.000000</td>\n",
       "      <td>0.000000</td>\n",
       "      <td>87.000000</td>\n",
       "      <td>24.430000</td>\n",
       "      <td>87.000000</td>\n",
       "      <td>14.160000</td>\n",
       "      <td>87.000000</td>\n",
       "      <td>7.520000</td>\n",
       "      <td>3.000000</td>\n",
       "      <td>2.300000</td>\n",
       "      <td>408.000000</td>\n",
       "    </tr>\n",
       "    <tr>\n",
       "      <th>50%</th>\n",
       "      <td>101.000000</td>\n",
       "      <td>0.000000</td>\n",
       "      <td>179.400000</td>\n",
       "      <td>201.400000</td>\n",
       "      <td>201.200000</td>\n",
       "      <td>10.300000</td>\n",
       "      <td>1.000000</td>\n",
       "      <td>0.000000</td>\n",
       "      <td>0.000000</td>\n",
       "      <td>0.000000</td>\n",
       "      <td>101.000000</td>\n",
       "      <td>30.500000</td>\n",
       "      <td>100.000000</td>\n",
       "      <td>17.120000</td>\n",
       "      <td>100.000000</td>\n",
       "      <td>9.050000</td>\n",
       "      <td>4.000000</td>\n",
       "      <td>2.780000</td>\n",
       "      <td>415.000000</td>\n",
       "    </tr>\n",
       "    <tr>\n",
       "      <th>75%</th>\n",
       "      <td>127.000000</td>\n",
       "      <td>20.000000</td>\n",
       "      <td>216.400000</td>\n",
       "      <td>235.300000</td>\n",
       "      <td>235.300000</td>\n",
       "      <td>12.100000</td>\n",
       "      <td>2.000000</td>\n",
       "      <td>0.000000</td>\n",
       "      <td>0.000000</td>\n",
       "      <td>1.000000</td>\n",
       "      <td>114.000000</td>\n",
       "      <td>36.790000</td>\n",
       "      <td>114.000000</td>\n",
       "      <td>20.000000</td>\n",
       "      <td>113.000000</td>\n",
       "      <td>10.590000</td>\n",
       "      <td>6.000000</td>\n",
       "      <td>3.270000</td>\n",
       "      <td>510.000000</td>\n",
       "    </tr>\n",
       "    <tr>\n",
       "      <th>max</th>\n",
       "      <td>243.000000</td>\n",
       "      <td>51.000000</td>\n",
       "      <td>350.800000</td>\n",
       "      <td>363.700000</td>\n",
       "      <td>395.000000</td>\n",
       "      <td>20.000000</td>\n",
       "      <td>9.000000</td>\n",
       "      <td>1.000000</td>\n",
       "      <td>1.000000</td>\n",
       "      <td>1.000000</td>\n",
       "      <td>165.000000</td>\n",
       "      <td>59.640000</td>\n",
       "      <td>170.000000</td>\n",
       "      <td>30.910000</td>\n",
       "      <td>175.000000</td>\n",
       "      <td>17.770000</td>\n",
       "      <td>20.000000</td>\n",
       "      <td>5.400000</td>\n",
       "      <td>510.000000</td>\n",
       "    </tr>\n",
       "  </tbody>\n",
       "</table>\n",
       "</div>"
      ],
      "text/plain": [
       "       AccountLength  VMailMessage      DayMins      EveMins    NightMins  \\\n",
       "count    3333.000000   3333.000000  3333.000000  3333.000000  3333.000000   \n",
       "mean      101.064806      8.099010   179.775098   200.980348   200.872037   \n",
       "std        39.822106     13.688365    54.467389    50.713844    50.573847   \n",
       "min         1.000000      0.000000     0.000000     0.000000    23.200000   \n",
       "25%        74.000000      0.000000   143.700000   166.600000   167.000000   \n",
       "50%       101.000000      0.000000   179.400000   201.400000   201.200000   \n",
       "75%       127.000000     20.000000   216.400000   235.300000   235.300000   \n",
       "max       243.000000     51.000000   350.800000   363.700000   395.000000   \n",
       "\n",
       "          IntlMins  CustServCalls        Churn     IntlPlan    VMailPlan  \\\n",
       "count  3333.000000    3333.000000  3333.000000  3333.000000  3333.000000   \n",
       "mean     10.237294       1.562856     0.144914     0.096910     0.276628   \n",
       "std       2.791840       1.315491     0.352067     0.295879     0.447398   \n",
       "min       0.000000       0.000000     0.000000     0.000000     0.000000   \n",
       "25%       8.500000       1.000000     0.000000     0.000000     0.000000   \n",
       "50%      10.300000       1.000000     0.000000     0.000000     0.000000   \n",
       "75%      12.100000       2.000000     0.000000     0.000000     1.000000   \n",
       "max      20.000000       9.000000     1.000000     1.000000     1.000000   \n",
       "\n",
       "          DayCalls    DayCharge     EveCalls    EveCharge   NightCalls  \\\n",
       "count  3333.000000  3333.000000  3333.000000  3333.000000  3333.000000   \n",
       "mean    100.435644    30.562307   100.114311    17.083540   100.107711   \n",
       "std      20.069084     9.259435    19.922625     4.310668    19.568609   \n",
       "min       0.000000     0.000000     0.000000     0.000000    33.000000   \n",
       "25%      87.000000    24.430000    87.000000    14.160000    87.000000   \n",
       "50%     101.000000    30.500000   100.000000    17.120000   100.000000   \n",
       "75%     114.000000    36.790000   114.000000    20.000000   113.000000   \n",
       "max     165.000000    59.640000   170.000000    30.910000   175.000000   \n",
       "\n",
       "       NightCharge    IntlCalls   IntlCharge     AreaCode  \n",
       "count  3333.000000  3333.000000  3333.000000  3333.000000  \n",
       "mean      9.039325     4.479448     2.764581   437.182418  \n",
       "std       2.275873     2.461214     0.753773    42.371290  \n",
       "min       1.040000     0.000000     0.000000   408.000000  \n",
       "25%       7.520000     3.000000     2.300000   408.000000  \n",
       "50%       9.050000     4.000000     2.780000   415.000000  \n",
       "75%      10.590000     6.000000     3.270000   510.000000  \n",
       "max      17.770000    20.000000     5.400000   510.000000  "
      ]
     },
     "execution_count": 2,
     "metadata": {},
     "output_type": "execute_result"
    }
   ],
   "source": [
    "import numpy as np\n",
    "import pandas as pd\n",
    "churn = pd.read_csv('Churn.csv')\n",
    "churn.describe()"
   ]
  },
  {
   "cell_type": "code",
   "execution_count": 27,
   "metadata": {},
   "outputs": [
    {
     "data": {
      "text/plain": [
       "483"
      ]
     },
     "execution_count": 27,
     "metadata": {},
     "output_type": "execute_result"
    }
   ],
   "source": [
    "sum(churn.Churn)"
   ]
  },
  {
   "cell_type": "code",
   "execution_count": 3,
   "metadata": {},
   "outputs": [
    {
     "data": {
      "text/plain": [
       "array(['AccountLength', 'VMailMessage', 'DayMins', 'EveMins', 'NightMins',\n",
       "       'IntlMins', 'CustServCalls', 'Churn', 'IntlPlan', 'VMailPlan',\n",
       "       'DayCalls', 'DayCharge', 'EveCalls', 'EveCharge', 'NightCalls',\n",
       "       'NightCharge', 'IntlCalls', 'IntlCharge', 'State', 'AreaCode',\n",
       "       'Phone'], dtype=object)"
      ]
     },
     "execution_count": 3,
     "metadata": {},
     "output_type": "execute_result"
    }
   ],
   "source": [
    "churn.columns.values"
   ]
  },
  {
   "cell_type": "code",
   "execution_count": 4,
   "metadata": {},
   "outputs": [
    {
     "data": {
      "text/plain": [
       "False"
      ]
     },
     "execution_count": 4,
     "metadata": {},
     "output_type": "execute_result"
    }
   ],
   "source": [
    "# check if any NA values\n",
    "churn.isnull().values.any()"
   ]
  },
  {
   "cell_type": "code",
   "execution_count": 3,
   "metadata": {},
   "outputs": [
    {
     "name": "stdout",
     "output_type": "stream",
     "text": [
      "count    3333.000000\n",
      "mean       26.059406\n",
      "std        14.824911\n",
      "min         0.000000\n",
      "25%        14.000000\n",
      "50%        26.000000\n",
      "75%        39.000000\n",
      "max        50.000000\n",
      "Name: State, dtype: float64\n"
     ]
    }
   ],
   "source": [
    "from sklearn.preprocessing import LabelEncoder\n",
    "le = LabelEncoder()\n",
    "churn.State = le.fit_transform(churn.State)\n",
    "print(churn.State.describe())"
   ]
  },
  {
   "cell_type": "code",
   "execution_count": 6,
   "metadata": {},
   "outputs": [
    {
     "data": {
      "text/plain": [
       "array([[ 1.        ,  0.99999995],\n",
       "       [ 0.99999995,  1.        ]])"
      ]
     },
     "execution_count": 6,
     "metadata": {},
     "output_type": "execute_result"
    }
   ],
   "source": [
    "# find out corrleation between day charge and day minutes\n",
    "np.corrcoef(churn.DayMins,churn.DayCharge)"
   ]
  },
  {
   "cell_type": "code",
   "execution_count": 7,
   "metadata": {},
   "outputs": [
    {
     "data": {
      "text/plain": [
       "array([[ 1.        ,  0.99999978],\n",
       "       [ 0.99999978,  1.        ]])"
      ]
     },
     "execution_count": 7,
     "metadata": {},
     "output_type": "execute_result"
    }
   ],
   "source": [
    "np.corrcoef(churn.EveMins,churn.EveCharge)"
   ]
  },
  {
   "cell_type": "code",
   "execution_count": 8,
   "metadata": {},
   "outputs": [
    {
     "data": {
      "text/plain": [
       "array([[ 1.        ,  0.99999921],\n",
       "       [ 0.99999921,  1.        ]])"
      ]
     },
     "execution_count": 8,
     "metadata": {},
     "output_type": "execute_result"
    }
   ],
   "source": [
    "np.corrcoef(churn.NightMins,churn.NightCharge)"
   ]
  },
  {
   "cell_type": "code",
   "execution_count": 9,
   "metadata": {},
   "outputs": [
    {
     "data": {
      "text/plain": [
       "array([[ 1.        ,  0.99999274],\n",
       "       [ 0.99999274,  1.        ]])"
      ]
     },
     "execution_count": 9,
     "metadata": {},
     "output_type": "execute_result"
    }
   ],
   "source": [
    "np.corrcoef(churn.IntlMins,churn.IntlCharge)"
   ]
  },
  {
   "cell_type": "code",
   "execution_count": 10,
   "metadata": {},
   "outputs": [
    {
     "data": {
      "text/plain": [
       "array([[ 1.        ,  0.00675296],\n",
       "       [ 0.00675296,  1.        ]])"
      ]
     },
     "execution_count": 10,
     "metadata": {},
     "output_type": "execute_result"
    }
   ],
   "source": [
    "np.corrcoef(churn.DayCalls,churn.DayCharge)"
   ]
  },
  {
   "cell_type": "code",
   "execution_count": 5,
   "metadata": {},
   "outputs": [
    {
     "name": "stdout",
     "output_type": "stream",
     "text": [
      "             Churn\n",
      "count  3333.000000\n",
      "mean      0.144914\n",
      "std       0.352067\n",
      "min       0.000000\n",
      "25%       0.000000\n",
      "50%       0.000000\n",
      "75%       0.000000\n",
      "max       1.000000\n",
      "       AccountLength  VMailMessage      DayMins      EveMins    NightMins  \\\n",
      "count    3333.000000   3333.000000  3333.000000  3333.000000  3333.000000   \n",
      "mean      101.064806      8.099010   179.775098   200.980348   200.872037   \n",
      "std        39.822106     13.688365    54.467389    50.713844    50.573847   \n",
      "min         1.000000      0.000000     0.000000     0.000000    23.200000   \n",
      "25%        74.000000      0.000000   143.700000   166.600000   167.000000   \n",
      "50%       101.000000      0.000000   179.400000   201.400000   201.200000   \n",
      "75%       127.000000     20.000000   216.400000   235.300000   235.300000   \n",
      "max       243.000000     51.000000   350.800000   363.700000   395.000000   \n",
      "\n",
      "          IntlMins  CustServCalls     IntlPlan    VMailPlan     DayCalls  \\\n",
      "count  3333.000000    3333.000000  3333.000000  3333.000000  3333.000000   \n",
      "mean     10.237294       1.562856     0.096910     0.276628   100.435644   \n",
      "std       2.791840       1.315491     0.295879     0.447398    20.069084   \n",
      "min       0.000000       0.000000     0.000000     0.000000     0.000000   \n",
      "25%       8.500000       1.000000     0.000000     0.000000    87.000000   \n",
      "50%      10.300000       1.000000     0.000000     0.000000   101.000000   \n",
      "75%      12.100000       2.000000     0.000000     1.000000   114.000000   \n",
      "max      20.000000       9.000000     1.000000     1.000000   165.000000   \n",
      "\n",
      "          EveCalls   NightCalls    IntlCalls        State     AreaCode  \n",
      "count  3333.000000  3333.000000  3333.000000  3333.000000  3333.000000  \n",
      "mean    100.114311   100.107711     4.479448    26.059406   437.182418  \n",
      "std      19.922625    19.568609     2.461214    14.824911    42.371290  \n",
      "min       0.000000    33.000000     0.000000     0.000000   408.000000  \n",
      "25%      87.000000    87.000000     3.000000    14.000000   408.000000  \n",
      "50%     100.000000   100.000000     4.000000    26.000000   415.000000  \n",
      "75%     114.000000   113.000000     6.000000    39.000000   510.000000  \n",
      "max     170.000000   175.000000    20.000000    50.000000   510.000000  \n"
     ]
    }
   ],
   "source": [
    "# split the file into Independent and dependent variables\n",
    "churnY = churn.iloc[::,7:8:1]\n",
    "print(churnY.describe())\n",
    "columnsX = [0,1,2,3,4,5,6,8,9,10,12,14,16,18,19]\n",
    "churnX = churn.iloc[::,columnsX]\n",
    "print(churnX.describe())"
   ]
  },
  {
   "cell_type": "code",
   "execution_count": 6,
   "metadata": {},
   "outputs": [
    {
     "name": "stdout",
     "output_type": "stream",
     "text": [
      "<class 'pandas.core.frame.DataFrame'>\n",
      "<class 'pandas.core.frame.DataFrame'>\n"
     ]
    }
   ],
   "source": [
    "# splitting the data into Train and Test\n",
    "from sklearn.model_selection import train_test_split\n",
    "X_train, X_test, Y_train, Y_test = train_test_split(churnX, churnY, test_size = 0.30, random_state = 0)\n",
    "print(type(X_train))\n",
    "print(type(Y_train))"
   ]
  },
  {
   "cell_type": "code",
   "execution_count": 12,
   "metadata": {},
   "outputs": [
    {
     "name": "stdout",
     "output_type": "stream",
     "text": [
      "[0 0 0 0 1 0 0 0 0 0]\n"
     ]
    }
   ],
   "source": [
    "from sklearn.neighbors import KNeighborsClassifier\n",
    "KNN = KNeighborsClassifier(n_neighbors=3, weights = 'uniform')\n",
    "KNN.fit(X_train,Y_train.Churn)\n",
    "predictY = KNN.predict(X_test)\n",
    "print(predictY[0:10])"
   ]
  },
  {
   "cell_type": "code",
   "execution_count": 13,
   "metadata": {},
   "outputs": [
    {
     "name": "stdout",
     "output_type": "stream",
     "text": [
      "[[ 1.          0.        ]\n",
      " [ 1.          0.        ]\n",
      " [ 1.          0.        ]\n",
      " [ 0.66666667  0.33333333]\n",
      " [ 0.          1.        ]\n",
      " [ 1.          0.        ]\n",
      " [ 1.          0.        ]\n",
      " [ 1.          0.        ]\n",
      " [ 1.          0.        ]\n",
      " [ 1.          0.        ]]\n"
     ]
    }
   ],
   "source": [
    "PProb = KNN.predict_proba(X_test)\n",
    "print(PProb[0:10])"
   ]
  },
  {
   "cell_type": "code",
   "execution_count": 8,
   "metadata": {},
   "outputs": [
    {
     "name": "stdout",
     "output_type": "stream",
     "text": [
      "[[822  40]\n",
      " [107  31]]\n",
      "             precision    recall  f1-score   support\n",
      "\n",
      "          0       0.88      0.95      0.92       862\n",
      "          1       0.44      0.22      0.30       138\n",
      "\n",
      "avg / total       0.82      0.85      0.83      1000\n",
      "\n"
     ]
    }
   ],
   "source": [
    "# generate confusion matrix\n",
    "# import confusion matrix and classification report\n",
    "from sklearn.metrics import confusion_matrix, classification_report\n",
    "print (confusion_matrix(Y_test,predictY))\n",
    "print (classification_report(Y_test,predictY))"
   ]
  },
  {
   "cell_type": "code",
   "execution_count": 17,
   "metadata": {},
   "outputs": [
    {
     "name": "stdout",
     "output_type": "stream",
     "text": [
      "[[ 1.          0.        ]\n",
      " [ 1.          0.        ]\n",
      " [ 1.          0.        ]\n",
      " ..., \n",
      " [ 1.          0.        ]\n",
      " [ 1.          0.        ]\n",
      " [ 0.66666667  0.33333333]]\n"
     ]
    }
   ],
   "source": [
    "Prob1 = KNN.predict_proba(X_test)\n",
    "print(Prob1)"
   ]
  },
  {
   "cell_type": "code",
   "execution_count": 9,
   "metadata": {},
   "outputs": [
    {
     "name": "stdout",
     "output_type": "stream",
     "text": [
      "0.589116984431\n"
     ]
    }
   ],
   "source": [
    "# generate ROC curve\n",
    "from sklearn.metrics import roc_auc_score, roc_curve\n",
    "AUC = roc_auc_score(Y_test, predictY)\n",
    "print(AUC)\n",
    "# define variables for True Positive Rate and Falst Positive Rate & threshold value\n",
    "TPR = dict()\n",
    "FPR = dict()\n",
    "THR = dict()\n",
    "FPR, TPR, THR = roc_curve(Y_test, predictY)"
   ]
  },
  {
   "cell_type": "code",
   "execution_count": 10,
   "metadata": {},
   "outputs": [
    {
     "data": {
      "image/png": "[encoded data removed]",
      "text/plain": [
       "<matplotlib.figure.Figure at 0x23e0489fe80>"
      ]
     },
     "metadata": {},
     "output_type": "display_data"
    }
   ],
   "source": [
    "import matplotlib.pyplot as plt\n",
    "plt.figure()\n",
    "# plot the FPR as X-axis and TPR as Y-axis\n",
    "plt.plot(FPR, TPR)\n",
    "# plot the minimum line \n",
    "plt.plot([0,1], [0,1], color='navy', linestyle = '--')\n",
    "# set X and Y limits\n",
    "plt.xlim([0.0, 1.05])\n",
    "plt.ylim([0.0, 1.05])\n",
    "# mention lables for X and Y\n",
    "plt.xlabel('False Positive Rate')\n",
    "plt.ylabel('True Positive Rate')\n",
    "plt.title('ROC')\n",
    "plt.show()"
   ]
  },
  {
   "cell_type": "code",
   "execution_count": 14,
   "metadata": {},
   "outputs": [
    {
     "name": "stdout",
     "output_type": "stream",
     "text": [
      "[[860   2]\n",
      " [117  21]]\n",
      "             precision    recall  f1-score   support\n",
      "\n",
      "          0       0.88      1.00      0.94       862\n",
      "          1       0.91      0.15      0.26       138\n",
      "\n",
      "avg / total       0.88      0.88      0.84      1000\n",
      "\n"
     ]
    }
   ],
   "source": [
    "# set the 'distance' as weight\n",
    "KNN2 = KNeighborsClassifier(n_neighbors=51, weights = 'distance')\n",
    "KNN2.fit(X_train,Y_train.Churn)\n",
    "predictY2 = KNN2.predict(X_test)\n",
    "print (confusion_matrix(Y_test,predictY2))\n",
    "print (classification_report(Y_test,predictY2))"
   ]
  },
  {
   "cell_type": "code",
   "execution_count": 15,
   "metadata": {},
   "outputs": [
    {
     "name": "stdout",
     "output_type": "stream",
     "text": [
      "0.574926863714\n"
     ]
    }
   ],
   "source": [
    "# generate ROC curve\n",
    "from sklearn.metrics import roc_auc_score, roc_curve\n",
    "AUC = roc_auc_score(Y_test, predictY2)\n",
    "print(AUC)\n",
    "# define variables for True Positive Rate and Falst Positive Rate & threshold value\n",
    "TPR = dict()\n",
    "FPR = dict()\n",
    "THR = dict()\n",
    "FPR, TPR, THR = roc_curve(Y_test, predictY2)"
   ]
  },
  {
   "cell_type": "code",
   "execution_count": 12,
   "metadata": {},
   "outputs": [
    {
     "name": "stdout",
     "output_type": "stream",
     "text": [
      "[[854   8]\n",
      " [110  28]]\n",
      "             precision    recall  f1-score   support\n",
      "\n",
      "          0       0.89      0.99      0.94       862\n",
      "          1       0.78      0.20      0.32       138\n",
      "\n",
      "avg / total       0.87      0.88      0.85      1000\n",
      "\n"
     ]
    }
   ],
   "source": [
    "# set the neightbours to 4\n",
    "KNN3 = KNeighborsClassifier(n_neighbors=15, weights = 'distance')\n",
    "KNN3.fit(X_train,Y_train.Churn)\n",
    "predictY3 = KNN3.predict(X_test)\n",
    "print (confusion_matrix(Y_test,predictY3))\n",
    "print (classification_report(Y_test,predictY3))"
   ]
  },
  {
   "cell_type": "code",
   "execution_count": 13,
   "metadata": {},
   "outputs": [
    {
     "name": "stdout",
     "output_type": "stream",
     "text": [
      "0.596808904133\n"
     ]
    }
   ],
   "source": [
    "AUC = roc_auc_score(Y_test, predictY3)\n",
    "print(AUC)\n",
    "# define variables for True Positive Rate and Falst Positive Rate & threshold value\n",
    "TPR = dict()\n",
    "FPR = dict()\n",
    "THR = dict()\n",
    "FPR, TPR, THR = roc_curve(Y_test, predictY3)"
   ]
  },
  {
   "cell_type": "code",
   "execution_count": null,
   "metadata": {
    "collapsed": true
   },
   "outputs": [],
   "source": []
  }
 ],
 "metadata": {
  "kernelspec": {
   "display_name": "Python 3",
   "language": "python",
   "name": "python3"
  },
  "language_info": {
   "codemirror_mode": {
    "name": "ipython",
    "version": 3
   },
   "file_extension": ".py",
   "mimetype": "text/x-python",
   "name": "python",
   "nbconvert_exporter": "python",
   "pygments_lexer": "ipython3",
   "version": "3.7.1"
  }
 },
 "nbformat": 4,
 "nbformat_minor": 2
}
