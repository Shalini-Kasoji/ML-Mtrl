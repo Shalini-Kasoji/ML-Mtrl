{
 "cells": [
  {
   "cell_type": "code",
   "execution_count": 85,
   "metadata": {},
   "outputs": [
    {
     "data": {
      "text/html": [
       "<div>\n",
       "<style scoped>\n",
       "    .dataframe tbody tr th:only-of-type {\n",
       "        vertical-align: middle;\n",
       "    }\n",
       "\n",
       "    .dataframe tbody tr th {\n",
       "        vertical-align: top;\n",
       "    }\n",
       "\n",
       "    .dataframe thead th {\n",
       "        text-align: right;\n",
       "    }\n",
       "</style>\n",
       "<table border=\"1\" class=\"dataframe\">\n",
       "  <thead>\n",
       "    <tr style=\"text-align: right;\">\n",
       "      <th></th>\n",
       "      <th>PassengerId</th>\n",
       "      <th>Survived</th>\n",
       "      <th>Pclass</th>\n",
       "      <th>Age</th>\n",
       "      <th>SibSp</th>\n",
       "      <th>Parch</th>\n",
       "      <th>Fare</th>\n",
       "    </tr>\n",
       "  </thead>\n",
       "  <tbody>\n",
       "    <tr>\n",
       "      <th>count</th>\n",
       "      <td>891.000000</td>\n",
       "      <td>891.000000</td>\n",
       "      <td>891.000000</td>\n",
       "      <td>714.000000</td>\n",
       "      <td>891.000000</td>\n",
       "      <td>891.000000</td>\n",
       "      <td>891.000000</td>\n",
       "    </tr>\n",
       "    <tr>\n",
       "      <th>mean</th>\n",
       "      <td>446.000000</td>\n",
       "      <td>0.383838</td>\n",
       "      <td>2.308642</td>\n",
       "      <td>29.699118</td>\n",
       "      <td>0.523008</td>\n",
       "      <td>0.381594</td>\n",
       "      <td>32.204208</td>\n",
       "    </tr>\n",
       "    <tr>\n",
       "      <th>std</th>\n",
       "      <td>257.353842</td>\n",
       "      <td>0.486592</td>\n",
       "      <td>0.836071</td>\n",
       "      <td>14.526497</td>\n",
       "      <td>1.102743</td>\n",
       "      <td>0.806057</td>\n",
       "      <td>49.693429</td>\n",
       "    </tr>\n",
       "    <tr>\n",
       "      <th>min</th>\n",
       "      <td>1.000000</td>\n",
       "      <td>0.000000</td>\n",
       "      <td>1.000000</td>\n",
       "      <td>0.420000</td>\n",
       "      <td>0.000000</td>\n",
       "      <td>0.000000</td>\n",
       "      <td>0.000000</td>\n",
       "    </tr>\n",
       "    <tr>\n",
       "      <th>25%</th>\n",
       "      <td>223.500000</td>\n",
       "      <td>0.000000</td>\n",
       "      <td>2.000000</td>\n",
       "      <td>20.125000</td>\n",
       "      <td>0.000000</td>\n",
       "      <td>0.000000</td>\n",
       "      <td>7.910400</td>\n",
       "    </tr>\n",
       "    <tr>\n",
       "      <th>50%</th>\n",
       "      <td>446.000000</td>\n",
       "      <td>0.000000</td>\n",
       "      <td>3.000000</td>\n",
       "      <td>28.000000</td>\n",
       "      <td>0.000000</td>\n",
       "      <td>0.000000</td>\n",
       "      <td>14.454200</td>\n",
       "    </tr>\n",
       "    <tr>\n",
       "      <th>75%</th>\n",
       "      <td>668.500000</td>\n",
       "      <td>1.000000</td>\n",
       "      <td>3.000000</td>\n",
       "      <td>38.000000</td>\n",
       "      <td>1.000000</td>\n",
       "      <td>0.000000</td>\n",
       "      <td>31.000000</td>\n",
       "    </tr>\n",
       "    <tr>\n",
       "      <th>max</th>\n",
       "      <td>891.000000</td>\n",
       "      <td>1.000000</td>\n",
       "      <td>3.000000</td>\n",
       "      <td>80.000000</td>\n",
       "      <td>8.000000</td>\n",
       "      <td>6.000000</td>\n",
       "      <td>512.329200</td>\n",
       "    </tr>\n",
       "  </tbody>\n",
       "</table>\n",
       "</div>"
      ],
      "text/plain": [
       "       PassengerId    Survived      Pclass         Age       SibSp  \\\n",
       "count   891.000000  891.000000  891.000000  714.000000  891.000000   \n",
       "mean    446.000000    0.383838    2.308642   29.699118    0.523008   \n",
       "std     257.353842    0.486592    0.836071   14.526497    1.102743   \n",
       "min       1.000000    0.000000    1.000000    0.420000    0.000000   \n",
       "25%     223.500000    0.000000    2.000000   20.125000    0.000000   \n",
       "50%     446.000000    0.000000    3.000000   28.000000    0.000000   \n",
       "75%     668.500000    1.000000    3.000000   38.000000    1.000000   \n",
       "max     891.000000    1.000000    3.000000   80.000000    8.000000   \n",
       "\n",
       "            Parch        Fare  \n",
       "count  891.000000  891.000000  \n",
       "mean     0.381594   32.204208  \n",
       "std      0.806057   49.693429  \n",
       "min      0.000000    0.000000  \n",
       "25%      0.000000    7.910400  \n",
       "50%      0.000000   14.454200  \n",
       "75%      0.000000   31.000000  \n",
       "max      6.000000  512.329200  "
      ]
     },
     "execution_count": 85,
     "metadata": {},
     "output_type": "execute_result"
    }
   ],
   "source": [
    "import numpy as np\n",
    "import pandas as pd\n",
    "import warnings\n",
    "warnings.filterwarnings('ignore')\n",
    "\n",
    "# Because my Jupyter was showing only last line output, so need to add\n",
    "from IPython.core.interactiveshell import InteractiveShell\n",
    "InteractiveShell.ast_node_interactivity = \"all\"\n",
    "\n",
    "Tit = pd.read_csv('C:/Users/admin/Python_Prac/Decision Tree/Titanic.csv')\n",
    "Tit.describe()"
   ]
  },
  {
   "cell_type": "code",
   "execution_count": 86,
   "metadata": {},
   "outputs": [
    {
     "data": {
      "text/plain": [
       "Index(['PassengerId', 'Survived', 'Pclass', 'Name', 'Sex', 'Age', 'SibSp',\n",
       "       'Parch', 'Ticket', 'Fare', 'Cabin', 'Embarked'],\n",
       "      dtype='object')"
      ]
     },
     "execution_count": 86,
     "metadata": {},
     "output_type": "execute_result"
    },
    {
     "data": {
      "text/plain": [
       "(891, 12)"
      ]
     },
     "execution_count": 86,
     "metadata": {},
     "output_type": "execute_result"
    }
   ],
   "source": [
    "Tit.columns\n",
    "Tit.shape"
   ]
  },
  {
   "cell_type": "code",
   "execution_count": 87,
   "metadata": {},
   "outputs": [
    {
     "data": {
      "text/plain": [
       "(array([0, 1], dtype=int64), array([549, 342], dtype=int64))"
      ]
     },
     "execution_count": 87,
     "metadata": {},
     "output_type": "execute_result"
    }
   ],
   "source": [
    "#target ratio\n",
    "np.unique(Tit.Survived,return_counts=True)"
   ]
  },
  {
   "cell_type": "code",
   "execution_count": 88,
   "metadata": {},
   "outputs": [
    {
     "data": {
      "text/plain": [
       "0.6161616161616161"
      ]
     },
     "execution_count": 88,
     "metadata": {},
     "output_type": "execute_result"
    }
   ],
   "source": [
    "549/(549+342)"
   ]
  },
  {
   "cell_type": "code",
   "execution_count": 89,
   "metadata": {},
   "outputs": [
    {
     "data": {
      "text/plain": [
       "PassengerId      0\n",
       "Survived         0\n",
       "Pclass           0\n",
       "Name             0\n",
       "Sex              0\n",
       "Age            177\n",
       "SibSp            0\n",
       "Parch            0\n",
       "Ticket           0\n",
       "Fare             0\n",
       "Cabin          687\n",
       "Embarked         2\n",
       "dtype: int64"
      ]
     },
     "execution_count": 89,
     "metadata": {},
     "output_type": "execute_result"
    }
   ],
   "source": [
    "Tit.isnull().sum()"
   ]
  },
  {
   "cell_type": "code",
   "execution_count": 90,
   "metadata": {},
   "outputs": [
    {
     "data": {
      "text/plain": [
       "(891, 12)"
      ]
     },
     "execution_count": 90,
     "metadata": {},
     "output_type": "execute_result"
    },
    {
     "data": {
      "text/html": [
       "<div>\n",
       "<style scoped>\n",
       "    .dataframe tbody tr th:only-of-type {\n",
       "        vertical-align: middle;\n",
       "    }\n",
       "\n",
       "    .dataframe tbody tr th {\n",
       "        vertical-align: top;\n",
       "    }\n",
       "\n",
       "    .dataframe thead th {\n",
       "        text-align: right;\n",
       "    }\n",
       "</style>\n",
       "<table border=\"1\" class=\"dataframe\">\n",
       "  <thead>\n",
       "    <tr style=\"text-align: right;\">\n",
       "      <th></th>\n",
       "      <th>PassengerId</th>\n",
       "      <th>Survived</th>\n",
       "      <th>Pclass</th>\n",
       "      <th>Age</th>\n",
       "      <th>SibSp</th>\n",
       "      <th>Parch</th>\n",
       "      <th>Fare</th>\n",
       "    </tr>\n",
       "  </thead>\n",
       "  <tbody>\n",
       "    <tr>\n",
       "      <th>count</th>\n",
       "      <td>891.000000</td>\n",
       "      <td>891.000000</td>\n",
       "      <td>891.000000</td>\n",
       "      <td>714.000000</td>\n",
       "      <td>891.000000</td>\n",
       "      <td>891.000000</td>\n",
       "      <td>891.000000</td>\n",
       "    </tr>\n",
       "    <tr>\n",
       "      <th>mean</th>\n",
       "      <td>446.000000</td>\n",
       "      <td>0.383838</td>\n",
       "      <td>2.308642</td>\n",
       "      <td>29.699118</td>\n",
       "      <td>0.523008</td>\n",
       "      <td>0.381594</td>\n",
       "      <td>32.204208</td>\n",
       "    </tr>\n",
       "    <tr>\n",
       "      <th>std</th>\n",
       "      <td>257.353842</td>\n",
       "      <td>0.486592</td>\n",
       "      <td>0.836071</td>\n",
       "      <td>14.526497</td>\n",
       "      <td>1.102743</td>\n",
       "      <td>0.806057</td>\n",
       "      <td>49.693429</td>\n",
       "    </tr>\n",
       "    <tr>\n",
       "      <th>min</th>\n",
       "      <td>1.000000</td>\n",
       "      <td>0.000000</td>\n",
       "      <td>1.000000</td>\n",
       "      <td>0.420000</td>\n",
       "      <td>0.000000</td>\n",
       "      <td>0.000000</td>\n",
       "      <td>0.000000</td>\n",
       "    </tr>\n",
       "    <tr>\n",
       "      <th>25%</th>\n",
       "      <td>223.500000</td>\n",
       "      <td>0.000000</td>\n",
       "      <td>2.000000</td>\n",
       "      <td>20.125000</td>\n",
       "      <td>0.000000</td>\n",
       "      <td>0.000000</td>\n",
       "      <td>7.910400</td>\n",
       "    </tr>\n",
       "    <tr>\n",
       "      <th>50%</th>\n",
       "      <td>446.000000</td>\n",
       "      <td>0.000000</td>\n",
       "      <td>3.000000</td>\n",
       "      <td>28.000000</td>\n",
       "      <td>0.000000</td>\n",
       "      <td>0.000000</td>\n",
       "      <td>14.454200</td>\n",
       "    </tr>\n",
       "    <tr>\n",
       "      <th>75%</th>\n",
       "      <td>668.500000</td>\n",
       "      <td>1.000000</td>\n",
       "      <td>3.000000</td>\n",
       "      <td>38.000000</td>\n",
       "      <td>1.000000</td>\n",
       "      <td>0.000000</td>\n",
       "      <td>31.000000</td>\n",
       "    </tr>\n",
       "    <tr>\n",
       "      <th>max</th>\n",
       "      <td>891.000000</td>\n",
       "      <td>1.000000</td>\n",
       "      <td>3.000000</td>\n",
       "      <td>80.000000</td>\n",
       "      <td>8.000000</td>\n",
       "      <td>6.000000</td>\n",
       "      <td>512.329200</td>\n",
       "    </tr>\n",
       "  </tbody>\n",
       "</table>\n",
       "</div>"
      ],
      "text/plain": [
       "       PassengerId    Survived      Pclass         Age       SibSp  \\\n",
       "count   891.000000  891.000000  891.000000  714.000000  891.000000   \n",
       "mean    446.000000    0.383838    2.308642   29.699118    0.523008   \n",
       "std     257.353842    0.486592    0.836071   14.526497    1.102743   \n",
       "min       1.000000    0.000000    1.000000    0.420000    0.000000   \n",
       "25%     223.500000    0.000000    2.000000   20.125000    0.000000   \n",
       "50%     446.000000    0.000000    3.000000   28.000000    0.000000   \n",
       "75%     668.500000    1.000000    3.000000   38.000000    1.000000   \n",
       "max     891.000000    1.000000    3.000000   80.000000    8.000000   \n",
       "\n",
       "            Parch        Fare  \n",
       "count  891.000000  891.000000  \n",
       "mean     0.381594   32.204208  \n",
       "std      0.806057   49.693429  \n",
       "min      0.000000    0.000000  \n",
       "25%      0.000000    7.910400  \n",
       "50%      0.000000   14.454200  \n",
       "75%      0.000000   31.000000  \n",
       "max      6.000000  512.329200  "
      ]
     },
     "execution_count": 90,
     "metadata": {},
     "output_type": "execute_result"
    }
   ],
   "source": [
    "Tit1 =Tit.copy()\n",
    "Tit1.shape\n",
    "Tit1.describe()"
   ]
  },
  {
   "cell_type": "code",
   "execution_count": 69,
   "metadata": {},
   "outputs": [
    {
     "data": {
      "text/html": [
       "<div>\n",
       "<style scoped>\n",
       "    .dataframe tbody tr th:only-of-type {\n",
       "        vertical-align: middle;\n",
       "    }\n",
       "\n",
       "    .dataframe tbody tr th {\n",
       "        vertical-align: top;\n",
       "    }\n",
       "\n",
       "    .dataframe thead th {\n",
       "        text-align: right;\n",
       "    }\n",
       "</style>\n",
       "<table border=\"1\" class=\"dataframe\">\n",
       "  <thead>\n",
       "    <tr style=\"text-align: right;\">\n",
       "      <th></th>\n",
       "      <th>PassengerId</th>\n",
       "      <th>Survived</th>\n",
       "      <th>Pclass</th>\n",
       "      <th>Age</th>\n",
       "      <th>SibSp</th>\n",
       "      <th>Parch</th>\n",
       "      <th>Fare</th>\n",
       "    </tr>\n",
       "  </thead>\n",
       "  <tbody>\n",
       "    <tr>\n",
       "      <th>count</th>\n",
       "      <td>891.000000</td>\n",
       "      <td>891.000000</td>\n",
       "      <td>891.000000</td>\n",
       "      <td>891.000000</td>\n",
       "      <td>891.000000</td>\n",
       "      <td>891.000000</td>\n",
       "      <td>891.000000</td>\n",
       "    </tr>\n",
       "    <tr>\n",
       "      <th>mean</th>\n",
       "      <td>446.000000</td>\n",
       "      <td>0.383838</td>\n",
       "      <td>2.308642</td>\n",
       "      <td>29.699118</td>\n",
       "      <td>0.523008</td>\n",
       "      <td>0.381594</td>\n",
       "      <td>32.204208</td>\n",
       "    </tr>\n",
       "    <tr>\n",
       "      <th>std</th>\n",
       "      <td>257.353842</td>\n",
       "      <td>0.486592</td>\n",
       "      <td>0.836071</td>\n",
       "      <td>13.002015</td>\n",
       "      <td>1.102743</td>\n",
       "      <td>0.806057</td>\n",
       "      <td>49.693429</td>\n",
       "    </tr>\n",
       "    <tr>\n",
       "      <th>min</th>\n",
       "      <td>1.000000</td>\n",
       "      <td>0.000000</td>\n",
       "      <td>1.000000</td>\n",
       "      <td>0.420000</td>\n",
       "      <td>0.000000</td>\n",
       "      <td>0.000000</td>\n",
       "      <td>0.000000</td>\n",
       "    </tr>\n",
       "    <tr>\n",
       "      <th>25%</th>\n",
       "      <td>223.500000</td>\n",
       "      <td>0.000000</td>\n",
       "      <td>2.000000</td>\n",
       "      <td>22.000000</td>\n",
       "      <td>0.000000</td>\n",
       "      <td>0.000000</td>\n",
       "      <td>7.910400</td>\n",
       "    </tr>\n",
       "    <tr>\n",
       "      <th>50%</th>\n",
       "      <td>446.000000</td>\n",
       "      <td>0.000000</td>\n",
       "      <td>3.000000</td>\n",
       "      <td>29.699118</td>\n",
       "      <td>0.000000</td>\n",
       "      <td>0.000000</td>\n",
       "      <td>14.454200</td>\n",
       "    </tr>\n",
       "    <tr>\n",
       "      <th>75%</th>\n",
       "      <td>668.500000</td>\n",
       "      <td>1.000000</td>\n",
       "      <td>3.000000</td>\n",
       "      <td>35.000000</td>\n",
       "      <td>1.000000</td>\n",
       "      <td>0.000000</td>\n",
       "      <td>31.000000</td>\n",
       "    </tr>\n",
       "    <tr>\n",
       "      <th>max</th>\n",
       "      <td>891.000000</td>\n",
       "      <td>1.000000</td>\n",
       "      <td>3.000000</td>\n",
       "      <td>80.000000</td>\n",
       "      <td>8.000000</td>\n",
       "      <td>6.000000</td>\n",
       "      <td>512.329200</td>\n",
       "    </tr>\n",
       "  </tbody>\n",
       "</table>\n",
       "</div>"
      ],
      "text/plain": [
       "       PassengerId    Survived      Pclass         Age       SibSp  \\\n",
       "count   891.000000  891.000000  891.000000  891.000000  891.000000   \n",
       "mean    446.000000    0.383838    2.308642   29.699118    0.523008   \n",
       "std     257.353842    0.486592    0.836071   13.002015    1.102743   \n",
       "min       1.000000    0.000000    1.000000    0.420000    0.000000   \n",
       "25%     223.500000    0.000000    2.000000   22.000000    0.000000   \n",
       "50%     446.000000    0.000000    3.000000   29.699118    0.000000   \n",
       "75%     668.500000    1.000000    3.000000   35.000000    1.000000   \n",
       "max     891.000000    1.000000    3.000000   80.000000    8.000000   \n",
       "\n",
       "            Parch        Fare  \n",
       "count  891.000000  891.000000  \n",
       "mean     0.381594   32.204208  \n",
       "std      0.806057   49.693429  \n",
       "min      0.000000    0.000000  \n",
       "25%      0.000000    7.910400  \n",
       "50%      0.000000   14.454200  \n",
       "75%      0.000000   31.000000  \n",
       "max      6.000000  512.329200  "
      ]
     },
     "execution_count": 69,
     "metadata": {},
     "output_type": "execute_result"
    },
    {
     "data": {
      "text/plain": [
       "PassengerId      0\n",
       "Survived         0\n",
       "Pclass           0\n",
       "Name             0\n",
       "Sex              0\n",
       "Age              0\n",
       "SibSp            0\n",
       "Parch            0\n",
       "Ticket           0\n",
       "Fare             0\n",
       "Cabin          687\n",
       "Embarked         2\n",
       "dtype: int64"
      ]
     },
     "execution_count": 69,
     "metadata": {},
     "output_type": "execute_result"
    }
   ],
   "source": [
    "Tit1['Age']=Tit1['Age'].fillna(value=Tit1[\"Age\"].mean())\n",
    "Tit1.describe()\n",
    "Tit1.isnull().sum()"
   ]
  },
  {
   "cell_type": "code",
   "execution_count": 37,
   "metadata": {},
   "outputs": [],
   "source": [
    "# incl cont - Age,Fare\n",
    "#Cat - Pclass,Sex,Sibsp,Parch"
   ]
  },
  {
   "cell_type": "code",
   "execution_count": 91,
   "metadata": {},
   "outputs": [
    {
     "data": {
      "text/html": [
       "<div>\n",
       "<style scoped>\n",
       "    .dataframe tbody tr th:only-of-type {\n",
       "        vertical-align: middle;\n",
       "    }\n",
       "\n",
       "    .dataframe tbody tr th {\n",
       "        vertical-align: top;\n",
       "    }\n",
       "\n",
       "    .dataframe thead th {\n",
       "        text-align: right;\n",
       "    }\n",
       "</style>\n",
       "<table border=\"1\" class=\"dataframe\">\n",
       "  <thead>\n",
       "    <tr style=\"text-align: right;\">\n",
       "      <th></th>\n",
       "      <th>Age</th>\n",
       "      <th>Fare</th>\n",
       "      <th>Pclass</th>\n",
       "      <th>SibSp</th>\n",
       "      <th>Parch</th>\n",
       "    </tr>\n",
       "  </thead>\n",
       "  <tbody>\n",
       "    <tr>\n",
       "      <th>count</th>\n",
       "      <td>714.000000</td>\n",
       "      <td>891.000000</td>\n",
       "      <td>891.000000</td>\n",
       "      <td>891.000000</td>\n",
       "      <td>891.000000</td>\n",
       "    </tr>\n",
       "    <tr>\n",
       "      <th>mean</th>\n",
       "      <td>29.699118</td>\n",
       "      <td>32.204208</td>\n",
       "      <td>2.308642</td>\n",
       "      <td>0.523008</td>\n",
       "      <td>0.381594</td>\n",
       "    </tr>\n",
       "    <tr>\n",
       "      <th>std</th>\n",
       "      <td>14.526497</td>\n",
       "      <td>49.693429</td>\n",
       "      <td>0.836071</td>\n",
       "      <td>1.102743</td>\n",
       "      <td>0.806057</td>\n",
       "    </tr>\n",
       "    <tr>\n",
       "      <th>min</th>\n",
       "      <td>0.420000</td>\n",
       "      <td>0.000000</td>\n",
       "      <td>1.000000</td>\n",
       "      <td>0.000000</td>\n",
       "      <td>0.000000</td>\n",
       "    </tr>\n",
       "    <tr>\n",
       "      <th>25%</th>\n",
       "      <td>20.125000</td>\n",
       "      <td>7.910400</td>\n",
       "      <td>2.000000</td>\n",
       "      <td>0.000000</td>\n",
       "      <td>0.000000</td>\n",
       "    </tr>\n",
       "    <tr>\n",
       "      <th>50%</th>\n",
       "      <td>28.000000</td>\n",
       "      <td>14.454200</td>\n",
       "      <td>3.000000</td>\n",
       "      <td>0.000000</td>\n",
       "      <td>0.000000</td>\n",
       "    </tr>\n",
       "    <tr>\n",
       "      <th>75%</th>\n",
       "      <td>38.000000</td>\n",
       "      <td>31.000000</td>\n",
       "      <td>3.000000</td>\n",
       "      <td>1.000000</td>\n",
       "      <td>0.000000</td>\n",
       "    </tr>\n",
       "    <tr>\n",
       "      <th>max</th>\n",
       "      <td>80.000000</td>\n",
       "      <td>512.329200</td>\n",
       "      <td>3.000000</td>\n",
       "      <td>8.000000</td>\n",
       "      <td>6.000000</td>\n",
       "    </tr>\n",
       "  </tbody>\n",
       "</table>\n",
       "</div>"
      ],
      "text/plain": [
       "              Age        Fare      Pclass       SibSp       Parch\n",
       "count  714.000000  891.000000  891.000000  891.000000  891.000000\n",
       "mean    29.699118   32.204208    2.308642    0.523008    0.381594\n",
       "std     14.526497   49.693429    0.836071    1.102743    0.806057\n",
       "min      0.420000    0.000000    1.000000    0.000000    0.000000\n",
       "25%     20.125000    7.910400    2.000000    0.000000    0.000000\n",
       "50%     28.000000   14.454200    3.000000    0.000000    0.000000\n",
       "75%     38.000000   31.000000    3.000000    1.000000    0.000000\n",
       "max     80.000000  512.329200    3.000000    8.000000    6.000000"
      ]
     },
     "execution_count": 91,
     "metadata": {},
     "output_type": "execute_result"
    }
   ],
   "source": [
    "# split the file into Independent and dependent variables\n",
    "Setcolumns=list(['Age','Fare','Pclass','Sex','SibSp','Parch'])\n",
    "Indepen=pd.DataFrame(Tit1,columns=Setcolumns)\n",
    "Indepen.describe()"
   ]
  },
  {
   "cell_type": "code",
   "execution_count": 93,
   "metadata": {},
   "outputs": [
    {
     "data": {
      "text/html": [
       "<div>\n",
       "<style scoped>\n",
       "    .dataframe tbody tr th:only-of-type {\n",
       "        vertical-align: middle;\n",
       "    }\n",
       "\n",
       "    .dataframe tbody tr th {\n",
       "        vertical-align: top;\n",
       "    }\n",
       "\n",
       "    .dataframe thead th {\n",
       "        text-align: right;\n",
       "    }\n",
       "</style>\n",
       "<table border=\"1\" class=\"dataframe\">\n",
       "  <thead>\n",
       "    <tr style=\"text-align: right;\">\n",
       "      <th></th>\n",
       "      <th>Survived</th>\n",
       "    </tr>\n",
       "  </thead>\n",
       "  <tbody>\n",
       "    <tr>\n",
       "      <th>count</th>\n",
       "      <td>891.000000</td>\n",
       "    </tr>\n",
       "    <tr>\n",
       "      <th>mean</th>\n",
       "      <td>0.383838</td>\n",
       "    </tr>\n",
       "    <tr>\n",
       "      <th>std</th>\n",
       "      <td>0.486592</td>\n",
       "    </tr>\n",
       "    <tr>\n",
       "      <th>min</th>\n",
       "      <td>0.000000</td>\n",
       "    </tr>\n",
       "    <tr>\n",
       "      <th>25%</th>\n",
       "      <td>0.000000</td>\n",
       "    </tr>\n",
       "    <tr>\n",
       "      <th>50%</th>\n",
       "      <td>0.000000</td>\n",
       "    </tr>\n",
       "    <tr>\n",
       "      <th>75%</th>\n",
       "      <td>1.000000</td>\n",
       "    </tr>\n",
       "    <tr>\n",
       "      <th>max</th>\n",
       "      <td>1.000000</td>\n",
       "    </tr>\n",
       "  </tbody>\n",
       "</table>\n",
       "</div>"
      ],
      "text/plain": [
       "         Survived\n",
       "count  891.000000\n",
       "mean     0.383838\n",
       "std      0.486592\n",
       "min      0.000000\n",
       "25%      0.000000\n",
       "50%      0.000000\n",
       "75%      1.000000\n",
       "max      1.000000"
      ]
     },
     "execution_count": 93,
     "metadata": {},
     "output_type": "execute_result"
    }
   ],
   "source": [
    "Depen=pd.DataFrame(Tit1,columns=['Survived'])\n",
    "Depen.describe()"
   ]
  },
  {
   "cell_type": "code",
   "execution_count": 94,
   "metadata": {},
   "outputs": [
    {
     "name": "stdout",
     "output_type": "stream",
     "text": [
      "<class 'pandas.core.frame.DataFrame'>\n",
      "<class 'pandas.core.frame.DataFrame'>\n",
      "<class 'pandas.core.frame.DataFrame'>\n",
      "<class 'pandas.core.frame.DataFrame'>\n",
      "(668, 6)\n",
      "(668, 1)\n",
      "(223, 6)\n",
      "(223, 1)\n"
     ]
    }
   ],
   "source": [
    "# splitting the data into Train and Test\n",
    "from sklearn.model_selection import train_test_split\n",
    "X_train, X_test, Y_train, Y_test = train_test_split(Indepen, Depen,\n",
    "                                        test_size = 0.25, random_state = 10)\n",
    "print(type(X_train))\n",
    "print(type(Y_train))\n",
    "print(type(X_test))\n",
    "print(type(Y_test))\n",
    "print(X_train.shape)\n",
    "print(Y_train.shape)\n",
    "print(X_test.shape)\n",
    "print(Y_test.shape)"
   ]
  },
  {
   "cell_type": "code",
   "execution_count": 95,
   "metadata": {},
   "outputs": [
    {
     "name": "stdout",
     "output_type": "stream",
     "text": [
      "(array([1, 2, 3], dtype=int64), array([161, 142, 365], dtype=int64))\n",
      "(array([0, 1, 2], dtype=int64), array([161, 142, 365], dtype=int64))\n"
     ]
    }
   ],
   "source": [
    "#apply  labelcounter Pclass\n",
    "print(np.unique(X_train.Pclass,return_counts=True))\n",
    "from sklearn.preprocessing import LabelEncoder\n",
    "LE=LabelEncoder()\n",
    "X_train.Pclass=LE.fit_transform(X_train.Pclass)\n",
    "print(np.unique(X_train.Pclass,return_counts=True))"
   ]
  },
  {
   "cell_type": "code",
   "execution_count": 96,
   "metadata": {},
   "outputs": [
    {
     "name": "stdout",
     "output_type": "stream",
     "text": [
      "(array(['female', 'male'], dtype=object), array([247, 421], dtype=int64))\n",
      "(array([0, 1]), array([247, 421], dtype=int64))\n"
     ]
    }
   ],
   "source": [
    "#apply  labelcounter Sex\n",
    "print(np.unique(X_train.Sex,return_counts=True))\n",
    "from sklearn.preprocessing import LabelEncoder\n",
    "LE1=LabelEncoder()\n",
    "X_train.Sex=LE1.fit_transform(X_train.Sex)\n",
    "print(np.unique(X_train.Sex,return_counts=True))"
   ]
  },
  {
   "cell_type": "code",
   "execution_count": 97,
   "metadata": {},
   "outputs": [
    {
     "name": "stdout",
     "output_type": "stream",
     "text": [
      "(array([0, 1, 2, 3, 4, 5, 8], dtype=int64), array([457, 155,  21,  12,  11,   5,   7], dtype=int64))\n",
      "(array([0, 1, 2, 3, 4, 5, 6], dtype=int64), array([457, 155,  21,  12,  11,   5,   7], dtype=int64))\n"
     ]
    }
   ],
   "source": [
    "#apply  labelcounter SibSp\n",
    "print(np.unique(X_train.SibSp,return_counts=True))\n",
    "from sklearn.preprocessing import LabelEncoder\n",
    "LE2=LabelEncoder()\n",
    "X_train.SibSp=LE2.fit_transform(X_train.SibSp)\n",
    "print(np.unique(X_train.SibSp,return_counts=True))"
   ]
  },
  {
   "cell_type": "code",
   "execution_count": 98,
   "metadata": {},
   "outputs": [
    {
     "name": "stdout",
     "output_type": "stream",
     "text": [
      "(array([0, 1, 2, 3, 4, 5, 6], dtype=int64), array([497,  96,  61,   5,   3,   5,   1], dtype=int64))\n",
      "(array([0, 1, 2, 3, 4, 5, 6], dtype=int64), array([497,  96,  61,   5,   3,   5,   1], dtype=int64))\n"
     ]
    }
   ],
   "source": [
    "#apply  labelcounter Parch\n",
    "print(np.unique(X_train.Parch,return_counts=True))\n",
    "from sklearn.preprocessing import LabelEncoder\n",
    "LE3=LabelEncoder()\n",
    "X_train.Parch=LE3.fit_transform(X_train.Parch)\n",
    "print(np.unique(X_train.Parch,return_counts=True))"
   ]
  },
  {
   "cell_type": "code",
   "execution_count": 99,
   "metadata": {},
   "outputs": [
    {
     "data": {
      "text/plain": [
       "Index(['Age', 'Fare', 'Pclass', 'Sex', 'SibSp', 'Parch'], dtype='object')"
      ]
     },
     "execution_count": 99,
     "metadata": {},
     "output_type": "execute_result"
    }
   ],
   "source": [
    "X_train.columns"
   ]
  },
  {
   "cell_type": "code",
   "execution_count": 100,
   "metadata": {},
   "outputs": [
    {
     "ename": "ValueError",
     "evalue": "Input contains NaN, infinity or a value too large for dtype('float64').",
     "output_type": "error",
     "traceback": [
      "\u001b[1;31m---------------------------------------------------------------------------\u001b[0m",
      "\u001b[1;31mValueError\u001b[0m                                Traceback (most recent call last)",
      "\u001b[1;32m<ipython-input-100-4c69bf625424>\u001b[0m in \u001b[0;36m<module>\u001b[1;34m\u001b[0m\n\u001b[0;32m      5\u001b[0m \u001b[0mcategories\u001b[0m\u001b[1;33m=\u001b[0m\u001b[0mnp\u001b[0m\u001b[1;33m.\u001b[0m\u001b[0marray\u001b[0m\u001b[1;33m(\u001b[0m\u001b[1;33m[\u001b[0m\u001b[1;36m2\u001b[0m\u001b[1;33m,\u001b[0m\u001b[1;36m3\u001b[0m\u001b[1;33m,\u001b[0m\u001b[1;36m4\u001b[0m\u001b[1;33m,\u001b[0m\u001b[1;36m5\u001b[0m\u001b[1;33m]\u001b[0m\u001b[1;33m)\u001b[0m\u001b[1;33m\u001b[0m\u001b[1;33m\u001b[0m\u001b[0m\n\u001b[0;32m      6\u001b[0m \u001b[0mOHE\u001b[0m \u001b[1;33m=\u001b[0m \u001b[0mOneHotEncoder\u001b[0m\u001b[1;33m(\u001b[0m\u001b[0mn_values\u001b[0m\u001b[1;33m=\u001b[0m\u001b[1;34m'auto'\u001b[0m\u001b[1;33m,\u001b[0m\u001b[0mcategorical_features\u001b[0m \u001b[1;33m=\u001b[0m \u001b[0mcategories\u001b[0m\u001b[1;33m,\u001b[0m \u001b[0msparse\u001b[0m \u001b[1;33m=\u001b[0m \u001b[1;32mFalse\u001b[0m\u001b[1;33m,\u001b[0m \u001b[0mhandle_unknown\u001b[0m \u001b[1;33m=\u001b[0m \u001b[1;34m'ignore'\u001b[0m\u001b[1;33m)\u001b[0m\u001b[1;33m\u001b[0m\u001b[1;33m\u001b[0m\u001b[0m\n\u001b[1;32m----> 7\u001b[1;33m \u001b[0mX_train\u001b[0m \u001b[1;33m=\u001b[0m \u001b[0mOHE\u001b[0m\u001b[1;33m.\u001b[0m\u001b[0mfit_transform\u001b[0m\u001b[1;33m(\u001b[0m\u001b[0mX_train\u001b[0m\u001b[1;33m)\u001b[0m\u001b[1;33m\u001b[0m\u001b[1;33m\u001b[0m\u001b[0m\n\u001b[0m\u001b[0;32m      8\u001b[0m \u001b[0mX_train\u001b[0m\u001b[1;33m.\u001b[0m\u001b[0mshape\u001b[0m\u001b[1;33m\u001b[0m\u001b[1;33m\u001b[0m\u001b[0m\n",
      "\u001b[1;32mC:\\ProgramData\\Anaconda3\\lib\\site-packages\\sklearn\\preprocessing\\_encoders.py\u001b[0m in \u001b[0;36mfit_transform\u001b[1;34m(self, X, y)\u001b[0m\n\u001b[0;32m    512\u001b[0m             return _transform_selected(\n\u001b[0;32m    513\u001b[0m                 \u001b[0mX\u001b[0m\u001b[1;33m,\u001b[0m \u001b[0mself\u001b[0m\u001b[1;33m.\u001b[0m\u001b[0m_legacy_fit_transform\u001b[0m\u001b[1;33m,\u001b[0m \u001b[0mself\u001b[0m\u001b[1;33m.\u001b[0m\u001b[0mdtype\u001b[0m\u001b[1;33m,\u001b[0m\u001b[1;33m\u001b[0m\u001b[1;33m\u001b[0m\u001b[0m\n\u001b[1;32m--> 514\u001b[1;33m                 self._categorical_features, copy=True)\n\u001b[0m\u001b[0;32m    515\u001b[0m         \u001b[1;32melse\u001b[0m\u001b[1;33m:\u001b[0m\u001b[1;33m\u001b[0m\u001b[1;33m\u001b[0m\u001b[0m\n\u001b[0;32m    516\u001b[0m             \u001b[1;32mreturn\u001b[0m \u001b[0mself\u001b[0m\u001b[1;33m.\u001b[0m\u001b[0mfit\u001b[0m\u001b[1;33m(\u001b[0m\u001b[0mX\u001b[0m\u001b[1;33m)\u001b[0m\u001b[1;33m.\u001b[0m\u001b[0mtransform\u001b[0m\u001b[1;33m(\u001b[0m\u001b[0mX\u001b[0m\u001b[1;33m)\u001b[0m\u001b[1;33m\u001b[0m\u001b[1;33m\u001b[0m\u001b[0m\n",
      "\u001b[1;32mC:\\ProgramData\\Anaconda3\\lib\\site-packages\\sklearn\\preprocessing\\base.py\u001b[0m in \u001b[0;36m_transform_selected\u001b[1;34m(X, transform, dtype, selected, copy, retain_order)\u001b[0m\n\u001b[0;32m     43\u001b[0m     \u001b[0mXt\u001b[0m \u001b[1;33m:\u001b[0m \u001b[0marray\u001b[0m \u001b[1;32mor\u001b[0m \u001b[0msparse\u001b[0m \u001b[0mmatrix\u001b[0m\u001b[1;33m,\u001b[0m \u001b[0mshape\u001b[0m\u001b[1;33m=\u001b[0m\u001b[1;33m(\u001b[0m\u001b[0mn_samples\u001b[0m\u001b[1;33m,\u001b[0m \u001b[0mn_features_new\u001b[0m\u001b[1;33m)\u001b[0m\u001b[1;33m\u001b[0m\u001b[1;33m\u001b[0m\u001b[0m\n\u001b[0;32m     44\u001b[0m     \"\"\"\n\u001b[1;32m---> 45\u001b[1;33m     \u001b[0mX\u001b[0m \u001b[1;33m=\u001b[0m \u001b[0mcheck_array\u001b[0m\u001b[1;33m(\u001b[0m\u001b[0mX\u001b[0m\u001b[1;33m,\u001b[0m \u001b[0maccept_sparse\u001b[0m\u001b[1;33m=\u001b[0m\u001b[1;34m'csc'\u001b[0m\u001b[1;33m,\u001b[0m \u001b[0mcopy\u001b[0m\u001b[1;33m=\u001b[0m\u001b[0mcopy\u001b[0m\u001b[1;33m,\u001b[0m \u001b[0mdtype\u001b[0m\u001b[1;33m=\u001b[0m\u001b[0mFLOAT_DTYPES\u001b[0m\u001b[1;33m)\u001b[0m\u001b[1;33m\u001b[0m\u001b[1;33m\u001b[0m\u001b[0m\n\u001b[0m\u001b[0;32m     46\u001b[0m \u001b[1;33m\u001b[0m\u001b[0m\n\u001b[0;32m     47\u001b[0m     \u001b[1;32mif\u001b[0m \u001b[0msparse\u001b[0m\u001b[1;33m.\u001b[0m\u001b[0missparse\u001b[0m\u001b[1;33m(\u001b[0m\u001b[0mX\u001b[0m\u001b[1;33m)\u001b[0m \u001b[1;32mand\u001b[0m \u001b[0mretain_order\u001b[0m\u001b[1;33m:\u001b[0m\u001b[1;33m\u001b[0m\u001b[1;33m\u001b[0m\u001b[0m\n",
      "\u001b[1;32mC:\\ProgramData\\Anaconda3\\lib\\site-packages\\sklearn\\utils\\validation.py\u001b[0m in \u001b[0;36mcheck_array\u001b[1;34m(array, accept_sparse, accept_large_sparse, dtype, order, copy, force_all_finite, ensure_2d, allow_nd, ensure_min_samples, ensure_min_features, warn_on_dtype, estimator)\u001b[0m\n\u001b[0;32m    571\u001b[0m         \u001b[1;32mif\u001b[0m \u001b[0mforce_all_finite\u001b[0m\u001b[1;33m:\u001b[0m\u001b[1;33m\u001b[0m\u001b[1;33m\u001b[0m\u001b[0m\n\u001b[0;32m    572\u001b[0m             _assert_all_finite(array,\n\u001b[1;32m--> 573\u001b[1;33m                                allow_nan=force_all_finite == 'allow-nan')\n\u001b[0m\u001b[0;32m    574\u001b[0m \u001b[1;33m\u001b[0m\u001b[0m\n\u001b[0;32m    575\u001b[0m     \u001b[0mshape_repr\u001b[0m \u001b[1;33m=\u001b[0m \u001b[0m_shape_repr\u001b[0m\u001b[1;33m(\u001b[0m\u001b[0marray\u001b[0m\u001b[1;33m.\u001b[0m\u001b[0mshape\u001b[0m\u001b[1;33m)\u001b[0m\u001b[1;33m\u001b[0m\u001b[1;33m\u001b[0m\u001b[0m\n",
      "\u001b[1;32mC:\\ProgramData\\Anaconda3\\lib\\site-packages\\sklearn\\utils\\validation.py\u001b[0m in \u001b[0;36m_assert_all_finite\u001b[1;34m(X, allow_nan)\u001b[0m\n\u001b[0;32m     54\u001b[0m                 not allow_nan and not np.isfinite(X).all()):\n\u001b[0;32m     55\u001b[0m             \u001b[0mtype_err\u001b[0m \u001b[1;33m=\u001b[0m \u001b[1;34m'infinity'\u001b[0m \u001b[1;32mif\u001b[0m \u001b[0mallow_nan\u001b[0m \u001b[1;32melse\u001b[0m \u001b[1;34m'NaN, infinity'\u001b[0m\u001b[1;33m\u001b[0m\u001b[1;33m\u001b[0m\u001b[0m\n\u001b[1;32m---> 56\u001b[1;33m             \u001b[1;32mraise\u001b[0m \u001b[0mValueError\u001b[0m\u001b[1;33m(\u001b[0m\u001b[0mmsg_err\u001b[0m\u001b[1;33m.\u001b[0m\u001b[0mformat\u001b[0m\u001b[1;33m(\u001b[0m\u001b[0mtype_err\u001b[0m\u001b[1;33m,\u001b[0m \u001b[0mX\u001b[0m\u001b[1;33m.\u001b[0m\u001b[0mdtype\u001b[0m\u001b[1;33m)\u001b[0m\u001b[1;33m)\u001b[0m\u001b[1;33m\u001b[0m\u001b[1;33m\u001b[0m\u001b[0m\n\u001b[0m\u001b[0;32m     57\u001b[0m \u001b[1;33m\u001b[0m\u001b[0m\n\u001b[0;32m     58\u001b[0m \u001b[1;33m\u001b[0m\u001b[0m\n",
      "\u001b[1;31mValueError\u001b[0m: Input contains NaN, infinity or a value too large for dtype('float64')."
     ]
    }
   ],
   "source": [
    "# incl cont - Age,Fare\n",
    "#Cat - Pclass,Sex,Sibsp,Parch\n",
    "#apply one hot enconding on categorical\n",
    "from sklearn.preprocessing import OneHotEncoder\n",
    "categories=np.array([2,3,4,5])\n",
    "OHE = OneHotEncoder(n_values='auto',categorical_features = categories, sparse = False, handle_unknown = 'ignore')\n",
    "X_train = OHE.fit_transform(X_train)\n",
    "X_train.shape"
   ]
  },
  {
   "cell_type": "code",
   "execution_count": 83,
   "metadata": {},
   "outputs": [
    {
     "name": "stdout",
     "output_type": "stream",
     "text": [
      "Fitting 3 folds for each of 64 candidates, totalling 192 fits\n",
      "[CV] min_impurity_decrease=0.001, min_samples_leaf=2, min_samples_split=10 \n",
      "[CV]  min_impurity_decrease=0.001, min_samples_leaf=2, min_samples_split=10, score=0.8351081670300184, total=   0.0s\n",
      "[CV] min_impurity_decrease=0.001, min_samples_leaf=2, min_samples_split=10 \n",
      "[CV]  min_impurity_decrease=0.001, min_samples_leaf=2, min_samples_split=10, score=0.7361646822069428, total=   0.0s\n",
      "[CV] min_impurity_decrease=0.001, min_samples_leaf=2, min_samples_split=10 \n",
      "[CV]  min_impurity_decrease=0.001, min_samples_leaf=2, min_samples_split=10, score=0.8517215061058345, total=   0.0s\n",
      "[CV] min_impurity_decrease=0.001, min_samples_leaf=2, min_samples_split=8 \n",
      "[CV]  min_impurity_decrease=0.001, min_samples_leaf=2, min_samples_split=8, score=0.8151517692436693, total=   0.0s\n",
      "[CV] min_impurity_decrease=0.001, min_samples_leaf=2, min_samples_split=8 \n",
      "[CV]  min_impurity_decrease=0.001, min_samples_leaf=2, min_samples_split=8, score=0.7306724802951534, total=   0.0s\n",
      "[CV] min_impurity_decrease=0.001, min_samples_leaf=2, min_samples_split=8 \n",
      "[CV]  min_impurity_decrease=0.001, min_samples_leaf=2, min_samples_split=8, score=0.8497286295793759, total=   0.0s\n",
      "[CV] min_impurity_decrease=0.001, min_samples_leaf=2, min_samples_split=5 \n",
      "[CV]  min_impurity_decrease=0.001, min_samples_leaf=2, min_samples_split=5, score=0.7819050813348986, total=   0.0s\n",
      "[CV] min_impurity_decrease=0.001, min_samples_leaf=2, min_samples_split=5 \n",
      "[CV]  min_impurity_decrease=0.001, min_samples_leaf=2, min_samples_split=5, score=0.7297082005701827, total=   0.0s\n"
     ]
    },
    {
     "name": "stderr",
     "output_type": "stream",
     "text": [
      "[Parallel(n_jobs=1)]: Using backend SequentialBackend with 1 concurrent workers.\n",
      "[Parallel(n_jobs=1)]: Done   1 out of   1 | elapsed:    0.0s remaining:    0.0s\n",
      "[Parallel(n_jobs=1)]: Done   2 out of   2 | elapsed:    0.0s remaining:    0.0s\n",
      "[Parallel(n_jobs=1)]: Done   3 out of   3 | elapsed:    0.0s remaining:    0.0s\n",
      "[Parallel(n_jobs=1)]: Done   4 out of   4 | elapsed:    0.0s remaining:    0.0s\n",
      "[Parallel(n_jobs=1)]: Done   5 out of   5 | elapsed:    0.0s remaining:    0.0s\n",
      "[Parallel(n_jobs=1)]: Done   6 out of   6 | elapsed:    0.0s remaining:    0.0s\n",
      "[Parallel(n_jobs=1)]: Done   7 out of   7 | elapsed:    0.0s remaining:    0.0s\n",
      "[Parallel(n_jobs=1)]: Done   8 out of   8 | elapsed:    0.1s remaining:    0.0s\n"
     ]
    },
    {
     "name": "stdout",
     "output_type": "stream",
     "text": [
      "[CV] min_impurity_decrease=0.001, min_samples_leaf=2, min_samples_split=5 \n",
      "[CV]  min_impurity_decrease=0.001, min_samples_leaf=2, min_samples_split=5, score=0.8266621438263229, total=   0.0s\n",
      "[CV] min_impurity_decrease=0.001, min_samples_leaf=2, min_samples_split=3 \n",
      "[CV]  min_impurity_decrease=0.001, min_samples_leaf=2, min_samples_split=3, score=0.7838755659902734, total=   0.0s\n",
      "[CV] min_impurity_decrease=0.001, min_samples_leaf=2, min_samples_split=3 \n",
      "[CV]  min_impurity_decrease=0.001, min_samples_leaf=2, min_samples_split=3, score=0.7223712896193191, total=   0.0s\n",
      "[CV] min_impurity_decrease=0.001, min_samples_leaf=2, min_samples_split=3 \n",
      "[CV]  min_impurity_decrease=0.001, min_samples_leaf=2, min_samples_split=3, score=0.8186058344640434, total=   0.0s\n",
      "[CV] min_impurity_decrease=0.001, min_samples_leaf=3, min_samples_split=10 \n",
      "[CV]  min_impurity_decrease=0.001, min_samples_leaf=3, min_samples_split=10, score=0.8387137346973, total=   0.0s\n",
      "[CV] min_impurity_decrease=0.001, min_samples_leaf=3, min_samples_split=10 \n",
      "[CV]  min_impurity_decrease=0.001, min_samples_leaf=3, min_samples_split=10, score=0.7292050981049808, total=   0.0s\n",
      "[CV] min_impurity_decrease=0.001, min_samples_leaf=3, min_samples_split=10 \n",
      "[CV]  min_impurity_decrease=0.001, min_samples_leaf=3, min_samples_split=10, score=0.8602866350067842, total=   0.0s\n",
      "[CV] min_impurity_decrease=0.001, min_samples_leaf=3, min_samples_split=8 \n",
      "[CV]  min_impurity_decrease=0.001, min_samples_leaf=3, min_samples_split=8, score=0.8079406339091062, total=   0.0s\n",
      "[CV] min_impurity_decrease=0.001, min_samples_leaf=3, min_samples_split=8 \n",
      "[CV]  min_impurity_decrease=0.001, min_samples_leaf=3, min_samples_split=8, score=0.7294985745430154, total=   0.0s\n",
      "[CV] min_impurity_decrease=0.001, min_samples_leaf=3, min_samples_split=8 \n"
     ]
    },
    {
     "name": "stderr",
     "output_type": "stream",
     "text": [
      "[Parallel(n_jobs=1)]: Done   9 out of   9 | elapsed:    0.1s remaining:    0.0s\n"
     ]
    },
    {
     "name": "stdout",
     "output_type": "stream",
     "text": [
      "[CV]  min_impurity_decrease=0.001, min_samples_leaf=3, min_samples_split=8, score=0.8593537991858888, total=   0.0s\n",
      "[CV] min_impurity_decrease=0.001, min_samples_leaf=3, min_samples_split=5 \n",
      "[CV]  min_impurity_decrease=0.001, min_samples_leaf=3, min_samples_split=5, score=0.8052574207613618, total=   0.0s\n",
      "[CV] min_impurity_decrease=0.001, min_samples_leaf=3, min_samples_split=5 \n",
      "[CV]  min_impurity_decrease=0.001, min_samples_leaf=3, min_samples_split=5, score=0.7206523561965454, total=   0.0s\n",
      "[CV] min_impurity_decrease=0.001, min_samples_leaf=3, min_samples_split=5 \n",
      "[CV]  min_impurity_decrease=0.001, min_samples_leaf=3, min_samples_split=5, score=0.8375593622795116, total=   0.0s\n",
      "[CV] min_impurity_decrease=0.001, min_samples_leaf=3, min_samples_split=3 \n",
      "[CV]  min_impurity_decrease=0.001, min_samples_leaf=3, min_samples_split=3, score=0.8079406339091062, total=   0.0s\n",
      "[CV] min_impurity_decrease=0.001, min_samples_leaf=3, min_samples_split=3 \n",
      "[CV]  min_impurity_decrease=0.001, min_samples_leaf=3, min_samples_split=3, score=0.7206523561965454, total=   0.0s\n",
      "[CV] min_impurity_decrease=0.001, min_samples_leaf=3, min_samples_split=3 \n",
      "[CV]  min_impurity_decrease=0.001, min_samples_leaf=3, min_samples_split=3, score=0.8375593622795116, total=   0.0s\n",
      "[CV] min_impurity_decrease=0.001, min_samples_leaf=5, min_samples_split=10 \n",
      "[CV]  min_impurity_decrease=0.001, min_samples_leaf=5, min_samples_split=10, score=0.8408519201744089, total=   0.0s\n",
      "[CV] min_impurity_decrease=0.001, min_samples_leaf=5, min_samples_split=10 \n",
      "[CV]  min_impurity_decrease=0.001, min_samples_leaf=5, min_samples_split=10, score=0.7367516350830119, total=   0.0s\n",
      "[CV] min_impurity_decrease=0.001, min_samples_leaf=5, min_samples_split=10 \n",
      "[CV]  min_impurity_decrease=0.001, min_samples_leaf=5, min_samples_split=10, score=0.8402306648575306, total=   0.0s\n",
      "[CV] min_impurity_decrease=0.001, min_samples_leaf=5, min_samples_split=8 \n",
      "[CV]  min_impurity_decrease=0.001, min_samples_leaf=5, min_samples_split=8, score=0.8436609089384537, total=   0.0s\n",
      "[CV] min_impurity_decrease=0.001, min_samples_leaf=5, min_samples_split=8 \n",
      "[CV]  min_impurity_decrease=0.001, min_samples_leaf=5, min_samples_split=8, score=0.7367516350830119, total=   0.0s\n",
      "[CV] min_impurity_decrease=0.001, min_samples_leaf=5, min_samples_split=8 \n",
      "[CV]  min_impurity_decrease=0.001, min_samples_leaf=5, min_samples_split=8, score=0.8402306648575306, total=   0.0s\n",
      "[CV] min_impurity_decrease=0.001, min_samples_leaf=5, min_samples_split=5 \n",
      "[CV]  min_impurity_decrease=0.001, min_samples_leaf=5, min_samples_split=5, score=0.8436609089384537, total=   0.0s\n",
      "[CV] min_impurity_decrease=0.001, min_samples_leaf=5, min_samples_split=5 \n",
      "[CV]  min_impurity_decrease=0.001, min_samples_leaf=5, min_samples_split=5, score=0.7367516350830119, total=   0.0s\n",
      "[CV] min_impurity_decrease=0.001, min_samples_leaf=5, min_samples_split=5 \n",
      "[CV]  min_impurity_decrease=0.001, min_samples_leaf=5, min_samples_split=5, score=0.8402306648575306, total=   0.0s\n",
      "[CV] min_impurity_decrease=0.001, min_samples_leaf=5, min_samples_split=3 \n",
      "[CV]  min_impurity_decrease=0.001, min_samples_leaf=5, min_samples_split=3, score=0.8436609089384537, total=   0.0s\n",
      "[CV] min_impurity_decrease=0.001, min_samples_leaf=5, min_samples_split=3 \n",
      "[CV]  min_impurity_decrease=0.001, min_samples_leaf=5, min_samples_split=3, score=0.7367516350830119, total=   0.0s\n",
      "[CV] min_impurity_decrease=0.001, min_samples_leaf=5, min_samples_split=3 \n",
      "[CV]  min_impurity_decrease=0.001, min_samples_leaf=5, min_samples_split=3, score=0.8402306648575306, total=   0.0s\n",
      "[CV] min_impurity_decrease=0.001, min_samples_leaf=7, min_samples_split=10 \n",
      "[CV]  min_impurity_decrease=0.001, min_samples_leaf=7, min_samples_split=10, score=0.8265554251215833, total=   0.0s\n",
      "[CV] min_impurity_decrease=0.001, min_samples_leaf=7, min_samples_split=10 \n",
      "[CV]  min_impurity_decrease=0.001, min_samples_leaf=7, min_samples_split=10, score=0.734194197551568, total=   0.0s\n",
      "[CV] min_impurity_decrease=0.001, min_samples_leaf=7, min_samples_split=10 \n",
      "[CV]  min_impurity_decrease=0.001, min_samples_leaf=7, min_samples_split=10, score=0.8619827001356851, total=   0.0s\n",
      "[CV] min_impurity_decrease=0.001, min_samples_leaf=7, min_samples_split=8 \n",
      "[CV]  min_impurity_decrease=0.001, min_samples_leaf=7, min_samples_split=8, score=0.8240399127955728, total=   0.0s\n",
      "[CV] min_impurity_decrease=0.001, min_samples_leaf=7, min_samples_split=8 \n",
      "[CV]  min_impurity_decrease=0.001, min_samples_leaf=7, min_samples_split=8, score=0.734194197551568, total=   0.0s\n",
      "[CV] min_impurity_decrease=0.001, min_samples_leaf=7, min_samples_split=8 \n",
      "[CV]  min_impurity_decrease=0.001, min_samples_leaf=7, min_samples_split=8, score=0.8619827001356851, total=   0.0s\n",
      "[CV] min_impurity_decrease=0.001, min_samples_leaf=7, min_samples_split=5 \n",
      "[CV]  min_impurity_decrease=0.001, min_samples_leaf=7, min_samples_split=5, score=0.8240399127955728, total=   0.0s\n",
      "[CV] min_impurity_decrease=0.001, min_samples_leaf=7, min_samples_split=5 \n",
      "[CV]  min_impurity_decrease=0.001, min_samples_leaf=7, min_samples_split=5, score=0.734194197551568, total=   0.0s\n",
      "[CV] min_impurity_decrease=0.001, min_samples_leaf=7, min_samples_split=5 \n",
      "[CV]  min_impurity_decrease=0.001, min_samples_leaf=7, min_samples_split=5, score=0.8619827001356851, total=   0.0s\n",
      "[CV] min_impurity_decrease=0.001, min_samples_leaf=7, min_samples_split=3 \n",
      "[CV]  min_impurity_decrease=0.001, min_samples_leaf=7, min_samples_split=3, score=0.8265554251215833, total=   0.0s\n",
      "[CV] min_impurity_decrease=0.001, min_samples_leaf=7, min_samples_split=3 \n",
      "[CV]  min_impurity_decrease=0.001, min_samples_leaf=7, min_samples_split=3, score=0.734194197551568, total=   0.0s\n",
      "[CV] min_impurity_decrease=0.001, min_samples_leaf=7, min_samples_split=3 \n",
      "[CV]  min_impurity_decrease=0.001, min_samples_leaf=7, min_samples_split=3, score=0.8619827001356851, total=   0.0s\n",
      "[CV] min_impurity_decrease=0.005, min_samples_leaf=2, min_samples_split=10 \n",
      "[CV]  min_impurity_decrease=0.005, min_samples_leaf=2, min_samples_split=10, score=0.8727989267147409, total=   0.0s\n",
      "[CV] min_impurity_decrease=0.005, min_samples_leaf=2, min_samples_split=10 \n",
      "[CV]  min_impurity_decrease=0.005, min_samples_leaf=2, min_samples_split=10, score=0.7384705685057857, total=   0.0s\n",
      "[CV] min_impurity_decrease=0.005, min_samples_leaf=2, min_samples_split=10 \n",
      "[CV]  min_impurity_decrease=0.005, min_samples_leaf=2, min_samples_split=10, score=0.8515094979647219, total=   0.0s\n",
      "[CV] min_impurity_decrease=0.005, min_samples_leaf=2, min_samples_split=8 \n",
      "[CV]  min_impurity_decrease=0.005, min_samples_leaf=2, min_samples_split=8, score=0.8556934428978702, total=   0.0s\n",
      "[CV] min_impurity_decrease=0.005, min_samples_leaf=2, min_samples_split=8 \n",
      "[CV]  min_impurity_decrease=0.005, min_samples_leaf=2, min_samples_split=8, score=0.7516770082173403, total=   0.0s\n",
      "[CV] min_impurity_decrease=0.005, min_samples_leaf=2, min_samples_split=8 \n",
      "[CV]  min_impurity_decrease=0.005, min_samples_leaf=2, min_samples_split=8, score=0.8515094979647219, total=   0.0s\n",
      "[CV] min_impurity_decrease=0.005, min_samples_leaf=2, min_samples_split=5 \n",
      "[CV]  min_impurity_decrease=0.005, min_samples_leaf=2, min_samples_split=5, score=0.8556934428978702, total=   0.0s\n",
      "[CV] min_impurity_decrease=0.005, min_samples_leaf=2, min_samples_split=5 \n",
      "[CV]  min_impurity_decrease=0.005, min_samples_leaf=2, min_samples_split=5, score=0.7516770082173403, total=   0.0s\n",
      "[CV] min_impurity_decrease=0.005, min_samples_leaf=2, min_samples_split=5 \n",
      "[CV]  min_impurity_decrease=0.005, min_samples_leaf=2, min_samples_split=5, score=0.8515094979647219, total=   0.0s\n",
      "[CV] min_impurity_decrease=0.005, min_samples_leaf=2, min_samples_split=3 \n",
      "[CV]  min_impurity_decrease=0.005, min_samples_leaf=2, min_samples_split=3, score=0.8556934428978702, total=   0.0s\n",
      "[CV] min_impurity_decrease=0.005, min_samples_leaf=2, min_samples_split=3 \n",
      "[CV]  min_impurity_decrease=0.005, min_samples_leaf=2, min_samples_split=3, score=0.7516770082173403, total=   0.0s\n",
      "[CV] min_impurity_decrease=0.005, min_samples_leaf=2, min_samples_split=3 \n",
      "[CV]  min_impurity_decrease=0.005, min_samples_leaf=2, min_samples_split=3, score=0.8515094979647219, total=   0.0s\n",
      "[CV] min_impurity_decrease=0.005, min_samples_leaf=3, min_samples_split=10 \n",
      "[CV]  min_impurity_decrease=0.005, min_samples_leaf=3, min_samples_split=10, score=0.8727989267147409, total=   0.0s\n",
      "[CV] min_impurity_decrease=0.005, min_samples_leaf=3, min_samples_split=10 \n",
      "[CV]  min_impurity_decrease=0.005, min_samples_leaf=3, min_samples_split=10, score=0.7384705685057857, total=   0.0s\n",
      "[CV] min_impurity_decrease=0.005, min_samples_leaf=3, min_samples_split=10 \n",
      "[CV]  min_impurity_decrease=0.005, min_samples_leaf=3, min_samples_split=10, score=0.8515094979647219, total=   0.0s\n",
      "[CV] min_impurity_decrease=0.005, min_samples_leaf=3, min_samples_split=8 \n",
      "[CV]  min_impurity_decrease=0.005, min_samples_leaf=3, min_samples_split=8, score=0.8556934428978702, total=   0.0s\n",
      "[CV] min_impurity_decrease=0.005, min_samples_leaf=3, min_samples_split=8 \n",
      "[CV]  min_impurity_decrease=0.005, min_samples_leaf=3, min_samples_split=8, score=0.7516770082173403, total=   0.0s\n",
      "[CV] min_impurity_decrease=0.005, min_samples_leaf=3, min_samples_split=8 \n",
      "[CV]  min_impurity_decrease=0.005, min_samples_leaf=3, min_samples_split=8, score=0.8515094979647219, total=   0.0s\n",
      "[CV] min_impurity_decrease=0.005, min_samples_leaf=3, min_samples_split=5 \n",
      "[CV]  min_impurity_decrease=0.005, min_samples_leaf=3, min_samples_split=5, score=0.8556934428978702, total=   0.0s\n",
      "[CV] min_impurity_decrease=0.005, min_samples_leaf=3, min_samples_split=5 \n",
      "[CV]  min_impurity_decrease=0.005, min_samples_leaf=3, min_samples_split=5, score=0.7516770082173403, total=   0.0s\n",
      "[CV] min_impurity_decrease=0.005, min_samples_leaf=3, min_samples_split=5 \n"
     ]
    },
    {
     "name": "stdout",
     "output_type": "stream",
     "text": [
      "[CV]  min_impurity_decrease=0.005, min_samples_leaf=3, min_samples_split=5, score=0.8515094979647219, total=   0.0s\n",
      "[CV] min_impurity_decrease=0.005, min_samples_leaf=3, min_samples_split=3 \n",
      "[CV]  min_impurity_decrease=0.005, min_samples_leaf=3, min_samples_split=3, score=0.8556934428978702, total=   0.0s\n",
      "[CV] min_impurity_decrease=0.005, min_samples_leaf=3, min_samples_split=3 \n",
      "[CV]  min_impurity_decrease=0.005, min_samples_leaf=3, min_samples_split=3, score=0.7516770082173403, total=   0.0s\n",
      "[CV] min_impurity_decrease=0.005, min_samples_leaf=3, min_samples_split=3 \n",
      "[CV]  min_impurity_decrease=0.005, min_samples_leaf=3, min_samples_split=3, score=0.8515094979647219, total=   0.0s\n",
      "[CV] min_impurity_decrease=0.005, min_samples_leaf=5, min_samples_split=10 \n",
      "[CV]  min_impurity_decrease=0.005, min_samples_leaf=5, min_samples_split=10, score=0.8706188160321985, total=   0.0s\n",
      "[CV] min_impurity_decrease=0.005, min_samples_leaf=5, min_samples_split=10 \n",
      "[CV]  min_impurity_decrease=0.005, min_samples_leaf=5, min_samples_split=10, score=0.7409860808317961, total=   0.0s\n",
      "[CV] min_impurity_decrease=0.005, min_samples_leaf=5, min_samples_split=10 \n",
      "[CV]  min_impurity_decrease=0.005, min_samples_leaf=5, min_samples_split=10, score=0.8920030529172321, total=   0.0s\n",
      "[CV] min_impurity_decrease=0.005, min_samples_leaf=5, min_samples_split=8 \n",
      "[CV]  min_impurity_decrease=0.005, min_samples_leaf=5, min_samples_split=8, score=0.8706188160321985, total=   0.0s\n",
      "[CV] min_impurity_decrease=0.005, min_samples_leaf=5, min_samples_split=8 \n",
      "[CV]  min_impurity_decrease=0.005, min_samples_leaf=5, min_samples_split=8, score=0.7409860808317961, total=   0.0s\n",
      "[CV] min_impurity_decrease=0.005, min_samples_leaf=5, min_samples_split=8 \n",
      "[CV]  min_impurity_decrease=0.005, min_samples_leaf=5, min_samples_split=8, score=0.8920030529172321, total=   0.0s\n",
      "[CV] min_impurity_decrease=0.005, min_samples_leaf=5, min_samples_split=5 \n",
      "[CV]  min_impurity_decrease=0.005, min_samples_leaf=5, min_samples_split=5, score=0.8706188160321985, total=   0.0s\n",
      "[CV] min_impurity_decrease=0.005, min_samples_leaf=5, min_samples_split=5 \n",
      "[CV]  min_impurity_decrease=0.005, min_samples_leaf=5, min_samples_split=5, score=0.7409860808317961, total=   0.0s\n",
      "[CV] min_impurity_decrease=0.005, min_samples_leaf=5, min_samples_split=5 \n",
      "[CV]  min_impurity_decrease=0.005, min_samples_leaf=5, min_samples_split=5, score=0.8920030529172321, total=   0.0s\n",
      "[CV] min_impurity_decrease=0.005, min_samples_leaf=5, min_samples_split=3 \n",
      "[CV]  min_impurity_decrease=0.005, min_samples_leaf=5, min_samples_split=3, score=0.8706188160321985, total=   0.0s\n",
      "[CV] min_impurity_decrease=0.005, min_samples_leaf=5, min_samples_split=3 \n",
      "[CV]  min_impurity_decrease=0.005, min_samples_leaf=5, min_samples_split=3, score=0.7409860808317961, total=   0.0s\n",
      "[CV] min_impurity_decrease=0.005, min_samples_leaf=5, min_samples_split=3 \n",
      "[CV]  min_impurity_decrease=0.005, min_samples_leaf=5, min_samples_split=3, score=0.8920030529172321, total=   0.0s\n",
      "[CV] min_impurity_decrease=0.005, min_samples_leaf=7, min_samples_split=10 \n",
      "[CV]  min_impurity_decrease=0.005, min_samples_leaf=7, min_samples_split=10, score=0.8706188160321985, total=   0.0s\n",
      "[CV] min_impurity_decrease=0.005, min_samples_leaf=7, min_samples_split=10 \n",
      "[CV]  min_impurity_decrease=0.005, min_samples_leaf=7, min_samples_split=10, score=0.7409860808317961, total=   0.0s\n",
      "[CV] min_impurity_decrease=0.005, min_samples_leaf=7, min_samples_split=10 \n",
      "[CV]  min_impurity_decrease=0.005, min_samples_leaf=7, min_samples_split=10, score=0.8930630936227951, total=   0.0s\n",
      "[CV] min_impurity_decrease=0.005, min_samples_leaf=7, min_samples_split=8 \n",
      "[CV]  min_impurity_decrease=0.005, min_samples_leaf=7, min_samples_split=8, score=0.8706188160321985, total=   0.0s\n",
      "[CV] min_impurity_decrease=0.005, min_samples_leaf=7, min_samples_split=8 \n",
      "[CV]  min_impurity_decrease=0.005, min_samples_leaf=7, min_samples_split=8, score=0.7409860808317961, total=   0.0s\n",
      "[CV] min_impurity_decrease=0.005, min_samples_leaf=7, min_samples_split=8 \n",
      "[CV]  min_impurity_decrease=0.005, min_samples_leaf=7, min_samples_split=8, score=0.8930630936227951, total=   0.0s\n",
      "[CV] min_impurity_decrease=0.005, min_samples_leaf=7, min_samples_split=5 \n",
      "[CV]  min_impurity_decrease=0.005, min_samples_leaf=7, min_samples_split=5, score=0.8706188160321985, total=   0.0s\n",
      "[CV] min_impurity_decrease=0.005, min_samples_leaf=7, min_samples_split=5 \n",
      "[CV]  min_impurity_decrease=0.005, min_samples_leaf=7, min_samples_split=5, score=0.7409860808317961, total=   0.0s\n",
      "[CV] min_impurity_decrease=0.005, min_samples_leaf=7, min_samples_split=5 \n",
      "[CV]  min_impurity_decrease=0.005, min_samples_leaf=7, min_samples_split=5, score=0.8930630936227951, total=   0.0s\n",
      "[CV] min_impurity_decrease=0.005, min_samples_leaf=7, min_samples_split=3 \n",
      "[CV]  min_impurity_decrease=0.005, min_samples_leaf=7, min_samples_split=3, score=0.8706188160321985, total=   0.0s\n",
      "[CV] min_impurity_decrease=0.005, min_samples_leaf=7, min_samples_split=3 \n",
      "[CV]  min_impurity_decrease=0.005, min_samples_leaf=7, min_samples_split=3, score=0.7409860808317961, total=   0.0s\n",
      "[CV] min_impurity_decrease=0.005, min_samples_leaf=7, min_samples_split=3 \n",
      "[CV]  min_impurity_decrease=0.005, min_samples_leaf=7, min_samples_split=3, score=0.8930630936227951, total=   0.0s\n",
      "[CV] min_impurity_decrease=0.02, min_samples_leaf=2, min_samples_split=10 \n",
      "[CV]  min_impurity_decrease=0.02, min_samples_leaf=2, min_samples_split=10, score=0.7625356364246185, total=   0.0s\n",
      "[CV] min_impurity_decrease=0.02, min_samples_leaf=2, min_samples_split=10 \n",
      "[CV]  min_impurity_decrease=0.02, min_samples_leaf=2, min_samples_split=10, score=0.746268656716418, total=   0.0s\n",
      "[CV] min_impurity_decrease=0.02, min_samples_leaf=2, min_samples_split=10 \n",
      "[CV]  min_impurity_decrease=0.02, min_samples_leaf=2, min_samples_split=10, score=0.8209803256445047, total=   0.0s\n",
      "[CV] min_impurity_decrease=0.02, min_samples_leaf=2, min_samples_split=8 \n",
      "[CV]  min_impurity_decrease=0.02, min_samples_leaf=2, min_samples_split=8, score=0.7625356364246185, total=   0.0s\n",
      "[CV] min_impurity_decrease=0.02, min_samples_leaf=2, min_samples_split=8 \n",
      "[CV]  min_impurity_decrease=0.02, min_samples_leaf=2, min_samples_split=8, score=0.746268656716418, total=   0.0s\n",
      "[CV] min_impurity_decrease=0.02, min_samples_leaf=2, min_samples_split=8 \n",
      "[CV]  min_impurity_decrease=0.02, min_samples_leaf=2, min_samples_split=8, score=0.8209803256445047, total=   0.0s\n",
      "[CV] min_impurity_decrease=0.02, min_samples_leaf=2, min_samples_split=5 \n",
      "[CV]  min_impurity_decrease=0.02, min_samples_leaf=2, min_samples_split=5, score=0.7625356364246185, total=   0.0s\n",
      "[CV] min_impurity_decrease=0.02, min_samples_leaf=2, min_samples_split=5 \n",
      "[CV]  min_impurity_decrease=0.02, min_samples_leaf=2, min_samples_split=5, score=0.746268656716418, total=   0.0s\n",
      "[CV] min_impurity_decrease=0.02, min_samples_leaf=2, min_samples_split=5 \n",
      "[CV]  min_impurity_decrease=0.02, min_samples_leaf=2, min_samples_split=5, score=0.8209803256445047, total=   0.0s\n",
      "[CV] min_impurity_decrease=0.02, min_samples_leaf=2, min_samples_split=3 \n",
      "[CV]  min_impurity_decrease=0.02, min_samples_leaf=2, min_samples_split=3, score=0.7625356364246185, total=   0.0s\n",
      "[CV] min_impurity_decrease=0.02, min_samples_leaf=2, min_samples_split=3 \n",
      "[CV]  min_impurity_decrease=0.02, min_samples_leaf=2, min_samples_split=3, score=0.746268656716418, total=   0.0s\n",
      "[CV] min_impurity_decrease=0.02, min_samples_leaf=2, min_samples_split=3 \n",
      "[CV]  min_impurity_decrease=0.02, min_samples_leaf=2, min_samples_split=3, score=0.8209803256445047, total=   0.0s\n",
      "[CV] min_impurity_decrease=0.02, min_samples_leaf=3, min_samples_split=10 \n",
      "[CV]  min_impurity_decrease=0.02, min_samples_leaf=3, min_samples_split=10, score=0.7625356364246185, total=   0.0s\n",
      "[CV] min_impurity_decrease=0.02, min_samples_leaf=3, min_samples_split=10 \n",
      "[CV]  min_impurity_decrease=0.02, min_samples_leaf=3, min_samples_split=10, score=0.746268656716418, total=   0.0s\n",
      "[CV] min_impurity_decrease=0.02, min_samples_leaf=3, min_samples_split=10 \n",
      "[CV]  min_impurity_decrease=0.02, min_samples_leaf=3, min_samples_split=10, score=0.8209803256445047, total=   0.0s\n",
      "[CV] min_impurity_decrease=0.02, min_samples_leaf=3, min_samples_split=8 \n",
      "[CV]  min_impurity_decrease=0.02, min_samples_leaf=3, min_samples_split=8, score=0.7625356364246185, total=   0.0s\n",
      "[CV] min_impurity_decrease=0.02, min_samples_leaf=3, min_samples_split=8 \n"
     ]
    },
    {
     "name": "stdout",
     "output_type": "stream",
     "text": [
      "[CV]  min_impurity_decrease=0.02, min_samples_leaf=3, min_samples_split=8, score=0.746268656716418, total=   0.0s\n",
      "[CV] min_impurity_decrease=0.02, min_samples_leaf=3, min_samples_split=8 \n",
      "[CV]  min_impurity_decrease=0.02, min_samples_leaf=3, min_samples_split=8, score=0.8209803256445047, total=   0.0s\n",
      "[CV] min_impurity_decrease=0.02, min_samples_leaf=3, min_samples_split=5 \n",
      "[CV]  min_impurity_decrease=0.02, min_samples_leaf=3, min_samples_split=5, score=0.7625356364246185, total=   0.0s\n",
      "[CV] min_impurity_decrease=0.02, min_samples_leaf=3, min_samples_split=5 \n",
      "[CV]  min_impurity_decrease=0.02, min_samples_leaf=3, min_samples_split=5, score=0.746268656716418, total=   0.0s\n",
      "[CV] min_impurity_decrease=0.02, min_samples_leaf=3, min_samples_split=5 \n",
      "[CV]  min_impurity_decrease=0.02, min_samples_leaf=3, min_samples_split=5, score=0.8209803256445047, total=   0.0s\n",
      "[CV] min_impurity_decrease=0.02, min_samples_leaf=3, min_samples_split=3 \n",
      "[CV]  min_impurity_decrease=0.02, min_samples_leaf=3, min_samples_split=3, score=0.7625356364246185, total=   0.0s\n",
      "[CV] min_impurity_decrease=0.02, min_samples_leaf=3, min_samples_split=3 \n",
      "[CV]  min_impurity_decrease=0.02, min_samples_leaf=3, min_samples_split=3, score=0.746268656716418, total=   0.0s\n",
      "[CV] min_impurity_decrease=0.02, min_samples_leaf=3, min_samples_split=3 \n",
      "[CV]  min_impurity_decrease=0.02, min_samples_leaf=3, min_samples_split=3, score=0.8209803256445047, total=   0.0s\n",
      "[CV] min_impurity_decrease=0.02, min_samples_leaf=5, min_samples_split=10 \n",
      "[CV]  min_impurity_decrease=0.02, min_samples_leaf=5, min_samples_split=10, score=0.7625356364246185, total=   0.0s\n",
      "[CV] min_impurity_decrease=0.02, min_samples_leaf=5, min_samples_split=10 \n",
      "[CV]  min_impurity_decrease=0.02, min_samples_leaf=5, min_samples_split=10, score=0.746268656716418, total=   0.0s\n",
      "[CV] min_impurity_decrease=0.02, min_samples_leaf=5, min_samples_split=10 \n",
      "[CV]  min_impurity_decrease=0.02, min_samples_leaf=5, min_samples_split=10, score=0.8209803256445047, total=   0.0s\n",
      "[CV] min_impurity_decrease=0.02, min_samples_leaf=5, min_samples_split=8 \n",
      "[CV]  min_impurity_decrease=0.02, min_samples_leaf=5, min_samples_split=8, score=0.7625356364246185, total=   0.0s\n",
      "[CV] min_impurity_decrease=0.02, min_samples_leaf=5, min_samples_split=8 \n",
      "[CV]  min_impurity_decrease=0.02, min_samples_leaf=5, min_samples_split=8, score=0.746268656716418, total=   0.0s\n",
      "[CV] min_impurity_decrease=0.02, min_samples_leaf=5, min_samples_split=8 \n",
      "[CV]  min_impurity_decrease=0.02, min_samples_leaf=5, min_samples_split=8, score=0.8209803256445047, total=   0.0s\n",
      "[CV] min_impurity_decrease=0.02, min_samples_leaf=5, min_samples_split=5 \n",
      "[CV]  min_impurity_decrease=0.02, min_samples_leaf=5, min_samples_split=5, score=0.7625356364246185, total=   0.0s\n",
      "[CV] min_impurity_decrease=0.02, min_samples_leaf=5, min_samples_split=5 \n",
      "[CV]  min_impurity_decrease=0.02, min_samples_leaf=5, min_samples_split=5, score=0.746268656716418, total=   0.0s\n",
      "[CV] min_impurity_decrease=0.02, min_samples_leaf=5, min_samples_split=5 \n",
      "[CV]  min_impurity_decrease=0.02, min_samples_leaf=5, min_samples_split=5, score=0.8209803256445047, total=   0.0s\n",
      "[CV] min_impurity_decrease=0.02, min_samples_leaf=5, min_samples_split=3 \n",
      "[CV]  min_impurity_decrease=0.02, min_samples_leaf=5, min_samples_split=3, score=0.7625356364246185, total=   0.0s\n",
      "[CV] min_impurity_decrease=0.02, min_samples_leaf=5, min_samples_split=3 \n",
      "[CV]  min_impurity_decrease=0.02, min_samples_leaf=5, min_samples_split=3, score=0.746268656716418, total=   0.0s\n",
      "[CV] min_impurity_decrease=0.02, min_samples_leaf=5, min_samples_split=3 \n",
      "[CV]  min_impurity_decrease=0.02, min_samples_leaf=5, min_samples_split=3, score=0.8209803256445047, total=   0.0s\n",
      "[CV] min_impurity_decrease=0.02, min_samples_leaf=7, min_samples_split=10 \n",
      "[CV]  min_impurity_decrease=0.02, min_samples_leaf=7, min_samples_split=10, score=0.7625356364246185, total=   0.0s\n",
      "[CV] min_impurity_decrease=0.02, min_samples_leaf=7, min_samples_split=10 \n",
      "[CV]  min_impurity_decrease=0.02, min_samples_leaf=7, min_samples_split=10, score=0.746268656716418, total=   0.0s\n",
      "[CV] min_impurity_decrease=0.02, min_samples_leaf=7, min_samples_split=10 \n",
      "[CV]  min_impurity_decrease=0.02, min_samples_leaf=7, min_samples_split=10, score=0.8209803256445047, total=   0.0s\n",
      "[CV] min_impurity_decrease=0.02, min_samples_leaf=7, min_samples_split=8 \n",
      "[CV]  min_impurity_decrease=0.02, min_samples_leaf=7, min_samples_split=8, score=0.7625356364246185, total=   0.0s\n",
      "[CV] min_impurity_decrease=0.02, min_samples_leaf=7, min_samples_split=8 \n",
      "[CV]  min_impurity_decrease=0.02, min_samples_leaf=7, min_samples_split=8, score=0.746268656716418, total=   0.0s\n",
      "[CV] min_impurity_decrease=0.02, min_samples_leaf=7, min_samples_split=8 \n",
      "[CV]  min_impurity_decrease=0.02, min_samples_leaf=7, min_samples_split=8, score=0.8209803256445047, total=   0.0s\n",
      "[CV] min_impurity_decrease=0.02, min_samples_leaf=7, min_samples_split=5 \n",
      "[CV]  min_impurity_decrease=0.02, min_samples_leaf=7, min_samples_split=5, score=0.7625356364246185, total=   0.0s\n",
      "[CV] min_impurity_decrease=0.02, min_samples_leaf=7, min_samples_split=5 \n",
      "[CV]  min_impurity_decrease=0.02, min_samples_leaf=7, min_samples_split=5, score=0.746268656716418, total=   0.0s\n",
      "[CV] min_impurity_decrease=0.02, min_samples_leaf=7, min_samples_split=5 \n",
      "[CV]  min_impurity_decrease=0.02, min_samples_leaf=7, min_samples_split=5, score=0.8209803256445047, total=   0.0s\n",
      "[CV] min_impurity_decrease=0.02, min_samples_leaf=7, min_samples_split=3 \n",
      "[CV]  min_impurity_decrease=0.02, min_samples_leaf=7, min_samples_split=3, score=0.7625356364246185, total=   0.0s\n",
      "[CV] min_impurity_decrease=0.02, min_samples_leaf=7, min_samples_split=3 \n",
      "[CV]  min_impurity_decrease=0.02, min_samples_leaf=7, min_samples_split=3, score=0.746268656716418, total=   0.0s\n",
      "[CV] min_impurity_decrease=0.02, min_samples_leaf=7, min_samples_split=3 \n",
      "[CV]  min_impurity_decrease=0.02, min_samples_leaf=7, min_samples_split=3, score=0.8209803256445047, total=   0.0s\n",
      "[CV] min_impurity_decrease=0.01, min_samples_leaf=2, min_samples_split=10 \n",
      "[CV]  min_impurity_decrease=0.01, min_samples_leaf=2, min_samples_split=10, score=0.8693610598691934, total=   0.0s\n",
      "[CV] min_impurity_decrease=0.01, min_samples_leaf=2, min_samples_split=10 \n",
      "[CV]  min_impurity_decrease=0.01, min_samples_leaf=2, min_samples_split=10, score=0.7568338084856616, total=   0.0s\n",
      "[CV] min_impurity_decrease=0.01, min_samples_leaf=2, min_samples_split=10 \n",
      "[CV]  min_impurity_decrease=0.01, min_samples_leaf=2, min_samples_split=10, score=0.8705902306648575, total=   0.0s\n",
      "[CV] min_impurity_decrease=0.01, min_samples_leaf=2, min_samples_split=8 \n",
      "[CV]  min_impurity_decrease=0.01, min_samples_leaf=2, min_samples_split=8, score=0.8693610598691934, total=   0.0s\n",
      "[CV] min_impurity_decrease=0.01, min_samples_leaf=2, min_samples_split=8 \n",
      "[CV]  min_impurity_decrease=0.01, min_samples_leaf=2, min_samples_split=8, score=0.7568338084856616, total=   0.0s\n",
      "[CV] min_impurity_decrease=0.01, min_samples_leaf=2, min_samples_split=8 \n",
      "[CV]  min_impurity_decrease=0.01, min_samples_leaf=2, min_samples_split=8, score=0.8705902306648575, total=   0.0s\n",
      "[CV] min_impurity_decrease=0.01, min_samples_leaf=2, min_samples_split=5 \n",
      "[CV]  min_impurity_decrease=0.01, min_samples_leaf=2, min_samples_split=5, score=0.8693610598691934, total=   0.0s\n",
      "[CV] min_impurity_decrease=0.01, min_samples_leaf=2, min_samples_split=5 \n",
      "[CV]  min_impurity_decrease=0.01, min_samples_leaf=2, min_samples_split=5, score=0.7568338084856616, total=   0.0s\n",
      "[CV] min_impurity_decrease=0.01, min_samples_leaf=2, min_samples_split=5 \n",
      "[CV]  min_impurity_decrease=0.01, min_samples_leaf=2, min_samples_split=5, score=0.8705902306648575, total=   0.0s\n",
      "[CV] min_impurity_decrease=0.01, min_samples_leaf=2, min_samples_split=3 \n",
      "[CV]  min_impurity_decrease=0.01, min_samples_leaf=2, min_samples_split=3, score=0.8693610598691934, total=   0.0s\n",
      "[CV] min_impurity_decrease=0.01, min_samples_leaf=2, min_samples_split=3 \n",
      "[CV]  min_impurity_decrease=0.01, min_samples_leaf=2, min_samples_split=3, score=0.7568338084856616, total=   0.0s\n",
      "[CV] min_impurity_decrease=0.01, min_samples_leaf=2, min_samples_split=3 \n",
      "[CV]  min_impurity_decrease=0.01, min_samples_leaf=2, min_samples_split=3, score=0.8705902306648575, total=   0.0s\n",
      "[CV] min_impurity_decrease=0.01, min_samples_leaf=3, min_samples_split=10 \n",
      "[CV]  min_impurity_decrease=0.01, min_samples_leaf=3, min_samples_split=10, score=0.8693610598691934, total=   0.0s\n",
      "[CV] min_impurity_decrease=0.01, min_samples_leaf=3, min_samples_split=10 \n",
      "[CV]  min_impurity_decrease=0.01, min_samples_leaf=3, min_samples_split=10, score=0.7568338084856616, total=   0.0s\n",
      "[CV] min_impurity_decrease=0.01, min_samples_leaf=3, min_samples_split=10 \n",
      "[CV]  min_impurity_decrease=0.01, min_samples_leaf=3, min_samples_split=10, score=0.8705902306648575, total=   0.0s\n",
      "[CV] min_impurity_decrease=0.01, min_samples_leaf=3, min_samples_split=8 \n",
      "[CV]  min_impurity_decrease=0.01, min_samples_leaf=3, min_samples_split=8, score=0.8693610598691934, total=   0.0s\n",
      "[CV] min_impurity_decrease=0.01, min_samples_leaf=3, min_samples_split=8 \n",
      "[CV]  min_impurity_decrease=0.01, min_samples_leaf=3, min_samples_split=8, score=0.7568338084856616, total=   0.0s\n",
      "[CV] min_impurity_decrease=0.01, min_samples_leaf=3, min_samples_split=8 \n",
      "[CV]  min_impurity_decrease=0.01, min_samples_leaf=3, min_samples_split=8, score=0.8705902306648575, total=   0.0s\n",
      "[CV] min_impurity_decrease=0.01, min_samples_leaf=3, min_samples_split=5 \n",
      "[CV]  min_impurity_decrease=0.01, min_samples_leaf=3, min_samples_split=5, score=0.8693610598691934, total=   0.0s\n",
      "[CV] min_impurity_decrease=0.01, min_samples_leaf=3, min_samples_split=5 \n"
     ]
    },
    {
     "name": "stdout",
     "output_type": "stream",
     "text": [
      "[CV]  min_impurity_decrease=0.01, min_samples_leaf=3, min_samples_split=5, score=0.7568338084856616, total=   0.0s\n",
      "[CV] min_impurity_decrease=0.01, min_samples_leaf=3, min_samples_split=5 \n",
      "[CV]  min_impurity_decrease=0.01, min_samples_leaf=3, min_samples_split=5, score=0.8705902306648575, total=   0.0s\n",
      "[CV] min_impurity_decrease=0.01, min_samples_leaf=3, min_samples_split=3 \n",
      "[CV]  min_impurity_decrease=0.01, min_samples_leaf=3, min_samples_split=3, score=0.8693610598691934, total=   0.0s\n",
      "[CV] min_impurity_decrease=0.01, min_samples_leaf=3, min_samples_split=3 \n",
      "[CV]  min_impurity_decrease=0.01, min_samples_leaf=3, min_samples_split=3, score=0.7568338084856616, total=   0.0s\n",
      "[CV] min_impurity_decrease=0.01, min_samples_leaf=3, min_samples_split=3 \n",
      "[CV]  min_impurity_decrease=0.01, min_samples_leaf=3, min_samples_split=3, score=0.8705902306648575, total=   0.0s\n",
      "[CV] min_impurity_decrease=0.01, min_samples_leaf=5, min_samples_split=10 \n",
      "[CV]  min_impurity_decrease=0.01, min_samples_leaf=5, min_samples_split=10, score=0.8693610598691934, total=   0.0s\n",
      "[CV] min_impurity_decrease=0.01, min_samples_leaf=5, min_samples_split=10 \n",
      "[CV]  min_impurity_decrease=0.01, min_samples_leaf=5, min_samples_split=10, score=0.7568338084856616, total=   0.0s\n",
      "[CV] min_impurity_decrease=0.01, min_samples_leaf=5, min_samples_split=10 \n",
      "[CV]  min_impurity_decrease=0.01, min_samples_leaf=5, min_samples_split=10, score=0.8705902306648575, total=   0.0s\n",
      "[CV] min_impurity_decrease=0.01, min_samples_leaf=5, min_samples_split=8 \n",
      "[CV]  min_impurity_decrease=0.01, min_samples_leaf=5, min_samples_split=8, score=0.8693610598691934, total=   0.0s\n",
      "[CV] min_impurity_decrease=0.01, min_samples_leaf=5, min_samples_split=8 \n",
      "[CV]  min_impurity_decrease=0.01, min_samples_leaf=5, min_samples_split=8, score=0.7568338084856616, total=   0.0s\n",
      "[CV] min_impurity_decrease=0.01, min_samples_leaf=5, min_samples_split=8 \n",
      "[CV]  min_impurity_decrease=0.01, min_samples_leaf=5, min_samples_split=8, score=0.8705902306648575, total=   0.0s\n",
      "[CV] min_impurity_decrease=0.01, min_samples_leaf=5, min_samples_split=5 \n",
      "[CV]  min_impurity_decrease=0.01, min_samples_leaf=5, min_samples_split=5, score=0.8693610598691934, total=   0.0s\n",
      "[CV] min_impurity_decrease=0.01, min_samples_leaf=5, min_samples_split=5 \n",
      "[CV]  min_impurity_decrease=0.01, min_samples_leaf=5, min_samples_split=5, score=0.7568338084856616, total=   0.0s\n",
      "[CV] min_impurity_decrease=0.01, min_samples_leaf=5, min_samples_split=5 \n",
      "[CV]  min_impurity_decrease=0.01, min_samples_leaf=5, min_samples_split=5, score=0.8705902306648575, total=   0.0s\n",
      "[CV] min_impurity_decrease=0.01, min_samples_leaf=5, min_samples_split=3 \n",
      "[CV]  min_impurity_decrease=0.01, min_samples_leaf=5, min_samples_split=3, score=0.8693610598691934, total=   0.0s\n",
      "[CV] min_impurity_decrease=0.01, min_samples_leaf=5, min_samples_split=3 \n",
      "[CV]  min_impurity_decrease=0.01, min_samples_leaf=5, min_samples_split=3, score=0.7568338084856616, total=   0.0s\n",
      "[CV] min_impurity_decrease=0.01, min_samples_leaf=5, min_samples_split=3 \n",
      "[CV]  min_impurity_decrease=0.01, min_samples_leaf=5, min_samples_split=3, score=0.8705902306648575, total=   0.0s\n",
      "[CV] min_impurity_decrease=0.01, min_samples_leaf=7, min_samples_split=10 \n",
      "[CV]  min_impurity_decrease=0.01, min_samples_leaf=7, min_samples_split=10, score=0.8693610598691934, total=   0.0s\n",
      "[CV] min_impurity_decrease=0.01, min_samples_leaf=7, min_samples_split=10 \n",
      "[CV]  min_impurity_decrease=0.01, min_samples_leaf=7, min_samples_split=10, score=0.7568338084856616, total=   0.0s\n",
      "[CV] min_impurity_decrease=0.01, min_samples_leaf=7, min_samples_split=10 \n",
      "[CV]  min_impurity_decrease=0.01, min_samples_leaf=7, min_samples_split=10, score=0.8705902306648575, total=   0.0s\n",
      "[CV] min_impurity_decrease=0.01, min_samples_leaf=7, min_samples_split=8 \n",
      "[CV]  min_impurity_decrease=0.01, min_samples_leaf=7, min_samples_split=8, score=0.8693610598691934, total=   0.0s\n",
      "[CV] min_impurity_decrease=0.01, min_samples_leaf=7, min_samples_split=8 \n",
      "[CV]  min_impurity_decrease=0.01, min_samples_leaf=7, min_samples_split=8, score=0.7568338084856616, total=   0.0s\n",
      "[CV] min_impurity_decrease=0.01, min_samples_leaf=7, min_samples_split=8 \n",
      "[CV]  min_impurity_decrease=0.01, min_samples_leaf=7, min_samples_split=8, score=0.8705902306648575, total=   0.0s\n",
      "[CV] min_impurity_decrease=0.01, min_samples_leaf=7, min_samples_split=5 \n",
      "[CV]  min_impurity_decrease=0.01, min_samples_leaf=7, min_samples_split=5, score=0.8693610598691934, total=   0.0s\n",
      "[CV] min_impurity_decrease=0.01, min_samples_leaf=7, min_samples_split=5 \n",
      "[CV]  min_impurity_decrease=0.01, min_samples_leaf=7, min_samples_split=5, score=0.7568338084856616, total=   0.0s\n",
      "[CV] min_impurity_decrease=0.01, min_samples_leaf=7, min_samples_split=5 \n",
      "[CV]  min_impurity_decrease=0.01, min_samples_leaf=7, min_samples_split=5, score=0.8705902306648575, total=   0.0s\n",
      "[CV] min_impurity_decrease=0.01, min_samples_leaf=7, min_samples_split=3 \n",
      "[CV]  min_impurity_decrease=0.01, min_samples_leaf=7, min_samples_split=3, score=0.8693610598691934, total=   0.0s\n",
      "[CV] min_impurity_decrease=0.01, min_samples_leaf=7, min_samples_split=3 \n",
      "[CV]  min_impurity_decrease=0.01, min_samples_leaf=7, min_samples_split=3, score=0.7568338084856616, total=   0.0s\n",
      "[CV] min_impurity_decrease=0.01, min_samples_leaf=7, min_samples_split=3 \n",
      "[CV]  min_impurity_decrease=0.01, min_samples_leaf=7, min_samples_split=3, score=0.8705902306648575, total=   0.0s\n"
     ]
    },
    {
     "name": "stderr",
     "output_type": "stream",
     "text": [
      "[Parallel(n_jobs=1)]: Done 192 out of 192 | elapsed:    3.5s finished\n"
     ]
    },
    {
     "data": {
      "text/plain": [
       "GridSearchCV(cv=3, error_score='raise-deprecating',\n",
       "       estimator=DecisionTreeClassifier(class_weight='balanced', criterion='gini',\n",
       "            max_depth=None, max_features=None, max_leaf_nodes=None,\n",
       "            min_impurity_decrease=0.0, min_impurity_split=None,\n",
       "            min_samples_leaf=1, min_samples_split=2,\n",
       "            min_weight_fraction_leaf=0.0, presort=False, random_state=None,\n",
       "            splitter='best'),\n",
       "       fit_params=None, iid='warn', n_jobs=1,\n",
       "       param_grid={'min_samples_split': [10, 8, 5, 3], 'min_samples_leaf': [2, 3, 5, 7], 'min_impurity_decrease': [0.001, 0.005, 0.02, 0.01]},\n",
       "       pre_dispatch='2*n_jobs', refit=True, return_train_score=True,\n",
       "       scoring='roc_auc', verbose=10)"
      ]
     },
     "execution_count": 83,
     "metadata": {},
     "output_type": "execute_result"
    }
   ],
   "source": [
    "# DecisionTree Classifier\n",
    "# build grid search parameters\n",
    "parms = {'min_samples_split': [10,8,5,3], \n",
    "         'min_samples_leaf': [2,3,5,7],\n",
    "         'min_impurity_decrease': [0.001,0.005,0.02,0.01]} \n",
    "# perform grid search\n",
    "from sklearn.tree import DecisionTreeClassifier\n",
    "CART = DecisionTreeClassifier(class_weight='balanced')\n",
    "from sklearn.model_selection import GridSearchCV\n",
    "CV = GridSearchCV(estimator = CART,param_grid = parms, scoring = 'roc_auc',cv=3,refit=True,\n",
    "                           return_train_score = True,verbose=10,n_jobs=1)\n",
    "CV.fit(X_train,Y_train)"
   ]
  },
  {
   "cell_type": "code",
   "execution_count": 84,
   "metadata": {},
   "outputs": [
    {
     "ename": "ValueError",
     "evalue": "y contains previously unseen labels: [0]",
     "output_type": "error",
     "traceback": [
      "\u001b[1;31m---------------------------------------------------------------------------\u001b[0m",
      "\u001b[1;31mValueError\u001b[0m                                Traceback (most recent call last)",
      "\u001b[1;32m<ipython-input-84-6c1161b8f4d2>\u001b[0m in \u001b[0;36m<module>\u001b[1;34m\u001b[0m\n\u001b[1;32m----> 1\u001b[1;33m \u001b[0mX_test\u001b[0m\u001b[1;33m.\u001b[0m\u001b[0mPclass\u001b[0m\u001b[1;33m=\u001b[0m\u001b[0mLE\u001b[0m\u001b[1;33m.\u001b[0m\u001b[0mtransform\u001b[0m\u001b[1;33m(\u001b[0m\u001b[0mX_test\u001b[0m\u001b[1;33m.\u001b[0m\u001b[0mPclass\u001b[0m\u001b[1;33m)\u001b[0m\u001b[1;33m\u001b[0m\u001b[1;33m\u001b[0m\u001b[0m\n\u001b[0m\u001b[0;32m      2\u001b[0m \u001b[0mprint\u001b[0m\u001b[1;33m(\u001b[0m\u001b[0mnp\u001b[0m\u001b[1;33m.\u001b[0m\u001b[0munique\u001b[0m\u001b[1;33m(\u001b[0m\u001b[0mX_test\u001b[0m\u001b[1;33m.\u001b[0m\u001b[0mPclass\u001b[0m\u001b[1;33m,\u001b[0m\u001b[0mreturn_counts\u001b[0m\u001b[1;33m=\u001b[0m\u001b[1;32mTrue\u001b[0m\u001b[1;33m)\u001b[0m\u001b[1;33m)\u001b[0m\u001b[1;33m\u001b[0m\u001b[1;33m\u001b[0m\u001b[0m\n",
      "\u001b[1;32mC:\\ProgramData\\Anaconda3\\lib\\site-packages\\sklearn\\preprocessing\\label.py\u001b[0m in \u001b[0;36mtransform\u001b[1;34m(self, y)\u001b[0m\n\u001b[0;32m    255\u001b[0m             \u001b[1;32mreturn\u001b[0m \u001b[0mnp\u001b[0m\u001b[1;33m.\u001b[0m\u001b[0marray\u001b[0m\u001b[1;33m(\u001b[0m\u001b[1;33m[\u001b[0m\u001b[1;33m]\u001b[0m\u001b[1;33m)\u001b[0m\u001b[1;33m\u001b[0m\u001b[1;33m\u001b[0m\u001b[0m\n\u001b[0;32m    256\u001b[0m \u001b[1;33m\u001b[0m\u001b[0m\n\u001b[1;32m--> 257\u001b[1;33m         \u001b[0m_\u001b[0m\u001b[1;33m,\u001b[0m \u001b[0my\u001b[0m \u001b[1;33m=\u001b[0m \u001b[0m_encode\u001b[0m\u001b[1;33m(\u001b[0m\u001b[0my\u001b[0m\u001b[1;33m,\u001b[0m \u001b[0muniques\u001b[0m\u001b[1;33m=\u001b[0m\u001b[0mself\u001b[0m\u001b[1;33m.\u001b[0m\u001b[0mclasses_\u001b[0m\u001b[1;33m,\u001b[0m \u001b[0mencode\u001b[0m\u001b[1;33m=\u001b[0m\u001b[1;32mTrue\u001b[0m\u001b[1;33m)\u001b[0m\u001b[1;33m\u001b[0m\u001b[1;33m\u001b[0m\u001b[0m\n\u001b[0m\u001b[0;32m    258\u001b[0m         \u001b[1;32mreturn\u001b[0m \u001b[0my\u001b[0m\u001b[1;33m\u001b[0m\u001b[1;33m\u001b[0m\u001b[0m\n\u001b[0;32m    259\u001b[0m \u001b[1;33m\u001b[0m\u001b[0m\n",
      "\u001b[1;32mC:\\ProgramData\\Anaconda3\\lib\\site-packages\\sklearn\\preprocessing\\label.py\u001b[0m in \u001b[0;36m_encode\u001b[1;34m(values, uniques, encode)\u001b[0m\n\u001b[0;32m    108\u001b[0m         \u001b[1;32mreturn\u001b[0m \u001b[0m_encode_python\u001b[0m\u001b[1;33m(\u001b[0m\u001b[0mvalues\u001b[0m\u001b[1;33m,\u001b[0m \u001b[0muniques\u001b[0m\u001b[1;33m,\u001b[0m \u001b[0mencode\u001b[0m\u001b[1;33m)\u001b[0m\u001b[1;33m\u001b[0m\u001b[1;33m\u001b[0m\u001b[0m\n\u001b[0;32m    109\u001b[0m     \u001b[1;32melse\u001b[0m\u001b[1;33m:\u001b[0m\u001b[1;33m\u001b[0m\u001b[1;33m\u001b[0m\u001b[0m\n\u001b[1;32m--> 110\u001b[1;33m         \u001b[1;32mreturn\u001b[0m \u001b[0m_encode_numpy\u001b[0m\u001b[1;33m(\u001b[0m\u001b[0mvalues\u001b[0m\u001b[1;33m,\u001b[0m \u001b[0muniques\u001b[0m\u001b[1;33m,\u001b[0m \u001b[0mencode\u001b[0m\u001b[1;33m)\u001b[0m\u001b[1;33m\u001b[0m\u001b[1;33m\u001b[0m\u001b[0m\n\u001b[0m\u001b[0;32m    111\u001b[0m \u001b[1;33m\u001b[0m\u001b[0m\n\u001b[0;32m    112\u001b[0m \u001b[1;33m\u001b[0m\u001b[0m\n",
      "\u001b[1;32mC:\\ProgramData\\Anaconda3\\lib\\site-packages\\sklearn\\preprocessing\\label.py\u001b[0m in \u001b[0;36m_encode_numpy\u001b[1;34m(values, uniques, encode)\u001b[0m\n\u001b[0;32m     51\u001b[0m         \u001b[1;32mif\u001b[0m \u001b[0mdiff\u001b[0m\u001b[1;33m:\u001b[0m\u001b[1;33m\u001b[0m\u001b[1;33m\u001b[0m\u001b[0m\n\u001b[0;32m     52\u001b[0m             raise ValueError(\"y contains previously unseen labels: %s\"\n\u001b[1;32m---> 53\u001b[1;33m                              % str(diff))\n\u001b[0m\u001b[0;32m     54\u001b[0m         \u001b[0mencoded\u001b[0m \u001b[1;33m=\u001b[0m \u001b[0mnp\u001b[0m\u001b[1;33m.\u001b[0m\u001b[0msearchsorted\u001b[0m\u001b[1;33m(\u001b[0m\u001b[0muniques\u001b[0m\u001b[1;33m,\u001b[0m \u001b[0mvalues\u001b[0m\u001b[1;33m)\u001b[0m\u001b[1;33m\u001b[0m\u001b[1;33m\u001b[0m\u001b[0m\n\u001b[0;32m     55\u001b[0m         \u001b[1;32mreturn\u001b[0m \u001b[0muniques\u001b[0m\u001b[1;33m,\u001b[0m \u001b[0mencoded\u001b[0m\u001b[1;33m\u001b[0m\u001b[1;33m\u001b[0m\u001b[0m\n",
      "\u001b[1;31mValueError\u001b[0m: y contains previously unseen labels: [0]"
     ]
    }
   ],
   "source": [
    "X_test.Pclass=LE.transform(X_test.Pclass)\n",
    "print(np.unique(X_test.Pclass,return_counts=True))"
   ]
  },
  {
   "cell_type": "code",
   "execution_count": 81,
   "metadata": {},
   "outputs": [
    {
     "ename": "ValueError",
     "evalue": "y contains previously unseen labels: [0, 1]",
     "output_type": "error",
     "traceback": [
      "\u001b[1;31m---------------------------------------------------------------------------\u001b[0m",
      "\u001b[1;31mValueError\u001b[0m                                Traceback (most recent call last)",
      "\u001b[1;32m<ipython-input-81-38bba14bbc6f>\u001b[0m in \u001b[0;36m<module>\u001b[1;34m\u001b[0m\n\u001b[1;32m----> 1\u001b[1;33m \u001b[0mX_test\u001b[0m\u001b[1;33m.\u001b[0m\u001b[0mSex\u001b[0m\u001b[1;33m=\u001b[0m\u001b[0mLE1\u001b[0m\u001b[1;33m.\u001b[0m\u001b[0mtransform\u001b[0m\u001b[1;33m(\u001b[0m\u001b[0mX_test\u001b[0m\u001b[1;33m.\u001b[0m\u001b[0mSex\u001b[0m\u001b[1;33m)\u001b[0m\u001b[1;33m\u001b[0m\u001b[1;33m\u001b[0m\u001b[0m\n\u001b[0m\u001b[0;32m      2\u001b[0m \u001b[0mprint\u001b[0m\u001b[1;33m(\u001b[0m\u001b[0mnp\u001b[0m\u001b[1;33m.\u001b[0m\u001b[0munique\u001b[0m\u001b[1;33m(\u001b[0m\u001b[0mX_test\u001b[0m\u001b[1;33m.\u001b[0m\u001b[0mSex\u001b[0m\u001b[1;33m,\u001b[0m\u001b[0mreturn_counts\u001b[0m\u001b[1;33m=\u001b[0m\u001b[1;32mTrue\u001b[0m\u001b[1;33m)\u001b[0m\u001b[1;33m)\u001b[0m\u001b[1;33m\u001b[0m\u001b[1;33m\u001b[0m\u001b[0m\n",
      "\u001b[1;32mC:\\ProgramData\\Anaconda3\\lib\\site-packages\\sklearn\\preprocessing\\label.py\u001b[0m in \u001b[0;36mtransform\u001b[1;34m(self, y)\u001b[0m\n\u001b[0;32m    255\u001b[0m             \u001b[1;32mreturn\u001b[0m \u001b[0mnp\u001b[0m\u001b[1;33m.\u001b[0m\u001b[0marray\u001b[0m\u001b[1;33m(\u001b[0m\u001b[1;33m[\u001b[0m\u001b[1;33m]\u001b[0m\u001b[1;33m)\u001b[0m\u001b[1;33m\u001b[0m\u001b[1;33m\u001b[0m\u001b[0m\n\u001b[0;32m    256\u001b[0m \u001b[1;33m\u001b[0m\u001b[0m\n\u001b[1;32m--> 257\u001b[1;33m         \u001b[0m_\u001b[0m\u001b[1;33m,\u001b[0m \u001b[0my\u001b[0m \u001b[1;33m=\u001b[0m \u001b[0m_encode\u001b[0m\u001b[1;33m(\u001b[0m\u001b[0my\u001b[0m\u001b[1;33m,\u001b[0m \u001b[0muniques\u001b[0m\u001b[1;33m=\u001b[0m\u001b[0mself\u001b[0m\u001b[1;33m.\u001b[0m\u001b[0mclasses_\u001b[0m\u001b[1;33m,\u001b[0m \u001b[0mencode\u001b[0m\u001b[1;33m=\u001b[0m\u001b[1;32mTrue\u001b[0m\u001b[1;33m)\u001b[0m\u001b[1;33m\u001b[0m\u001b[1;33m\u001b[0m\u001b[0m\n\u001b[0m\u001b[0;32m    258\u001b[0m         \u001b[1;32mreturn\u001b[0m \u001b[0my\u001b[0m\u001b[1;33m\u001b[0m\u001b[1;33m\u001b[0m\u001b[0m\n\u001b[0;32m    259\u001b[0m \u001b[1;33m\u001b[0m\u001b[0m\n",
      "\u001b[1;32mC:\\ProgramData\\Anaconda3\\lib\\site-packages\\sklearn\\preprocessing\\label.py\u001b[0m in \u001b[0;36m_encode\u001b[1;34m(values, uniques, encode)\u001b[0m\n\u001b[0;32m    108\u001b[0m         \u001b[1;32mreturn\u001b[0m \u001b[0m_encode_python\u001b[0m\u001b[1;33m(\u001b[0m\u001b[0mvalues\u001b[0m\u001b[1;33m,\u001b[0m \u001b[0muniques\u001b[0m\u001b[1;33m,\u001b[0m \u001b[0mencode\u001b[0m\u001b[1;33m)\u001b[0m\u001b[1;33m\u001b[0m\u001b[1;33m\u001b[0m\u001b[0m\n\u001b[0;32m    109\u001b[0m     \u001b[1;32melse\u001b[0m\u001b[1;33m:\u001b[0m\u001b[1;33m\u001b[0m\u001b[1;33m\u001b[0m\u001b[0m\n\u001b[1;32m--> 110\u001b[1;33m         \u001b[1;32mreturn\u001b[0m \u001b[0m_encode_numpy\u001b[0m\u001b[1;33m(\u001b[0m\u001b[0mvalues\u001b[0m\u001b[1;33m,\u001b[0m \u001b[0muniques\u001b[0m\u001b[1;33m,\u001b[0m \u001b[0mencode\u001b[0m\u001b[1;33m)\u001b[0m\u001b[1;33m\u001b[0m\u001b[1;33m\u001b[0m\u001b[0m\n\u001b[0m\u001b[0;32m    111\u001b[0m \u001b[1;33m\u001b[0m\u001b[0m\n\u001b[0;32m    112\u001b[0m \u001b[1;33m\u001b[0m\u001b[0m\n",
      "\u001b[1;32mC:\\ProgramData\\Anaconda3\\lib\\site-packages\\sklearn\\preprocessing\\label.py\u001b[0m in \u001b[0;36m_encode_numpy\u001b[1;34m(values, uniques, encode)\u001b[0m\n\u001b[0;32m     51\u001b[0m         \u001b[1;32mif\u001b[0m \u001b[0mdiff\u001b[0m\u001b[1;33m:\u001b[0m\u001b[1;33m\u001b[0m\u001b[1;33m\u001b[0m\u001b[0m\n\u001b[0;32m     52\u001b[0m             raise ValueError(\"y contains previously unseen labels: %s\"\n\u001b[1;32m---> 53\u001b[1;33m                              % str(diff))\n\u001b[0m\u001b[0;32m     54\u001b[0m         \u001b[0mencoded\u001b[0m \u001b[1;33m=\u001b[0m \u001b[0mnp\u001b[0m\u001b[1;33m.\u001b[0m\u001b[0msearchsorted\u001b[0m\u001b[1;33m(\u001b[0m\u001b[0muniques\u001b[0m\u001b[1;33m,\u001b[0m \u001b[0mvalues\u001b[0m\u001b[1;33m)\u001b[0m\u001b[1;33m\u001b[0m\u001b[1;33m\u001b[0m\u001b[0m\n\u001b[0;32m     55\u001b[0m         \u001b[1;32mreturn\u001b[0m \u001b[0muniques\u001b[0m\u001b[1;33m,\u001b[0m \u001b[0mencoded\u001b[0m\u001b[1;33m\u001b[0m\u001b[1;33m\u001b[0m\u001b[0m\n",
      "\u001b[1;31mValueError\u001b[0m: y contains previously unseen labels: [0, 1]"
     ]
    }
   ],
   "source": [
    "X_test.Sex=LE1.transform(X_test.Sex)\n",
    "print(np.unique(X_test.Sex,return_counts=True))"
   ]
  },
  {
   "cell_type": "code",
   "execution_count": 58,
   "metadata": {},
   "outputs": [
    {
     "name": "stdout",
     "output_type": "stream",
     "text": [
      "(array([0, 1, 2, 3, 4], dtype=int64), array([151,  54,   7,   4,   7], dtype=int64))\n"
     ]
    }
   ],
   "source": [
    "X_test.SibSp=LE2.transform(X_test.SibSp)\n",
    "print(np.unique(X_test.SibSp,return_counts=True))"
   ]
  },
  {
   "cell_type": "code",
   "execution_count": 61,
   "metadata": {},
   "outputs": [
    {
     "name": "stdout",
     "output_type": "stream",
     "text": [
      "(array([0, 1, 2, 4], dtype=int64), array([181,  22,  19,   1], dtype=int64))\n"
     ]
    }
   ],
   "source": [
    "X_test.Parch=LE3.transform(X_test.Parch)\n",
    "print(np.unique(X_test.Parch,return_counts=True))"
   ]
  },
  {
   "cell_type": "code",
   "execution_count": 62,
   "metadata": {},
   "outputs": [
    {
     "ename": "ValueError",
     "evalue": "could not convert string to float: 'male'",
     "output_type": "error",
     "traceback": [
      "\u001b[1;31m---------------------------------------------------------------------------\u001b[0m",
      "\u001b[1;31mValueError\u001b[0m                                Traceback (most recent call last)",
      "\u001b[1;32m<ipython-input-62-5e555e2bda16>\u001b[0m in \u001b[0;36m<module>\u001b[1;34m\u001b[0m\n\u001b[1;32m----> 1\u001b[1;33m \u001b[0mX_test\u001b[0m \u001b[1;33m=\u001b[0m \u001b[0mOHE\u001b[0m\u001b[1;33m.\u001b[0m\u001b[0mtransform\u001b[0m\u001b[1;33m(\u001b[0m\u001b[0mX_test\u001b[0m\u001b[1;33m)\u001b[0m\u001b[1;33m\u001b[0m\u001b[1;33m\u001b[0m\u001b[0m\n\u001b[0m",
      "\u001b[1;32mC:\\ProgramData\\Anaconda3\\lib\\site-packages\\sklearn\\preprocessing\\_encoders.py\u001b[0m in \u001b[0;36mtransform\u001b[1;34m(self, X)\u001b[0m\n\u001b[0;32m    607\u001b[0m             return _transform_selected(X, self._legacy_transform, self.dtype,\n\u001b[0;32m    608\u001b[0m                                        \u001b[0mself\u001b[0m\u001b[1;33m.\u001b[0m\u001b[0m_categorical_features\u001b[0m\u001b[1;33m,\u001b[0m\u001b[1;33m\u001b[0m\u001b[1;33m\u001b[0m\u001b[0m\n\u001b[1;32m--> 609\u001b[1;33m                                        copy=True)\n\u001b[0m\u001b[0;32m    610\u001b[0m         \u001b[1;32melse\u001b[0m\u001b[1;33m:\u001b[0m\u001b[1;33m\u001b[0m\u001b[1;33m\u001b[0m\u001b[0m\n\u001b[0;32m    611\u001b[0m             \u001b[1;32mreturn\u001b[0m \u001b[0mself\u001b[0m\u001b[1;33m.\u001b[0m\u001b[0m_transform_new\u001b[0m\u001b[1;33m(\u001b[0m\u001b[0mX\u001b[0m\u001b[1;33m)\u001b[0m\u001b[1;33m\u001b[0m\u001b[1;33m\u001b[0m\u001b[0m\n",
      "\u001b[1;32mC:\\ProgramData\\Anaconda3\\lib\\site-packages\\sklearn\\preprocessing\\base.py\u001b[0m in \u001b[0;36m_transform_selected\u001b[1;34m(X, transform, dtype, selected, copy, retain_order)\u001b[0m\n\u001b[0;32m     43\u001b[0m     \u001b[0mXt\u001b[0m \u001b[1;33m:\u001b[0m \u001b[0marray\u001b[0m \u001b[1;32mor\u001b[0m \u001b[0msparse\u001b[0m \u001b[0mmatrix\u001b[0m\u001b[1;33m,\u001b[0m \u001b[0mshape\u001b[0m\u001b[1;33m=\u001b[0m\u001b[1;33m(\u001b[0m\u001b[0mn_samples\u001b[0m\u001b[1;33m,\u001b[0m \u001b[0mn_features_new\u001b[0m\u001b[1;33m)\u001b[0m\u001b[1;33m\u001b[0m\u001b[1;33m\u001b[0m\u001b[0m\n\u001b[0;32m     44\u001b[0m     \"\"\"\n\u001b[1;32m---> 45\u001b[1;33m     \u001b[0mX\u001b[0m \u001b[1;33m=\u001b[0m \u001b[0mcheck_array\u001b[0m\u001b[1;33m(\u001b[0m\u001b[0mX\u001b[0m\u001b[1;33m,\u001b[0m \u001b[0maccept_sparse\u001b[0m\u001b[1;33m=\u001b[0m\u001b[1;34m'csc'\u001b[0m\u001b[1;33m,\u001b[0m \u001b[0mcopy\u001b[0m\u001b[1;33m=\u001b[0m\u001b[0mcopy\u001b[0m\u001b[1;33m,\u001b[0m \u001b[0mdtype\u001b[0m\u001b[1;33m=\u001b[0m\u001b[0mFLOAT_DTYPES\u001b[0m\u001b[1;33m)\u001b[0m\u001b[1;33m\u001b[0m\u001b[1;33m\u001b[0m\u001b[0m\n\u001b[0m\u001b[0;32m     46\u001b[0m \u001b[1;33m\u001b[0m\u001b[0m\n\u001b[0;32m     47\u001b[0m     \u001b[1;32mif\u001b[0m \u001b[0msparse\u001b[0m\u001b[1;33m.\u001b[0m\u001b[0missparse\u001b[0m\u001b[1;33m(\u001b[0m\u001b[0mX\u001b[0m\u001b[1;33m)\u001b[0m \u001b[1;32mand\u001b[0m \u001b[0mretain_order\u001b[0m\u001b[1;33m:\u001b[0m\u001b[1;33m\u001b[0m\u001b[1;33m\u001b[0m\u001b[0m\n",
      "\u001b[1;32mC:\\ProgramData\\Anaconda3\\lib\\site-packages\\sklearn\\utils\\validation.py\u001b[0m in \u001b[0;36mcheck_array\u001b[1;34m(array, accept_sparse, accept_large_sparse, dtype, order, copy, force_all_finite, ensure_2d, allow_nd, ensure_min_samples, ensure_min_features, warn_on_dtype, estimator)\u001b[0m\n\u001b[0;32m    525\u001b[0m             \u001b[1;32mtry\u001b[0m\u001b[1;33m:\u001b[0m\u001b[1;33m\u001b[0m\u001b[1;33m\u001b[0m\u001b[0m\n\u001b[0;32m    526\u001b[0m                 \u001b[0mwarnings\u001b[0m\u001b[1;33m.\u001b[0m\u001b[0msimplefilter\u001b[0m\u001b[1;33m(\u001b[0m\u001b[1;34m'error'\u001b[0m\u001b[1;33m,\u001b[0m \u001b[0mComplexWarning\u001b[0m\u001b[1;33m)\u001b[0m\u001b[1;33m\u001b[0m\u001b[1;33m\u001b[0m\u001b[0m\n\u001b[1;32m--> 527\u001b[1;33m                 \u001b[0marray\u001b[0m \u001b[1;33m=\u001b[0m \u001b[0mnp\u001b[0m\u001b[1;33m.\u001b[0m\u001b[0masarray\u001b[0m\u001b[1;33m(\u001b[0m\u001b[0marray\u001b[0m\u001b[1;33m,\u001b[0m \u001b[0mdtype\u001b[0m\u001b[1;33m=\u001b[0m\u001b[0mdtype\u001b[0m\u001b[1;33m,\u001b[0m \u001b[0morder\u001b[0m\u001b[1;33m=\u001b[0m\u001b[0morder\u001b[0m\u001b[1;33m)\u001b[0m\u001b[1;33m\u001b[0m\u001b[1;33m\u001b[0m\u001b[0m\n\u001b[0m\u001b[0;32m    528\u001b[0m             \u001b[1;32mexcept\u001b[0m \u001b[0mComplexWarning\u001b[0m\u001b[1;33m:\u001b[0m\u001b[1;33m\u001b[0m\u001b[1;33m\u001b[0m\u001b[0m\n\u001b[0;32m    529\u001b[0m                 raise ValueError(\"Complex data not supported\\n\"\n",
      "\u001b[1;32mC:\\ProgramData\\Anaconda3\\lib\\site-packages\\numpy\\core\\numeric.py\u001b[0m in \u001b[0;36masarray\u001b[1;34m(a, dtype, order)\u001b[0m\n\u001b[0;32m    499\u001b[0m \u001b[1;33m\u001b[0m\u001b[0m\n\u001b[0;32m    500\u001b[0m     \"\"\"\n\u001b[1;32m--> 501\u001b[1;33m     \u001b[1;32mreturn\u001b[0m \u001b[0marray\u001b[0m\u001b[1;33m(\u001b[0m\u001b[0ma\u001b[0m\u001b[1;33m,\u001b[0m \u001b[0mdtype\u001b[0m\u001b[1;33m,\u001b[0m \u001b[0mcopy\u001b[0m\u001b[1;33m=\u001b[0m\u001b[1;32mFalse\u001b[0m\u001b[1;33m,\u001b[0m \u001b[0morder\u001b[0m\u001b[1;33m=\u001b[0m\u001b[0morder\u001b[0m\u001b[1;33m)\u001b[0m\u001b[1;33m\u001b[0m\u001b[1;33m\u001b[0m\u001b[0m\n\u001b[0m\u001b[0;32m    502\u001b[0m \u001b[1;33m\u001b[0m\u001b[0m\n\u001b[0;32m    503\u001b[0m \u001b[1;33m\u001b[0m\u001b[0m\n",
      "\u001b[1;31mValueError\u001b[0m: could not convert string to float: 'male'"
     ]
    }
   ],
   "source": [
    "X_test = OHE.transform(X_test)"
   ]
  },
  {
   "cell_type": "code",
   "execution_count": null,
   "metadata": {},
   "outputs": [],
   "source": []
  },
  {
   "cell_type": "code",
   "execution_count": null,
   "metadata": {},
   "outputs": [],
   "source": []
  },
  {
   "cell_type": "code",
   "execution_count": null,
   "metadata": {},
   "outputs": [],
   "source": []
  },
  {
   "cell_type": "code",
   "execution_count": null,
   "metadata": {},
   "outputs": [],
   "source": []
  },
  {
   "cell_type": "code",
   "execution_count": null,
   "metadata": {},
   "outputs": [],
   "source": []
  },
  {
   "cell_type": "code",
   "execution_count": null,
   "metadata": {},
   "outputs": [],
   "source": []
  },
  {
   "cell_type": "code",
   "execution_count": null,
   "metadata": {},
   "outputs": [],
   "source": []
  },
  {
   "cell_type": "code",
   "execution_count": 42,
   "metadata": {},
   "outputs": [
    {
     "data": {
      "text/html": [
       "<div>\n",
       "<style scoped>\n",
       "    .dataframe tbody tr th:only-of-type {\n",
       "        vertical-align: middle;\n",
       "    }\n",
       "\n",
       "    .dataframe tbody tr th {\n",
       "        vertical-align: top;\n",
       "    }\n",
       "\n",
       "    .dataframe thead th {\n",
       "        text-align: right;\n",
       "    }\n",
       "</style>\n",
       "<table border=\"1\" class=\"dataframe\">\n",
       "  <thead>\n",
       "    <tr style=\"text-align: right;\">\n",
       "      <th></th>\n",
       "      <th>Age</th>\n",
       "      <th>Fare</th>\n",
       "      <th>Pclass</th>\n",
       "      <th>Sex</th>\n",
       "      <th>SibSp</th>\n",
       "      <th>Parch</th>\n",
       "    </tr>\n",
       "  </thead>\n",
       "  <tbody>\n",
       "    <tr>\n",
       "      <th>count</th>\n",
       "      <td>891.000000</td>\n",
       "      <td>891.000000</td>\n",
       "      <td>891.000000</td>\n",
       "      <td>891.000000</td>\n",
       "      <td>891.000000</td>\n",
       "      <td>891.000000</td>\n",
       "    </tr>\n",
       "    <tr>\n",
       "      <th>mean</th>\n",
       "      <td>29.699118</td>\n",
       "      <td>32.204208</td>\n",
       "      <td>1.308642</td>\n",
       "      <td>0.647587</td>\n",
       "      <td>0.507295</td>\n",
       "      <td>0.381594</td>\n",
       "    </tr>\n",
       "    <tr>\n",
       "      <th>std</th>\n",
       "      <td>13.002015</td>\n",
       "      <td>49.693429</td>\n",
       "      <td>0.836071</td>\n",
       "      <td>0.477990</td>\n",
       "      <td>1.005995</td>\n",
       "      <td>0.806057</td>\n",
       "    </tr>\n",
       "    <tr>\n",
       "      <th>min</th>\n",
       "      <td>0.420000</td>\n",
       "      <td>0.000000</td>\n",
       "      <td>0.000000</td>\n",
       "      <td>0.000000</td>\n",
       "      <td>0.000000</td>\n",
       "      <td>0.000000</td>\n",
       "    </tr>\n",
       "    <tr>\n",
       "      <th>25%</th>\n",
       "      <td>22.000000</td>\n",
       "      <td>7.910400</td>\n",
       "      <td>1.000000</td>\n",
       "      <td>0.000000</td>\n",
       "      <td>0.000000</td>\n",
       "      <td>0.000000</td>\n",
       "    </tr>\n",
       "    <tr>\n",
       "      <th>50%</th>\n",
       "      <td>29.699118</td>\n",
       "      <td>14.454200</td>\n",
       "      <td>2.000000</td>\n",
       "      <td>1.000000</td>\n",
       "      <td>0.000000</td>\n",
       "      <td>0.000000</td>\n",
       "    </tr>\n",
       "    <tr>\n",
       "      <th>75%</th>\n",
       "      <td>35.000000</td>\n",
       "      <td>31.000000</td>\n",
       "      <td>2.000000</td>\n",
       "      <td>1.000000</td>\n",
       "      <td>1.000000</td>\n",
       "      <td>0.000000</td>\n",
       "    </tr>\n",
       "    <tr>\n",
       "      <th>max</th>\n",
       "      <td>80.000000</td>\n",
       "      <td>512.329200</td>\n",
       "      <td>2.000000</td>\n",
       "      <td>1.000000</td>\n",
       "      <td>6.000000</td>\n",
       "      <td>6.000000</td>\n",
       "    </tr>\n",
       "  </tbody>\n",
       "</table>\n",
       "</div>"
      ],
      "text/plain": [
       "              Age        Fare      Pclass         Sex       SibSp       Parch\n",
       "count  891.000000  891.000000  891.000000  891.000000  891.000000  891.000000\n",
       "mean    29.699118   32.204208    1.308642    0.647587    0.507295    0.381594\n",
       "std     13.002015   49.693429    0.836071    0.477990    1.005995    0.806057\n",
       "min      0.420000    0.000000    0.000000    0.000000    0.000000    0.000000\n",
       "25%     22.000000    7.910400    1.000000    0.000000    0.000000    0.000000\n",
       "50%     29.699118   14.454200    2.000000    1.000000    0.000000    0.000000\n",
       "75%     35.000000   31.000000    2.000000    1.000000    1.000000    0.000000\n",
       "max     80.000000  512.329200    2.000000    1.000000    6.000000    6.000000"
      ]
     },
     "execution_count": 42,
     "metadata": {},
     "output_type": "execute_result"
    }
   ],
   "source": [
    "# split the file into Independent and dependent variables\n",
    "Setcolumns=list(['Age','Fare','Pclass','Sex','SibSp','Parch'])\n",
    "Indepen=pd.DataFrame(Tit1,columns=Setcolumns)\n",
    "Indepen.describe()"
   ]
  },
  {
   "cell_type": "code",
   "execution_count": 43,
   "metadata": {},
   "outputs": [
    {
     "data": {
      "text/html": [
       "<div>\n",
       "<style scoped>\n",
       "    .dataframe tbody tr th:only-of-type {\n",
       "        vertical-align: middle;\n",
       "    }\n",
       "\n",
       "    .dataframe tbody tr th {\n",
       "        vertical-align: top;\n",
       "    }\n",
       "\n",
       "    .dataframe thead th {\n",
       "        text-align: right;\n",
       "    }\n",
       "</style>\n",
       "<table border=\"1\" class=\"dataframe\">\n",
       "  <thead>\n",
       "    <tr style=\"text-align: right;\">\n",
       "      <th></th>\n",
       "      <th>Survived</th>\n",
       "    </tr>\n",
       "  </thead>\n",
       "  <tbody>\n",
       "    <tr>\n",
       "      <th>count</th>\n",
       "      <td>891.000000</td>\n",
       "    </tr>\n",
       "    <tr>\n",
       "      <th>mean</th>\n",
       "      <td>0.383838</td>\n",
       "    </tr>\n",
       "    <tr>\n",
       "      <th>std</th>\n",
       "      <td>0.486592</td>\n",
       "    </tr>\n",
       "    <tr>\n",
       "      <th>min</th>\n",
       "      <td>0.000000</td>\n",
       "    </tr>\n",
       "    <tr>\n",
       "      <th>25%</th>\n",
       "      <td>0.000000</td>\n",
       "    </tr>\n",
       "    <tr>\n",
       "      <th>50%</th>\n",
       "      <td>0.000000</td>\n",
       "    </tr>\n",
       "    <tr>\n",
       "      <th>75%</th>\n",
       "      <td>1.000000</td>\n",
       "    </tr>\n",
       "    <tr>\n",
       "      <th>max</th>\n",
       "      <td>1.000000</td>\n",
       "    </tr>\n",
       "  </tbody>\n",
       "</table>\n",
       "</div>"
      ],
      "text/plain": [
       "         Survived\n",
       "count  891.000000\n",
       "mean     0.383838\n",
       "std      0.486592\n",
       "min      0.000000\n",
       "25%      0.000000\n",
       "50%      0.000000\n",
       "75%      1.000000\n",
       "max      1.000000"
      ]
     },
     "execution_count": 43,
     "metadata": {},
     "output_type": "execute_result"
    }
   ],
   "source": [
    "Depen=pd.DataFrame(Tit1,columns=['Survived'])\n",
    "Depen.describe()"
   ]
  },
  {
   "cell_type": "code",
   "execution_count": 44,
   "metadata": {},
   "outputs": [
    {
     "name": "stdout",
     "output_type": "stream",
     "text": [
      "<class 'pandas.core.frame.DataFrame'>\n",
      "<class 'pandas.core.frame.DataFrame'>\n",
      "<class 'pandas.core.frame.DataFrame'>\n",
      "<class 'pandas.core.frame.DataFrame'>\n",
      "(668, 6)\n",
      "(668, 1)\n",
      "(223, 6)\n",
      "(223, 1)\n"
     ]
    }
   ],
   "source": [
    "# splitting the data into Train and Test\n",
    "from sklearn.model_selection import train_test_split\n",
    "X_train, X_test, Y_train, Y_test = train_test_split(Indepen, Depen, test_size = 0.25, random_state = 10)\n",
    "print(type(X_train))\n",
    "print(type(Y_train))\n",
    "print(type(X_test))\n",
    "print(type(Y_test))\n",
    "print(X_train.shape)\n",
    "print(Y_train.shape)\n",
    "print(X_test.shape)\n",
    "print(Y_test.shape)"
   ]
  },
  {
   "cell_type": "code",
   "execution_count": 45,
   "metadata": {},
   "outputs": [
    {
     "data": {
      "text/plain": [
       "Index(['Age', 'Fare', 'Pclass', 'Sex', 'SibSp', 'Parch'], dtype='object')"
      ]
     },
     "execution_count": 45,
     "metadata": {},
     "output_type": "execute_result"
    }
   ],
   "source": [
    "X_test.columns"
   ]
  },
  {
   "cell_type": "code",
   "execution_count": 46,
   "metadata": {},
   "outputs": [
    {
     "data": {
      "text/plain": [
       "(668, 6)"
      ]
     },
     "execution_count": 46,
     "metadata": {},
     "output_type": "execute_result"
    }
   ],
   "source": [
    "X_train.shape"
   ]
  },
  {
   "cell_type": "code",
   "execution_count": 47,
   "metadata": {},
   "outputs": [
    {
     "data": {
      "text/plain": [
       "Index(['Age', 'Fare', 'Pclass', 'Sex', 'SibSp', 'Parch'], dtype='object')"
      ]
     },
     "execution_count": 47,
     "metadata": {},
     "output_type": "execute_result"
    }
   ],
   "source": [
    "X_train.columns"
   ]
  },
  {
   "cell_type": "code",
   "execution_count": 48,
   "metadata": {},
   "outputs": [
    {
     "data": {
      "text/plain": [
       "(668, 21)"
      ]
     },
     "execution_count": 48,
     "metadata": {},
     "output_type": "execute_result"
    }
   ],
   "source": [
    "# incl cont - Age,Fare\n",
    "#Cat - Pclass,Sex,Sibsp,Parch\n",
    "#apply one hot enconding on categorical\n",
    "from sklearn.preprocessing import OneHotEncoder\n",
    "categories=np.array([2,3,4,5])\n",
    "OHE = OneHotEncoder(n_values='auto',categorical_features = categories, sparse = False, handle_unknown = 'ignore')\n",
    "X_train = OHE.fit_transform(X_train)\n",
    "X_train.shape"
   ]
  },
  {
   "cell_type": "code",
   "execution_count": 49,
   "metadata": {},
   "outputs": [
    {
     "name": "stdout",
     "output_type": "stream",
     "text": [
      "Fitting 3 folds for each of 64 candidates, totalling 192 fits\n",
      "[CV] min_impurity_decrease=0.001, min_samples_leaf=2, min_samples_split=10 \n",
      "[CV]  min_impurity_decrease=0.001, min_samples_leaf=2, min_samples_split=10, score=0.8370367264799597, total=   0.0s\n",
      "[CV] min_impurity_decrease=0.001, min_samples_leaf=2, min_samples_split=10 \n",
      "[CV]  min_impurity_decrease=0.001, min_samples_leaf=2, min_samples_split=10, score=0.7361646822069428, total=   0.0s\n",
      "[CV] min_impurity_decrease=0.001, min_samples_leaf=2, min_samples_split=10 \n",
      "[CV]  min_impurity_decrease=0.001, min_samples_leaf=2, min_samples_split=10, score=0.8489229986431479, total=   0.0s\n",
      "[CV] min_impurity_decrease=0.001, min_samples_leaf=2, min_samples_split=8 \n",
      "[CV]  min_impurity_decrease=0.001, min_samples_leaf=2, min_samples_split=8, score=0.8155290960925708, total=   0.0s\n",
      "[CV] min_impurity_decrease=0.001, min_samples_leaf=2, min_samples_split=8 \n",
      "[CV]  min_impurity_decrease=0.001, min_samples_leaf=2, min_samples_split=8, score=0.7306724802951534, total=   0.0s\n",
      "[CV] min_impurity_decrease=0.001, min_samples_leaf=2, min_samples_split=8 \n",
      "[CV]  min_impurity_decrease=0.001, min_samples_leaf=2, min_samples_split=8, score=0.8328103799185889, total=   0.0s\n",
      "[CV] min_impurity_decrease=0.001, min_samples_leaf=2, min_samples_split=5 \n",
      "[CV]  min_impurity_decrease=0.001, min_samples_leaf=2, min_samples_split=5, score=0.7827016602381351, total=   0.0s\n",
      "[CV] min_impurity_decrease=0.001, min_samples_leaf=2, min_samples_split=5 \n",
      "[CV]  min_impurity_decrease=0.001, min_samples_leaf=2, min_samples_split=5, score=0.7297082005701827, total=   0.0s"
     ]
    },
    {
     "name": "stderr",
     "output_type": "stream",
     "text": [
      "[Parallel(n_jobs=1)]: Using backend SequentialBackend with 1 concurrent workers.\n",
      "[Parallel(n_jobs=1)]: Done   1 out of   1 | elapsed:    0.0s remaining:    0.0s\n",
      "[Parallel(n_jobs=1)]: Done   2 out of   2 | elapsed:    0.0s remaining:    0.0s\n",
      "[Parallel(n_jobs=1)]: Done   3 out of   3 | elapsed:    0.0s remaining:    0.0s\n",
      "[Parallel(n_jobs=1)]: Done   4 out of   4 | elapsed:    0.0s remaining:    0.0s\n",
      "[Parallel(n_jobs=1)]: Done   5 out of   5 | elapsed:    0.0s remaining:    0.0s\n",
      "[Parallel(n_jobs=1)]: Done   6 out of   6 | elapsed:    0.0s remaining:    0.0s\n",
      "[Parallel(n_jobs=1)]: Done   7 out of   7 | elapsed:    0.1s remaining:    0.0s\n",
      "[Parallel(n_jobs=1)]: Done   8 out of   8 | elapsed:    0.1s remaining:    0.0s\n"
     ]
    },
    {
     "name": "stdout",
     "output_type": "stream",
     "text": [
      "\n",
      "[CV] min_impurity_decrease=0.001, min_samples_leaf=2, min_samples_split=5 \n",
      "[CV]  min_impurity_decrease=0.001, min_samples_leaf=2, min_samples_split=5, score=0.8130088195386702, total=   0.0s\n",
      "[CV] min_impurity_decrease=0.001, min_samples_leaf=2, min_samples_split=3 \n",
      "[CV]  min_impurity_decrease=0.001, min_samples_leaf=2, min_samples_split=3, score=0.781779305718598, total=   0.0s\n",
      "[CV] min_impurity_decrease=0.001, min_samples_leaf=2, min_samples_split=3 \n",
      "[CV]  min_impurity_decrease=0.001, min_samples_leaf=2, min_samples_split=3, score=0.7223712896193191, total=   0.0s\n",
      "[CV] min_impurity_decrease=0.001, min_samples_leaf=2, min_samples_split=3 \n",
      "[CV]  min_impurity_decrease=0.001, min_samples_leaf=2, min_samples_split=3, score=0.8097862957937585, total=   0.0s\n",
      "[CV] min_impurity_decrease=0.001, min_samples_leaf=3, min_samples_split=10 \n",
      "[CV]  min_impurity_decrease=0.001, min_samples_leaf=3, min_samples_split=10, score=0.8387137346973, total=   0.0s\n",
      "[CV] min_impurity_decrease=0.001, min_samples_leaf=3, min_samples_split=10 \n",
      "[CV]  min_impurity_decrease=0.001, min_samples_leaf=3, min_samples_split=10, score=0.7292050981049808, total=   0.0s\n",
      "[CV] min_impurity_decrease=0.001, min_samples_leaf=3, min_samples_split=10 \n",
      "[CV]  min_impurity_decrease=0.001, min_samples_leaf=3, min_samples_split=10, score=0.8575729308005428, total=   0.0s\n",
      "[CV] min_impurity_decrease=0.001, min_samples_leaf=3, min_samples_split=8 \n",
      "[CV]  min_impurity_decrease=0.001, min_samples_leaf=3, min_samples_split=8, score=0.80404158980379, total=   0.0s\n",
      "[CV] min_impurity_decrease=0.001, min_samples_leaf=3, min_samples_split=8 "
     ]
    },
    {
     "name": "stderr",
     "output_type": "stream",
     "text": [
      "[Parallel(n_jobs=1)]: Done   9 out of   9 | elapsed:    0.1s remaining:    0.0s\n"
     ]
    },
    {
     "name": "stdout",
     "output_type": "stream",
     "text": [
      "\n",
      "[CV]  min_impurity_decrease=0.001, min_samples_leaf=3, min_samples_split=8, score=0.7294985745430154, total=   0.0s\n",
      "[CV] min_impurity_decrease=0.001, min_samples_leaf=3, min_samples_split=8 \n",
      "[CV]  min_impurity_decrease=0.001, min_samples_leaf=3, min_samples_split=8, score=0.8593537991858888, total=   0.0s\n",
      "[CV] min_impurity_decrease=0.001, min_samples_leaf=3, min_samples_split=5 \n",
      "[CV]  min_impurity_decrease=0.001, min_samples_leaf=3, min_samples_split=5, score=0.8034965621331543, total=   0.0s\n",
      "[CV] min_impurity_decrease=0.001, min_samples_leaf=3, min_samples_split=5 \n",
      "[CV]  min_impurity_decrease=0.001, min_samples_leaf=3, min_samples_split=5, score=0.7206523561965454, total=   0.0s\n",
      "[CV] min_impurity_decrease=0.001, min_samples_leaf=3, min_samples_split=5 \n",
      "[CV]  min_impurity_decrease=0.001, min_samples_leaf=3, min_samples_split=5, score=0.8402730664857531, total=   0.0s\n",
      "[CV] min_impurity_decrease=0.001, min_samples_leaf=3, min_samples_split=3 \n",
      "[CV]  min_impurity_decrease=0.001, min_samples_leaf=3, min_samples_split=3, score=0.8055928224048299, total=   0.0s\n",
      "[CV] min_impurity_decrease=0.001, min_samples_leaf=3, min_samples_split=3 \n",
      "[CV]  min_impurity_decrease=0.001, min_samples_leaf=3, min_samples_split=3, score=0.7225389904410532, total=   0.0s\n",
      "[CV] min_impurity_decrease=0.001, min_samples_leaf=3, min_samples_split=3 \n",
      "[CV]  min_impurity_decrease=0.001, min_samples_leaf=3, min_samples_split=3, score=0.8375593622795116, total=   0.0s\n",
      "[CV] min_impurity_decrease=0.001, min_samples_leaf=5, min_samples_split=10 \n",
      "[CV]  min_impurity_decrease=0.001, min_samples_leaf=5, min_samples_split=10, score=0.8436609089384537, total=   0.0s\n",
      "[CV] min_impurity_decrease=0.001, min_samples_leaf=5, min_samples_split=10 \n",
      "[CV]  min_impurity_decrease=0.001, min_samples_leaf=5, min_samples_split=10, score=0.7367516350830119, total=   0.0s\n",
      "[CV] min_impurity_decrease=0.001, min_samples_leaf=5, min_samples_split=10 \n",
      "[CV]  min_impurity_decrease=0.001, min_samples_leaf=5, min_samples_split=10, score=0.8402306648575306, total=   0.0s\n",
      "[CV] min_impurity_decrease=0.001, min_samples_leaf=5, min_samples_split=8 \n",
      "[CV]  min_impurity_decrease=0.001, min_samples_leaf=5, min_samples_split=8, score=0.8408519201744089, total=   0.0s\n",
      "[CV] min_impurity_decrease=0.001, min_samples_leaf=5, min_samples_split=8 \n",
      "[CV]  min_impurity_decrease=0.001, min_samples_leaf=5, min_samples_split=8, score=0.7367516350830119, total=   0.0s\n",
      "[CV] min_impurity_decrease=0.001, min_samples_leaf=5, min_samples_split=8 \n",
      "[CV]  min_impurity_decrease=0.001, min_samples_leaf=5, min_samples_split=8, score=0.8402306648575306, total=   0.0s\n",
      "[CV] min_impurity_decrease=0.001, min_samples_leaf=5, min_samples_split=5 \n",
      "[CV]  min_impurity_decrease=0.001, min_samples_leaf=5, min_samples_split=5, score=0.8436609089384537, total=   0.0s\n",
      "[CV] min_impurity_decrease=0.001, min_samples_leaf=5, min_samples_split=5 \n",
      "[CV]  min_impurity_decrease=0.001, min_samples_leaf=5, min_samples_split=5, score=0.7367516350830119, total=   0.0s\n",
      "[CV] min_impurity_decrease=0.001, min_samples_leaf=5, min_samples_split=5 \n",
      "[CV]  min_impurity_decrease=0.001, min_samples_leaf=5, min_samples_split=5, score=0.8402306648575306, total=   0.0s\n",
      "[CV] min_impurity_decrease=0.001, min_samples_leaf=5, min_samples_split=3 \n",
      "[CV]  min_impurity_decrease=0.001, min_samples_leaf=5, min_samples_split=3, score=0.8436609089384537, total=   0.0s\n",
      "[CV] min_impurity_decrease=0.001, min_samples_leaf=5, min_samples_split=3 \n",
      "[CV]  min_impurity_decrease=0.001, min_samples_leaf=5, min_samples_split=3, score=0.7367516350830119, total=   0.0s\n",
      "[CV] min_impurity_decrease=0.001, min_samples_leaf=5, min_samples_split=3 \n",
      "[CV]  min_impurity_decrease=0.001, min_samples_leaf=5, min_samples_split=3, score=0.8402306648575306, total=   0.0s\n",
      "[CV] min_impurity_decrease=0.001, min_samples_leaf=7, min_samples_split=10 \n",
      "[CV]  min_impurity_decrease=0.001, min_samples_leaf=7, min_samples_split=10, score=0.8240399127955728, total=   0.0s\n",
      "[CV] min_impurity_decrease=0.001, min_samples_leaf=7, min_samples_split=10 \n",
      "[CV]  min_impurity_decrease=0.001, min_samples_leaf=7, min_samples_split=10, score=0.734194197551568, total=   0.0s\n",
      "[CV] min_impurity_decrease=0.001, min_samples_leaf=7, min_samples_split=10 \n",
      "[CV]  min_impurity_decrease=0.001, min_samples_leaf=7, min_samples_split=10, score=0.8619827001356851, total=   0.0s\n",
      "[CV] min_impurity_decrease=0.001, min_samples_leaf=7, min_samples_split=8 \n",
      "[CV]  min_impurity_decrease=0.001, min_samples_leaf=7, min_samples_split=8, score=0.8265554251215833, total=   0.0s\n",
      "[CV] min_impurity_decrease=0.001, min_samples_leaf=7, min_samples_split=8 \n",
      "[CV]  min_impurity_decrease=0.001, min_samples_leaf=7, min_samples_split=8, score=0.734194197551568, total=   0.0s\n",
      "[CV] min_impurity_decrease=0.001, min_samples_leaf=7, min_samples_split=8 \n",
      "[CV]  min_impurity_decrease=0.001, min_samples_leaf=7, min_samples_split=8, score=0.8619827001356851, total=   0.0s\n",
      "[CV] min_impurity_decrease=0.001, min_samples_leaf=7, min_samples_split=5 \n",
      "[CV]  min_impurity_decrease=0.001, min_samples_leaf=7, min_samples_split=5, score=0.8240399127955728, total=   0.0s\n",
      "[CV] min_impurity_decrease=0.001, min_samples_leaf=7, min_samples_split=5 \n",
      "[CV]  min_impurity_decrease=0.001, min_samples_leaf=7, min_samples_split=5, score=0.734194197551568, total=   0.0s\n",
      "[CV] min_impurity_decrease=0.001, min_samples_leaf=7, min_samples_split=5 \n",
      "[CV]  min_impurity_decrease=0.001, min_samples_leaf=7, min_samples_split=5, score=0.8619827001356851, total=   0.0s\n",
      "[CV] min_impurity_decrease=0.001, min_samples_leaf=7, min_samples_split=3 \n",
      "[CV]  min_impurity_decrease=0.001, min_samples_leaf=7, min_samples_split=3, score=0.8265554251215833, total=   0.0s\n",
      "[CV] min_impurity_decrease=0.001, min_samples_leaf=7, min_samples_split=3 \n",
      "[CV]  min_impurity_decrease=0.001, min_samples_leaf=7, min_samples_split=3, score=0.734194197551568, total=   0.0s\n",
      "[CV] min_impurity_decrease=0.001, min_samples_leaf=7, min_samples_split=3 \n",
      "[CV]  min_impurity_decrease=0.001, min_samples_leaf=7, min_samples_split=3, score=0.8619827001356851, total=   0.0s\n",
      "[CV] min_impurity_decrease=0.005, min_samples_leaf=2, min_samples_split=10 \n",
      "[CV]  min_impurity_decrease=0.005, min_samples_leaf=2, min_samples_split=10, score=0.8727989267147409, total=   0.0s\n",
      "[CV] min_impurity_decrease=0.005, min_samples_leaf=2, min_samples_split=10 \n",
      "[CV]  min_impurity_decrease=0.005, min_samples_leaf=2, min_samples_split=10, score=0.7384705685057857, total=   0.0s\n",
      "[CV] min_impurity_decrease=0.005, min_samples_leaf=2, min_samples_split=10 \n",
      "[CV]  min_impurity_decrease=0.005, min_samples_leaf=2, min_samples_split=10, score=0.8515094979647219, total=   0.0s\n",
      "[CV] min_impurity_decrease=0.005, min_samples_leaf=2, min_samples_split=8 \n",
      "[CV]  min_impurity_decrease=0.005, min_samples_leaf=2, min_samples_split=8, score=0.8556934428978702, total=   0.0s\n",
      "[CV] min_impurity_decrease=0.005, min_samples_leaf=2, min_samples_split=8 \n",
      "[CV]  min_impurity_decrease=0.005, min_samples_leaf=2, min_samples_split=8, score=0.7516770082173403, total=   0.0s\n",
      "[CV] min_impurity_decrease=0.005, min_samples_leaf=2, min_samples_split=8 \n",
      "[CV]  min_impurity_decrease=0.005, min_samples_leaf=2, min_samples_split=8, score=0.8515094979647219, total=   0.0s\n",
      "[CV] min_impurity_decrease=0.005, min_samples_leaf=2, min_samples_split=5 \n",
      "[CV]  min_impurity_decrease=0.005, min_samples_leaf=2, min_samples_split=5, score=0.8556934428978702, total=   0.0s\n",
      "[CV] min_impurity_decrease=0.005, min_samples_leaf=2, min_samples_split=5 \n",
      "[CV]  min_impurity_decrease=0.005, min_samples_leaf=2, min_samples_split=5, score=0.7516770082173403, total=   0.0s\n",
      "[CV] min_impurity_decrease=0.005, min_samples_leaf=2, min_samples_split=5 \n",
      "[CV]  min_impurity_decrease=0.005, min_samples_leaf=2, min_samples_split=5, score=0.8515094979647219, total=   0.0s\n",
      "[CV] min_impurity_decrease=0.005, min_samples_leaf=2, min_samples_split=3 \n",
      "[CV]  min_impurity_decrease=0.005, min_samples_leaf=2, min_samples_split=3, score=0.8556934428978702, total=   0.0s\n",
      "[CV] min_impurity_decrease=0.005, min_samples_leaf=2, min_samples_split=3 \n",
      "[CV]  min_impurity_decrease=0.005, min_samples_leaf=2, min_samples_split=3, score=0.7516770082173403, total=   0.0s\n",
      "[CV] min_impurity_decrease=0.005, min_samples_leaf=2, min_samples_split=3 \n",
      "[CV]  min_impurity_decrease=0.005, min_samples_leaf=2, min_samples_split=3, score=0.8515094979647219, total=   0.0s\n",
      "[CV] min_impurity_decrease=0.005, min_samples_leaf=3, min_samples_split=10 \n",
      "[CV]  min_impurity_decrease=0.005, min_samples_leaf=3, min_samples_split=10, score=0.8727989267147409, total=   0.0s\n",
      "[CV] min_impurity_decrease=0.005, min_samples_leaf=3, min_samples_split=10 \n",
      "[CV]  min_impurity_decrease=0.005, min_samples_leaf=3, min_samples_split=10, score=0.7384705685057857, total=   0.0s\n",
      "[CV] min_impurity_decrease=0.005, min_samples_leaf=3, min_samples_split=10 \n",
      "[CV]  min_impurity_decrease=0.005, min_samples_leaf=3, min_samples_split=10, score=0.8515094979647219, total=   0.0s\n",
      "[CV] min_impurity_decrease=0.005, min_samples_leaf=3, min_samples_split=8 \n",
      "[CV]  min_impurity_decrease=0.005, min_samples_leaf=3, min_samples_split=8, score=0.8556934428978702, total=   0.0s\n",
      "[CV] min_impurity_decrease=0.005, min_samples_leaf=3, min_samples_split=8 \n",
      "[CV]  min_impurity_decrease=0.005, min_samples_leaf=3, min_samples_split=8, score=0.7516770082173403, total=   0.0s\n",
      "[CV] min_impurity_decrease=0.005, min_samples_leaf=3, min_samples_split=8 \n",
      "[CV]  min_impurity_decrease=0.005, min_samples_leaf=3, min_samples_split=8, score=0.8515094979647219, total=   0.0s\n",
      "[CV] min_impurity_decrease=0.005, min_samples_leaf=3, min_samples_split=5 \n"
     ]
    },
    {
     "name": "stdout",
     "output_type": "stream",
     "text": [
      "[CV]  min_impurity_decrease=0.005, min_samples_leaf=3, min_samples_split=5, score=0.8556934428978702, total=   0.0s\n",
      "[CV] min_impurity_decrease=0.005, min_samples_leaf=3, min_samples_split=5 \n",
      "[CV]  min_impurity_decrease=0.005, min_samples_leaf=3, min_samples_split=5, score=0.7516770082173403, total=   0.0s\n",
      "[CV] min_impurity_decrease=0.005, min_samples_leaf=3, min_samples_split=5 \n",
      "[CV]  min_impurity_decrease=0.005, min_samples_leaf=3, min_samples_split=5, score=0.8515094979647219, total=   0.0s\n",
      "[CV] min_impurity_decrease=0.005, min_samples_leaf=3, min_samples_split=3 \n",
      "[CV]  min_impurity_decrease=0.005, min_samples_leaf=3, min_samples_split=3, score=0.8556934428978702, total=   0.0s\n",
      "[CV] min_impurity_decrease=0.005, min_samples_leaf=3, min_samples_split=3 \n",
      "[CV]  min_impurity_decrease=0.005, min_samples_leaf=3, min_samples_split=3, score=0.7516770082173403, total=   0.0s\n",
      "[CV] min_impurity_decrease=0.005, min_samples_leaf=3, min_samples_split=3 \n",
      "[CV]  min_impurity_decrease=0.005, min_samples_leaf=3, min_samples_split=3, score=0.8515094979647219, total=   0.0s\n",
      "[CV] min_impurity_decrease=0.005, min_samples_leaf=5, min_samples_split=10 \n",
      "[CV]  min_impurity_decrease=0.005, min_samples_leaf=5, min_samples_split=10, score=0.8706188160321985, total=   0.0s\n",
      "[CV] min_impurity_decrease=0.005, min_samples_leaf=5, min_samples_split=10 \n",
      "[CV]  min_impurity_decrease=0.005, min_samples_leaf=5, min_samples_split=10, score=0.7409860808317961, total=   0.0s\n",
      "[CV] min_impurity_decrease=0.005, min_samples_leaf=5, min_samples_split=10 \n",
      "[CV]  min_impurity_decrease=0.005, min_samples_leaf=5, min_samples_split=10, score=0.8920030529172321, total=   0.0s\n",
      "[CV] min_impurity_decrease=0.005, min_samples_leaf=5, min_samples_split=8 \n",
      "[CV]  min_impurity_decrease=0.005, min_samples_leaf=5, min_samples_split=8, score=0.8706188160321985, total=   0.0s\n",
      "[CV] min_impurity_decrease=0.005, min_samples_leaf=5, min_samples_split=8 \n",
      "[CV]  min_impurity_decrease=0.005, min_samples_leaf=5, min_samples_split=8, score=0.7409860808317961, total=   0.0s\n",
      "[CV] min_impurity_decrease=0.005, min_samples_leaf=5, min_samples_split=8 \n",
      "[CV]  min_impurity_decrease=0.005, min_samples_leaf=5, min_samples_split=8, score=0.8920030529172321, total=   0.0s\n",
      "[CV] min_impurity_decrease=0.005, min_samples_leaf=5, min_samples_split=5 \n",
      "[CV]  min_impurity_decrease=0.005, min_samples_leaf=5, min_samples_split=5, score=0.8706188160321985, total=   0.0s\n",
      "[CV] min_impurity_decrease=0.005, min_samples_leaf=5, min_samples_split=5 \n",
      "[CV]  min_impurity_decrease=0.005, min_samples_leaf=5, min_samples_split=5, score=0.7409860808317961, total=   0.0s\n",
      "[CV] min_impurity_decrease=0.005, min_samples_leaf=5, min_samples_split=5 \n",
      "[CV]  min_impurity_decrease=0.005, min_samples_leaf=5, min_samples_split=5, score=0.8920030529172321, total=   0.0s\n",
      "[CV] min_impurity_decrease=0.005, min_samples_leaf=5, min_samples_split=3 \n",
      "[CV]  min_impurity_decrease=0.005, min_samples_leaf=5, min_samples_split=3, score=0.8706188160321985, total=   0.0s\n",
      "[CV] min_impurity_decrease=0.005, min_samples_leaf=5, min_samples_split=3 \n",
      "[CV]  min_impurity_decrease=0.005, min_samples_leaf=5, min_samples_split=3, score=0.7409860808317961, total=   0.0s\n",
      "[CV] min_impurity_decrease=0.005, min_samples_leaf=5, min_samples_split=3 \n",
      "[CV]  min_impurity_decrease=0.005, min_samples_leaf=5, min_samples_split=3, score=0.8920030529172321, total=   0.0s\n",
      "[CV] min_impurity_decrease=0.005, min_samples_leaf=7, min_samples_split=10 \n",
      "[CV]  min_impurity_decrease=0.005, min_samples_leaf=7, min_samples_split=10, score=0.8706188160321985, total=   0.0s\n",
      "[CV] min_impurity_decrease=0.005, min_samples_leaf=7, min_samples_split=10 \n",
      "[CV]  min_impurity_decrease=0.005, min_samples_leaf=7, min_samples_split=10, score=0.7409860808317961, total=   0.0s\n",
      "[CV] min_impurity_decrease=0.005, min_samples_leaf=7, min_samples_split=10 \n",
      "[CV]  min_impurity_decrease=0.005, min_samples_leaf=7, min_samples_split=10, score=0.8930630936227951, total=   0.0s\n",
      "[CV] min_impurity_decrease=0.005, min_samples_leaf=7, min_samples_split=8 \n",
      "[CV]  min_impurity_decrease=0.005, min_samples_leaf=7, min_samples_split=8, score=0.8706188160321985, total=   0.0s\n",
      "[CV] min_impurity_decrease=0.005, min_samples_leaf=7, min_samples_split=8 \n",
      "[CV]  min_impurity_decrease=0.005, min_samples_leaf=7, min_samples_split=8, score=0.7409860808317961, total=   0.0s\n",
      "[CV] min_impurity_decrease=0.005, min_samples_leaf=7, min_samples_split=8 \n",
      "[CV]  min_impurity_decrease=0.005, min_samples_leaf=7, min_samples_split=8, score=0.8930630936227951, total=   0.0s\n",
      "[CV] min_impurity_decrease=0.005, min_samples_leaf=7, min_samples_split=5 \n",
      "[CV]  min_impurity_decrease=0.005, min_samples_leaf=7, min_samples_split=5, score=0.8706188160321985, total=   0.0s\n",
      "[CV] min_impurity_decrease=0.005, min_samples_leaf=7, min_samples_split=5 \n",
      "[CV]  min_impurity_decrease=0.005, min_samples_leaf=7, min_samples_split=5, score=0.7409860808317961, total=   0.0s\n",
      "[CV] min_impurity_decrease=0.005, min_samples_leaf=7, min_samples_split=5 \n",
      "[CV]  min_impurity_decrease=0.005, min_samples_leaf=7, min_samples_split=5, score=0.8930630936227951, total=   0.0s\n",
      "[CV] min_impurity_decrease=0.005, min_samples_leaf=7, min_samples_split=3 \n",
      "[CV]  min_impurity_decrease=0.005, min_samples_leaf=7, min_samples_split=3, score=0.8706188160321985, total=   0.0s\n",
      "[CV] min_impurity_decrease=0.005, min_samples_leaf=7, min_samples_split=3 \n",
      "[CV]  min_impurity_decrease=0.005, min_samples_leaf=7, min_samples_split=3, score=0.7409860808317961, total=   0.0s\n",
      "[CV] min_impurity_decrease=0.005, min_samples_leaf=7, min_samples_split=3 \n",
      "[CV]  min_impurity_decrease=0.005, min_samples_leaf=7, min_samples_split=3, score=0.8930630936227951, total=   0.0s\n",
      "[CV] min_impurity_decrease=0.02, min_samples_leaf=2, min_samples_split=10 \n",
      "[CV]  min_impurity_decrease=0.02, min_samples_leaf=2, min_samples_split=10, score=0.7625356364246185, total=   0.0s\n",
      "[CV] min_impurity_decrease=0.02, min_samples_leaf=2, min_samples_split=10 \n",
      "[CV]  min_impurity_decrease=0.02, min_samples_leaf=2, min_samples_split=10, score=0.746268656716418, total=   0.0s\n",
      "[CV] min_impurity_decrease=0.02, min_samples_leaf=2, min_samples_split=10 \n",
      "[CV]  min_impurity_decrease=0.02, min_samples_leaf=2, min_samples_split=10, score=0.8209803256445047, total=   0.0s\n",
      "[CV] min_impurity_decrease=0.02, min_samples_leaf=2, min_samples_split=8 \n",
      "[CV]  min_impurity_decrease=0.02, min_samples_leaf=2, min_samples_split=8, score=0.7625356364246185, total=   0.0s\n",
      "[CV] min_impurity_decrease=0.02, min_samples_leaf=2, min_samples_split=8 \n",
      "[CV]  min_impurity_decrease=0.02, min_samples_leaf=2, min_samples_split=8, score=0.746268656716418, total=   0.0s\n",
      "[CV] min_impurity_decrease=0.02, min_samples_leaf=2, min_samples_split=8 \n",
      "[CV]  min_impurity_decrease=0.02, min_samples_leaf=2, min_samples_split=8, score=0.8209803256445047, total=   0.0s\n",
      "[CV] min_impurity_decrease=0.02, min_samples_leaf=2, min_samples_split=5 \n",
      "[CV]  min_impurity_decrease=0.02, min_samples_leaf=2, min_samples_split=5, score=0.7625356364246185, total=   0.0s\n",
      "[CV] min_impurity_decrease=0.02, min_samples_leaf=2, min_samples_split=5 \n",
      "[CV]  min_impurity_decrease=0.02, min_samples_leaf=2, min_samples_split=5, score=0.746268656716418, total=   0.0s\n",
      "[CV] min_impurity_decrease=0.02, min_samples_leaf=2, min_samples_split=5 \n",
      "[CV]  min_impurity_decrease=0.02, min_samples_leaf=2, min_samples_split=5, score=0.8209803256445047, total=   0.0s\n",
      "[CV] min_impurity_decrease=0.02, min_samples_leaf=2, min_samples_split=3 \n",
      "[CV]  min_impurity_decrease=0.02, min_samples_leaf=2, min_samples_split=3, score=0.7625356364246185, total=   0.0s\n",
      "[CV] min_impurity_decrease=0.02, min_samples_leaf=2, min_samples_split=3 \n",
      "[CV]  min_impurity_decrease=0.02, min_samples_leaf=2, min_samples_split=3, score=0.746268656716418, total=   0.0s\n",
      "[CV] min_impurity_decrease=0.02, min_samples_leaf=2, min_samples_split=3 \n",
      "[CV]  min_impurity_decrease=0.02, min_samples_leaf=2, min_samples_split=3, score=0.8209803256445047, total=   0.0s\n",
      "[CV] min_impurity_decrease=0.02, min_samples_leaf=3, min_samples_split=10 \n",
      "[CV]  min_impurity_decrease=0.02, min_samples_leaf=3, min_samples_split=10, score=0.7625356364246185, total=   0.0s\n",
      "[CV] min_impurity_decrease=0.02, min_samples_leaf=3, min_samples_split=10 \n",
      "[CV]  min_impurity_decrease=0.02, min_samples_leaf=3, min_samples_split=10, score=0.746268656716418, total=   0.0s\n",
      "[CV] min_impurity_decrease=0.02, min_samples_leaf=3, min_samples_split=10 \n",
      "[CV]  min_impurity_decrease=0.02, min_samples_leaf=3, min_samples_split=10, score=0.8209803256445047, total=   0.0s\n"
     ]
    },
    {
     "name": "stdout",
     "output_type": "stream",
     "text": [
      "[CV] min_impurity_decrease=0.02, min_samples_leaf=3, min_samples_split=8 \n",
      "[CV]  min_impurity_decrease=0.02, min_samples_leaf=3, min_samples_split=8, score=0.7625356364246185, total=   0.0s\n",
      "[CV] min_impurity_decrease=0.02, min_samples_leaf=3, min_samples_split=8 \n",
      "[CV]  min_impurity_decrease=0.02, min_samples_leaf=3, min_samples_split=8, score=0.746268656716418, total=   0.0s\n",
      "[CV] min_impurity_decrease=0.02, min_samples_leaf=3, min_samples_split=8 \n",
      "[CV]  min_impurity_decrease=0.02, min_samples_leaf=3, min_samples_split=8, score=0.8209803256445047, total=   0.0s\n",
      "[CV] min_impurity_decrease=0.02, min_samples_leaf=3, min_samples_split=5 \n",
      "[CV]  min_impurity_decrease=0.02, min_samples_leaf=3, min_samples_split=5, score=0.7625356364246185, total=   0.0s\n",
      "[CV] min_impurity_decrease=0.02, min_samples_leaf=3, min_samples_split=5 \n",
      "[CV]  min_impurity_decrease=0.02, min_samples_leaf=3, min_samples_split=5, score=0.746268656716418, total=   0.0s\n",
      "[CV] min_impurity_decrease=0.02, min_samples_leaf=3, min_samples_split=5 \n",
      "[CV]  min_impurity_decrease=0.02, min_samples_leaf=3, min_samples_split=5, score=0.8209803256445047, total=   0.0s\n",
      "[CV] min_impurity_decrease=0.02, min_samples_leaf=3, min_samples_split=3 \n",
      "[CV]  min_impurity_decrease=0.02, min_samples_leaf=3, min_samples_split=3, score=0.7625356364246185, total=   0.0s\n",
      "[CV] min_impurity_decrease=0.02, min_samples_leaf=3, min_samples_split=3 \n",
      "[CV]  min_impurity_decrease=0.02, min_samples_leaf=3, min_samples_split=3, score=0.746268656716418, total=   0.0s\n",
      "[CV] min_impurity_decrease=0.02, min_samples_leaf=3, min_samples_split=3 \n",
      "[CV]  min_impurity_decrease=0.02, min_samples_leaf=3, min_samples_split=3, score=0.8209803256445047, total=   0.0s\n",
      "[CV] min_impurity_decrease=0.02, min_samples_leaf=5, min_samples_split=10 \n",
      "[CV]  min_impurity_decrease=0.02, min_samples_leaf=5, min_samples_split=10, score=0.7625356364246185, total=   0.0s\n",
      "[CV] min_impurity_decrease=0.02, min_samples_leaf=5, min_samples_split=10 \n",
      "[CV]  min_impurity_decrease=0.02, min_samples_leaf=5, min_samples_split=10, score=0.746268656716418, total=   0.0s\n",
      "[CV] min_impurity_decrease=0.02, min_samples_leaf=5, min_samples_split=10 \n",
      "[CV]  min_impurity_decrease=0.02, min_samples_leaf=5, min_samples_split=10, score=0.8209803256445047, total=   0.0s\n",
      "[CV] min_impurity_decrease=0.02, min_samples_leaf=5, min_samples_split=8 \n",
      "[CV]  min_impurity_decrease=0.02, min_samples_leaf=5, min_samples_split=8, score=0.7625356364246185, total=   0.0s\n",
      "[CV] min_impurity_decrease=0.02, min_samples_leaf=5, min_samples_split=8 \n",
      "[CV]  min_impurity_decrease=0.02, min_samples_leaf=5, min_samples_split=8, score=0.746268656716418, total=   0.0s\n",
      "[CV] min_impurity_decrease=0.02, min_samples_leaf=5, min_samples_split=8 \n",
      "[CV]  min_impurity_decrease=0.02, min_samples_leaf=5, min_samples_split=8, score=0.8209803256445047, total=   0.0s\n",
      "[CV] min_impurity_decrease=0.02, min_samples_leaf=5, min_samples_split=5 \n",
      "[CV]  min_impurity_decrease=0.02, min_samples_leaf=5, min_samples_split=5, score=0.7625356364246185, total=   0.0s\n",
      "[CV] min_impurity_decrease=0.02, min_samples_leaf=5, min_samples_split=5 \n",
      "[CV]  min_impurity_decrease=0.02, min_samples_leaf=5, min_samples_split=5, score=0.746268656716418, total=   0.0s\n",
      "[CV] min_impurity_decrease=0.02, min_samples_leaf=5, min_samples_split=5 \n",
      "[CV]  min_impurity_decrease=0.02, min_samples_leaf=5, min_samples_split=5, score=0.8209803256445047, total=   0.0s\n",
      "[CV] min_impurity_decrease=0.02, min_samples_leaf=5, min_samples_split=3 \n",
      "[CV]  min_impurity_decrease=0.02, min_samples_leaf=5, min_samples_split=3, score=0.7625356364246185, total=   0.0s\n",
      "[CV] min_impurity_decrease=0.02, min_samples_leaf=5, min_samples_split=3 \n",
      "[CV]  min_impurity_decrease=0.02, min_samples_leaf=5, min_samples_split=3, score=0.746268656716418, total=   0.0s\n",
      "[CV] min_impurity_decrease=0.02, min_samples_leaf=5, min_samples_split=3 \n",
      "[CV]  min_impurity_decrease=0.02, min_samples_leaf=5, min_samples_split=3, score=0.8209803256445047, total=   0.0s\n",
      "[CV] min_impurity_decrease=0.02, min_samples_leaf=7, min_samples_split=10 \n",
      "[CV]  min_impurity_decrease=0.02, min_samples_leaf=7, min_samples_split=10, score=0.7625356364246185, total=   0.0s\n",
      "[CV] min_impurity_decrease=0.02, min_samples_leaf=7, min_samples_split=10 \n",
      "[CV]  min_impurity_decrease=0.02, min_samples_leaf=7, min_samples_split=10, score=0.746268656716418, total=   0.0s\n",
      "[CV] min_impurity_decrease=0.02, min_samples_leaf=7, min_samples_split=10 \n",
      "[CV]  min_impurity_decrease=0.02, min_samples_leaf=7, min_samples_split=10, score=0.8209803256445047, total=   0.0s\n",
      "[CV] min_impurity_decrease=0.02, min_samples_leaf=7, min_samples_split=8 \n",
      "[CV]  min_impurity_decrease=0.02, min_samples_leaf=7, min_samples_split=8, score=0.7625356364246185, total=   0.0s\n",
      "[CV] min_impurity_decrease=0.02, min_samples_leaf=7, min_samples_split=8 \n",
      "[CV]  min_impurity_decrease=0.02, min_samples_leaf=7, min_samples_split=8, score=0.746268656716418, total=   0.0s\n",
      "[CV] min_impurity_decrease=0.02, min_samples_leaf=7, min_samples_split=8 \n",
      "[CV]  min_impurity_decrease=0.02, min_samples_leaf=7, min_samples_split=8, score=0.8209803256445047, total=   0.0s\n",
      "[CV] min_impurity_decrease=0.02, min_samples_leaf=7, min_samples_split=5 \n",
      "[CV]  min_impurity_decrease=0.02, min_samples_leaf=7, min_samples_split=5, score=0.7625356364246185, total=   0.0s\n",
      "[CV] min_impurity_decrease=0.02, min_samples_leaf=7, min_samples_split=5 \n",
      "[CV]  min_impurity_decrease=0.02, min_samples_leaf=7, min_samples_split=5, score=0.746268656716418, total=   0.0s\n",
      "[CV] min_impurity_decrease=0.02, min_samples_leaf=7, min_samples_split=5 \n",
      "[CV]  min_impurity_decrease=0.02, min_samples_leaf=7, min_samples_split=5, score=0.8209803256445047, total=   0.0s\n",
      "[CV] min_impurity_decrease=0.02, min_samples_leaf=7, min_samples_split=3 \n",
      "[CV]  min_impurity_decrease=0.02, min_samples_leaf=7, min_samples_split=3, score=0.7625356364246185, total=   0.0s\n",
      "[CV] min_impurity_decrease=0.02, min_samples_leaf=7, min_samples_split=3 \n",
      "[CV]  min_impurity_decrease=0.02, min_samples_leaf=7, min_samples_split=3, score=0.746268656716418, total=   0.0s\n",
      "[CV] min_impurity_decrease=0.02, min_samples_leaf=7, min_samples_split=3 \n",
      "[CV]  min_impurity_decrease=0.02, min_samples_leaf=7, min_samples_split=3, score=0.8209803256445047, total=   0.0s\n",
      "[CV] min_impurity_decrease=0.01, min_samples_leaf=2, min_samples_split=10 \n",
      "[CV]  min_impurity_decrease=0.01, min_samples_leaf=2, min_samples_split=10, score=0.8693610598691934, total=   0.0s\n",
      "[CV] min_impurity_decrease=0.01, min_samples_leaf=2, min_samples_split=10 \n",
      "[CV]  min_impurity_decrease=0.01, min_samples_leaf=2, min_samples_split=10, score=0.7568338084856616, total=   0.0s\n",
      "[CV] min_impurity_decrease=0.01, min_samples_leaf=2, min_samples_split=10 \n",
      "[CV]  min_impurity_decrease=0.01, min_samples_leaf=2, min_samples_split=10, score=0.8705902306648575, total=   0.0s\n",
      "[CV] min_impurity_decrease=0.01, min_samples_leaf=2, min_samples_split=8 \n",
      "[CV]  min_impurity_decrease=0.01, min_samples_leaf=2, min_samples_split=8, score=0.8693610598691934, total=   0.0s\n",
      "[CV] min_impurity_decrease=0.01, min_samples_leaf=2, min_samples_split=8 \n",
      "[CV]  min_impurity_decrease=0.01, min_samples_leaf=2, min_samples_split=8, score=0.7568338084856616, total=   0.0s\n",
      "[CV] min_impurity_decrease=0.01, min_samples_leaf=2, min_samples_split=8 \n",
      "[CV]  min_impurity_decrease=0.01, min_samples_leaf=2, min_samples_split=8, score=0.8705902306648575, total=   0.0s\n",
      "[CV] min_impurity_decrease=0.01, min_samples_leaf=2, min_samples_split=5 \n",
      "[CV]  min_impurity_decrease=0.01, min_samples_leaf=2, min_samples_split=5, score=0.8693610598691934, total=   0.0s\n",
      "[CV] min_impurity_decrease=0.01, min_samples_leaf=2, min_samples_split=5 \n",
      "[CV]  min_impurity_decrease=0.01, min_samples_leaf=2, min_samples_split=5, score=0.7568338084856616, total=   0.0s\n",
      "[CV] min_impurity_decrease=0.01, min_samples_leaf=2, min_samples_split=5 \n",
      "[CV]  min_impurity_decrease=0.01, min_samples_leaf=2, min_samples_split=5, score=0.8705902306648575, total=   0.0s\n",
      "[CV] min_impurity_decrease=0.01, min_samples_leaf=2, min_samples_split=3 \n",
      "[CV]  min_impurity_decrease=0.01, min_samples_leaf=2, min_samples_split=3, score=0.8693610598691934, total=   0.0s\n",
      "[CV] min_impurity_decrease=0.01, min_samples_leaf=2, min_samples_split=3 \n",
      "[CV]  min_impurity_decrease=0.01, min_samples_leaf=2, min_samples_split=3, score=0.7568338084856616, total=   0.0s\n",
      "[CV] min_impurity_decrease=0.01, min_samples_leaf=2, min_samples_split=3 \n",
      "[CV]  min_impurity_decrease=0.01, min_samples_leaf=2, min_samples_split=3, score=0.8705902306648575, total=   0.0s\n",
      "[CV] min_impurity_decrease=0.01, min_samples_leaf=3, min_samples_split=10 \n",
      "[CV]  min_impurity_decrease=0.01, min_samples_leaf=3, min_samples_split=10, score=0.8693610598691934, total=   0.0s\n",
      "[CV] min_impurity_decrease=0.01, min_samples_leaf=3, min_samples_split=10 \n",
      "[CV]  min_impurity_decrease=0.01, min_samples_leaf=3, min_samples_split=10, score=0.7568338084856616, total=   0.0s\n",
      "[CV] min_impurity_decrease=0.01, min_samples_leaf=3, min_samples_split=10 \n",
      "[CV]  min_impurity_decrease=0.01, min_samples_leaf=3, min_samples_split=10, score=0.8705902306648575, total=   0.0s\n",
      "[CV] min_impurity_decrease=0.01, min_samples_leaf=3, min_samples_split=8 \n",
      "[CV]  min_impurity_decrease=0.01, min_samples_leaf=3, min_samples_split=8, score=0.8693610598691934, total=   0.0s\n",
      "[CV] min_impurity_decrease=0.01, min_samples_leaf=3, min_samples_split=8 \n",
      "[CV]  min_impurity_decrease=0.01, min_samples_leaf=3, min_samples_split=8, score=0.7568338084856616, total=   0.0s\n",
      "[CV] min_impurity_decrease=0.01, min_samples_leaf=3, min_samples_split=8 \n",
      "[CV]  min_impurity_decrease=0.01, min_samples_leaf=3, min_samples_split=8, score=0.8705902306648575, total=   0.0s\n",
      "[CV] min_impurity_decrease=0.01, min_samples_leaf=3, min_samples_split=5 \n",
      "[CV]  min_impurity_decrease=0.01, min_samples_leaf=3, min_samples_split=5, score=0.8693610598691934, total=   0.0s\n",
      "[CV] min_impurity_decrease=0.01, min_samples_leaf=3, min_samples_split=5 \n",
      "[CV]  min_impurity_decrease=0.01, min_samples_leaf=3, min_samples_split=5, score=0.7568338084856616, total=   0.0s\n",
      "[CV] min_impurity_decrease=0.01, min_samples_leaf=3, min_samples_split=5 \n",
      "[CV]  min_impurity_decrease=0.01, min_samples_leaf=3, min_samples_split=5, score=0.8705902306648575, total=   0.0s\n",
      "[CV] min_impurity_decrease=0.01, min_samples_leaf=3, min_samples_split=3 \n"
     ]
    },
    {
     "name": "stdout",
     "output_type": "stream",
     "text": [
      "[CV]  min_impurity_decrease=0.01, min_samples_leaf=3, min_samples_split=3, score=0.8693610598691934, total=   0.0s\n",
      "[CV] min_impurity_decrease=0.01, min_samples_leaf=3, min_samples_split=3 \n",
      "[CV]  min_impurity_decrease=0.01, min_samples_leaf=3, min_samples_split=3, score=0.7568338084856616, total=   0.0s\n",
      "[CV] min_impurity_decrease=0.01, min_samples_leaf=3, min_samples_split=3 \n",
      "[CV]  min_impurity_decrease=0.01, min_samples_leaf=3, min_samples_split=3, score=0.8705902306648575, total=   0.0s\n",
      "[CV] min_impurity_decrease=0.01, min_samples_leaf=5, min_samples_split=10 \n",
      "[CV]  min_impurity_decrease=0.01, min_samples_leaf=5, min_samples_split=10, score=0.8693610598691934, total=   0.0s\n",
      "[CV] min_impurity_decrease=0.01, min_samples_leaf=5, min_samples_split=10 \n",
      "[CV]  min_impurity_decrease=0.01, min_samples_leaf=5, min_samples_split=10, score=0.7568338084856616, total=   0.0s\n",
      "[CV] min_impurity_decrease=0.01, min_samples_leaf=5, min_samples_split=10 \n",
      "[CV]  min_impurity_decrease=0.01, min_samples_leaf=5, min_samples_split=10, score=0.8705902306648575, total=   0.0s\n",
      "[CV] min_impurity_decrease=0.01, min_samples_leaf=5, min_samples_split=8 \n",
      "[CV]  min_impurity_decrease=0.01, min_samples_leaf=5, min_samples_split=8, score=0.8693610598691934, total=   0.0s\n",
      "[CV] min_impurity_decrease=0.01, min_samples_leaf=5, min_samples_split=8 \n",
      "[CV]  min_impurity_decrease=0.01, min_samples_leaf=5, min_samples_split=8, score=0.7568338084856616, total=   0.0s\n",
      "[CV] min_impurity_decrease=0.01, min_samples_leaf=5, min_samples_split=8 \n",
      "[CV]  min_impurity_decrease=0.01, min_samples_leaf=5, min_samples_split=8, score=0.8705902306648575, total=   0.0s\n",
      "[CV] min_impurity_decrease=0.01, min_samples_leaf=5, min_samples_split=5 \n",
      "[CV]  min_impurity_decrease=0.01, min_samples_leaf=5, min_samples_split=5, score=0.8693610598691934, total=   0.0s\n",
      "[CV] min_impurity_decrease=0.01, min_samples_leaf=5, min_samples_split=5 \n",
      "[CV]  min_impurity_decrease=0.01, min_samples_leaf=5, min_samples_split=5, score=0.7568338084856616, total=   0.0s\n",
      "[CV] min_impurity_decrease=0.01, min_samples_leaf=5, min_samples_split=5 \n",
      "[CV]  min_impurity_decrease=0.01, min_samples_leaf=5, min_samples_split=5, score=0.8705902306648575, total=   0.0s\n",
      "[CV] min_impurity_decrease=0.01, min_samples_leaf=5, min_samples_split=3 \n",
      "[CV]  min_impurity_decrease=0.01, min_samples_leaf=5, min_samples_split=3, score=0.8693610598691934, total=   0.0s\n",
      "[CV] min_impurity_decrease=0.01, min_samples_leaf=5, min_samples_split=3 \n",
      "[CV]  min_impurity_decrease=0.01, min_samples_leaf=5, min_samples_split=3, score=0.7568338084856616, total=   0.0s\n",
      "[CV] min_impurity_decrease=0.01, min_samples_leaf=5, min_samples_split=3 \n",
      "[CV]  min_impurity_decrease=0.01, min_samples_leaf=5, min_samples_split=3, score=0.8705902306648575, total=   0.0s\n",
      "[CV] min_impurity_decrease=0.01, min_samples_leaf=7, min_samples_split=10 \n",
      "[CV]  min_impurity_decrease=0.01, min_samples_leaf=7, min_samples_split=10, score=0.8693610598691934, total=   0.0s\n",
      "[CV] min_impurity_decrease=0.01, min_samples_leaf=7, min_samples_split=10 \n",
      "[CV]  min_impurity_decrease=0.01, min_samples_leaf=7, min_samples_split=10, score=0.7568338084856616, total=   0.0s\n",
      "[CV] min_impurity_decrease=0.01, min_samples_leaf=7, min_samples_split=10 \n",
      "[CV]  min_impurity_decrease=0.01, min_samples_leaf=7, min_samples_split=10, score=0.8705902306648575, total=   0.0s\n",
      "[CV] min_impurity_decrease=0.01, min_samples_leaf=7, min_samples_split=8 \n",
      "[CV]  min_impurity_decrease=0.01, min_samples_leaf=7, min_samples_split=8, score=0.8693610598691934, total=   0.0s\n",
      "[CV] min_impurity_decrease=0.01, min_samples_leaf=7, min_samples_split=8 \n",
      "[CV]  min_impurity_decrease=0.01, min_samples_leaf=7, min_samples_split=8, score=0.7568338084856616, total=   0.0s\n",
      "[CV] min_impurity_decrease=0.01, min_samples_leaf=7, min_samples_split=8 \n",
      "[CV]  min_impurity_decrease=0.01, min_samples_leaf=7, min_samples_split=8, score=0.8705902306648575, total=   0.0s\n",
      "[CV] min_impurity_decrease=0.01, min_samples_leaf=7, min_samples_split=5 \n",
      "[CV]  min_impurity_decrease=0.01, min_samples_leaf=7, min_samples_split=5, score=0.8693610598691934, total=   0.0s\n",
      "[CV] min_impurity_decrease=0.01, min_samples_leaf=7, min_samples_split=5 \n",
      "[CV]  min_impurity_decrease=0.01, min_samples_leaf=7, min_samples_split=5, score=0.7568338084856616, total=   0.0s\n",
      "[CV] min_impurity_decrease=0.01, min_samples_leaf=7, min_samples_split=5 \n",
      "[CV]  min_impurity_decrease=0.01, min_samples_leaf=7, min_samples_split=5, score=0.8705902306648575, total=   0.0s\n",
      "[CV] min_impurity_decrease=0.01, min_samples_leaf=7, min_samples_split=3 \n",
      "[CV]  min_impurity_decrease=0.01, min_samples_leaf=7, min_samples_split=3, score=0.8693610598691934, total=   0.0s\n",
      "[CV] min_impurity_decrease=0.01, min_samples_leaf=7, min_samples_split=3 \n",
      "[CV]  min_impurity_decrease=0.01, min_samples_leaf=7, min_samples_split=3, score=0.7568338084856616, total=   0.0s\n",
      "[CV] min_impurity_decrease=0.01, min_samples_leaf=7, min_samples_split=3 \n",
      "[CV]  min_impurity_decrease=0.01, min_samples_leaf=7, min_samples_split=3, score=0.8705902306648575, total=   0.0s\n"
     ]
    },
    {
     "name": "stderr",
     "output_type": "stream",
     "text": [
      "[Parallel(n_jobs=1)]: Done 192 out of 192 | elapsed:    3.5s finished\n"
     ]
    },
    {
     "data": {
      "text/plain": [
       "GridSearchCV(cv=3, error_score='raise-deprecating',\n",
       "       estimator=DecisionTreeClassifier(class_weight='balanced', criterion='gini',\n",
       "            max_depth=None, max_features=None, max_leaf_nodes=None,\n",
       "            min_impurity_decrease=0.0, min_impurity_split=None,\n",
       "            min_samples_leaf=1, min_samples_split=2,\n",
       "            min_weight_fraction_leaf=0.0, presort=False, random_state=None,\n",
       "            splitter='best'),\n",
       "       fit_params=None, iid='warn', n_jobs=1,\n",
       "       param_grid={'min_samples_split': [10, 8, 5, 3], 'min_samples_leaf': [2, 3, 5, 7], 'min_impurity_decrease': [0.001, 0.005, 0.02, 0.01]},\n",
       "       pre_dispatch='2*n_jobs', refit=True, return_train_score=True,\n",
       "       scoring='roc_auc', verbose=10)"
      ]
     },
     "execution_count": 49,
     "metadata": {},
     "output_type": "execute_result"
    }
   ],
   "source": [
    "# DecisionTree Classifier\n",
    "# build grid search parameters\n",
    "parms = {'min_samples_split': [10,8,5,3], \n",
    "         'min_samples_leaf': [2,3,5,7],\n",
    "         'min_impurity_decrease': [0.001,0.005,0.02,0.01]} \n",
    "# perform grid search\n",
    "from sklearn.tree import DecisionTreeClassifier\n",
    "CART = DecisionTreeClassifier(class_weight='balanced')\n",
    "from sklearn.model_selection import GridSearchCV\n",
    "CV = GridSearchCV(estimator = CART,param_grid = parms, scoring = 'roc_auc',cv=3,refit=True,\n",
    "                           return_train_score = True,verbose=10,n_jobs=1)\n",
    "CV.fit(X_train,Y_train)"
   ]
  },
  {
   "cell_type": "code",
   "execution_count": 50,
   "metadata": {},
   "outputs": [
    {
     "name": "stdout",
     "output_type": "stream",
     "text": [
      "Wall time: 431 ms\n"
     ]
    }
   ],
   "source": [
    "%%time\n",
    "CVResults = pd.DataFrame(CV.cv_results_)\n",
    "#print(CVResults)\n",
    "CVResults.to_excel('CVResutls_CART_Prac.xlsx')"
   ]
  },
  {
   "cell_type": "code",
   "execution_count": 51,
   "metadata": {},
   "outputs": [
    {
     "name": "stdout",
     "output_type": "stream",
     "text": [
      "DecisionTreeClassifier(class_weight='balanced', criterion='gini',\n",
      "            max_depth=None, max_features=None, max_leaf_nodes=None,\n",
      "            min_impurity_decrease=0.005, min_impurity_split=None,\n",
      "            min_samples_leaf=7, min_samples_split=10,\n",
      "            min_weight_fraction_leaf=0.0, presort=False, random_state=None,\n",
      "            splitter='best')\n"
     ]
    }
   ],
   "source": [
    "print(CV.best_estimator_)"
   ]
  },
  {
   "cell_type": "code",
   "execution_count": 53,
   "metadata": {},
   "outputs": [
    {
     "name": "stdout",
     "output_type": "stream",
     "text": [
      "[0.06037991 0.         0.1334124  0.         0.66096028 0.\n",
      " 0.         0.         0.         0.         0.         0.\n",
      " 0.         0.         0.         0.         0.         0.\n",
      " 0.         0.0617931  0.08345431]\n"
     ]
    }
   ],
   "source": [
    "print(CV.best_estimator_.feature_importances_)"
   ]
  },
  {
   "cell_type": "code",
   "execution_count": 54,
   "metadata": {},
   "outputs": [
    {
     "name": "stdout",
     "output_type": "stream",
     "text": [
      "21\n"
     ]
    }
   ],
   "source": [
    "print(CV.best_estimator_.max_features_)"
   ]
  },
  {
   "cell_type": "code",
   "execution_count": 55,
   "metadata": {},
   "outputs": [
    {
     "name": "stdout",
     "output_type": "stream",
     "text": [
      "0.8348022436900169\n",
      "{'min_impurity_decrease': 0.005, 'min_samples_leaf': 7, 'min_samples_split': 10}\n"
     ]
    }
   ],
   "source": [
    "print(CV.best_score_)\n",
    "print(CV.best_params_)"
   ]
  },
  {
   "cell_type": "code",
   "execution_count": 56,
   "metadata": {},
   "outputs": [
    {
     "name": "stdout",
     "output_type": "stream",
     "text": [
      "2\n",
      "21\n",
      "1\n"
     ]
    }
   ],
   "source": [
    "print(CV.best_estimator_.n_classes_)\n",
    "print(CV.best_estimator_.n_features_)\n",
    "print(CV.best_estimator_.n_outputs_)"
   ]
  },
  {
   "cell_type": "code",
   "execution_count": 52,
   "metadata": {},
   "outputs": [
    {
     "ename": "InvocationException",
     "evalue": "GraphViz's executables not found",
     "output_type": "error",
     "traceback": [
      "\u001b[1;31m---------------------------------------------------------------------------\u001b[0m",
      "\u001b[1;31mInvocationException\u001b[0m                       Traceback (most recent call last)",
      "\u001b[1;32m<ipython-input-52-d4c1f35383e7>\u001b[0m in \u001b[0;36m<module>\u001b[1;34m\u001b[0m\n\u001b[0;32m      8\u001b[0m                 special_characters=True)\n\u001b[0;32m      9\u001b[0m \u001b[0mgraph\u001b[0m \u001b[1;33m=\u001b[0m \u001b[0mpydotplus\u001b[0m\u001b[1;33m.\u001b[0m\u001b[0mgraph_from_dot_data\u001b[0m\u001b[1;33m(\u001b[0m\u001b[0mdot_data\u001b[0m\u001b[1;33m.\u001b[0m\u001b[0mgetvalue\u001b[0m\u001b[1;33m(\u001b[0m\u001b[1;33m)\u001b[0m\u001b[1;33m)\u001b[0m\u001b[1;33m\u001b[0m\u001b[1;33m\u001b[0m\u001b[0m\n\u001b[1;32m---> 10\u001b[1;33m \u001b[0mImage\u001b[0m\u001b[1;33m(\u001b[0m\u001b[0mgraph\u001b[0m\u001b[1;33m.\u001b[0m\u001b[0mcreate_png\u001b[0m\u001b[1;33m(\u001b[0m\u001b[1;33m)\u001b[0m\u001b[1;33m)\u001b[0m\u001b[1;33m\u001b[0m\u001b[1;33m\u001b[0m\u001b[0m\n\u001b[0m",
      "\u001b[1;32mC:\\ProgramData\\Anaconda3\\lib\\site-packages\\pydotplus\\graphviz.py\u001b[0m in \u001b[0;36m<lambda>\u001b[1;34m(f, prog)\u001b[0m\n\u001b[0;32m   1795\u001b[0m             self.__setattr__(\n\u001b[0;32m   1796\u001b[0m                 \u001b[1;34m'create_'\u001b[0m \u001b[1;33m+\u001b[0m \u001b[0mfrmt\u001b[0m\u001b[1;33m,\u001b[0m\u001b[1;33m\u001b[0m\u001b[1;33m\u001b[0m\u001b[0m\n\u001b[1;32m-> 1797\u001b[1;33m                 \u001b[1;32mlambda\u001b[0m \u001b[0mf\u001b[0m\u001b[1;33m=\u001b[0m\u001b[0mfrmt\u001b[0m\u001b[1;33m,\u001b[0m \u001b[0mprog\u001b[0m\u001b[1;33m=\u001b[0m\u001b[0mself\u001b[0m\u001b[1;33m.\u001b[0m\u001b[0mprog\u001b[0m\u001b[1;33m:\u001b[0m \u001b[0mself\u001b[0m\u001b[1;33m.\u001b[0m\u001b[0mcreate\u001b[0m\u001b[1;33m(\u001b[0m\u001b[0mformat\u001b[0m\u001b[1;33m=\u001b[0m\u001b[0mf\u001b[0m\u001b[1;33m,\u001b[0m \u001b[0mprog\u001b[0m\u001b[1;33m=\u001b[0m\u001b[0mprog\u001b[0m\u001b[1;33m)\u001b[0m\u001b[1;33m\u001b[0m\u001b[1;33m\u001b[0m\u001b[0m\n\u001b[0m\u001b[0;32m   1798\u001b[0m             )\n\u001b[0;32m   1799\u001b[0m             \u001b[0mf\u001b[0m \u001b[1;33m=\u001b[0m \u001b[0mself\u001b[0m\u001b[1;33m.\u001b[0m\u001b[0m__dict__\u001b[0m\u001b[1;33m[\u001b[0m\u001b[1;34m'create_'\u001b[0m \u001b[1;33m+\u001b[0m \u001b[0mfrmt\u001b[0m\u001b[1;33m]\u001b[0m\u001b[1;33m\u001b[0m\u001b[1;33m\u001b[0m\u001b[0m\n",
      "\u001b[1;32mC:\\ProgramData\\Anaconda3\\lib\\site-packages\\pydotplus\\graphviz.py\u001b[0m in \u001b[0;36mcreate\u001b[1;34m(self, prog, format)\u001b[0m\n\u001b[0;32m   1958\u001b[0m             \u001b[1;32mif\u001b[0m \u001b[0mself\u001b[0m\u001b[1;33m.\u001b[0m\u001b[0mprogs\u001b[0m \u001b[1;32mis\u001b[0m \u001b[1;32mNone\u001b[0m\u001b[1;33m:\u001b[0m\u001b[1;33m\u001b[0m\u001b[1;33m\u001b[0m\u001b[0m\n\u001b[0;32m   1959\u001b[0m                 raise InvocationException(\n\u001b[1;32m-> 1960\u001b[1;33m                     'GraphViz\\'s executables not found')\n\u001b[0m\u001b[0;32m   1961\u001b[0m \u001b[1;33m\u001b[0m\u001b[0m\n\u001b[0;32m   1962\u001b[0m         \u001b[1;32mif\u001b[0m \u001b[0mprog\u001b[0m \u001b[1;32mnot\u001b[0m \u001b[1;32min\u001b[0m \u001b[0mself\u001b[0m\u001b[1;33m.\u001b[0m\u001b[0mprogs\u001b[0m\u001b[1;33m:\u001b[0m\u001b[1;33m\u001b[0m\u001b[1;33m\u001b[0m\u001b[0m\n",
      "\u001b[1;31mInvocationException\u001b[0m: GraphViz's executables not found"
     ]
    }
   ],
   "source": [
    "from sklearn.externals.six import StringIO  \n",
    "from IPython.display import Image  \n",
    "from sklearn.tree import export_graphviz\n",
    "import pydotplus\n",
    "dot_data = StringIO()\n",
    "export_graphviz(CV.best_estimator_, out_file=dot_data,  \n",
    "                filled=True, rounded=True,\n",
    "                special_characters=True)\n",
    "graph = pydotplus.graph_from_dot_data(dot_data.getvalue())  \n",
    "Image(graph.create_png())"
   ]
  },
  {
   "cell_type": "code",
   "execution_count": 66,
   "metadata": {},
   "outputs": [
    {
     "name": "stdout",
     "output_type": "stream",
     "text": [
      "(223, 32)\n"
     ]
    }
   ],
   "source": [
    "X_test=OHE.fit_transform(X_test)\n",
    "print(X_test.shape)"
   ]
  },
  {
   "cell_type": "code",
   "execution_count": 67,
   "metadata": {},
   "outputs": [
    {
     "ename": "ValueError",
     "evalue": "Shape of passed values is (32, 223), indices imply (2, 223)",
     "output_type": "error",
     "traceback": [
      "\u001b[1;31m---------------------------------------------------------------------------\u001b[0m",
      "\u001b[1;31mValueError\u001b[0m                                Traceback (most recent call last)",
      "\u001b[1;32mC:\\ProgramData\\Anaconda3\\lib\\site-packages\\pandas\\core\\internals.py\u001b[0m in \u001b[0;36mcreate_block_manager_from_blocks\u001b[1;34m(blocks, axes)\u001b[0m\n\u001b[0;32m   4856\u001b[0m                 blocks = [make_block(values=blocks[0],\n\u001b[1;32m-> 4857\u001b[1;33m                                      placement=slice(0, len(axes[0])))]\n\u001b[0m\u001b[0;32m   4858\u001b[0m \u001b[1;33m\u001b[0m\u001b[0m\n",
      "\u001b[1;32mC:\\ProgramData\\Anaconda3\\lib\\site-packages\\pandas\\core\\internals.py\u001b[0m in \u001b[0;36mmake_block\u001b[1;34m(values, placement, klass, ndim, dtype, fastpath)\u001b[0m\n\u001b[0;32m   3204\u001b[0m \u001b[1;33m\u001b[0m\u001b[0m\n\u001b[1;32m-> 3205\u001b[1;33m     \u001b[1;32mreturn\u001b[0m \u001b[0mklass\u001b[0m\u001b[1;33m(\u001b[0m\u001b[0mvalues\u001b[0m\u001b[1;33m,\u001b[0m \u001b[0mndim\u001b[0m\u001b[1;33m=\u001b[0m\u001b[0mndim\u001b[0m\u001b[1;33m,\u001b[0m \u001b[0mplacement\u001b[0m\u001b[1;33m=\u001b[0m\u001b[0mplacement\u001b[0m\u001b[1;33m)\u001b[0m\u001b[1;33m\u001b[0m\u001b[1;33m\u001b[0m\u001b[0m\n\u001b[0m\u001b[0;32m   3206\u001b[0m \u001b[1;33m\u001b[0m\u001b[0m\n",
      "\u001b[1;32mC:\\ProgramData\\Anaconda3\\lib\\site-packages\\pandas\\core\\internals.py\u001b[0m in \u001b[0;36m__init__\u001b[1;34m(self, values, placement, ndim)\u001b[0m\n\u001b[0;32m    124\u001b[0m                 \u001b[1;34m'Wrong number of items passed {val}, placement implies '\u001b[0m\u001b[1;33m\u001b[0m\u001b[1;33m\u001b[0m\u001b[0m\n\u001b[1;32m--> 125\u001b[1;33m                 '{mgr}'.format(val=len(self.values), mgr=len(self.mgr_locs)))\n\u001b[0m\u001b[0;32m    126\u001b[0m \u001b[1;33m\u001b[0m\u001b[0m\n",
      "\u001b[1;31mValueError\u001b[0m: Wrong number of items passed 32, placement implies 2",
      "\nDuring handling of the above exception, another exception occurred:\n",
      "\u001b[1;31mValueError\u001b[0m                                Traceback (most recent call last)",
      "\u001b[1;32m<ipython-input-67-cf317d28343e>\u001b[0m in \u001b[0;36m<module>\u001b[1;34m\u001b[0m\n\u001b[0;32m      1\u001b[0m \u001b[1;31m#extract only continuous columns\u001b[0m\u001b[1;33m\u001b[0m\u001b[1;33m\u001b[0m\u001b[1;33m\u001b[0m\u001b[0m\n\u001b[0;32m      2\u001b[0m \u001b[0mcontcolumns\u001b[0m\u001b[1;33m=\u001b[0m\u001b[0mlist\u001b[0m\u001b[1;33m(\u001b[0m\u001b[1;33m[\u001b[0m\u001b[1;34m'Age'\u001b[0m\u001b[1;33m,\u001b[0m\u001b[1;34m'Fare'\u001b[0m\u001b[1;33m]\u001b[0m\u001b[1;33m)\u001b[0m\u001b[1;33m\u001b[0m\u001b[1;33m\u001b[0m\u001b[0m\n\u001b[1;32m----> 3\u001b[1;33m \u001b[0mX_test_cont\u001b[0m\u001b[1;33m=\u001b[0m\u001b[0mpd\u001b[0m\u001b[1;33m.\u001b[0m\u001b[0mDataFrame\u001b[0m\u001b[1;33m(\u001b[0m\u001b[0mX_test\u001b[0m\u001b[1;33m,\u001b[0m\u001b[0mcolumns\u001b[0m\u001b[1;33m=\u001b[0m\u001b[0mcontcolumns\u001b[0m\u001b[1;33m)\u001b[0m\u001b[1;33m\u001b[0m\u001b[1;33m\u001b[0m\u001b[0m\n\u001b[0m\u001b[0;32m      4\u001b[0m \u001b[0mprint\u001b[0m\u001b[1;33m(\u001b[0m\u001b[0mX_test_cont\u001b[0m\u001b[1;33m.\u001b[0m\u001b[0mdescribe\u001b[0m\u001b[1;33m(\u001b[0m\u001b[1;33m)\u001b[0m\u001b[1;33m)\u001b[0m\u001b[1;33m\u001b[0m\u001b[1;33m\u001b[0m\u001b[0m\n",
      "\u001b[1;32mC:\\ProgramData\\Anaconda3\\lib\\site-packages\\pandas\\core\\frame.py\u001b[0m in \u001b[0;36m__init__\u001b[1;34m(self, data, index, columns, dtype, copy)\u001b[0m\n\u001b[0;32m    377\u001b[0m             \u001b[1;32melse\u001b[0m\u001b[1;33m:\u001b[0m\u001b[1;33m\u001b[0m\u001b[1;33m\u001b[0m\u001b[0m\n\u001b[0;32m    378\u001b[0m                 mgr = self._init_ndarray(data, index, columns, dtype=dtype,\n\u001b[1;32m--> 379\u001b[1;33m                                          copy=copy)\n\u001b[0m\u001b[0;32m    380\u001b[0m         \u001b[1;32melif\u001b[0m \u001b[0misinstance\u001b[0m\u001b[1;33m(\u001b[0m\u001b[0mdata\u001b[0m\u001b[1;33m,\u001b[0m \u001b[1;33m(\u001b[0m\u001b[0mlist\u001b[0m\u001b[1;33m,\u001b[0m \u001b[0mtypes\u001b[0m\u001b[1;33m.\u001b[0m\u001b[0mGeneratorType\u001b[0m\u001b[1;33m)\u001b[0m\u001b[1;33m)\u001b[0m\u001b[1;33m:\u001b[0m\u001b[1;33m\u001b[0m\u001b[1;33m\u001b[0m\u001b[0m\n\u001b[0;32m    381\u001b[0m             \u001b[1;32mif\u001b[0m \u001b[0misinstance\u001b[0m\u001b[1;33m(\u001b[0m\u001b[0mdata\u001b[0m\u001b[1;33m,\u001b[0m \u001b[0mtypes\u001b[0m\u001b[1;33m.\u001b[0m\u001b[0mGeneratorType\u001b[0m\u001b[1;33m)\u001b[0m\u001b[1;33m:\u001b[0m\u001b[1;33m\u001b[0m\u001b[1;33m\u001b[0m\u001b[0m\n",
      "\u001b[1;32mC:\\ProgramData\\Anaconda3\\lib\\site-packages\\pandas\\core\\frame.py\u001b[0m in \u001b[0;36m_init_ndarray\u001b[1;34m(self, values, index, columns, dtype, copy)\u001b[0m\n\u001b[0;32m    534\u001b[0m             \u001b[0mvalues\u001b[0m \u001b[1;33m=\u001b[0m \u001b[0mmaybe_infer_to_datetimelike\u001b[0m\u001b[1;33m(\u001b[0m\u001b[0mvalues\u001b[0m\u001b[1;33m)\u001b[0m\u001b[1;33m\u001b[0m\u001b[1;33m\u001b[0m\u001b[0m\n\u001b[0;32m    535\u001b[0m \u001b[1;33m\u001b[0m\u001b[0m\n\u001b[1;32m--> 536\u001b[1;33m         \u001b[1;32mreturn\u001b[0m \u001b[0mcreate_block_manager_from_blocks\u001b[0m\u001b[1;33m(\u001b[0m\u001b[1;33m[\u001b[0m\u001b[0mvalues\u001b[0m\u001b[1;33m]\u001b[0m\u001b[1;33m,\u001b[0m \u001b[1;33m[\u001b[0m\u001b[0mcolumns\u001b[0m\u001b[1;33m,\u001b[0m \u001b[0mindex\u001b[0m\u001b[1;33m]\u001b[0m\u001b[1;33m)\u001b[0m\u001b[1;33m\u001b[0m\u001b[1;33m\u001b[0m\u001b[0m\n\u001b[0m\u001b[0;32m    537\u001b[0m \u001b[1;33m\u001b[0m\u001b[0m\n\u001b[0;32m    538\u001b[0m     \u001b[1;33m@\u001b[0m\u001b[0mproperty\u001b[0m\u001b[1;33m\u001b[0m\u001b[1;33m\u001b[0m\u001b[0m\n",
      "\u001b[1;32mC:\\ProgramData\\Anaconda3\\lib\\site-packages\\pandas\\core\\internals.py\u001b[0m in \u001b[0;36mcreate_block_manager_from_blocks\u001b[1;34m(blocks, axes)\u001b[0m\n\u001b[0;32m   4864\u001b[0m         \u001b[0mblocks\u001b[0m \u001b[1;33m=\u001b[0m \u001b[1;33m[\u001b[0m\u001b[0mgetattr\u001b[0m\u001b[1;33m(\u001b[0m\u001b[0mb\u001b[0m\u001b[1;33m,\u001b[0m \u001b[1;34m'values'\u001b[0m\u001b[1;33m,\u001b[0m \u001b[0mb\u001b[0m\u001b[1;33m)\u001b[0m \u001b[1;32mfor\u001b[0m \u001b[0mb\u001b[0m \u001b[1;32min\u001b[0m \u001b[0mblocks\u001b[0m\u001b[1;33m]\u001b[0m\u001b[1;33m\u001b[0m\u001b[1;33m\u001b[0m\u001b[0m\n\u001b[0;32m   4865\u001b[0m         \u001b[0mtot_items\u001b[0m \u001b[1;33m=\u001b[0m \u001b[0msum\u001b[0m\u001b[1;33m(\u001b[0m\u001b[0mb\u001b[0m\u001b[1;33m.\u001b[0m\u001b[0mshape\u001b[0m\u001b[1;33m[\u001b[0m\u001b[1;36m0\u001b[0m\u001b[1;33m]\u001b[0m \u001b[1;32mfor\u001b[0m \u001b[0mb\u001b[0m \u001b[1;32min\u001b[0m \u001b[0mblocks\u001b[0m\u001b[1;33m)\u001b[0m\u001b[1;33m\u001b[0m\u001b[1;33m\u001b[0m\u001b[0m\n\u001b[1;32m-> 4866\u001b[1;33m         \u001b[0mconstruction_error\u001b[0m\u001b[1;33m(\u001b[0m\u001b[0mtot_items\u001b[0m\u001b[1;33m,\u001b[0m \u001b[0mblocks\u001b[0m\u001b[1;33m[\u001b[0m\u001b[1;36m0\u001b[0m\u001b[1;33m]\u001b[0m\u001b[1;33m.\u001b[0m\u001b[0mshape\u001b[0m\u001b[1;33m[\u001b[0m\u001b[1;36m1\u001b[0m\u001b[1;33m:\u001b[0m\u001b[1;33m]\u001b[0m\u001b[1;33m,\u001b[0m \u001b[0maxes\u001b[0m\u001b[1;33m,\u001b[0m \u001b[0me\u001b[0m\u001b[1;33m)\u001b[0m\u001b[1;33m\u001b[0m\u001b[1;33m\u001b[0m\u001b[0m\n\u001b[0m\u001b[0;32m   4867\u001b[0m \u001b[1;33m\u001b[0m\u001b[0m\n\u001b[0;32m   4868\u001b[0m \u001b[1;33m\u001b[0m\u001b[0m\n",
      "\u001b[1;32mC:\\ProgramData\\Anaconda3\\lib\\site-packages\\pandas\\core\\internals.py\u001b[0m in \u001b[0;36mconstruction_error\u001b[1;34m(tot_items, block_shape, axes, e)\u001b[0m\n\u001b[0;32m   4841\u001b[0m         \u001b[1;32mraise\u001b[0m \u001b[0mValueError\u001b[0m\u001b[1;33m(\u001b[0m\u001b[1;34m\"Empty data passed with indices specified.\"\u001b[0m\u001b[1;33m)\u001b[0m\u001b[1;33m\u001b[0m\u001b[1;33m\u001b[0m\u001b[0m\n\u001b[0;32m   4842\u001b[0m     raise ValueError(\"Shape of passed values is {0}, indices imply {1}\".format(\n\u001b[1;32m-> 4843\u001b[1;33m         passed, implied))\n\u001b[0m\u001b[0;32m   4844\u001b[0m \u001b[1;33m\u001b[0m\u001b[0m\n\u001b[0;32m   4845\u001b[0m \u001b[1;33m\u001b[0m\u001b[0m\n",
      "\u001b[1;31mValueError\u001b[0m: Shape of passed values is (32, 223), indices imply (2, 223)"
     ]
    }
   ],
   "source": [
    "#extract only continuous columns\n",
    "contcolumns=list(['Age','Fare'])\n",
    "X_test_cont=pd.DataFrame(X_test,columns=contcolumns)\n",
    "print(X_test_cont.describe())"
   ]
  },
  {
   "cell_type": "code",
   "execution_count": null,
   "metadata": {},
   "outputs": [],
   "source": [
    "#extract only categorical vars\n",
    "catcolumns=list(['Pclass','Sex','SibSp','Parch'])\n",
    "X_test_cat=pd.DataFrame(X_test,columns=catcolumns)\n",
    "print(X_test_cat.describe())"
   ]
  },
  {
   "cell_type": "code",
   "execution_count": 65,
   "metadata": {},
   "outputs": [
    {
     "ename": "AttributeError",
     "evalue": "'numpy.ndarray' object has no attribute 'Pclass'",
     "output_type": "error",
     "traceback": [
      "\u001b[1;31m---------------------------------------------------------------------------\u001b[0m",
      "\u001b[1;31mAttributeError\u001b[0m                            Traceback (most recent call last)",
      "\u001b[1;32m<ipython-input-65-c9d2ecbdfccd>\u001b[0m in \u001b[0;36m<module>\u001b[1;34m\u001b[0m\n\u001b[1;32m----> 1\u001b[1;33m \u001b[0mX_test\u001b[0m\u001b[1;33m.\u001b[0m\u001b[0mPclass\u001b[0m \u001b[1;33m=\u001b[0m \u001b[0mLE\u001b[0m\u001b[1;33m.\u001b[0m\u001b[0mfit_transform\u001b[0m\u001b[1;33m(\u001b[0m\u001b[0mX_test\u001b[0m\u001b[1;33m.\u001b[0m\u001b[0mPclass\u001b[0m\u001b[1;33m)\u001b[0m\u001b[1;33m\u001b[0m\u001b[1;33m\u001b[0m\u001b[0m\n\u001b[0m\u001b[0;32m      2\u001b[0m \u001b[0mprint\u001b[0m\u001b[1;33m(\u001b[0m\u001b[0mX_test\u001b[0m\u001b[1;33m.\u001b[0m\u001b[0mPclass\u001b[0m\u001b[1;33m.\u001b[0m\u001b[0mdescribe\u001b[0m\u001b[1;33m(\u001b[0m\u001b[1;33m)\u001b[0m\u001b[1;33m)\u001b[0m\u001b[1;33m\u001b[0m\u001b[1;33m\u001b[0m\u001b[0m\n",
      "\u001b[1;31mAttributeError\u001b[0m: 'numpy.ndarray' object has no attribute 'Pclass'"
     ]
    }
   ],
   "source": [
    "X_test.Pclass = LE.transform(X_test.Pclass)\n",
    "print(X_test.Pclass.describe())"
   ]
  },
  {
   "cell_type": "code",
   "execution_count": 58,
   "metadata": {},
   "outputs": [
    {
     "name": "stdout",
     "output_type": "stream",
     "text": [
      "count    223.000000\n",
      "mean       0.699552\n",
      "std        0.459484\n",
      "min        0.000000\n",
      "25%        0.000000\n",
      "50%        1.000000\n",
      "75%        1.000000\n",
      "max        1.000000\n",
      "Name: Sex, dtype: float64\n"
     ]
    }
   ],
   "source": [
    "# lable encoding for strings on test\n",
    "X_test.Sex = LE.transform(X_test.Sex)\n",
    "print(X_test.Sex.describe())"
   ]
  },
  {
   "cell_type": "code",
   "execution_count": 59,
   "metadata": {},
   "outputs": [
    {
     "ename": "ValueError",
     "evalue": "y contains previously unseen labels: [3, 4]",
     "output_type": "error",
     "traceback": [
      "\u001b[1;31m---------------------------------------------------------------------------\u001b[0m",
      "\u001b[1;31mValueError\u001b[0m                                Traceback (most recent call last)",
      "\u001b[1;32m<ipython-input-59-6db43db950be>\u001b[0m in \u001b[0;36m<module>\u001b[1;34m\u001b[0m\n\u001b[0;32m      1\u001b[0m \u001b[1;31m# lable encoding for strings on test\u001b[0m\u001b[1;33m\u001b[0m\u001b[1;33m\u001b[0m\u001b[1;33m\u001b[0m\u001b[0m\n\u001b[1;32m----> 2\u001b[1;33m \u001b[0mX_test\u001b[0m\u001b[1;33m.\u001b[0m\u001b[0mSibSp\u001b[0m \u001b[1;33m=\u001b[0m \u001b[0mLE\u001b[0m\u001b[1;33m.\u001b[0m\u001b[0mtransform\u001b[0m\u001b[1;33m(\u001b[0m\u001b[0mX_test\u001b[0m\u001b[1;33m.\u001b[0m\u001b[0mSibSp\u001b[0m\u001b[1;33m)\u001b[0m\u001b[1;33m\u001b[0m\u001b[1;33m\u001b[0m\u001b[0m\n\u001b[0m\u001b[0;32m      3\u001b[0m \u001b[0mprint\u001b[0m\u001b[1;33m(\u001b[0m\u001b[0mX_test\u001b[0m\u001b[1;33m.\u001b[0m\u001b[0mSibSp\u001b[0m\u001b[1;33m.\u001b[0m\u001b[0mdescribe\u001b[0m\u001b[1;33m(\u001b[0m\u001b[1;33m)\u001b[0m\u001b[1;33m)\u001b[0m\u001b[1;33m\u001b[0m\u001b[1;33m\u001b[0m\u001b[0m\n",
      "\u001b[1;32mC:\\ProgramData\\Anaconda3\\lib\\site-packages\\sklearn\\preprocessing\\label.py\u001b[0m in \u001b[0;36mtransform\u001b[1;34m(self, y)\u001b[0m\n\u001b[0;32m    255\u001b[0m             \u001b[1;32mreturn\u001b[0m \u001b[0mnp\u001b[0m\u001b[1;33m.\u001b[0m\u001b[0marray\u001b[0m\u001b[1;33m(\u001b[0m\u001b[1;33m[\u001b[0m\u001b[1;33m]\u001b[0m\u001b[1;33m)\u001b[0m\u001b[1;33m\u001b[0m\u001b[1;33m\u001b[0m\u001b[0m\n\u001b[0;32m    256\u001b[0m \u001b[1;33m\u001b[0m\u001b[0m\n\u001b[1;32m--> 257\u001b[1;33m         \u001b[0m_\u001b[0m\u001b[1;33m,\u001b[0m \u001b[0my\u001b[0m \u001b[1;33m=\u001b[0m \u001b[0m_encode\u001b[0m\u001b[1;33m(\u001b[0m\u001b[0my\u001b[0m\u001b[1;33m,\u001b[0m \u001b[0muniques\u001b[0m\u001b[1;33m=\u001b[0m\u001b[0mself\u001b[0m\u001b[1;33m.\u001b[0m\u001b[0mclasses_\u001b[0m\u001b[1;33m,\u001b[0m \u001b[0mencode\u001b[0m\u001b[1;33m=\u001b[0m\u001b[1;32mTrue\u001b[0m\u001b[1;33m)\u001b[0m\u001b[1;33m\u001b[0m\u001b[1;33m\u001b[0m\u001b[0m\n\u001b[0m\u001b[0;32m    258\u001b[0m         \u001b[1;32mreturn\u001b[0m \u001b[0my\u001b[0m\u001b[1;33m\u001b[0m\u001b[1;33m\u001b[0m\u001b[0m\n\u001b[0;32m    259\u001b[0m \u001b[1;33m\u001b[0m\u001b[0m\n",
      "\u001b[1;32mC:\\ProgramData\\Anaconda3\\lib\\site-packages\\sklearn\\preprocessing\\label.py\u001b[0m in \u001b[0;36m_encode\u001b[1;34m(values, uniques, encode)\u001b[0m\n\u001b[0;32m    108\u001b[0m         \u001b[1;32mreturn\u001b[0m \u001b[0m_encode_python\u001b[0m\u001b[1;33m(\u001b[0m\u001b[0mvalues\u001b[0m\u001b[1;33m,\u001b[0m \u001b[0muniques\u001b[0m\u001b[1;33m,\u001b[0m \u001b[0mencode\u001b[0m\u001b[1;33m)\u001b[0m\u001b[1;33m\u001b[0m\u001b[1;33m\u001b[0m\u001b[0m\n\u001b[0;32m    109\u001b[0m     \u001b[1;32melse\u001b[0m\u001b[1;33m:\u001b[0m\u001b[1;33m\u001b[0m\u001b[1;33m\u001b[0m\u001b[0m\n\u001b[1;32m--> 110\u001b[1;33m         \u001b[1;32mreturn\u001b[0m \u001b[0m_encode_numpy\u001b[0m\u001b[1;33m(\u001b[0m\u001b[0mvalues\u001b[0m\u001b[1;33m,\u001b[0m \u001b[0muniques\u001b[0m\u001b[1;33m,\u001b[0m \u001b[0mencode\u001b[0m\u001b[1;33m)\u001b[0m\u001b[1;33m\u001b[0m\u001b[1;33m\u001b[0m\u001b[0m\n\u001b[0m\u001b[0;32m    111\u001b[0m \u001b[1;33m\u001b[0m\u001b[0m\n\u001b[0;32m    112\u001b[0m \u001b[1;33m\u001b[0m\u001b[0m\n",
      "\u001b[1;32mC:\\ProgramData\\Anaconda3\\lib\\site-packages\\sklearn\\preprocessing\\label.py\u001b[0m in \u001b[0;36m_encode_numpy\u001b[1;34m(values, uniques, encode)\u001b[0m\n\u001b[0;32m     51\u001b[0m         \u001b[1;32mif\u001b[0m \u001b[0mdiff\u001b[0m\u001b[1;33m:\u001b[0m\u001b[1;33m\u001b[0m\u001b[1;33m\u001b[0m\u001b[0m\n\u001b[0;32m     52\u001b[0m             raise ValueError(\"y contains previously unseen labels: %s\"\n\u001b[1;32m---> 53\u001b[1;33m                              % str(diff))\n\u001b[0m\u001b[0;32m     54\u001b[0m         \u001b[0mencoded\u001b[0m \u001b[1;33m=\u001b[0m \u001b[0mnp\u001b[0m\u001b[1;33m.\u001b[0m\u001b[0msearchsorted\u001b[0m\u001b[1;33m(\u001b[0m\u001b[0muniques\u001b[0m\u001b[1;33m,\u001b[0m \u001b[0mvalues\u001b[0m\u001b[1;33m)\u001b[0m\u001b[1;33m\u001b[0m\u001b[1;33m\u001b[0m\u001b[0m\n\u001b[0;32m     55\u001b[0m         \u001b[1;32mreturn\u001b[0m \u001b[0muniques\u001b[0m\u001b[1;33m,\u001b[0m \u001b[0mencoded\u001b[0m\u001b[1;33m\u001b[0m\u001b[1;33m\u001b[0m\u001b[0m\n",
      "\u001b[1;31mValueError\u001b[0m: y contains previously unseen labels: [3, 4]"
     ]
    }
   ],
   "source": [
    "# lable encoding for strings on test\n",
    "X_test.SibSp = LE.transform(X_test.SibSp)\n",
    "print(X_test.SibSp.describe())"
   ]
  },
  {
   "cell_type": "code",
   "execution_count": 60,
   "metadata": {},
   "outputs": [
    {
     "ename": "ValueError",
     "evalue": "y contains previously unseen labels: [4]",
     "output_type": "error",
     "traceback": [
      "\u001b[1;31m---------------------------------------------------------------------------\u001b[0m",
      "\u001b[1;31mValueError\u001b[0m                                Traceback (most recent call last)",
      "\u001b[1;32m<ipython-input-60-c1537d0602d5>\u001b[0m in \u001b[0;36m<module>\u001b[1;34m\u001b[0m\n\u001b[0;32m      1\u001b[0m \u001b[1;31m# lable encoding for strings on test\u001b[0m\u001b[1;33m\u001b[0m\u001b[1;33m\u001b[0m\u001b[1;33m\u001b[0m\u001b[0m\n\u001b[1;32m----> 2\u001b[1;33m \u001b[0mX_test\u001b[0m\u001b[1;33m.\u001b[0m\u001b[0mParch\u001b[0m \u001b[1;33m=\u001b[0m \u001b[0mLE\u001b[0m\u001b[1;33m.\u001b[0m\u001b[0mtransform\u001b[0m\u001b[1;33m(\u001b[0m\u001b[0mX_test\u001b[0m\u001b[1;33m.\u001b[0m\u001b[0mParch\u001b[0m\u001b[1;33m)\u001b[0m\u001b[1;33m\u001b[0m\u001b[1;33m\u001b[0m\u001b[0m\n\u001b[0m\u001b[0;32m      3\u001b[0m \u001b[0mprint\u001b[0m\u001b[1;33m(\u001b[0m\u001b[0mX_test\u001b[0m\u001b[1;33m.\u001b[0m\u001b[0mParch\u001b[0m\u001b[1;33m.\u001b[0m\u001b[0mdescribe\u001b[0m\u001b[1;33m(\u001b[0m\u001b[1;33m)\u001b[0m\u001b[1;33m)\u001b[0m\u001b[1;33m\u001b[0m\u001b[1;33m\u001b[0m\u001b[0m\n",
      "\u001b[1;32mC:\\ProgramData\\Anaconda3\\lib\\site-packages\\sklearn\\preprocessing\\label.py\u001b[0m in \u001b[0;36mtransform\u001b[1;34m(self, y)\u001b[0m\n\u001b[0;32m    255\u001b[0m             \u001b[1;32mreturn\u001b[0m \u001b[0mnp\u001b[0m\u001b[1;33m.\u001b[0m\u001b[0marray\u001b[0m\u001b[1;33m(\u001b[0m\u001b[1;33m[\u001b[0m\u001b[1;33m]\u001b[0m\u001b[1;33m)\u001b[0m\u001b[1;33m\u001b[0m\u001b[1;33m\u001b[0m\u001b[0m\n\u001b[0;32m    256\u001b[0m \u001b[1;33m\u001b[0m\u001b[0m\n\u001b[1;32m--> 257\u001b[1;33m         \u001b[0m_\u001b[0m\u001b[1;33m,\u001b[0m \u001b[0my\u001b[0m \u001b[1;33m=\u001b[0m \u001b[0m_encode\u001b[0m\u001b[1;33m(\u001b[0m\u001b[0my\u001b[0m\u001b[1;33m,\u001b[0m \u001b[0muniques\u001b[0m\u001b[1;33m=\u001b[0m\u001b[0mself\u001b[0m\u001b[1;33m.\u001b[0m\u001b[0mclasses_\u001b[0m\u001b[1;33m,\u001b[0m \u001b[0mencode\u001b[0m\u001b[1;33m=\u001b[0m\u001b[1;32mTrue\u001b[0m\u001b[1;33m)\u001b[0m\u001b[1;33m\u001b[0m\u001b[1;33m\u001b[0m\u001b[0m\n\u001b[0m\u001b[0;32m    258\u001b[0m         \u001b[1;32mreturn\u001b[0m \u001b[0my\u001b[0m\u001b[1;33m\u001b[0m\u001b[1;33m\u001b[0m\u001b[0m\n\u001b[0;32m    259\u001b[0m \u001b[1;33m\u001b[0m\u001b[0m\n",
      "\u001b[1;32mC:\\ProgramData\\Anaconda3\\lib\\site-packages\\sklearn\\preprocessing\\label.py\u001b[0m in \u001b[0;36m_encode\u001b[1;34m(values, uniques, encode)\u001b[0m\n\u001b[0;32m    108\u001b[0m         \u001b[1;32mreturn\u001b[0m \u001b[0m_encode_python\u001b[0m\u001b[1;33m(\u001b[0m\u001b[0mvalues\u001b[0m\u001b[1;33m,\u001b[0m \u001b[0muniques\u001b[0m\u001b[1;33m,\u001b[0m \u001b[0mencode\u001b[0m\u001b[1;33m)\u001b[0m\u001b[1;33m\u001b[0m\u001b[1;33m\u001b[0m\u001b[0m\n\u001b[0;32m    109\u001b[0m     \u001b[1;32melse\u001b[0m\u001b[1;33m:\u001b[0m\u001b[1;33m\u001b[0m\u001b[1;33m\u001b[0m\u001b[0m\n\u001b[1;32m--> 110\u001b[1;33m         \u001b[1;32mreturn\u001b[0m \u001b[0m_encode_numpy\u001b[0m\u001b[1;33m(\u001b[0m\u001b[0mvalues\u001b[0m\u001b[1;33m,\u001b[0m \u001b[0muniques\u001b[0m\u001b[1;33m,\u001b[0m \u001b[0mencode\u001b[0m\u001b[1;33m)\u001b[0m\u001b[1;33m\u001b[0m\u001b[1;33m\u001b[0m\u001b[0m\n\u001b[0m\u001b[0;32m    111\u001b[0m \u001b[1;33m\u001b[0m\u001b[0m\n\u001b[0;32m    112\u001b[0m \u001b[1;33m\u001b[0m\u001b[0m\n",
      "\u001b[1;32mC:\\ProgramData\\Anaconda3\\lib\\site-packages\\sklearn\\preprocessing\\label.py\u001b[0m in \u001b[0;36m_encode_numpy\u001b[1;34m(values, uniques, encode)\u001b[0m\n\u001b[0;32m     51\u001b[0m         \u001b[1;32mif\u001b[0m \u001b[0mdiff\u001b[0m\u001b[1;33m:\u001b[0m\u001b[1;33m\u001b[0m\u001b[1;33m\u001b[0m\u001b[0m\n\u001b[0;32m     52\u001b[0m             raise ValueError(\"y contains previously unseen labels: %s\"\n\u001b[1;32m---> 53\u001b[1;33m                              % str(diff))\n\u001b[0m\u001b[0;32m     54\u001b[0m         \u001b[0mencoded\u001b[0m \u001b[1;33m=\u001b[0m \u001b[0mnp\u001b[0m\u001b[1;33m.\u001b[0m\u001b[0msearchsorted\u001b[0m\u001b[1;33m(\u001b[0m\u001b[0muniques\u001b[0m\u001b[1;33m,\u001b[0m \u001b[0mvalues\u001b[0m\u001b[1;33m)\u001b[0m\u001b[1;33m\u001b[0m\u001b[1;33m\u001b[0m\u001b[0m\n\u001b[0;32m     55\u001b[0m         \u001b[1;32mreturn\u001b[0m \u001b[0muniques\u001b[0m\u001b[1;33m,\u001b[0m \u001b[0mencoded\u001b[0m\u001b[1;33m\u001b[0m\u001b[1;33m\u001b[0m\u001b[0m\n",
      "\u001b[1;31mValueError\u001b[0m: y contains previously unseen labels: [4]"
     ]
    }
   ],
   "source": [
    "# lable encoding for strings on test\n",
    "X_test.Parch = LE.transform(X_test.Parch)\n",
    "print(X_test.Parch.describe())"
   ]
  },
  {
   "cell_type": "code",
   "execution_count": null,
   "metadata": {},
   "outputs": [],
   "source": [
    "# apply one hot encoding on state and area\n",
    "X_test = OHE.transform(X_test)\n",
    "X_test.shape"
   ]
  },
  {
   "cell_type": "code",
   "execution_count": null,
   "metadata": {},
   "outputs": [],
   "source": []
  },
  {
   "cell_type": "code",
   "execution_count": null,
   "metadata": {},
   "outputs": [],
   "source": [
    "# Preidct on Test data and check the confusion matrix\n",
    "predictTest = CV.predict(X_test)\n",
    "print(predictTest[0:10])"
   ]
  },
  {
   "cell_type": "code",
   "execution_count": null,
   "metadata": {},
   "outputs": [],
   "source": []
  }
 ],
 "metadata": {
  "kernelspec": {
   "display_name": "Python 3",
   "language": "python",
   "name": "python3"
  },
  "language_info": {
   "codemirror_mode": {
    "name": "ipython",
    "version": 3
   },
   "file_extension": ".py",
   "mimetype": "text/x-python",
   "name": "python",
   "nbconvert_exporter": "python",
   "pygments_lexer": "ipython3",
   "version": "3.7.1"
  }
 },
 "nbformat": 4,
 "nbformat_minor": 2
}
